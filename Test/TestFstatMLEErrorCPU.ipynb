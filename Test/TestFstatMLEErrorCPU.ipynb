{
 "cells": [
  {
   "cell_type": "code",
   "execution_count": 1,
   "id": "6cddc048",
   "metadata": {},
   "outputs": [
    {
     "name": "stderr",
     "output_type": "stream",
     "text": [
      "PyCBC.libutils: pkg-config call failed, setting NO_PKGCONFIG=1\n"
     ]
    },
    {
     "name": "stdout",
     "output_type": "stream",
     "text": [
      "no cupy \n",
      "no cupy\n",
      "No CuPy or GPU PhenomHM module.\n",
      "has BBHx waveform\n"
     ]
    }
   ],
   "source": [
    "# limit the thread used by numpy \n",
    "import os\n",
    "os.environ[\"OMP_NUM_THREADS\"] = \"1\"\n",
    "os.environ[\"OPENBLAS_NUM_THREADS\"] = \"1\"\n",
    "os.environ[\"MKL_NUM_THREADS\"] = \"1\"\n",
    "os.environ[\"NUMEXPR_NUM_THREADS\"] = \"1\"\n",
    "os.environ[\"VECLIB_MAXIMUM_THREADS\"] = \"1\"  \n",
    "\n",
    "import numpy as np\n",
    "import scipy.interpolate as interp \n",
    "try:\n",
    "    import cupy as xp\n",
    "    import cupyx.scipy.interpolate as xinterp\n",
    "    # print(\"has cupy\")\n",
    "except (ImportError, ModuleNotFoundError) as e:\n",
    "    import numpy as xp\n",
    "    import scipy.interpolate as xinterp  \n",
    "    # print(\"no cupy\")\n",
    "\n",
    "from tqdm import tqdm\n",
    "import pickle\n",
    "import matplotlib.pyplot as plt\n",
    "# import matplotlib\n",
    "# matplotlib.rcParams['text.usetex'] = True\n",
    "# matplotlib.rcParams['font.family'] = 'serif'\n",
    "\n",
    "from Triangle.Constants import *\n",
    "from Triangle.Orbit import * \n",
    "from Triangle.Noise import *\n",
    "from Triangle.FFTTools import *\n",
    "from Triangle.TDI import *\n",
    "from Triangle.Data import * \n",
    "\n",
    "from Triangle_BBH.Waveform import * \n",
    "from Triangle_BBH.Response import FDTDIResponseGenerator\n",
    "from Triangle_BBH.Utils import Likelihood, Fstatistics\n",
    "from Triangle_BBH.Fisher import *\n",
    "\n",
    "import multiprocessing\n",
    "if __name__=='__main__':\n",
    "    multiprocessing.set_start_method(\"fork\")\n",
    "\n",
    "# np.random.seed(114514)\n",
    "# xp.random.seed(114514)"
   ]
  },
  {
   "cell_type": "markdown",
   "id": "b74073cc",
   "metadata": {},
   "source": [
    "## Data settings "
   ]
  },
  {
   "cell_type": "code",
   "execution_count": 2,
   "id": "61cc324f",
   "metadata": {},
   "outputs": [
    {
     "data": {
      "text/plain": [
       "(14401,)"
      ]
     },
     "execution_count": 2,
     "metadata": {},
     "output_type": "execute_result"
    }
   ],
   "source": [
    "t_start = 200. * DAY # start time in s\n",
    "Tobs = 5. * DAY # data length in s \n",
    "t_end = t_start + Tobs # end time in s \n",
    "dt = 15. # time cadance in s \n",
    "fsample = 1. / dt # sampling rate in Hz \n",
    "data_frequencies_full = np.fft.rfftfreq(n=int(Tobs/dt), d=dt) # frequecies where waveform will be calculated \n",
    "delta_f = 1. / Tobs\n",
    "\n",
    "data_frequencies_full.shape "
   ]
  },
  {
   "cell_type": "code",
   "execution_count": 3,
   "id": "ee935e4e",
   "metadata": {},
   "outputs": [
    {
     "data": {
      "text/plain": [
       "((14137,), (14137,))"
      ]
     },
     "execution_count": 3,
     "metadata": {},
     "output_type": "execute_result"
    }
   ],
   "source": [
    "# mask the \"null\" frequencies, which may cause singularity in the calculation of likelihood \n",
    "mask = np.ones_like(data_frequencies_full, dtype=bool)\n",
    "for i in range(1, 50): \n",
    "    mask_idx = np.where(np.abs(data_frequencies_full - i*0.025)<i*3e-4)[0]\n",
    "    mask[mask_idx] = False \n",
    "\n",
    "# remove the frequencies below Taiji sensitive band \n",
    "mask_idx = np.where(data_frequencies_full < 1e-5)[0]\n",
    "mask[mask_idx] = False \n",
    "\n",
    "data_frequencies = data_frequencies_full[mask]\n",
    "data_frequencies_CPU = xp.array(data_frequencies)\n",
    "\n",
    "valid_idx = np.where(mask == True)[0]\n",
    "\n",
    "data_frequencies.shape, valid_idx.shape "
   ]
  },
  {
   "cell_type": "markdown",
   "id": "ace36ac2",
   "metadata": {},
   "source": [
    "## Set response model "
   ]
  },
  {
   "cell_type": "code",
   "execution_count": 4,
   "id": "e526180f",
   "metadata": {},
   "outputs": [],
   "source": [
    "# the path of Taiji orbit \n",
    "orbit_CPU = Orbit(OrbitDir=\"/Users/taijidatacenter/Triangle-Simulator/OrbitData/MicroSateOrbitEclipticTCB\") \n",
    "\n",
    "# initialize  waveform generator \n",
    "WFG_CPU = WaveformGenerator(\n",
    "    mode=\"primary\", \n",
    ")\n",
    "\n",
    "# initialize response generator \n",
    "FDTDI_CPU = FDTDIResponseGenerator(\n",
    "    orbit_class=orbit_CPU, \n",
    "    waveform_generator=WFG_CPU, \n",
    ")\n",
    "\n",
    "# response settings \n",
    "response_kwargs_CPU = dict(\n",
    "    modes=[(2, 2)], \n",
    "    tmin=t_start / DAY, # start time in day \n",
    "    tmax=t_end / DAY, # end time in day  \n",
    "    tc_at_constellation=True, # whether tc is the coalescence time at constellation center (True) or SSB (False)\n",
    "    TDIGeneration='2nd',\n",
    "    optimal_combination=True, # True for AET, False for XYZ \n",
    "    output_by_mode=False, \n",
    ")"
   ]
  },
  {
   "cell_type": "markdown",
   "id": "77fef4d2",
   "metadata": {},
   "source": [
    "## Source parameter priors "
   ]
  },
  {
   "cell_type": "code",
   "execution_count": 5,
   "id": "b639bbfe",
   "metadata": {},
   "outputs": [
    {
     "data": {
      "text/plain": [
       "array([[ 5.50000000e+00,  6.50000000e+00],\n",
       "       [ 1.00000000e-01,  1.00000000e+00],\n",
       "       [-9.00000000e-01,  9.00000000e-01],\n",
       "       [-9.00000000e-01,  9.00000000e-01],\n",
       "       [ 2.02500000e+02,  2.04500000e+02],\n",
       "       [ 0.00000000e+00,  6.28318531e+00],\n",
       "       [-1.00000000e+00,  1.00000000e+00]])"
      ]
     },
     "execution_count": 5,
     "metadata": {},
     "output_type": "execute_result"
    }
   ],
   "source": [
    "lgMc_prior = [5.5, 6.5]\n",
    "q_prior = [0.1, 1]\n",
    "s1_prior = [-0.9, 0.9]\n",
    "s2_prior = [-0.9, 0.9]\n",
    "tc_prior = [(t_start + 0.5 * Tobs) / DAY, (t_end - 0.1 * Tobs) / DAY] # ensure the inclusion of long enough GW waveform \n",
    "lam_prior = [0, TWOPI]\n",
    "sinbeta_prior = [-1., 1.]\n",
    "intrinsic_param_priors = np.array([\n",
    "    lgMc_prior, \n",
    "    q_prior, \n",
    "    s1_prior, \n",
    "    s2_prior, \n",
    "    tc_prior, \n",
    "    lam_prior, \n",
    "    sinbeta_prior, \n",
    "])\n",
    "\n",
    "lgdl_prior = [4., 5.]\n",
    "\n",
    "intrinsic_param_priors"
   ]
  },
  {
   "cell_type": "code",
   "execution_count": 6,
   "id": "a6245479",
   "metadata": {},
   "outputs": [
    {
     "data": {
      "text/plain": [
       "array([202.5, 204.5])"
      ]
     },
     "execution_count": 6,
     "metadata": {},
     "output_type": "execute_result"
    }
   ],
   "source": [
    "intrinsic_param_priors[4]"
   ]
  },
  {
   "cell_type": "markdown",
   "id": "40b53c1b",
   "metadata": {},
   "source": [
    "## Noise model "
   ]
  },
  {
   "cell_type": "code",
   "execution_count": 7,
   "id": "c36a4c09",
   "metadata": {},
   "outputs": [
    {
     "data": {
      "text/plain": [
       "((3, 14137), (14137, 3, 3))"
      ]
     },
     "execution_count": 7,
     "metadata": {},
     "output_type": "execute_result"
    }
   ],
   "source": [
    "arm_time = np.mean(intrinsic_param_priors[4]) * DAY \n",
    "arms = dict()\n",
    "for key in MOSA_labels:\n",
    "    arms[key] = orbit_CPU.LTTfunctions()[key](arm_time)\n",
    "\n",
    "# theoretical PSDs at the given armlengths \n",
    "PSDfunc = TDIPSDs()\n",
    "PSD_channels = np.array([\n",
    "    PSDfunc.PSD_A2_unequal(data_frequencies, arms), \n",
    "    PSDfunc.PSD_E2_unequal(data_frequencies, arms), \n",
    "    PSDfunc.PSD_T2_unequal(data_frequencies, arms)\n",
    "])\n",
    "\n",
    "# covariance matrix \n",
    "CovMat = np.array([\n",
    "    [PSD_channels[0], np.zeros_like(PSD_channels[0]), np.zeros_like(PSD_channels[0])],\n",
    "    [np.zeros_like(PSD_channels[0]), PSD_channels[1], np.zeros_like(PSD_channels[0])],\n",
    "    [np.zeros_like(PSD_channels[0]), np.zeros_like(PSD_channels[0]), PSD_channels[2]]\n",
    "]) / 4. / delta_f # (3, 3, Nf)\n",
    "\n",
    "# inverse of covmatrix\n",
    "InvCovMat = np.linalg.inv(np.transpose(CovMat, (2, 0, 1))) # (Nf, 3, 3)\n",
    "InvCovMat[:, 2, 2] *= 0. # use A, E channels only in the following analysis \n",
    "\n",
    "PSD_channels.shape, InvCovMat.shape "
   ]
  },
  {
   "cell_type": "markdown",
   "id": "f44220a0",
   "metadata": {},
   "source": [
    "## Data simulation "
   ]
  },
  {
   "cell_type": "code",
   "execution_count": 8,
   "id": "6488d635",
   "metadata": {},
   "outputs": [
    {
     "name": "stdout",
     "output_type": "stream",
     "text": [
      "source parameters:\n",
      "chirp_mass : 387717.51332906703\n",
      "mass_ratio : 0.3458004031683065\n",
      "spin_1z : 0.6724494536211539\n",
      "spin_2z : -0.37305152389019947\n",
      "coalescence_time : 203.68094017063703\n",
      "coalescence_phase : 1.4244047967850175\n",
      "luminosity_distance : 10837.566686076605\n",
      "inclination : 2.5740047525357155\n",
      "longitude : 2.4835766540690245\n",
      "latitude : 0.07842359577968167\n",
      "psi : 3.056771326097122\n",
      "optimal SNR: 5162.345632883024\n"
     ]
    }
   ],
   "source": [
    "# generate source parameter and clean signal \n",
    "mbhb_parameters = {\n",
    "    'chirp_mass': np.power(10., np.random.uniform(lgMc_prior[0], lgMc_prior[1])), \n",
    "    'mass_ratio': np.random.uniform(q_prior[0], q_prior[1]), \n",
    "    'spin_1z': np.random.uniform(s1_prior[0], s1_prior[1]),\n",
    "    'spin_2z': np.random.uniform(s2_prior[0], s2_prior[1]),\n",
    "    'coalescence_time': np.random.uniform(tc_prior[0], tc_prior[1]), \n",
    "    'coalescence_phase': np.random.uniform(0, TWOPI),\n",
    "    'luminosity_distance': np.power(10., np.random.uniform(lgdl_prior[0], lgdl_prior[1])), \n",
    "    'inclination': np.arccos(np.random.uniform(-1., 1.)), # [rad]\n",
    "    'longitude': np.random.uniform(lam_prior[0], lam_prior[1]), # [rad]\n",
    "    'latitude': np.arcsin(np.random.uniform(sinbeta_prior[0], sinbeta_prior[1])), # [rad]\n",
    "    'psi': np.random.uniform(0, PI) # [rad]\n",
    "    }\n",
    "wf_channels = FDTDI_CPU.Response(mbhb_parameters, data_frequencies_CPU, **response_kwargs_CPU)\n",
    "\n",
    "# generate frequency-domain noises \n",
    "Re_tmp = np.random.normal(scale=np.sqrt(PSD_channels / 4. / delta_f))\n",
    "Im_tmp = np.random.normal(scale=np.sqrt(PSD_channels / 4. / delta_f))\n",
    "noise_channels = xp.array(Re_tmp + 1.j * Im_tmp) \n",
    "\n",
    "# combine signal and noise \n",
    "data_channels = wf_channels + noise_channels \n",
    "\n",
    "opt_SNR = FrequencyDomainCovarianceSNR(wf_channels, InvCovMat)\n",
    "\n",
    "print(\"source parameters:\")\n",
    "for k, v in mbhb_parameters.items():\n",
    "    print(k, \":\", v)\n",
    "print(\"optimal SNR:\", opt_SNR)"
   ]
  },
  {
   "cell_type": "code",
   "execution_count": 9,
   "id": "32be1c6d",
   "metadata": {},
   "outputs": [
    {
     "data": {
      "text/plain": [
       "Text(0, 0.5, 'Frequency-domain data (1/Hz)')"
      ]
     },
     "execution_count": 9,
     "metadata": {},
     "output_type": "execute_result"
    },
    {
     "data": {
      "image/png": "[encoded data removed]",
      "text/plain": [
       "<Figure size 640x480 with 1 Axes>"
      ]
     },
     "metadata": {},
     "output_type": "display_data"
    }
   ],
   "source": [
    "for ichannel, nchannel in enumerate([\"A\", \"E\", \"T\"]): \n",
    "    plt.loglog(data_frequencies, np.abs(data_channels[ichannel]), linewidth=1, alpha=0.5, color=BLUE)\n",
    "    plt.loglog(data_frequencies, np.abs(wf_channels[ichannel]), color=RED, linestyle=\":\")\n",
    "    plt.loglog(data_frequencies, np.sqrt(PSD_channels[ichannel] * Tobs / 2.), color=\"grey\", linestyle=\"--\")\n",
    "plt.xlabel(\"Frequency (Hz)\")\n",
    "plt.ylabel(\"Frequency-domain data (1/Hz)\")"
   ]
  },
  {
   "cell_type": "markdown",
   "id": "fb44d8a2",
   "metadata": {},
   "source": [
    "## MLE with  $\\mathcal{F}$-stat "
   ]
  },
  {
   "cell_type": "code",
   "execution_count": 10,
   "id": "fb51309d",
   "metadata": {},
   "outputs": [
    {
     "name": "stdout",
     "output_type": "stream",
     "text": [
      "number of freuqncies: 14137\n",
      "min and max frequencies: 1.1574074074074073e-05 0.03333333333333333\n",
      "response kwargs: {'modes': [(2, 2)], 'tmin': 200.0, 'tmax': 205.0, 'tc_at_constellation': True, 'TDIGeneration': '2nd', 'optimal_combination': True, 'output_by_mode': False}\n"
     ]
    }
   ],
   "source": [
    "Fstat = Fstatistics(\n",
    "    response_generator=FDTDI_CPU, \n",
    "    frequency=data_frequencies_CPU, \n",
    "    data=data_channels, \n",
    "    invserse_covariance_matrix=InvCovMat, \n",
    "    response_parameters=response_kwargs_CPU, \n",
    "    use_gpu=False\n",
    ")"
   ]
  },
  {
   "cell_type": "markdown",
   "id": "f9a4bdec",
   "metadata": {},
   "source": [
    "### test waveform and parameter recovery"
   ]
  },
  {
   "cell_type": "code",
   "execution_count": 11,
   "id": "13c102f2",
   "metadata": {},
   "outputs": [
    {
     "data": {
      "text/plain": [
       "{'chirp_mass': 387717.51332906703,\n",
       " 'mass_ratio': 0.3458004031683065,\n",
       " 'spin_1z': 0.6724494536211539,\n",
       " 'spin_2z': -0.37305152389019947,\n",
       " 'coalescence_time': 203.68094017063703,\n",
       " 'longitude': 2.4835766540690245,\n",
       " 'latitude': 0.07842359577968167}"
      ]
     },
     "execution_count": 11,
     "metadata": {},
     "output_type": "execute_result"
    }
   ],
   "source": [
    "int_params = dict()\n",
    "for key in Fstatistics.intrinsic_parameter_names:\n",
    "    int_params[key] = mbhb_parameters[key]\n",
    "int_params"
   ]
  },
  {
   "cell_type": "code",
   "execution_count": 12,
   "id": "8411866e",
   "metadata": {},
   "outputs": [
    {
     "name": "stdout",
     "output_type": "stream",
     "text": [
      "parameter name | true value | difference\n",
      "luminosity_distance : 10837.566686076605 -4.132175720005762\n",
      "inclination : 2.5740047525357155 -0.0005669087032011966\n",
      "psi : 3.056771326097122 -0.0048007500772451195\n",
      "coalescence_phase : 1.4244047967850175 4.717088309038494\n"
     ]
    }
   ],
   "source": [
    "rec_a = Fstat.calculate_Fstat(\n",
    "    intrinsic_parameters=int_params, \n",
    "    return_a=True, \n",
    ")\n",
    "# print(rec_a.shape)\n",
    "\n",
    "rec_ext_params = Fstat.a_to_extrinsic(rec_a)\n",
    "\n",
    "rec_params = dict(int_params, **rec_ext_params)\n",
    "\n",
    "print(\"parameter name | true value | difference\")\n",
    "for k, v in rec_ext_params.items():\n",
    "    print(k, \":\", mbhb_parameters[k], v-mbhb_parameters[k])"
   ]
  },
  {
   "cell_type": "code",
   "execution_count": 13,
   "id": "97ef0c18",
   "metadata": {},
   "outputs": [
    {
     "data": {
      "text/plain": [
       "((3, 14137), (3, 14137))"
      ]
     },
     "execution_count": 13,
     "metadata": {},
     "output_type": "execute_result"
    }
   ],
   "source": [
    "rec_wave1 = FDTDI_CPU.Response(\n",
    "    rec_params, \n",
    "    data_frequencies_CPU, \n",
    "    **response_kwargs_CPU\n",
    ")\n",
    "\n",
    "rec_wave2 = Fstat.calculate_Fstat(\n",
    "    intrinsic_parameters=int_params, \n",
    "    return_recovered_wave=True, \n",
    ")\n",
    "\n",
    "rec_wave1.shape, rec_wave2.shape "
   ]
  },
  {
   "cell_type": "code",
   "execution_count": 14,
   "id": "be2ecd71",
   "metadata": {},
   "outputs": [
    {
     "data": {
      "text/plain": [
       "(1e-25, 1.65837643463693e-15)"
      ]
     },
     "execution_count": 14,
     "metadata": {},
     "output_type": "execute_result"
    },
    {
     "data": {
      "image/png": "[encoded data removed]",
      "text/plain": [
       "<Figure size 640x480 with 1 Axes>"
      ]
     },
     "metadata": {},
     "output_type": "display_data"
    }
   ],
   "source": [
    "plt.loglog(data_frequencies_CPU, np.abs(rec_wave1[0]))\n",
    "plt.loglog(data_frequencies_CPU, np.abs(rec_wave2[0]), linestyle=\"--\")\n",
    "plt.loglog(data_frequencies_CPU, np.abs(rec_wave1[0] - rec_wave2[0]))\n",
    "plt.ylim(1e-25,)"
   ]
  },
  {
   "cell_type": "code",
   "execution_count": null,
   "id": "7cacc0fe",
   "metadata": {},
   "outputs": [
    {
     "data": {
      "text/plain": [
       "<matplotlib.legend.Legend at 0x165a7f070>"
      ]
     },
     "execution_count": 15,
     "metadata": {},
     "output_type": "execute_result"
    }
   ],
   "source": [
    "plt.loglog(data_frequencies, np.abs(wf_channels[0]) * data_frequencies, label=\"original waveform\")\n",
    "plt.loglog(data_frequencies, np.abs(rec_wave1[0]) * data_frequencies, linestyle=\"--\", label=\"reconstructed waveform\")\n",
    "plt.loglog(data_frequencies, np.abs(rec_wave1[0] - wf_channels[0]) * data_frequencies, label=\"difference via param\")\n",
    "plt.loglog(data_frequencies, np.abs(rec_wave2[0] - wf_channels[0]) * data_frequencies, label=\"difference via a\", linestyle=\"--\")\n",
    "plt.loglog(data_frequencies, np.sqrt(PSD_channels[0] * 2. * data_frequencies), label=\"noise\")\n",
    "plt.ylim(1e-25,)\n",
    "\n",
    "plt.xlabel(\"Frequency (Hz)\")\n",
    "plt.ylabel(\"Characteristic Strain\")\n",
    "plt.legend(loc=\"upper left\", frameon=False)"
   ]
  },
  {
   "cell_type": "markdown",
   "id": "bc92a26b",
   "metadata": {},
   "source": [
    "### optimization from prior "
   ]
  },
  {
   "cell_type": "code",
   "execution_count": null,
   "id": "dd884ae6",
   "metadata": {},
   "outputs": [],
   "source": [
    "from scipy.optimize import differential_evolution\n",
    "\n",
    "def cost_function(norm_int_params):\n",
    "    \"\"\"   \n",
    "        norm_int_params: shape (Nparams), normalized to (0, 1)\n",
    "    \"\"\"\n",
    "    int_params = norm_int_params * (intrinsic_param_priors[:, 1] - intrinsic_param_priors[:, 0]) + intrinsic_param_priors[:, 0] # (Nparams)\n",
    "    params_in = Fstat.IntParamArr2ParamDict(int_params) # (Nparams) -> dictionary\n",
    "    return -Fstat.calculate_Fstat(intrinsic_parameters=params_in) # float\n",
    "\n",
    "n_dim_int = 7 \n",
    "lower_bounds = np.zeros(n_dim_int) \n",
    "upper_bounds = np.ones(n_dim_int) \n",
    "bounds = np.array([lower_bounds, upper_bounds]).T # (Nparams, 2)\n",
    "\n",
    "DE_result = differential_evolution(\n",
    "    func=cost_function,\n",
    "    bounds=bounds,\n",
    "    x0=None,\n",
    "    strategy='best1exp',\n",
    "    # strategy='rand1bin',\n",
    "    maxiter=5000,\n",
    "    popsize=10*n_dim_int,\n",
    "    # popsize=6*n_dim_int, \n",
    "    tol=1e-7,\n",
    "    atol=1e-9,\n",
    "    # tol=1e-6,\n",
    "    # atol=1e-8,\n",
    "    mutation=(0.4, 0.95),\n",
    "    recombination=0.7,\n",
    "    disp=False,\n",
    "    polish=True,\n",
    "    # vectorized=True,\n",
    "    workers=-1, \n",
    ")"
   ]
  },
  {
   "cell_type": "code",
   "execution_count": null,
   "id": "a64f80a2",
   "metadata": {},
   "outputs": [
    {
     "name": "stdout",
     "output_type": "stream",
     "text": [
      "             message: Optimization terminated successfully.\n",
      "             success: True\n",
      "                 fun: -813198.7688573474\n",
      "                   x: [ 5.229e-01  5.617e-01  6.947e-01  4.576e-01\n",
      "                        8.977e-01  9.061e-01  8.876e-01]\n",
      "                 nit: 312\n",
      "                nfev: 153410\n",
      "          population: [[ 5.229e-01  5.617e-01 ...  9.061e-01  8.876e-01]\n",
      "                       [ 5.228e-01  5.631e-01 ...  9.061e-01  8.873e-01]\n",
      "                       ...\n",
      "                       [ 5.229e-01  5.601e-01 ...  9.062e-01  8.876e-01]\n",
      "                       [ 5.229e-01  5.597e-01 ...  9.060e-01  8.876e-01]]\n",
      " population_energies: [-8.132e+05 -8.132e+05 ... -8.132e+05 -8.132e+05]\n",
      "                 jac: [ 4.851e+01 -2.413e+01  1.594e+01  9.860e+00\n",
      "                        1.050e+03 -1.594e+01 -4.292e+01]\n"
     ]
    }
   ],
   "source": [
    "print(DE_result)"
   ]
  },
  {
   "cell_type": "markdown",
   "id": "43e31488",
   "metadata": {},
   "source": [
    "### reconstruct parameters and waveforms "
   ]
  },
  {
   "cell_type": "code",
   "execution_count": null,
   "id": "0d0cc0e6",
   "metadata": {},
   "outputs": [
    {
     "name": "stdout",
     "output_type": "stream",
     "text": [
      "parameter name | true value | difference\n",
      "chirp_mass 1053447.877537218 685.4195681742858\n",
      "mass_ratio 0.6031469832992336 0.002397895351297863\n",
      "spin_1z 0.35406453983531805 0.003538391691135123\n",
      "spin_2z -0.08987376748224518 0.013634402158633874\n",
      "coalescence_time 204.29548797712152 6.777023600079701e-07\n",
      "longitude 5.6775172265115454 0.015897255300654223\n",
      "latitude 0.8825601152846115 0.004411157387750886\n",
      "luminosity_distance 27736.03473195712 10929.683106527384\n",
      "inclination 1.245882964207768 0.01652065309026929\n",
      "psi 2.4736216331387024 0.5152547921193782\n",
      "coalescence_phase 1.9488919290486248 3.7326372740293414\n"
     ]
    }
   ],
   "source": [
    "searched_int_params = Fstat.IntParamArr2ParamDict(DE_result.x * (intrinsic_param_priors[:, 1] - intrinsic_param_priors[:, 0]) + intrinsic_param_priors[:, 0])\n",
    "\n",
    "searched_a = Fstat.calculate_Fstat(\n",
    "    intrinsic_parameters=searched_int_params, \n",
    "    return_a=True, \n",
    ") # (1, 4)\n",
    "searched_ext_params = Fstat.a_to_extrinsic(searched_a)\n",
    "\n",
    "searched_params = dict(searched_int_params, **searched_ext_params)\n",
    "\n",
    "print(\"parameter name | true value | difference\")\n",
    "for k, v in searched_params.items():\n",
    "    print(k, mbhb_parameters[k], np.abs(v-mbhb_parameters[k]))"
   ]
  },
  {
   "cell_type": "code",
   "execution_count": null,
   "id": "879f9c17",
   "metadata": {},
   "outputs": [
    {
     "data": {
      "text/plain": [
       "<matplotlib.legend.Legend at 0x17e4feb80>"
      ]
     },
     "execution_count": 36,
     "metadata": {},
     "output_type": "execute_result"
    },
    {
     "data": {
      "image/png": "[encoded data removed]",
      "text/plain": [
       "<Figure size 640x480 with 1 Axes>"
      ]
     },
     "metadata": {},
     "output_type": "display_data"
    }
   ],
   "source": [
    "searched_wf1 = FDTDI_CPU.Response(\n",
    "    searched_params, \n",
    "    data_frequencies_CPU, \n",
    "    **response_kwargs_CPU\n",
    ")\n",
    "\n",
    "searched_wf2 = Fstat.calculate_Fstat(\n",
    "    intrinsic_parameters=searched_int_params, \n",
    "    return_recovered_wave=True\n",
    ")\n",
    "\n",
    "plt.loglog(data_frequencies, np.abs(wf_channels[0]) * data_frequencies, label=\"injected waveform\")\n",
    "plt.loglog(data_frequencies, np.abs(searched_wf1[0]) * data_frequencies, linestyle=\"--\", label=\"searched waveform\")\n",
    "plt.loglog(data_frequencies, np.abs(searched_wf1[0] - wf_channels[0]) * data_frequencies, linestyle=\"-\", label=\"difference via param\")\n",
    "plt.loglog(data_frequencies, np.abs(searched_wf2[0] - wf_channels[0]) * data_frequencies, linestyle=\"--\", label=\"difference via a\")\n",
    "plt.loglog(data_frequencies, np.sqrt(PSD_channels[0] * 2. * data_frequencies), label=\"noise\")\n",
    "plt.ylim(1e-25, )\n",
    "plt.xlabel(\"Frequency (Hz)\")\n",
    "plt.ylabel(\"Characteristic strain\")\n",
    "plt.legend(loc=\"upper left\", frameon=False)"
   ]
  },
  {
   "cell_type": "markdown",
   "id": "4e062421",
   "metadata": {},
   "source": [
    "## Fisher analysis "
   ]
  },
  {
   "cell_type": "code",
   "execution_count": null,
   "id": "fe99befa",
   "metadata": {},
   "outputs": [
    {
     "data": {
      "text/plain": [
       "{'chirp_mass': 498.5809889038553,\n",
       " 'mass_ratio': 0.0068888665241154815,\n",
       " 'spin_1z': 0.02947080356239106,\n",
       " 'spin_2z': 0.05326480471814423,\n",
       " 'coalescence_time': 3.042360397556426e-06,\n",
       " 'coalescence_phase': 0.4148821512651821,\n",
       " 'luminosity_distance': 17255.40049346061,\n",
       " 'inclination': 0.3254085777260777,\n",
       " 'longitude': 0.008182559588402633,\n",
       " 'latitude': 0.004302858601978273,\n",
       " 'psi': 0.2406289615420648}"
      ]
     },
     "execution_count": 37,
     "metadata": {},
     "output_type": "execute_result"
    }
   ],
   "source": [
    "def fisher_waveform_wrapper(param_dict, frequencies):\n",
    "    res = FDTDI_CPU.Response(\n",
    "        parameters=param_dict, \n",
    "        freqs=xp.array(frequencies),  \n",
    "        **response_kwargs_CPU, \n",
    "    )\n",
    "    return res\n",
    "\n",
    "# set initial steps \n",
    "analyze_param_step_dict = {\n",
    "    'chirp_mass': 10.,\n",
    "    'mass_ratio': 0.01,\n",
    "    'spin_1z': 0.01,\n",
    "    'spin_2z': 0.01,\n",
    "    'coalescence_time': 0.001,\n",
    "    'coalescence_phase': 0.01,\n",
    "    'luminosity_distance': 10.,\n",
    "    'inclination': 0.01,\n",
    "    'longitude': 0.01,\n",
    "    'latitude': 0.01,\n",
    "    'psi': 0.01\n",
    "    }\n",
    "for k, v in analyze_param_step_dict.items():\n",
    "    analyze_param_step_dict[k] = -v \n",
    "\n",
    "FIM = MultiChannelFisher(\n",
    "    waveform_generator=fisher_waveform_wrapper, \n",
    "    # param_dict=mbhb_parameters, \n",
    "    param_dict=searched_params, \n",
    "    analyze_param_step_dict=analyze_param_step_dict, \n",
    "    frequency=data_frequencies, \n",
    "    inverse_covariance=InvCovMat, \n",
    "    verbose=0,\n",
    ")\n",
    "\n",
    "FIM.auto_test_step()\n",
    "FIM.calculate_Fisher()\n",
    "FIM.calculate_errors() \n",
    "\n",
    "FIM.param_errors"
   ]
  },
  {
   "cell_type": "code",
   "execution_count": null,
   "id": "0d80e6c2",
   "metadata": {},
   "outputs": [
    {
     "name": "stdout",
     "output_type": "stream",
     "text": [
      "parameter name | difference | FIM bound | ratio\n",
      "chirp_mass 685.4195681742858 498.5809889038553 1.374740680909636\n",
      "mass_ratio 0.002397895351297863 0.0068888665241154815 0.3480827133032235\n",
      "spin_1z 0.003538391691135123 0.02947080356239106 0.12006430987347133\n",
      "spin_2z 0.013634402158633874 0.05326480471814423 0.2559739443480851\n",
      "coalescence_time 6.777023600079701e-07 3.042360397556426e-06 0.22275545019330698\n",
      "longitude 0.015897255300654223 0.008182559588402633 1.9428218186380017\n",
      "latitude 0.004411157387750886 0.004302858601978273 1.0251690319832545\n",
      "luminosity_distance 10929.683106527384 17255.40049346061 0.6334065158713341\n",
      "inclination 0.01652065309026929 0.3254085777260777 0.05076895392774814\n",
      "psi 0.5152547921193782 0.2406289615420648 2.141283363471215\n",
      "coalescence_phase 3.7326372740293414 0.4148821512651821 8.99686154886797\n"
     ]
    }
   ],
   "source": [
    "print(\"parameter name | difference | FIM bound | ratio\")\n",
    "for k, v in searched_params.items():\n",
    "    print(k, np.abs(v-mbhb_parameters[k]), FIM.param_errors[k], np.abs(v-mbhb_parameters[k]) / FIM.param_errors[k])"
   ]
  },
  {
   "cell_type": "markdown",
   "id": "73136aa2",
   "metadata": {},
   "source": [
    "## Test across population "
   ]
  },
  {
   "cell_type": "code",
   "execution_count": null,
   "id": "6e36d858",
   "metadata": {},
   "outputs": [
    {
     "name": "stderr",
     "output_type": "stream",
     "text": [
      "  0%|          | 0/100 [00:00<?, ?it/s]"
     ]
    },
    {
     "name": "stdout",
     "output_type": "stream",
     "text": [
      "number of freuqncies: 28273\n",
      "min and max frequencies: 1.0416666666666666e-05 0.03333333333333333\n",
      "response kwargs: {'modes': [(2, 2)], 'tmin': 150.0, 'tmax': 160.0, 'tc_at_constellation': True, 'TDIGeneration': '2nd', 'optimal_combination': True, 'output_by_mode': False}\n"
     ]
    },
    {
     "name": "stderr",
     "output_type": "stream",
     "text": [
      "/Users/taijidatacenter/miniconda3/envs/tri_env/lib/python3.9/site-packages/scipy/optimize/_differentialevolution.py:487: UserWarning: differential_evolution: the 'vectorized' keyword has overridden updating='immediate' to updating='deferred'\n",
      "  with DifferentialEvolutionSolver(func, bounds, args=args,\n",
      "  0%|          | 0/100 [01:48<?, ?it/s]\n"
     ]
    },
    {
     "ename": "KeyboardInterrupt",
     "evalue": "",
     "output_type": "error",
     "traceback": [
      "\u001b[0;31m---------------------------------------------------------------------------\u001b[0m",
      "\u001b[0;31mKeyboardInterrupt\u001b[0m                         Traceback (most recent call last)",
      "Cell \u001b[0;32mIn[69], line 67\u001b[0m\n\u001b[1;32m     64\u001b[0m upper_bounds \u001b[38;5;241m=\u001b[39m np\u001b[38;5;241m.\u001b[39mones(n_dim_int) \n\u001b[1;32m     65\u001b[0m bounds \u001b[38;5;241m=\u001b[39m np\u001b[38;5;241m.\u001b[39marray([lower_bounds, upper_bounds])\u001b[38;5;241m.\u001b[39mT \u001b[38;5;66;03m# (Nparams, 2)\u001b[39;00m\n\u001b[0;32m---> 67\u001b[0m DE_result \u001b[38;5;241m=\u001b[39m \u001b[43mdifferential_evolution\u001b[49m\u001b[43m(\u001b[49m\n\u001b[1;32m     68\u001b[0m \u001b[43m    \u001b[49m\u001b[43mfunc\u001b[49m\u001b[38;5;241;43m=\u001b[39;49m\u001b[43mcost_function\u001b[49m\u001b[43m,\u001b[49m\n\u001b[1;32m     69\u001b[0m \u001b[43m    \u001b[49m\u001b[43mbounds\u001b[49m\u001b[38;5;241;43m=\u001b[39;49m\u001b[43mbounds\u001b[49m\u001b[43m,\u001b[49m\n\u001b[1;32m     70\u001b[0m \u001b[43m    \u001b[49m\u001b[43mx0\u001b[49m\u001b[38;5;241;43m=\u001b[39;49m\u001b[38;5;28;43;01mNone\u001b[39;49;00m\u001b[43m,\u001b[49m\n\u001b[1;32m     71\u001b[0m \u001b[43m    \u001b[49m\u001b[43mstrategy\u001b[49m\u001b[38;5;241;43m=\u001b[39;49m\u001b[38;5;124;43m'\u001b[39;49m\u001b[38;5;124;43mbest1exp\u001b[39;49m\u001b[38;5;124;43m'\u001b[39;49m\u001b[43m,\u001b[49m\n\u001b[1;32m     72\u001b[0m \u001b[43m    \u001b[49m\u001b[38;5;66;43;03m# strategy='rand1bin',\u001b[39;49;00m\n\u001b[1;32m     73\u001b[0m \u001b[43m    \u001b[49m\u001b[43mmaxiter\u001b[49m\u001b[38;5;241;43m=\u001b[39;49m\u001b[38;5;241;43m5000\u001b[39;49m\u001b[43m,\u001b[49m\n\u001b[1;32m     74\u001b[0m \u001b[43m    \u001b[49m\u001b[43mpopsize\u001b[49m\u001b[38;5;241;43m=\u001b[39;49m\u001b[38;5;241;43m10\u001b[39;49m\u001b[38;5;241;43m*\u001b[39;49m\u001b[43mn_dim_int\u001b[49m\u001b[43m,\u001b[49m\n\u001b[1;32m     75\u001b[0m \u001b[43m    \u001b[49m\u001b[38;5;66;43;03m# popsize=6*n_dim_int, \u001b[39;49;00m\n\u001b[1;32m     76\u001b[0m \u001b[43m    \u001b[49m\u001b[43mtol\u001b[49m\u001b[38;5;241;43m=\u001b[39;49m\u001b[38;5;241;43m1e-7\u001b[39;49m\u001b[43m,\u001b[49m\n\u001b[1;32m     77\u001b[0m \u001b[43m    \u001b[49m\u001b[43matol\u001b[49m\u001b[38;5;241;43m=\u001b[39;49m\u001b[38;5;241;43m1e-9\u001b[39;49m\u001b[43m,\u001b[49m\n\u001b[1;32m     78\u001b[0m \u001b[43m    \u001b[49m\u001b[38;5;66;43;03m# tol=1e-6,\u001b[39;49;00m\n\u001b[1;32m     79\u001b[0m \u001b[43m    \u001b[49m\u001b[38;5;66;43;03m# atol=1e-8,\u001b[39;49;00m\n\u001b[1;32m     80\u001b[0m \u001b[43m    \u001b[49m\u001b[43mmutation\u001b[49m\u001b[38;5;241;43m=\u001b[39;49m\u001b[43m(\u001b[49m\u001b[38;5;241;43m0.4\u001b[39;49m\u001b[43m,\u001b[49m\u001b[43m \u001b[49m\u001b[38;5;241;43m0.95\u001b[39;49m\u001b[43m)\u001b[49m\u001b[43m,\u001b[49m\n\u001b[1;32m     81\u001b[0m \u001b[43m    \u001b[49m\u001b[43mrecombination\u001b[49m\u001b[38;5;241;43m=\u001b[39;49m\u001b[38;5;241;43m0.7\u001b[39;49m\u001b[43m,\u001b[49m\n\u001b[1;32m     82\u001b[0m \u001b[43m    \u001b[49m\u001b[43mdisp\u001b[49m\u001b[38;5;241;43m=\u001b[39;49m\u001b[38;5;28;43;01mFalse\u001b[39;49;00m\u001b[43m,\u001b[49m\n\u001b[1;32m     83\u001b[0m \u001b[43m    \u001b[49m\u001b[43mpolish\u001b[49m\u001b[38;5;241;43m=\u001b[39;49m\u001b[38;5;28;43;01mFalse\u001b[39;49;00m\u001b[43m,\u001b[49m\n\u001b[1;32m     84\u001b[0m \u001b[43m    \u001b[49m\u001b[43mvectorized\u001b[49m\u001b[38;5;241;43m=\u001b[39;49m\u001b[38;5;28;43;01mTrue\u001b[39;49;00m\u001b[43m,\u001b[49m\n\u001b[1;32m     85\u001b[0m \u001b[43m\u001b[49m\u001b[43m)\u001b[49m\n\u001b[1;32m     87\u001b[0m searched_int_params \u001b[38;5;241m=\u001b[39m Fstat\u001b[38;5;241m.\u001b[39mIntParamArr2ParamDict(DE_result\u001b[38;5;241m.\u001b[39mx \u001b[38;5;241m*\u001b[39m (intrinsic_param_priors[:, \u001b[38;5;241m1\u001b[39m] \u001b[38;5;241m-\u001b[39m intrinsic_param_priors[:, \u001b[38;5;241m0\u001b[39m]) \u001b[38;5;241m+\u001b[39m intrinsic_param_priors[:, \u001b[38;5;241m0\u001b[39m])\n\u001b[1;32m     89\u001b[0m searched_a \u001b[38;5;241m=\u001b[39m Fstat\u001b[38;5;241m.\u001b[39mcalculate_Fstat_vectorized(\n\u001b[1;32m     90\u001b[0m     intrinsic_parameters\u001b[38;5;241m=\u001b[39msearched_int_params, \n\u001b[1;32m     91\u001b[0m     return_a\u001b[38;5;241m=\u001b[39m\u001b[38;5;28;01mTrue\u001b[39;00m, \n\u001b[1;32m     92\u001b[0m ) \u001b[38;5;66;03m# (1, 4)\u001b[39;00m\n",
      "File \u001b[0;32m~/miniconda3/envs/tri_env/lib/python3.9/site-packages/scipy/optimize/_differentialevolution.py:502\u001b[0m, in \u001b[0;36mdifferential_evolution\u001b[0;34m(func, bounds, args, strategy, maxiter, popsize, tol, mutation, recombination, seed, callback, disp, polish, init, atol, updating, workers, constraints, x0, integrality, vectorized)\u001b[0m\n\u001b[1;32m    485\u001b[0m \u001b[38;5;66;03m# using a context manager means that any created Pool objects are\u001b[39;00m\n\u001b[1;32m    486\u001b[0m \u001b[38;5;66;03m# cleared up.\u001b[39;00m\n\u001b[1;32m    487\u001b[0m \u001b[38;5;28;01mwith\u001b[39;00m DifferentialEvolutionSolver(func, bounds, args\u001b[38;5;241m=\u001b[39margs,\n\u001b[1;32m    488\u001b[0m                                  strategy\u001b[38;5;241m=\u001b[39mstrategy,\n\u001b[1;32m    489\u001b[0m                                  maxiter\u001b[38;5;241m=\u001b[39mmaxiter,\n\u001b[0;32m   (...)\u001b[0m\n\u001b[1;32m    500\u001b[0m                                  integrality\u001b[38;5;241m=\u001b[39mintegrality,\n\u001b[1;32m    501\u001b[0m                                  vectorized\u001b[38;5;241m=\u001b[39mvectorized) \u001b[38;5;28;01mas\u001b[39;00m solver:\n\u001b[0;32m--> 502\u001b[0m     ret \u001b[38;5;241m=\u001b[39m \u001b[43msolver\u001b[49m\u001b[38;5;241;43m.\u001b[39;49m\u001b[43msolve\u001b[49m\u001b[43m(\u001b[49m\u001b[43m)\u001b[49m\n\u001b[1;32m    504\u001b[0m \u001b[38;5;28;01mreturn\u001b[39;00m ret\n",
      "File \u001b[0;32m~/miniconda3/envs/tri_env/lib/python3.9/site-packages/scipy/optimize/_differentialevolution.py:1164\u001b[0m, in \u001b[0;36mDifferentialEvolutionSolver.solve\u001b[0;34m(self)\u001b[0m\n\u001b[1;32m   1161\u001b[0m \u001b[38;5;28;01mfor\u001b[39;00m nit \u001b[38;5;129;01min\u001b[39;00m \u001b[38;5;28mrange\u001b[39m(\u001b[38;5;241m1\u001b[39m, \u001b[38;5;28mself\u001b[39m\u001b[38;5;241m.\u001b[39mmaxiter \u001b[38;5;241m+\u001b[39m \u001b[38;5;241m1\u001b[39m):\n\u001b[1;32m   1162\u001b[0m     \u001b[38;5;66;03m# evolve the population by a generation\u001b[39;00m\n\u001b[1;32m   1163\u001b[0m     \u001b[38;5;28;01mtry\u001b[39;00m:\n\u001b[0;32m-> 1164\u001b[0m         \u001b[38;5;28;43mnext\u001b[39;49m\u001b[43m(\u001b[49m\u001b[38;5;28;43mself\u001b[39;49m\u001b[43m)\u001b[49m\n\u001b[1;32m   1165\u001b[0m     \u001b[38;5;28;01mexcept\u001b[39;00m \u001b[38;5;167;01mStopIteration\u001b[39;00m:\n\u001b[1;32m   1166\u001b[0m         warning_flag \u001b[38;5;241m=\u001b[39m \u001b[38;5;28;01mTrue\u001b[39;00m\n",
      "File \u001b[0;32m~/miniconda3/envs/tri_env/lib/python3.9/site-packages/scipy/optimize/_differentialevolution.py:1618\u001b[0m, in \u001b[0;36mDifferentialEvolutionSolver.__next__\u001b[0;34m(self)\u001b[0m\n\u001b[1;32m   1615\u001b[0m trial_energies \u001b[38;5;241m=\u001b[39m np\u001b[38;5;241m.\u001b[39mfull(\u001b[38;5;28mself\u001b[39m\u001b[38;5;241m.\u001b[39mnum_population_members, np\u001b[38;5;241m.\u001b[39minf)\n\u001b[1;32m   1617\u001b[0m \u001b[38;5;66;03m# only calculate for feasible entries\u001b[39;00m\n\u001b[0;32m-> 1618\u001b[0m trial_energies[feasible] \u001b[38;5;241m=\u001b[39m \u001b[38;5;28;43mself\u001b[39;49m\u001b[38;5;241;43m.\u001b[39;49m\u001b[43m_calculate_population_energies\u001b[49m\u001b[43m(\u001b[49m\n\u001b[1;32m   1619\u001b[0m \u001b[43m    \u001b[49m\u001b[43mtrial_pop\u001b[49m\u001b[43m[\u001b[49m\u001b[43mfeasible\u001b[49m\u001b[43m]\u001b[49m\u001b[43m)\u001b[49m\n\u001b[1;32m   1621\u001b[0m \u001b[38;5;66;03m# which solutions are 'improved'?\u001b[39;00m\n\u001b[1;32m   1622\u001b[0m loc \u001b[38;5;241m=\u001b[39m [\u001b[38;5;28mself\u001b[39m\u001b[38;5;241m.\u001b[39m_accept_trial(\u001b[38;5;241m*\u001b[39mval) \u001b[38;5;28;01mfor\u001b[39;00m val \u001b[38;5;129;01min\u001b[39;00m\n\u001b[1;32m   1623\u001b[0m        \u001b[38;5;28mzip\u001b[39m(trial_energies, feasible, cv, \u001b[38;5;28mself\u001b[39m\u001b[38;5;241m.\u001b[39mpopulation_energies,\n\u001b[1;32m   1624\u001b[0m            \u001b[38;5;28mself\u001b[39m\u001b[38;5;241m.\u001b[39mfeasible, \u001b[38;5;28mself\u001b[39m\u001b[38;5;241m.\u001b[39mconstraint_violation)]\n",
      "File \u001b[0;32m~/miniconda3/envs/tri_env/lib/python3.9/site-packages/scipy/optimize/_differentialevolution.py:1316\u001b[0m, in \u001b[0;36mDifferentialEvolutionSolver._calculate_population_energies\u001b[0;34m(self, population)\u001b[0m\n\u001b[1;32m   1313\u001b[0m parameters_pop \u001b[38;5;241m=\u001b[39m \u001b[38;5;28mself\u001b[39m\u001b[38;5;241m.\u001b[39m_scale_parameters(population)\n\u001b[1;32m   1314\u001b[0m \u001b[38;5;28;01mtry\u001b[39;00m:\n\u001b[1;32m   1315\u001b[0m     calc_energies \u001b[38;5;241m=\u001b[39m \u001b[38;5;28mlist\u001b[39m(\n\u001b[0;32m-> 1316\u001b[0m         \u001b[38;5;28;43mself\u001b[39;49m\u001b[38;5;241;43m.\u001b[39;49m\u001b[43m_mapwrapper\u001b[49m\u001b[43m(\u001b[49m\u001b[38;5;28;43mself\u001b[39;49m\u001b[38;5;241;43m.\u001b[39;49m\u001b[43mfunc\u001b[49m\u001b[43m,\u001b[49m\u001b[43m \u001b[49m\u001b[43mparameters_pop\u001b[49m\u001b[43m[\u001b[49m\u001b[38;5;241;43m0\u001b[39;49m\u001b[43m:\u001b[49m\u001b[43mS\u001b[49m\u001b[43m]\u001b[49m\u001b[43m)\u001b[49m\n\u001b[1;32m   1317\u001b[0m     )\n\u001b[1;32m   1318\u001b[0m     calc_energies \u001b[38;5;241m=\u001b[39m np\u001b[38;5;241m.\u001b[39msqueeze(calc_energies)\n\u001b[1;32m   1319\u001b[0m \u001b[38;5;28;01mexcept\u001b[39;00m (\u001b[38;5;167;01mTypeError\u001b[39;00m, \u001b[38;5;167;01mValueError\u001b[39;00m) \u001b[38;5;28;01mas\u001b[39;00m e:\n\u001b[1;32m   1320\u001b[0m     \u001b[38;5;66;03m# wrong number of arguments for _mapwrapper\u001b[39;00m\n\u001b[1;32m   1321\u001b[0m     \u001b[38;5;66;03m# or wrong length returned from the mapper\u001b[39;00m\n",
      "File \u001b[0;32m~/miniconda3/envs/tri_env/lib/python3.9/site-packages/scipy/_lib/_util.py:511\u001b[0m, in \u001b[0;36mMapWrapper.__call__\u001b[0;34m(self, func, iterable)\u001b[0m\n\u001b[1;32m    508\u001b[0m \u001b[38;5;28;01mdef\u001b[39;00m\u001b[38;5;250m \u001b[39m\u001b[38;5;21m__call__\u001b[39m(\u001b[38;5;28mself\u001b[39m, func, iterable):\n\u001b[1;32m    509\u001b[0m     \u001b[38;5;66;03m# only accept one iterable because that's all Pool.map accepts\u001b[39;00m\n\u001b[1;32m    510\u001b[0m     \u001b[38;5;28;01mtry\u001b[39;00m:\n\u001b[0;32m--> 511\u001b[0m         \u001b[38;5;28;01mreturn\u001b[39;00m \u001b[38;5;28;43mself\u001b[39;49m\u001b[38;5;241;43m.\u001b[39;49m\u001b[43m_mapfunc\u001b[49m\u001b[43m(\u001b[49m\u001b[43mfunc\u001b[49m\u001b[43m,\u001b[49m\u001b[43m \u001b[49m\u001b[43miterable\u001b[49m\u001b[43m)\u001b[49m\n\u001b[1;32m    512\u001b[0m     \u001b[38;5;28;01mexcept\u001b[39;00m \u001b[38;5;167;01mTypeError\u001b[39;00m \u001b[38;5;28;01mas\u001b[39;00m e:\n\u001b[1;32m    513\u001b[0m         \u001b[38;5;66;03m# wrong number of arguments\u001b[39;00m\n\u001b[1;32m    514\u001b[0m         \u001b[38;5;28;01mraise\u001b[39;00m \u001b[38;5;167;01mTypeError\u001b[39;00m(\u001b[38;5;124m\"\u001b[39m\u001b[38;5;124mThe map-like callable must be of the\u001b[39m\u001b[38;5;124m\"\u001b[39m\n\u001b[1;32m    515\u001b[0m                         \u001b[38;5;124m\"\u001b[39m\u001b[38;5;124m form f(func, iterable)\u001b[39m\u001b[38;5;124m\"\u001b[39m) \u001b[38;5;28;01mfrom\u001b[39;00m\u001b[38;5;250m \u001b[39m\u001b[38;5;21;01me\u001b[39;00m\n",
      "File \u001b[0;32m~/miniconda3/envs/tri_env/lib/python3.9/site-packages/scipy/optimize/_differentialevolution.py:797\u001b[0m, in \u001b[0;36mDifferentialEvolutionSolver.__init__.<locals>.maplike_for_vectorized_func\u001b[0;34m(func, x)\u001b[0m\n\u001b[1;32m    793\u001b[0m \u001b[38;5;28;01mdef\u001b[39;00m\u001b[38;5;250m \u001b[39m\u001b[38;5;21mmaplike_for_vectorized_func\u001b[39m(func, x):\n\u001b[1;32m    794\u001b[0m     \u001b[38;5;66;03m# send an array (N, S) to the user func,\u001b[39;00m\n\u001b[1;32m    795\u001b[0m     \u001b[38;5;66;03m# expect to receive (S,). Transposition is required because\u001b[39;00m\n\u001b[1;32m    796\u001b[0m     \u001b[38;5;66;03m# internally the population is held as (S, N)\u001b[39;00m\n\u001b[0;32m--> 797\u001b[0m     \u001b[38;5;28;01mreturn\u001b[39;00m np\u001b[38;5;241m.\u001b[39matleast_1d(\u001b[43mfunc\u001b[49m\u001b[43m(\u001b[49m\u001b[43mx\u001b[49m\u001b[38;5;241;43m.\u001b[39;49m\u001b[43mT\u001b[49m\u001b[43m)\u001b[49m)\n",
      "File \u001b[0;32m~/miniconda3/envs/tri_env/lib/python3.9/site-packages/scipy/_lib/_util.py:441\u001b[0m, in \u001b[0;36m_FunctionWrapper.__call__\u001b[0;34m(self, x)\u001b[0m\n\u001b[1;32m    440\u001b[0m \u001b[38;5;28;01mdef\u001b[39;00m\u001b[38;5;250m \u001b[39m\u001b[38;5;21m__call__\u001b[39m(\u001b[38;5;28mself\u001b[39m, x):\n\u001b[0;32m--> 441\u001b[0m     \u001b[38;5;28;01mreturn\u001b[39;00m \u001b[38;5;28;43mself\u001b[39;49m\u001b[38;5;241;43m.\u001b[39;49m\u001b[43mf\u001b[49m\u001b[43m(\u001b[49m\u001b[43mx\u001b[49m\u001b[43m,\u001b[49m\u001b[43m \u001b[49m\u001b[38;5;241;43m*\u001b[39;49m\u001b[38;5;28;43mself\u001b[39;49m\u001b[38;5;241;43m.\u001b[39;49m\u001b[43margs\u001b[49m\u001b[43m)\u001b[49m\n",
      "Cell \u001b[0;32mIn[69], line 60\u001b[0m, in \u001b[0;36mcost_function\u001b[0;34m(norm_int_params)\u001b[0m\n\u001b[1;32m     58\u001b[0m int_params \u001b[38;5;241m=\u001b[39m norm_int_params\u001b[38;5;241m.\u001b[39mtranspose() \u001b[38;5;241m*\u001b[39m (intrinsic_param_priors[:, \u001b[38;5;241m1\u001b[39m] \u001b[38;5;241m-\u001b[39m intrinsic_param_priors[:, \u001b[38;5;241m0\u001b[39m]) \u001b[38;5;241m+\u001b[39m intrinsic_param_priors[:, \u001b[38;5;241m0\u001b[39m] \u001b[38;5;66;03m# (Nevent, Nparams)\u001b[39;00m\n\u001b[1;32m     59\u001b[0m params_in \u001b[38;5;241m=\u001b[39m Fstat\u001b[38;5;241m.\u001b[39mIntParamArr2ParamDict(int_params\u001b[38;5;241m.\u001b[39mtranspose()) \u001b[38;5;66;03m# (Nparams, Nevent) -> dictionary, each item (Nevent)\u001b[39;00m\n\u001b[0;32m---> 60\u001b[0m \u001b[38;5;28;01mreturn\u001b[39;00m \u001b[38;5;241m-\u001b[39m\u001b[43mFstat\u001b[49m\u001b[38;5;241;43m.\u001b[39;49m\u001b[43mcalculate_Fstat_vectorized\u001b[49m\u001b[43m(\u001b[49m\u001b[43mintrinsic_parameters\u001b[49m\u001b[38;5;241;43m=\u001b[39;49m\u001b[43mparams_in\u001b[49m\u001b[43m)\u001b[49m\n",
      "File \u001b[0;32m~/miniconda3/envs/tri_env/lib/python3.9/site-packages/Triangle_BBH/Utils.py:663\u001b[0m, in \u001b[0;36mFstatistics.calculate_Fstat_vectorized\u001b[0;34m(self, intrinsic_parameters, return_a, return_recovered_wave)\u001b[0m\n\u001b[1;32m    659\u001b[0m full_parameters1[\u001b[38;5;124m\"\u001b[39m\u001b[38;5;124mpsi\u001b[39m\u001b[38;5;124m\"\u001b[39m] \u001b[38;5;241m=\u001b[39m np\u001b[38;5;241m.\u001b[39mzeros(Nevent)\n\u001b[1;32m    660\u001b[0m \u001b[38;5;66;03m# print(\"1st parameter set:\") # TEST \u001b[39;00m\n\u001b[1;32m    661\u001b[0m \u001b[38;5;66;03m# print(full_parameters1) # TEST \u001b[39;00m\n\u001b[0;32m--> 663\u001b[0m temp1 \u001b[38;5;241m=\u001b[39m \u001b[38;5;28;43mself\u001b[39;49m\u001b[38;5;241;43m.\u001b[39;49m\u001b[43mresponse_generator\u001b[49m\u001b[38;5;241;43m.\u001b[39;49m\u001b[43mResponse\u001b[49m\u001b[43m(\u001b[49m\n\u001b[1;32m    664\u001b[0m \u001b[43m    \u001b[49m\u001b[43mparameters\u001b[49m\u001b[38;5;241;43m=\u001b[39;49m\u001b[43mfull_parameters1\u001b[49m\u001b[43m,\u001b[49m\n\u001b[1;32m    665\u001b[0m \u001b[43m    \u001b[49m\u001b[43mfreqs\u001b[49m\u001b[38;5;241;43m=\u001b[39;49m\u001b[38;5;28;43mself\u001b[39;49m\u001b[38;5;241;43m.\u001b[39;49m\u001b[43mfrequency\u001b[49m\u001b[43m,\u001b[49m\n\u001b[1;32m    666\u001b[0m \u001b[43m    \u001b[49m\u001b[38;5;241;43m*\u001b[39;49m\u001b[38;5;241;43m*\u001b[39;49m\u001b[38;5;28;43mself\u001b[39;49m\u001b[38;5;241;43m.\u001b[39;49m\u001b[43mresponse_kwargs\u001b[49m\u001b[43m,\u001b[49m\n\u001b[1;32m    667\u001b[0m \u001b[43m\u001b[49m\u001b[43m)\u001b[49m \u001b[38;5;66;03m# (Nchannel=3, Nevent, Nfreq)\u001b[39;00m\n\u001b[1;32m    669\u001b[0m full_parameters2 \u001b[38;5;241m=\u001b[39m copy\u001b[38;5;241m.\u001b[39mdeepcopy(full_parameters1)\n\u001b[1;32m    670\u001b[0m full_parameters2[\u001b[38;5;124m\"\u001b[39m\u001b[38;5;124mpsi\u001b[39m\u001b[38;5;124m\"\u001b[39m] \u001b[38;5;241m=\u001b[39m np\u001b[38;5;241m.\u001b[39mones(Nevent) \u001b[38;5;241m*\u001b[39m PI \u001b[38;5;241m/\u001b[39m \u001b[38;5;241m4.\u001b[39m \n",
      "File \u001b[0;32m~/miniconda3/envs/tri_env/lib/python3.9/site-packages/Triangle_BBH/Response.py:541\u001b[0m, in \u001b[0;36mFDTDIResponseGenerator.Response\u001b[0;34m(self, parameters, freqs, fmin, fmax, Nfreqs, modes, tmin, tmax, tc_at_constellation, TDIGeneration, optimal_combination, interpolation_method, output_by_mode)\u001b[0m\n\u001b[1;32m    539\u001b[0m             phase \u001b[38;5;241m=\u001b[39m phase_func(freqs)\n\u001b[1;32m    540\u001b[0m             X \u001b[38;5;241m+\u001b[39m\u001b[38;5;241m=\u001b[39m Xamp \u001b[38;5;241m*\u001b[39m np\u001b[38;5;241m.\u001b[39mexp(\u001b[38;5;241m1.\u001b[39mj \u001b[38;5;241m*\u001b[39m phase)\n\u001b[0;32m--> 541\u001b[0m             Y \u001b[38;5;241m+\u001b[39m\u001b[38;5;241m=\u001b[39m Yamp \u001b[38;5;241m*\u001b[39m np\u001b[38;5;241m.\u001b[39mexp(\u001b[38;5;241;43m1.\u001b[39;49m\u001b[43mj\u001b[49m\u001b[43m \u001b[49m\u001b[38;5;241;43m*\u001b[39;49m\u001b[43m \u001b[49m\u001b[43mphase\u001b[49m)\n\u001b[1;32m    542\u001b[0m             Z \u001b[38;5;241m+\u001b[39m\u001b[38;5;241m=\u001b[39m Zamp \u001b[38;5;241m*\u001b[39m np\u001b[38;5;241m.\u001b[39mexp(\u001b[38;5;241m1.\u001b[39mj \u001b[38;5;241m*\u001b[39m phase)\n\u001b[1;32m    543\u001b[0m \u001b[38;5;28;01mif\u001b[39;00m Nevents \u001b[38;5;241m==\u001b[39m \u001b[38;5;241m1\u001b[39m: \n",
      "\u001b[0;31mKeyboardInterrupt\u001b[0m: "
     ]
    }
   ],
   "source": [
    "truths_list = [] \n",
    "searched_list = [] \n",
    "FIM_bound_list = [] \n",
    "snr_list = [] \n",
    "\n",
    "for i in tqdm(range(100)):\n",
    "\n",
    "    # generate source parameter and clean signal \n",
    "    mbhb_parameters = {\n",
    "        'chirp_mass': np.power(10., np.random.uniform(lgMc_prior[0], lgMc_prior[1])), \n",
    "        'mass_ratio': np.random.uniform(q_prior[0], q_prior[1]), \n",
    "        'spin_1z': np.random.uniform(s1_prior[0], s1_prior[1]),\n",
    "        'spin_2z': np.random.uniform(s2_prior[0], s2_prior[1]),\n",
    "        'coalescence_time': np.random.uniform(tc_prior[0], tc_prior[1]), \n",
    "        'coalescence_phase': np.random.uniform(0, TWOPI),\n",
    "        'luminosity_distance': np.power(10., np.random.uniform(lgdl_prior[0], lgdl_prior[1])), \n",
    "        'inclination': np.arccos(np.random.uniform(-1., 1.)), # [rad]\n",
    "        'longitude': np.random.uniform(lam_prior[0], lam_prior[1]), # [rad]\n",
    "        'latitude': np.arcsin(np.random.uniform(sinbeta_prior[0], sinbeta_prior[1])), # [rad]\n",
    "        'psi': np.random.uniform(0, PI) # [rad]\n",
    "        }\n",
    "    wf_channels = FDTDI_CPU.Response(mbhb_parameters, data_frequencies_CPU, **response_kwargs_CPU)\n",
    "\n",
    "    # generate frequency-domain noises \n",
    "    Re_tmp = np.random.normal(scale=np.sqrt(PSD_channels / 4. / delta_f))\n",
    "    Im_tmp = np.random.normal(scale=np.sqrt(PSD_channels / 4. / delta_f))\n",
    "    noise_channels = xp.array(Re_tmp + 1.j * Im_tmp) \n",
    "\n",
    "    # combine signal and noise \n",
    "    data_channels = wf_channels + noise_channels \n",
    "\n",
    "    opt_SNR = FrequencyDomainCovarianceSNR(wf_channels, InvCovMat)\n",
    "    snr_list.append(opt_SNR)\n",
    "\n",
    "    Fstat = Fstatistics(\n",
    "        response_generator=FDTDI_CPU, \n",
    "        frequency=data_frequencies_CPU, \n",
    "        data=data_channels, \n",
    "        invserse_covariance_matrix=InvCovMat, \n",
    "        response_parameters=response_kwargs_CPU, \n",
    "        use_gpu=False\n",
    "    )\n",
    "\n",
    "    def cost_function(norm_int_params):\n",
    "        \"\"\"   \n",
    "            norm_int_params: shape (Nparams), normalized to (0, 1)\n",
    "        \"\"\"\n",
    "        int_params = norm_int_params * (intrinsic_param_priors[:, 1] - intrinsic_param_priors[:, 0]) + intrinsic_param_priors[:, 0] # (Nparams)\n",
    "        params_in = Fstat.IntParamArr2ParamDict(int_params) # (Nparams) -> dictionary\n",
    "        return -Fstat.calculate_Fstat(intrinsic_parameters=params_in) # float\n",
    "\n",
    "    n_dim_int = 7 \n",
    "    lower_bounds = np.zeros(n_dim_int) \n",
    "    upper_bounds = np.ones(n_dim_int) \n",
    "    bounds = np.array([lower_bounds, upper_bounds]).T # (Nparams, 2)\n",
    "\n",
    "    DE_result = differential_evolution(\n",
    "        func=cost_function,\n",
    "        bounds=bounds,\n",
    "        x0=None,\n",
    "        strategy='best1exp',\n",
    "        # strategy='rand1bin',\n",
    "        maxiter=5000,\n",
    "        popsize=10*n_dim_int,\n",
    "        # popsize=6*n_dim_int, \n",
    "        tol=1e-7,\n",
    "        atol=1e-9,\n",
    "        # tol=1e-6,\n",
    "        # atol=1e-8,\n",
    "        mutation=(0.4, 0.95),\n",
    "        recombination=0.7,\n",
    "        disp=False,\n",
    "        polish=True,\n",
    "        # vectorized=True,\n",
    "        workers=-1, \n",
    "    )\n",
    "\n",
    "    searched_int_params = Fstat.IntParamArr2ParamDict(DE_result.x * (intrinsic_param_priors[:, 1] - intrinsic_param_priors[:, 0]) + intrinsic_param_priors[:, 0])\n",
    "\n",
    "    searched_a = Fstat.calculate_Fstat(\n",
    "        intrinsic_parameters=searched_int_params, \n",
    "        return_a=True, \n",
    "    ) # (1, 4)\n",
    "    searched_ext_params = Fstat.a_to_extrinsic(searched_a)\n",
    "\n",
    "    searched_params = dict(searched_int_params, **searched_ext_params)\n",
    "\n",
    "    def fisher_waveform_wrapper(param_dict, frequencies):\n",
    "        res = FDTDI_CPU.Response(\n",
    "            parameters=param_dict, \n",
    "            freqs=xp.array(frequencies),  \n",
    "            **response_kwargs_CPU, \n",
    "        )\n",
    "        return res\n",
    "\n",
    "    # set initial steps \n",
    "    analyze_param_step_dict = {\n",
    "        'chirp_mass': 10.,\n",
    "        'mass_ratio': 0.01,\n",
    "        'spin_1z': 0.01,\n",
    "        'spin_2z': 0.01,\n",
    "        'coalescence_time': 0.001,\n",
    "        'coalescence_phase': 0.01,\n",
    "        'luminosity_distance': 10.,\n",
    "        'inclination': 0.01,\n",
    "        'longitude': 0.01,\n",
    "        'latitude': 0.01,\n",
    "        'psi': 0.01\n",
    "        }\n",
    "    for k, v in analyze_param_step_dict.items():\n",
    "        analyze_param_step_dict[k] = -v \n",
    "\n",
    "    FIM = MultiChannelFisher(\n",
    "        waveform_generator=fisher_waveform_wrapper, \n",
    "        param_dict=mbhb_parameters, \n",
    "        # param_dict=searched_params, \n",
    "        analyze_param_step_dict=analyze_param_step_dict, \n",
    "        frequency=data_frequencies, \n",
    "        inverse_covariance=InvCovMat, \n",
    "        verbose=0,\n",
    "    )\n",
    "\n",
    "    FIM.auto_test_step()\n",
    "    FIM.calculate_Fisher()\n",
    "    FIM.calculate_errors() \n",
    "\n",
    "    truths_list.append(mbhb_parameters)\n",
    "    searched_list.append(searched_params)\n",
    "    FIM_bound_list.append(FIM.param_errors)"
   ]
  },
  {
   "cell_type": "code",
   "execution_count": null,
   "id": "9f3c30d4",
   "metadata": {},
   "outputs": [
    {
     "ename": "",
     "evalue": "",
     "output_type": "error",
     "traceback": [
      "\u001b[1;31mnotebook controller is DISPOSED. \n",
      "\u001b[1;31mView Jupyter <a href='command:jupyter.viewOutput'>log</a> for further details."
     ]
    },
    {
     "ename": "",
     "evalue": "",
     "output_type": "error",
     "traceback": [
      "\u001b[1;31mnotebook controller is DISPOSED. \n",
      "\u001b[1;31mView Jupyter <a href='command:jupyter.viewOutput'>log</a> for further details."
     ]
    }
   ],
   "source": [
    "bins = np.logspace(1.5, 4.5, 30)\n",
    "plt.hist(snr_list, bins=bins, density=False, facecolor=None, edgecolor=YELLOW, hatch=\"//\", histtype='step', lw=2); \n",
    "plt.xlabel(\"SNR\")\n",
    "plt.ylabel(\"number of MBHBs in bin\")\n",
    "plt.xscale(\"log\")"
   ]
  },
  {
   "cell_type": "code",
   "execution_count": null,
   "id": "71b7ccdd",
   "metadata": {},
   "outputs": [
    {
     "ename": "",
     "evalue": "",
     "output_type": "error",
     "traceback": [
      "\u001b[1;31mnotebook controller is DISPOSED. \n",
      "\u001b[1;31mView Jupyter <a href='command:jupyter.viewOutput'>log</a> for further details."
     ]
    },
    {
     "ename": "",
     "evalue": "",
     "output_type": "error",
     "traceback": [
      "\u001b[1;31mnotebook controller is DISPOSED. \n",
      "\u001b[1;31mView Jupyter <a href='command:jupyter.viewOutput'>log</a> for further details."
     ]
    }
   ],
   "source": [
    "Mc_list = np.array([paramdict[\"chirp_mass\"] for paramdict in truths_list])\n",
    "q_list = np.array([paramdict[\"mass_ratio\"] for paramdict in truths_list])\n",
    "s1_list = np.array([paramdict[\"spin_1z\"] for paramdict in truths_list])\n",
    "s2_list = np.array([paramdict[\"spin_2z\"] for paramdict in truths_list])\n",
    "tc_list = np.array([paramdict[\"coalescence_time\"] for paramdict in truths_list])\n",
    "dl_list = np.array([paramdict[\"luminosity_distance\"] for paramdict in truths_list])\n",
    "inc_list = np.array([paramdict[\"inclination\"] for paramdict in truths_list])\n",
    "lon_list = np.array([paramdict[\"longitude\"] for paramdict in truths_list])\n",
    "lat_list = np.array([paramdict[\"latitude\"] for paramdict in truths_list])\n",
    "\n",
    "Mc_list1 = np.array([paramdict[\"chirp_mass\"] for paramdict in searched_list])\n",
    "q_list1 = np.array([paramdict[\"mass_ratio\"] for paramdict in searched_list])\n",
    "s1_list1 = np.array([paramdict[\"spin_1z\"] for paramdict in searched_list])\n",
    "s2_list1 = np.array([paramdict[\"spin_2z\"] for paramdict in searched_list])\n",
    "tc_list1 = np.array([paramdict[\"coalescence_time\"] for paramdict in searched_list])\n",
    "dl_list1 = np.array([paramdict[\"luminosity_distance\"] for paramdict in searched_list])\n",
    "inc_list1 = np.array([paramdict[\"inclination\"] for paramdict in searched_list])\n",
    "lon_list1 = np.array([paramdict[\"longitude\"] for paramdict in searched_list])\n",
    "lat_list1 = np.array([paramdict[\"latitude\"] for paramdict in searched_list])\n",
    "\n",
    "Mc_list2 = np.array([paramdict[\"chirp_mass\"] for paramdict in FIM_bound_list])\n",
    "q_list2 = np.array([paramdict[\"mass_ratio\"] for paramdict in FIM_bound_list])\n",
    "s1_list2 = np.array([paramdict[\"spin_1z\"] for paramdict in FIM_bound_list])\n",
    "s2_list2 = np.array([paramdict[\"spin_2z\"] for paramdict in FIM_bound_list])\n",
    "tc_list2 = np.array([paramdict[\"coalescence_time\"] for paramdict in FIM_bound_list])\n",
    "dl_list2 = np.array([paramdict[\"luminosity_distance\"] for paramdict in FIM_bound_list])\n",
    "inc_list2 = np.array([paramdict[\"inclination\"] for paramdict in FIM_bound_list])\n",
    "lon_list2 = np.array([paramdict[\"longitude\"] for paramdict in FIM_bound_list])\n",
    "lat_list2 = np.array([paramdict[\"latitude\"] for paramdict in FIM_bound_list])"
   ]
  },
  {
   "cell_type": "code",
   "execution_count": null,
   "id": "26101b07",
   "metadata": {},
   "outputs": [
    {
     "ename": "",
     "evalue": "",
     "output_type": "error",
     "traceback": [
      "\u001b[1;31mnotebook controller is DISPOSED. \n",
      "\u001b[1;31mView Jupyter <a href='command:jupyter.viewOutput'>log</a> for further details."
     ]
    },
    {
     "ename": "",
     "evalue": "",
     "output_type": "error",
     "traceback": [
      "\u001b[1;31mnotebook controller is DISPOSED. \n",
      "\u001b[1;31mView Jupyter <a href='command:jupyter.viewOutput'>log</a> for further details."
     ]
    }
   ],
   "source": [
    "bins = np.linspace(-12, 12, 50)\n",
    "plt.hist((Mc_list1 - Mc_list) / Mc_list2, bins=bins, density=False, facecolor=None, edgecolor=RED, hatch=\"//\", histtype='step', lw=2, label=\"chirp mass\");\n",
    "plt.hist((q_list1 - q_list) / q_list2, bins=bins, density=False, facecolor=None, edgecolor=GREEN1, hatch=\"//\", histtype='step', lw=2, label=\"mass ratio\");\n",
    "plt.xlabel(r'$\\Delta \\theta / \\ \\sigma_{\\theta}$')\n",
    "plt.ylabel(\"number of MBHBs in bin\")\n",
    "plt.legend(loc=\"upper right\", frameon=False)"
   ]
  },
  {
   "cell_type": "code",
   "execution_count": null,
   "id": "02c4efd7",
   "metadata": {},
   "outputs": [
    {
     "ename": "",
     "evalue": "",
     "output_type": "error",
     "traceback": [
      "\u001b[1;31mnotebook controller is DISPOSED. \n",
      "\u001b[1;31mView Jupyter <a href='command:jupyter.viewOutput'>log</a> for further details."
     ]
    },
    {
     "ename": "",
     "evalue": "",
     "output_type": "error",
     "traceback": [
      "\u001b[1;31mnotebook controller is DISPOSED. \n",
      "\u001b[1;31mView Jupyter <a href='command:jupyter.viewOutput'>log</a> for further details."
     ]
    }
   ],
   "source": [
    "bins = np.linspace(-12, 12, 50)\n",
    "plt.hist((s1_list1 - s1_list) / s1_list2, bins=bins, density=False, facecolor=None, edgecolor=RED, hatch=\"//\", histtype='step', lw=2, label=\"spin 1\");\n",
    "plt.hist((s2_list1 - s2_list) / s2_list2, bins=bins, density=False, facecolor=None, edgecolor=GREEN1, hatch=\"//\", histtype='step', lw=2, label=\"spin 2\");\n",
    "plt.xlabel(r'$\\Delta \\theta / \\ \\sigma_{\\theta}$')\n",
    "plt.ylabel(\"number of MBHBs in bin\")\n",
    "plt.legend(loc=\"upper right\", frameon=False)"
   ]
  },
  {
   "cell_type": "code",
   "execution_count": null,
   "id": "60c97be7",
   "metadata": {},
   "outputs": [
    {
     "ename": "",
     "evalue": "",
     "output_type": "error",
     "traceback": [
      "\u001b[1;31mnotebook controller is DISPOSED. \n",
      "\u001b[1;31mView Jupyter <a href='command:jupyter.viewOutput'>log</a> for further details."
     ]
    },
    {
     "ename": "",
     "evalue": "",
     "output_type": "error",
     "traceback": [
      "\u001b[1;31mnotebook controller is DISPOSED. \n",
      "\u001b[1;31mView Jupyter <a href='command:jupyter.viewOutput'>log</a> for further details."
     ]
    }
   ],
   "source": [
    "bins = np.linspace(-100, 100, 50)\n",
    "plt.hist((lon_list1 - lon_list) / lon_list2, bins=bins, density=False, facecolor=None, edgecolor=RED, hatch=\"//\", histtype='step', lw=2, label=\"longitude\");\n",
    "plt.hist((lat_list1 - lat_list) / lat_list2, bins=bins, density=False, facecolor=None, edgecolor=GREEN1, hatch=\"//\", histtype='step', lw=2, label=\"latitude\");\n",
    "plt.xlabel(r'$\\Delta \\theta / \\ \\sigma_{\\theta}$')\n",
    "plt.ylabel(\"number of MBHBs in bin\")\n",
    "plt.legend(loc=\"upper right\", frameon=False)"
   ]
  },
  {
   "cell_type": "code",
   "execution_count": null,
   "id": "f0b154c9",
   "metadata": {},
   "outputs": [
    {
     "ename": "",
     "evalue": "",
     "output_type": "error",
     "traceback": [
      "\u001b[1;31mnotebook controller is DISPOSED. \n",
      "\u001b[1;31mView Jupyter <a href='command:jupyter.viewOutput'>log</a> for further details."
     ]
    },
    {
     "ename": "",
     "evalue": "",
     "output_type": "error",
     "traceback": [
      "\u001b[1;31mnotebook controller is DISPOSED. \n",
      "\u001b[1;31mView Jupyter <a href='command:jupyter.viewOutput'>log</a> for further details."
     ]
    }
   ],
   "source": [
    "bins = np.linspace(-100, 100, 50)\n",
    "plt.hist((dl_list1 - dl_list) / dl_list2, bins=bins, density=False, facecolor=None, edgecolor=RED, hatch=\"//\", histtype='step', lw=2, label=\"luminosity distance\");\n",
    "plt.hist((inc_list1 - inc_list) / inc_list2, bins=bins, density=False, facecolor=None, edgecolor=GREEN1, hatch=\"//\", histtype='step', lw=2, label=\"inclination\");\n",
    "plt.xlabel(r'$\\Delta \\theta / \\ \\sigma_{\\theta}$')\n",
    "plt.ylabel(\"number of MBHBs in bin\")\n",
    "plt.legend(loc=\"upper right\", frameon=False)"
   ]
  },
  {
   "cell_type": "code",
   "execution_count": null,
   "id": "3770c678",
   "metadata": {},
   "outputs": [
    {
     "ename": "",
     "evalue": "",
     "output_type": "error",
     "traceback": [
      "\u001b[1;31mnotebook controller is DISPOSED. \n",
      "\u001b[1;31mView Jupyter <a href='command:jupyter.viewOutput'>log</a> for further details."
     ]
    },
    {
     "ename": "",
     "evalue": "",
     "output_type": "error",
     "traceback": [
      "\u001b[1;31mnotebook controller is DISPOSED. \n",
      "\u001b[1;31mView Jupyter <a href='command:jupyter.viewOutput'>log</a> for further details."
     ]
    }
   ],
   "source": [
    "bins = np.linspace(-100, 100, 50)\n",
    "plt.hist((tc_list1 - tc_list) / tc_list2, bins=bins, density=False, facecolor=None, edgecolor=RED, hatch=\"//\", histtype='step', lw=2, label=\"coalescence time\");\n",
    "plt.xlabel(r'$\\Delta \\theta / \\ \\sigma_{\\theta}$')\n",
    "plt.ylabel(\"number of MBHBs in bin\")\n",
    "plt.legend(loc=\"upper right\", frameon=False)"
   ]
  },
  {
   "cell_type": "code",
   "execution_count": null,
   "id": "cc5d7ef7",
   "metadata": {},
   "outputs": [
    {
     "ename": "",
     "evalue": "",
     "output_type": "error",
     "traceback": [
      "\u001b[1;31mnotebook controller is DISPOSED. \n",
      "\u001b[1;31mView Jupyter <a href='command:jupyter.viewOutput'>log</a> for further details."
     ]
    },
    {
     "ename": "",
     "evalue": "",
     "output_type": "error",
     "traceback": [
      "\u001b[1;31mnotebook controller is DISPOSED. \n",
      "\u001b[1;31mView Jupyter <a href='command:jupyter.viewOutput'>log</a> for further details."
     ]
    }
   ],
   "source": []
  }
 ],
 "metadata": {
  "kernelspec": {
   "display_name": "tri_env",
   "language": "python",
   "name": "python3"
  },
  "language_info": {
   "codemirror_mode": {
    "name": "ipython",
    "version": 3
   },
   "file_extension": ".py",
   "mimetype": "text/x-python",
   "name": "python",
   "nbconvert_exporter": "python",
   "pygments_lexer": "ipython3",
   "version": "3.9.19"
  }
 },
 "nbformat": 4,
 "nbformat_minor": 5
}
