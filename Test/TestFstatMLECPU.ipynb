{
 "cells": [
  {
   "cell_type": "code",
   "execution_count": 1,
   "id": "6cddc048",
   "metadata": {},
   "outputs": [
    {
     "name": "stderr",
     "output_type": "stream",
     "text": [
      "PyCBC.libutils: pkg-config call failed, setting NO_PKGCONFIG=1\n"
     ]
    },
    {
     "name": "stdout",
     "output_type": "stream",
     "text": [
      "no cupy \n",
      "no cupy\n",
      "No CuPy or GPU PhenomHM module.\n",
      "has BBHx waveform\n"
     ]
    }
   ],
   "source": [
    "# limit the thread used by numpy \n",
    "import os\n",
    "os.environ[\"OMP_NUM_THREADS\"] = \"1\"\n",
    "os.environ[\"OPENBLAS_NUM_THREADS\"] = \"1\"\n",
    "os.environ[\"MKL_NUM_THREADS\"] = \"1\"\n",
    "os.environ[\"NUMEXPR_NUM_THREADS\"] = \"1\"\n",
    "os.environ[\"VECLIB_MAXIMUM_THREADS\"] = \"1\"  \n",
    "\n",
    "import numpy as np\n",
    "import scipy.interpolate as interp \n",
    "try:\n",
    "    import cupy as xp\n",
    "    import cupyx.scipy.interpolate as xinterp\n",
    "    # print(\"has cupy\")\n",
    "except (ImportError, ModuleNotFoundError) as e:\n",
    "    import numpy as xp\n",
    "    import scipy.interpolate as xinterp  \n",
    "    # print(\"no cupy\")\n",
    "\n",
    "from tqdm import tqdm\n",
    "import pickle\n",
    "import matplotlib.pyplot as plt\n",
    "# import matplotlib\n",
    "# matplotlib.rcParams['text.usetex'] = True\n",
    "# matplotlib.rcParams['font.family'] = 'serif'\n",
    "\n",
    "from Triangle.Constants import *\n",
    "from Triangle.Orbit import * \n",
    "from Triangle.Noise import *\n",
    "from Triangle.FFTTools import *\n",
    "from Triangle.TDI import *\n",
    "from Triangle.Data import * \n",
    "\n",
    "from Triangle_BBH.Waveform import * \n",
    "from Triangle_BBH.Response import FDTDIResponseGenerator\n",
    "from Triangle_BBH.Utils import Likelihood, Fstatistics\n",
    "from Triangle_BBH.Fisher import *\n",
    "\n",
    "import multiprocessing\n",
    "if __name__=='__main__':\n",
    "    multiprocessing.set_start_method(\"fork\")\n",
    "\n",
    "# np.random.seed(114514)\n",
    "# xp.random.seed(114514)"
   ]
  },
  {
   "cell_type": "markdown",
   "id": "b74073cc",
   "metadata": {},
   "source": [
    "## Data settings "
   ]
  },
  {
   "cell_type": "code",
   "execution_count": 2,
   "id": "61cc324f",
   "metadata": {},
   "outputs": [
    {
     "data": {
      "text/plain": [
       "(10801,)"
      ]
     },
     "execution_count": 2,
     "metadata": {},
     "output_type": "execute_result"
    }
   ],
   "source": [
    "t_start = 150. * DAY # start time in s\n",
    "Tobs = 5. * DAY # data length in s \n",
    "t_end = t_start + Tobs # end time in s \n",
    "dt = 20. # time cadance in s \n",
    "fsample = 1. / dt # sampling rate in Hz \n",
    "data_frequencies_full = np.fft.rfftfreq(n=int(Tobs/dt), d=dt) # frequecies where waveform will be calculated \n",
    "delta_f = 1. / Tobs\n",
    "\n",
    "data_frequencies_full.shape "
   ]
  },
  {
   "cell_type": "code",
   "execution_count": 3,
   "id": "ee935e4e",
   "metadata": {},
   "outputs": [
    {
     "data": {
      "text/plain": [
       "((10666,), (10666,))"
      ]
     },
     "execution_count": 3,
     "metadata": {},
     "output_type": "execute_result"
    }
   ],
   "source": [
    "# mask the \"null\" frequencies, which may cause singularity in the calculation of likelihood \n",
    "mask = np.ones_like(data_frequencies_full, dtype=bool)\n",
    "for i in range(1, 50): \n",
    "    mask_idx = np.where(np.abs(data_frequencies_full - i*0.025)<i*3e-4)[0]\n",
    "    mask[mask_idx] = False \n",
    "\n",
    "# remove the frequencies below Taiji sensitive band \n",
    "mask_idx = np.where(data_frequencies_full < 1e-5)[0]\n",
    "mask[mask_idx] = False \n",
    "\n",
    "data_frequencies = data_frequencies_full[mask]\n",
    "data_frequencies_CPU = xp.array(data_frequencies)\n",
    "\n",
    "valid_idx = np.where(mask == True)[0]\n",
    "\n",
    "data_frequencies.shape, valid_idx.shape "
   ]
  },
  {
   "cell_type": "markdown",
   "id": "ace36ac2",
   "metadata": {},
   "source": [
    "## Set response model "
   ]
  },
  {
   "cell_type": "code",
   "execution_count": 4,
   "id": "e526180f",
   "metadata": {},
   "outputs": [],
   "source": [
    "# the path of Taiji orbit \n",
    "orbit_CPU = Orbit(OrbitDir=\"/Users/taijidatacenter/Triangle-Simulator/OrbitData/MicroSateOrbitEclipticTCB\") \n",
    "\n",
    "# initialize  waveform generator \n",
    "WFG_CPU = WaveformGenerator(\n",
    "    mode=\"primary\", \n",
    ")\n",
    "\n",
    "# initialize response generator \n",
    "FDTDI_CPU = FDTDIResponseGenerator(\n",
    "    orbit_class=orbit_CPU, \n",
    "    waveform_generator=WFG_CPU, \n",
    ")\n",
    "\n",
    "# response settings \n",
    "response_kwargs_CPU = dict(\n",
    "    modes=[(2, 2)], \n",
    "    tmin=t_start / DAY, # start time in day \n",
    "    tmax=t_end / DAY, # end time in day  \n",
    "    tc_at_constellation=True, # whether tc is the coalescence time at constellation center (True) or SSB (False)\n",
    "    TDIGeneration='2nd',\n",
    "    optimal_combination=True, # True for AET, False for XYZ \n",
    "    output_by_mode=False, \n",
    ")"
   ]
  },
  {
   "cell_type": "markdown",
   "id": "77fef4d2",
   "metadata": {},
   "source": [
    "## Source parameter priors "
   ]
  },
  {
   "cell_type": "code",
   "execution_count": 5,
   "id": "b639bbfe",
   "metadata": {},
   "outputs": [
    {
     "data": {
      "text/plain": [
       "array([[ 5.50000000e+00,  6.50000000e+00],\n",
       "       [ 1.00000000e-01,  1.00000000e+00],\n",
       "       [-9.00000000e-01,  9.00000000e-01],\n",
       "       [-9.00000000e-01,  9.00000000e-01],\n",
       "       [ 1.53750000e+02,  1.54000000e+02],\n",
       "       [ 0.00000000e+00,  6.28318531e+00],\n",
       "       [-1.00000000e+00,  1.00000000e+00]])"
      ]
     },
     "execution_count": 5,
     "metadata": {},
     "output_type": "execute_result"
    }
   ],
   "source": [
    "lgMc_prior = [5.5, 6.5]\n",
    "q_prior = [0.1, 1]\n",
    "s1_prior = [-0.9, 0.9]\n",
    "s2_prior = [-0.9, 0.9]\n",
    "tc_prior = [(t_start + 0.75 * Tobs) / DAY, t_end / DAY - 1.] # ensure the inclusion of long enough GW waveform \n",
    "lam_prior = [0, TWOPI]\n",
    "sinbeta_prior = [-1., 1.]\n",
    "intrinsic_param_priors = np.array([\n",
    "    lgMc_prior, \n",
    "    q_prior, \n",
    "    s1_prior, \n",
    "    s2_prior, \n",
    "    tc_prior, \n",
    "    lam_prior, \n",
    "    sinbeta_prior, \n",
    "])\n",
    "\n",
    "lgdl_prior = [4., 5.]\n",
    "\n",
    "intrinsic_param_priors"
   ]
  },
  {
   "cell_type": "markdown",
   "id": "40b53c1b",
   "metadata": {},
   "source": [
    "## Noise model "
   ]
  },
  {
   "cell_type": "code",
   "execution_count": 6,
   "id": "c36a4c09",
   "metadata": {},
   "outputs": [
    {
     "data": {
      "text/plain": [
       "((3, 10666), (10666, 3, 3))"
      ]
     },
     "execution_count": 6,
     "metadata": {},
     "output_type": "execute_result"
    }
   ],
   "source": [
    "arm_time = np.mean(intrinsic_param_priors[4]) * DAY \n",
    "arms = dict()\n",
    "for key in MOSA_labels:\n",
    "    arms[key] = orbit_CPU.LTTfunctions()[key](arm_time)\n",
    "\n",
    "# theoretical PSDs at the given armlengths \n",
    "PSDfunc = TDIPSDs()\n",
    "PSD_channels = np.array([\n",
    "    PSDfunc.PSD_A2_unequal(data_frequencies, arms), \n",
    "    PSDfunc.PSD_E2_unequal(data_frequencies, arms), \n",
    "    PSDfunc.PSD_T2_unequal(data_frequencies, arms)\n",
    "])\n",
    "\n",
    "# covariance matrix \n",
    "CovMat = np.array([\n",
    "    [PSD_channels[0], np.zeros_like(PSD_channels[0]), np.zeros_like(PSD_channels[0])],\n",
    "    [np.zeros_like(PSD_channels[0]), PSD_channels[1], np.zeros_like(PSD_channels[0])],\n",
    "    [np.zeros_like(PSD_channels[0]), np.zeros_like(PSD_channels[0]), PSD_channels[2]]\n",
    "]) / 4. / delta_f # (3, 3, Nf)\n",
    "\n",
    "# inverse of covmatrix\n",
    "InvCovMat = np.linalg.inv(np.transpose(CovMat, (2, 0, 1))) # (Nf, 3, 3)\n",
    "InvCovMat[:, 2, 2] *= 0. # use A, E channels only in the following analysis \n",
    "\n",
    "PSD_channels.shape, InvCovMat.shape "
   ]
  },
  {
   "cell_type": "markdown",
   "id": "f44220a0",
   "metadata": {},
   "source": [
    "## Data simulation "
   ]
  },
  {
   "cell_type": "code",
   "execution_count": 22,
   "id": "6488d635",
   "metadata": {},
   "outputs": [
    {
     "name": "stdout",
     "output_type": "stream",
     "text": [
      "source parameters:\n",
      "chirp_mass : 998626.6820796367\n",
      "mass_ratio : 0.674918783744337\n",
      "spin_1z : 0.02751345484818335\n",
      "spin_2z : 0.6292450990663595\n",
      "coalescence_time : 153.77346556976977\n",
      "coalescence_phase : 0.8680110939757163\n",
      "luminosity_distance : 15949.678292909515\n",
      "inclination : 1.877886106319298\n",
      "longitude : 0.9779279233677147\n",
      "latitude : -0.06762628180610891\n",
      "psi : 0.5302081596852963\n",
      "optimal SNR: 4545.117043602688\n"
     ]
    }
   ],
   "source": [
    "# generate source parameter and clean signal \n",
    "mbhb_parameters = {\n",
    "    'chirp_mass': np.power(10., np.random.uniform(lgMc_prior[0], lgMc_prior[1])), \n",
    "    'mass_ratio': np.random.uniform(q_prior[0], q_prior[1]), \n",
    "    'spin_1z': np.random.uniform(s1_prior[0], s1_prior[1]),\n",
    "    'spin_2z': np.random.uniform(s2_prior[0], s2_prior[1]),\n",
    "    'coalescence_time': np.random.uniform(tc_prior[0], tc_prior[1]), \n",
    "    'coalescence_phase': np.random.uniform(0, TWOPI),\n",
    "    'luminosity_distance': np.power(10., np.random.uniform(lgdl_prior[0], lgdl_prior[1])), \n",
    "    'inclination': np.arccos(np.random.uniform(-1., 1.)), # [rad]\n",
    "    'longitude': np.random.uniform(lam_prior[0], lam_prior[1]), # [rad]\n",
    "    'latitude': np.arcsin(np.random.uniform(sinbeta_prior[0], sinbeta_prior[1])), # [rad]\n",
    "    'psi': np.random.uniform(0, PI) # [rad]\n",
    "    }\n",
    "wf_channels = FDTDI_CPU.Response(mbhb_parameters, data_frequencies_CPU, **response_kwargs_CPU)\n",
    "\n",
    "# generate frequency-domain noises \n",
    "Re_tmp = np.random.normal(scale=np.sqrt(PSD_channels / 4. / delta_f))\n",
    "Im_tmp = np.random.normal(scale=np.sqrt(PSD_channels / 4. / delta_f))\n",
    "noise_channels = xp.array(Re_tmp + 1.j * Im_tmp) \n",
    "\n",
    "# combine signal and noise \n",
    "data_channels = wf_channels + noise_channels \n",
    "\n",
    "opt_SNR = FrequencyDomainCovarianceSNR(wf_channels, InvCovMat)\n",
    "\n",
    "print(\"source parameters:\")\n",
    "for k, v in mbhb_parameters.items():\n",
    "    print(k, \":\", v)\n",
    "print(\"optimal SNR:\", opt_SNR)"
   ]
  },
  {
   "cell_type": "code",
   "execution_count": null,
   "id": "32be1c6d",
   "metadata": {},
   "outputs": [
    {
     "data": {
      "text/plain": [
       "Text(0, 0.5, 'Frequency-domain data (1/Hz)')"
      ]
     },
     "execution_count": 8,
     "metadata": {},
     "output_type": "execute_result"
    },
    {
     "data": {
      "image/png": "[encoded data removed]",
      "text/plain": [
       "<Figure size 640x480 with 1 Axes>"
      ]
     },
     "metadata": {},
     "output_type": "display_data"
    },
    {
     "ename": "",
     "evalue": "",
     "output_type": "error",
     "traceback": [
      "\u001b[1;31mnotebook controller is DISPOSED. \n",
      "\u001b[1;31mView Jupyter <a href='command:jupyter.viewOutput'>log</a> for further details."
     ]
    }
   ],
   "source": [
    "for ichannel, nchannel in enumerate([\"A\", \"E\", \"T\"]): \n",
    "    plt.loglog(data_frequencies, np.abs(data_channels[ichannel]), linewidth=1, alpha=0.5, color=BLUE)\n",
    "    plt.loglog(data_frequencies, np.abs(wf_channels[ichannel]), color=RED, linestyle=\":\")\n",
    "    plt.loglog(data_frequencies, np.sqrt(PSD_channels[ichannel] * Tobs / 2.), color=\"grey\", linestyle=\"--\")\n",
    "plt.xlabel(\"Frequency (Hz)\")\n",
    "plt.ylabel(\"Frequency-domain data (1/Hz)\")"
   ]
  },
  {
   "cell_type": "markdown",
   "id": "fb44d8a2",
   "metadata": {},
   "source": [
    "## MLE with  $\\mathcal{F}$-stat "
   ]
  },
  {
   "cell_type": "code",
   "execution_count": null,
   "id": "fb51309d",
   "metadata": {},
   "outputs": [
    {
     "name": "stdout",
     "output_type": "stream",
     "text": [
      "number of freuqncies: 10666\n",
      "min and max frequencies: 1.1574074074074073e-05 0.024699074074074075\n",
      "response kwargs: {'modes': [(2, 2)], 'tmin': 150.0, 'tmax': 155.0, 'tc_at_constellation': True, 'TDIGeneration': '2nd', 'optimal_combination': True, 'output_by_mode': False}\n"
     ]
    },
    {
     "ename": "",
     "evalue": "",
     "output_type": "error",
     "traceback": [
      "\u001b[1;31mnotebook controller is DISPOSED. \n",
      "\u001b[1;31mView Jupyter <a href='command:jupyter.viewOutput'>log</a> for further details."
     ]
    }
   ],
   "source": [
    "Fstat = Fstatistics(\n",
    "    response_generator=FDTDI_CPU, \n",
    "    frequency=data_frequencies_CPU, \n",
    "    data=data_channels, \n",
    "    invserse_covariance_matrix=InvCovMat, \n",
    "    response_parameters=response_kwargs_CPU, \n",
    "    use_gpu=False\n",
    ")"
   ]
  },
  {
   "cell_type": "markdown",
   "id": "f9a4bdec",
   "metadata": {},
   "source": [
    "### test waveform and parameter recovery"
   ]
  },
  {
   "cell_type": "code",
   "execution_count": null,
   "id": "13c102f2",
   "metadata": {},
   "outputs": [
    {
     "data": {
      "text/plain": [
       "{'chirp_mass': 2221671.328415335,\n",
       " 'mass_ratio': 0.14997230522807517,\n",
       " 'spin_1z': -0.2561090835971873,\n",
       " 'spin_2z': 0.8657479421979216,\n",
       " 'coalescence_time': 153.82645996384352,\n",
       " 'longitude': 3.296926192714832,\n",
       " 'latitude': 0.24523189736411}"
      ]
     },
     "execution_count": 10,
     "metadata": {},
     "output_type": "execute_result"
    },
    {
     "ename": "",
     "evalue": "",
     "output_type": "error",
     "traceback": [
      "\u001b[1;31mnotebook controller is DISPOSED. \n",
      "\u001b[1;31mView Jupyter <a href='command:jupyter.viewOutput'>log</a> for further details."
     ]
    }
   ],
   "source": [
    "int_params = dict()\n",
    "for key in Fstatistics.intrinsic_parameter_names:\n",
    "    int_params[key] = mbhb_parameters[key]\n",
    "int_params"
   ]
  },
  {
   "cell_type": "code",
   "execution_count": null,
   "id": "8411866e",
   "metadata": {},
   "outputs": [
    {
     "name": "stdout",
     "output_type": "stream",
     "text": [
      "parameter name | true value | difference\n",
      "luminosity_distance : 35963.345400513535 258.75614731250243\n",
      "inclination : 2.1781544930468644 0.006362038110969248\n",
      "psi : 0.5906929767241804 0.007030027320035881\n",
      "coalescence_phase : 3.112943360425963 3.1345020718152106\n"
     ]
    },
    {
     "ename": "",
     "evalue": "",
     "output_type": "error",
     "traceback": [
      "\u001b[1;31mnotebook controller is DISPOSED. \n",
      "\u001b[1;31mView Jupyter <a href='command:jupyter.viewOutput'>log</a> for further details."
     ]
    }
   ],
   "source": [
    "rec_a = Fstat.calculate_Fstat(\n",
    "    intrinsic_parameters=int_params, \n",
    "    return_a=True, \n",
    ")\n",
    "# print(rec_a.shape)\n",
    "\n",
    "rec_ext_params = Fstat.a_to_extrinsic(rec_a)\n",
    "\n",
    "rec_params = dict(int_params, **rec_ext_params)\n",
    "\n",
    "print(\"parameter name | true value | difference\")\n",
    "for k, v in rec_ext_params.items():\n",
    "    print(k, \":\", mbhb_parameters[k], v-mbhb_parameters[k])"
   ]
  },
  {
   "cell_type": "code",
   "execution_count": null,
   "id": "97ef0c18",
   "metadata": {},
   "outputs": [
    {
     "data": {
      "text/plain": [
       "((3, 10666), (3, 10666))"
      ]
     },
     "execution_count": 12,
     "metadata": {},
     "output_type": "execute_result"
    },
    {
     "ename": "",
     "evalue": "",
     "output_type": "error",
     "traceback": [
      "\u001b[1;31mnotebook controller is DISPOSED. \n",
      "\u001b[1;31mView Jupyter <a href='command:jupyter.viewOutput'>log</a> for further details."
     ]
    }
   ],
   "source": [
    "rec_wave1 = FDTDI_CPU.Response(\n",
    "    rec_params, \n",
    "    data_frequencies_CPU, \n",
    "    **response_kwargs_CPU\n",
    ")\n",
    "\n",
    "rec_wave2 = Fstat.calculate_Fstat(\n",
    "    intrinsic_parameters=int_params, \n",
    "    return_recovered_wave=True, \n",
    ")\n",
    "\n",
    "rec_wave1.shape, rec_wave2.shape "
   ]
  },
  {
   "cell_type": "code",
   "execution_count": null,
   "id": "be2ecd71",
   "metadata": {},
   "outputs": [
    {
     "data": {
      "text/plain": [
       "(1e-25, 2.855723386322536e-17)"
      ]
     },
     "execution_count": 13,
     "metadata": {},
     "output_type": "execute_result"
    },
    {
     "data": {
      "image/png": "[encoded data removed]",
      "text/plain": [
       "<Figure size 640x480 with 1 Axes>"
      ]
     },
     "metadata": {},
     "output_type": "display_data"
    },
    {
     "ename": "",
     "evalue": "",
     "output_type": "error",
     "traceback": [
      "\u001b[1;31mnotebook controller is DISPOSED. \n",
      "\u001b[1;31mView Jupyter <a href='command:jupyter.viewOutput'>log</a> for further details."
     ]
    }
   ],
   "source": [
    "plt.loglog(data_frequencies_CPU, np.abs(rec_wave1[0]))\n",
    "plt.loglog(data_frequencies_CPU, np.abs(rec_wave2[0]), linestyle=\"--\")\n",
    "plt.loglog(data_frequencies_CPU, np.abs(rec_wave1[0] - rec_wave2[0]))\n",
    "plt.ylim(1e-25,)"
   ]
  },
  {
   "cell_type": "code",
   "execution_count": null,
   "id": "7cacc0fe",
   "metadata": {},
   "outputs": [
    {
     "data": {
      "text/plain": [
       "<matplotlib.legend.Legend at 0x14a3eb790>"
      ]
     },
     "execution_count": 14,
     "metadata": {},
     "output_type": "execute_result"
    },
    {
     "data": {
      "image/png": "[encoded data removed]",
      "text/plain": [
       "<Figure size 640x480 with 1 Axes>"
      ]
     },
     "metadata": {},
     "output_type": "display_data"
    },
    {
     "ename": "",
     "evalue": "",
     "output_type": "error",
     "traceback": [
      "\u001b[1;31mnotebook controller is DISPOSED. \n",
      "\u001b[1;31mView Jupyter <a href='command:jupyter.viewOutput'>log</a> for further details."
     ]
    }
   ],
   "source": [
    "plt.loglog(data_frequencies, np.abs(wf_channels[0]) * data_frequencies, label=\"original waveform\")\n",
    "plt.loglog(data_frequencies, np.abs(rec_wave1[0]) * data_frequencies, linestyle=\"--\", label=\"reconstructed waveform\")\n",
    "plt.loglog(data_frequencies, np.abs(rec_wave1[0] - wf_channels[0]) * data_frequencies, label=\"difference via param\")\n",
    "plt.loglog(data_frequencies, np.abs(rec_wave2[0] - wf_channels[0]) * data_frequencies, label=\"difference via a\", linestyle=\"--\")\n",
    "plt.loglog(data_frequencies, np.sqrt(PSD_channels[0] * 2. * data_frequencies), label=\"noise\")\n",
    "plt.ylim(1e-25,)\n",
    "\n",
    "plt.xlabel(\"Frequency (Hz)\")\n",
    "plt.ylabel(\"Characteristic Strain\")\n",
    "plt.legend(loc=\"upper left\", frameon=False)"
   ]
  },
  {
   "cell_type": "markdown",
   "id": "bc92a26b",
   "metadata": {},
   "source": [
    "### optimization from prior "
   ]
  },
  {
   "cell_type": "code",
   "execution_count": null,
   "id": "dd884ae6",
   "metadata": {},
   "outputs": [
    {
     "name": "stderr",
     "output_type": "stream",
     "text": [
      "/Users/taijidatacenter/miniconda3/envs/tri_env/lib/python3.9/site-packages/scipy/optimize/_differentialevolution.py:487: UserWarning: differential_evolution: the 'workers' keyword has overridden updating='immediate' to updating='deferred'\n",
      "  with DifferentialEvolutionSolver(func, bounds, args=args,\n"
     ]
    },
    {
     "name": "stdout",
     "output_type": "stream",
     "text": [
      "differential_evolution step 1: f(x)= -100356.50097872558\n",
      "differential_evolution step 2: f(x)= -110018.11098987069\n",
      "differential_evolution step 3: f(x)= -113152.29900649397\n",
      "differential_evolution step 4: f(x)= -113152.29900649397\n",
      "differential_evolution step 5: f(x)= -113154.96739501988\n",
      "differential_evolution step 6: f(x)= -113154.96739501988\n",
      "differential_evolution step 7: f(x)= -113154.96739501988\n",
      "differential_evolution step 8: f(x)= -117453.2075419433\n",
      "differential_evolution step 9: f(x)= -117453.2075419433\n",
      "differential_evolution step 10: f(x)= -117453.2075419433\n",
      "differential_evolution step 11: f(x)= -117453.2075419433\n",
      "differential_evolution step 12: f(x)= -117453.2075419433\n",
      "differential_evolution step 13: f(x)= -119262.51031142272\n",
      "differential_evolution step 14: f(x)= -119333.51785190102\n",
      "differential_evolution step 15: f(x)= -119333.51785190102\n",
      "differential_evolution step 16: f(x)= -119333.51785190102\n",
      "differential_evolution step 17: f(x)= -119793.72611966106\n",
      "differential_evolution step 18: f(x)= -119793.72611966106\n",
      "differential_evolution step 19: f(x)= -120748.10398017234\n",
      "differential_evolution step 20: f(x)= -120748.10398017234\n",
      "differential_evolution step 21: f(x)= -121095.57014223139\n",
      "differential_evolution step 22: f(x)= -121095.57014223139\n",
      "differential_evolution step 23: f(x)= -121095.57014223139\n",
      "differential_evolution step 24: f(x)= -121160.25451560362\n",
      "differential_evolution step 25: f(x)= -121160.25451560362\n",
      "differential_evolution step 26: f(x)= -121220.72807327032\n",
      "differential_evolution step 27: f(x)= -121220.72807327032\n",
      "differential_evolution step 28: f(x)= -122072.71392986392\n",
      "differential_evolution step 29: f(x)= -122331.63900995106\n",
      "differential_evolution step 30: f(x)= -122331.63900995106\n",
      "differential_evolution step 31: f(x)= -122331.63900995106\n",
      "differential_evolution step 32: f(x)= -122331.63900995106\n",
      "differential_evolution step 33: f(x)= -122331.63900995106\n",
      "differential_evolution step 34: f(x)= -122331.63900995106\n",
      "differential_evolution step 35: f(x)= -122331.63900995106\n",
      "differential_evolution step 36: f(x)= -122331.63900995106\n",
      "differential_evolution step 37: f(x)= -122331.63900995106\n",
      "differential_evolution step 38: f(x)= -122334.43129119277\n",
      "differential_evolution step 39: f(x)= -122334.43129119277\n",
      "differential_evolution step 40: f(x)= -122360.46628378931\n",
      "differential_evolution step 41: f(x)= -122394.73495092966\n",
      "differential_evolution step 42: f(x)= -122394.73495092966\n",
      "differential_evolution step 43: f(x)= -122394.73495092966\n",
      "differential_evolution step 44: f(x)= -122394.73495092966\n",
      "differential_evolution step 45: f(x)= -122394.73495092966\n",
      "differential_evolution step 46: f(x)= -122394.73495092966\n",
      "differential_evolution step 47: f(x)= -122394.73495092966\n",
      "differential_evolution step 48: f(x)= -122394.73495092966\n",
      "differential_evolution step 49: f(x)= -122511.44761654078\n",
      "differential_evolution step 50: f(x)= -122511.44761654078\n",
      "differential_evolution step 51: f(x)= -122511.44761654078\n",
      "differential_evolution step 52: f(x)= -122511.44761654078\n",
      "differential_evolution step 53: f(x)= -122511.44761654078\n",
      "differential_evolution step 54: f(x)= -122511.44761654078\n",
      "differential_evolution step 55: f(x)= -122511.44761654078\n",
      "differential_evolution step 56: f(x)= -122543.21546379894\n",
      "differential_evolution step 57: f(x)= -122543.21546379894\n",
      "differential_evolution step 58: f(x)= -122543.21546379894\n",
      "differential_evolution step 59: f(x)= -122543.21546379894\n",
      "differential_evolution step 60: f(x)= -122543.21546379894\n",
      "differential_evolution step 61: f(x)= -122543.21546379894\n",
      "differential_evolution step 62: f(x)= -122543.21546379894\n",
      "differential_evolution step 63: f(x)= -122543.21546379894\n",
      "differential_evolution step 64: f(x)= -122543.21546379894\n",
      "differential_evolution step 65: f(x)= -122543.21546379894\n",
      "differential_evolution step 66: f(x)= -122543.21546379894\n",
      "differential_evolution step 67: f(x)= -122543.21546379894\n",
      "differential_evolution step 68: f(x)= -122543.21546379894\n",
      "differential_evolution step 69: f(x)= -122543.21546379894\n",
      "differential_evolution step 70: f(x)= -122543.21546379894\n",
      "differential_evolution step 71: f(x)= -122543.21546379894\n",
      "differential_evolution step 72: f(x)= -122543.21546379894\n",
      "differential_evolution step 73: f(x)= -122543.21546379894\n",
      "differential_evolution step 74: f(x)= -122543.21546379894\n",
      "differential_evolution step 75: f(x)= -122544.92937600164\n",
      "differential_evolution step 76: f(x)= -122544.92937600164\n",
      "differential_evolution step 77: f(x)= -122544.92937600164\n",
      "differential_evolution step 78: f(x)= -122544.92937600164\n",
      "differential_evolution step 79: f(x)= -122544.92937600164\n",
      "differential_evolution step 80: f(x)= -122544.92937600164\n",
      "differential_evolution step 81: f(x)= -122544.92937600164\n",
      "differential_evolution step 82: f(x)= -122544.92937600164\n",
      "differential_evolution step 83: f(x)= -122544.92937600164\n",
      "differential_evolution step 84: f(x)= -122544.92937600164\n",
      "differential_evolution step 85: f(x)= -122546.18160243798\n",
      "differential_evolution step 86: f(x)= -122546.18160243798\n",
      "differential_evolution step 87: f(x)= -122546.18160243798\n",
      "differential_evolution step 88: f(x)= -122546.18160243798\n",
      "differential_evolution step 89: f(x)= -122547.13227909648\n",
      "differential_evolution step 90: f(x)= -122547.3137515476\n",
      "differential_evolution step 91: f(x)= -122547.3137515476\n",
      "differential_evolution step 92: f(x)= -122547.3137515476\n",
      "differential_evolution step 93: f(x)= -122547.3137515476\n",
      "differential_evolution step 94: f(x)= -122547.3137515476\n",
      "differential_evolution step 95: f(x)= -122547.86633456894\n",
      "differential_evolution step 96: f(x)= -122549.57568826187\n",
      "differential_evolution step 97: f(x)= -122549.57568826187\n",
      "differential_evolution step 98: f(x)= -122549.7333535642\n",
      "differential_evolution step 99: f(x)= -122549.8139133009\n",
      "differential_evolution step 100: f(x)= -122549.8139133009\n",
      "differential_evolution step 101: f(x)= -122549.8139133009\n",
      "differential_evolution step 102: f(x)= -122549.8139133009\n",
      "differential_evolution step 103: f(x)= -122549.8139133009\n",
      "differential_evolution step 104: f(x)= -122549.8139133009\n",
      "differential_evolution step 105: f(x)= -122549.8139133009\n",
      "differential_evolution step 106: f(x)= -122549.88156291199\n",
      "differential_evolution step 107: f(x)= -122549.88156291199\n",
      "differential_evolution step 108: f(x)= -122549.88156291199\n",
      "differential_evolution step 109: f(x)= -122549.88156291199\n",
      "differential_evolution step 110: f(x)= -122549.88156291199\n",
      "differential_evolution step 111: f(x)= -122550.66769523248\n",
      "differential_evolution step 112: f(x)= -122550.66769523248\n",
      "differential_evolution step 113: f(x)= -122550.66769523248\n",
      "differential_evolution step 114: f(x)= -122550.66769523248\n",
      "differential_evolution step 115: f(x)= -122550.66769523248\n",
      "differential_evolution step 116: f(x)= -122550.66769523248\n",
      "differential_evolution step 117: f(x)= -122550.66769523248\n",
      "differential_evolution step 118: f(x)= -122550.85118008766\n",
      "differential_evolution step 119: f(x)= -122550.85118008766\n",
      "differential_evolution step 120: f(x)= -122550.85118008766\n",
      "differential_evolution step 121: f(x)= -122550.92588616018\n",
      "differential_evolution step 122: f(x)= -122550.92588616018\n",
      "differential_evolution step 123: f(x)= -122550.92588616018\n",
      "differential_evolution step 124: f(x)= -122550.92588616018\n",
      "differential_evolution step 125: f(x)= -122550.92588616018\n",
      "differential_evolution step 126: f(x)= -122551.43980505617\n",
      "differential_evolution step 127: f(x)= -122551.43980505617\n",
      "differential_evolution step 128: f(x)= -122551.43980505617\n",
      "differential_evolution step 129: f(x)= -122551.43980505617\n",
      "differential_evolution step 130: f(x)= -122551.48093662386\n",
      "differential_evolution step 131: f(x)= -122551.48093662386\n",
      "differential_evolution step 132: f(x)= -122551.48093662386\n",
      "differential_evolution step 133: f(x)= -122551.48093662386\n",
      "differential_evolution step 134: f(x)= -122551.63710229563\n",
      "differential_evolution step 135: f(x)= -122551.63710229563\n",
      "differential_evolution step 136: f(x)= -122551.63710229563\n",
      "differential_evolution step 137: f(x)= -122551.63710229563\n",
      "differential_evolution step 138: f(x)= -122551.63710229563\n",
      "differential_evolution step 139: f(x)= -122551.66116901457\n",
      "differential_evolution step 140: f(x)= -122551.66116901457\n",
      "differential_evolution step 141: f(x)= -122551.66116901457\n",
      "differential_evolution step 142: f(x)= -122551.76959920303\n",
      "differential_evolution step 143: f(x)= -122551.76959920303\n",
      "differential_evolution step 144: f(x)= -122551.76959920303\n",
      "differential_evolution step 145: f(x)= -122551.76959920303\n",
      "differential_evolution step 146: f(x)= -122551.76959920303\n",
      "differential_evolution step 147: f(x)= -122551.76959920303\n",
      "differential_evolution step 148: f(x)= -122551.76959920303\n",
      "differential_evolution step 149: f(x)= -122551.76959920303\n",
      "differential_evolution step 150: f(x)= -122551.76959920303\n",
      "differential_evolution step 151: f(x)= -122551.76959920303\n",
      "differential_evolution step 152: f(x)= -122551.76959920303\n",
      "differential_evolution step 153: f(x)= -122551.76959920303\n",
      "differential_evolution step 154: f(x)= -122551.76959920303\n",
      "differential_evolution step 155: f(x)= -122551.76959920303\n",
      "differential_evolution step 156: f(x)= -122551.81572615045\n",
      "differential_evolution step 157: f(x)= -122551.83098847323\n",
      "differential_evolution step 158: f(x)= -122551.83098847323\n",
      "differential_evolution step 159: f(x)= -122551.83098847323\n",
      "differential_evolution step 160: f(x)= -122551.83098847323\n",
      "differential_evolution step 161: f(x)= -122551.83098847323\n",
      "differential_evolution step 162: f(x)= -122551.83098847323\n",
      "differential_evolution step 163: f(x)= -122551.83098847323\n",
      "differential_evolution step 164: f(x)= -122551.83098847323\n",
      "differential_evolution step 165: f(x)= -122551.83098847323\n",
      "differential_evolution step 166: f(x)= -122551.84862996248\n",
      "differential_evolution step 167: f(x)= -122551.85010937617\n",
      "differential_evolution step 168: f(x)= -122551.85149969587\n",
      "differential_evolution step 169: f(x)= -122551.85149969587\n",
      "differential_evolution step 170: f(x)= -122551.85149969587\n",
      "differential_evolution step 171: f(x)= -122551.85149969587\n",
      "differential_evolution step 172: f(x)= -122551.8526113074\n",
      "differential_evolution step 173: f(x)= -122551.85920923232\n",
      "differential_evolution step 174: f(x)= -122551.85920923232\n",
      "differential_evolution step 175: f(x)= -122551.85920923232\n",
      "differential_evolution step 176: f(x)= -122551.85920923232\n",
      "differential_evolution step 177: f(x)= -122551.85920923232\n",
      "differential_evolution step 178: f(x)= -122551.85920923232\n",
      "differential_evolution step 179: f(x)= -122551.86382353035\n",
      "differential_evolution step 180: f(x)= -122551.87762843429\n",
      "differential_evolution step 181: f(x)= -122551.87762843429\n",
      "differential_evolution step 182: f(x)= -122551.87762843429\n",
      "differential_evolution step 183: f(x)= -122551.87762843429\n",
      "differential_evolution step 184: f(x)= -122551.87762843429\n",
      "differential_evolution step 185: f(x)= -122551.87762843429\n",
      "differential_evolution step 186: f(x)= -122551.87762843429\n"
     ]
    },
    {
     "ename": "",
     "evalue": "",
     "output_type": "error",
     "traceback": [
      "\u001b[1;31mnotebook controller is DISPOSED. \n",
      "\u001b[1;31mView Jupyter <a href='command:jupyter.viewOutput'>log</a> for further details."
     ]
    }
   ],
   "source": [
    "from scipy.optimize import differential_evolution\n",
    "\n",
    "def cost_function(norm_int_params):\n",
    "    \"\"\"   \n",
    "        norm_int_params: shape (Nparams), normalized to (0, 1)\n",
    "    \"\"\"\n",
    "    int_params = norm_int_params * (intrinsic_param_priors[:, 1] - intrinsic_param_priors[:, 0]) + intrinsic_param_priors[:, 0] # (Nparams)\n",
    "    params_in = Fstat.IntParamArr2ParamDict(int_params) # (Nparams) -> dictionary\n",
    "    return -Fstat.calculate_Fstat(intrinsic_parameters=params_in) # float\n",
    "\n",
    "n_dim_int = 7 \n",
    "lower_bounds = np.zeros(n_dim_int) \n",
    "upper_bounds = np.ones(n_dim_int) \n",
    "bounds = np.array([lower_bounds, upper_bounds]).T # (Nparams, 2)\n",
    "\n",
    "DE_result = differential_evolution(\n",
    "    func=cost_function,\n",
    "    bounds=bounds,\n",
    "    x0=None,\n",
    "    strategy='best1exp',\n",
    "    # strategy='rand1bin',\n",
    "    maxiter=5000,\n",
    "    popsize=10*n_dim_int,\n",
    "    # popsize=6*n_dim_int, \n",
    "    # tol=1e-7,\n",
    "    # atol=1e-9,\n",
    "    tol=1e-6,\n",
    "    atol=1e-8,\n",
    "    mutation=(0.4, 0.95),\n",
    "    recombination=0.7,\n",
    "    disp=True,\n",
    "    polish=False,\n",
    "    # vectorized=True,\n",
    "    workers=-1, \n",
    ")"
   ]
  },
  {
   "cell_type": "code",
   "execution_count": null,
   "id": "a64f80a2",
   "metadata": {},
   "outputs": [
    {
     "name": "stdout",
     "output_type": "stream",
     "text": [
      "             message: Optimization terminated successfully.\n",
      "             success: True\n",
      "                 fun: -122551.87762843429\n",
      "                   x: [ 8.475e-01  5.571e-02  3.592e-01  9.962e-01\n",
      "                        3.059e-01  5.177e-01  8.334e-01]\n",
      "                 nit: 186\n",
      "                nfev: 91630\n",
      "          population: [[ 8.475e-01  5.571e-02 ...  5.177e-01  8.334e-01]\n",
      "                       [ 8.476e-01  5.573e-02 ...  5.185e-01  8.341e-01]\n",
      "                       ...\n",
      "                       [ 8.476e-01  5.571e-02 ...  5.162e-01  8.307e-01]\n",
      "                       [ 8.474e-01  5.567e-02 ...  5.193e-01  8.384e-01]]\n",
      " population_energies: [-1.226e+05 -1.226e+05 ... -1.226e+05 -1.226e+05]\n"
     ]
    },
    {
     "ename": "",
     "evalue": "",
     "output_type": "error",
     "traceback": [
      "\u001b[1;31mnotebook controller is DISPOSED. \n",
      "\u001b[1;31mView Jupyter <a href='command:jupyter.viewOutput'>log</a> for further details."
     ]
    }
   ],
   "source": [
    "print(DE_result)"
   ]
  },
  {
   "cell_type": "markdown",
   "id": "43e31488",
   "metadata": {},
   "source": [
    "### reconstruct parameters and waveforms "
   ]
  },
  {
   "cell_type": "code",
   "execution_count": null,
   "id": "0d0cc0e6",
   "metadata": {},
   "outputs": [
    {
     "name": "stdout",
     "output_type": "stream",
     "text": [
      "parameter name | true value | difference\n",
      "chirp_mass 2221671.328415335 4429.852896911558\n",
      "mass_ratio 0.14997230522807517 0.00016766924922398396\n",
      "spin_1z -0.2561090835971873 0.0027280448472061236\n",
      "spin_2z 0.8657479421979216 0.027461435090688324\n",
      "coalescence_time 153.82645996384352 1.7031708551940028e-05\n",
      "longitude 3.296926192714832 0.04381322437714319\n",
      "latitude 0.24523189736411 0.4846999702861092\n",
      "luminosity_distance 35963.345400513535 29844.915344590554\n",
      "inclination 2.1781544930468644 0.49709457404909174\n",
      "psi 0.5906929767241804 0.440833799804082\n",
      "coalescence_phase 3.112943360425963 2.9851689397228376\n"
     ]
    },
    {
     "ename": "",
     "evalue": "",
     "output_type": "error",
     "traceback": [
      "\u001b[1;31mnotebook controller is DISPOSED. \n",
      "\u001b[1;31mView Jupyter <a href='command:jupyter.viewOutput'>log</a> for further details."
     ]
    }
   ],
   "source": [
    "searched_int_params = Fstat.IntParamArr2ParamDict(DE_result.x * (intrinsic_param_priors[:, 1] - intrinsic_param_priors[:, 0]) + intrinsic_param_priors[:, 0])\n",
    "\n",
    "searched_a = Fstat.calculate_Fstat(\n",
    "    intrinsic_parameters=searched_int_params, \n",
    "    return_a=True, \n",
    ") # (1, 4)\n",
    "searched_ext_params = Fstat.a_to_extrinsic(searched_a)\n",
    "\n",
    "searched_params = dict(searched_int_params, **searched_ext_params)\n",
    "\n",
    "print(\"parameter name | true value | difference\")\n",
    "for k, v in searched_params.items():\n",
    "    print(k, mbhb_parameters[k], np.abs(v-mbhb_parameters[k]))"
   ]
  },
  {
   "cell_type": "code",
   "execution_count": null,
   "id": "879f9c17",
   "metadata": {},
   "outputs": [
    {
     "data": {
      "text/plain": [
       "<matplotlib.legend.Legend at 0x13f37a190>"
      ]
     },
     "execution_count": 19,
     "metadata": {},
     "output_type": "execute_result"
    },
    {
     "data": {
      "image/png": "[encoded data removed]",
      "text/plain": [
       "<Figure size 640x480 with 1 Axes>"
      ]
     },
     "metadata": {},
     "output_type": "display_data"
    },
    {
     "ename": "",
     "evalue": "",
     "output_type": "error",
     "traceback": [
      "\u001b[1;31mnotebook controller is DISPOSED. \n",
      "\u001b[1;31mView Jupyter <a href='command:jupyter.viewOutput'>log</a> for further details."
     ]
    }
   ],
   "source": [
    "searched_wf1 = FDTDI_CPU.Response(\n",
    "    searched_params, \n",
    "    data_frequencies_CPU, \n",
    "    **response_kwargs_CPU\n",
    ")\n",
    "\n",
    "searched_wf2 = Fstat.calculate_Fstat(\n",
    "    intrinsic_parameters=searched_int_params, \n",
    "    return_recovered_wave=True\n",
    ")\n",
    "\n",
    "plt.loglog(data_frequencies, np.abs(wf_channels[0]) * data_frequencies, label=\"injected waveform\")\n",
    "plt.loglog(data_frequencies, np.abs(searched_wf1[0]) * data_frequencies, linestyle=\"--\", label=\"searched waveform\")\n",
    "plt.loglog(data_frequencies, np.abs(searched_wf1[0] - wf_channels[0]) * data_frequencies, linestyle=\"-\", label=\"difference via param\")\n",
    "plt.loglog(data_frequencies, np.abs(searched_wf2[0] - wf_channels[0]) * data_frequencies, linestyle=\"--\", label=\"difference via a\")\n",
    "plt.loglog(data_frequencies, np.sqrt(PSD_channels[0] * 2. * data_frequencies), label=\"noise\")\n",
    "plt.ylim(1e-25, )\n",
    "plt.xlabel(\"Frequency (Hz)\")\n",
    "plt.ylabel(\"Characteristic strain\")\n",
    "plt.legend(loc=\"upper left\")"
   ]
  },
  {
   "cell_type": "markdown",
   "id": "4e062421",
   "metadata": {},
   "source": [
    "## Fisher analysis "
   ]
  },
  {
   "cell_type": "code",
   "execution_count": null,
   "id": "fe99befa",
   "metadata": {},
   "outputs": [
    {
     "data": {
      "text/plain": [
       "{'chirp_mass': 3614.050756860424,\n",
       " 'mass_ratio': 0.0013261687905387577,\n",
       " 'spin_1z': 0.027523720531414154,\n",
       " 'spin_2z': 0.1981529422350267,\n",
       " 'coalescence_time': 1.6106855973369636e-05,\n",
       " 'coalescence_phase': 0.12199473768487282,\n",
       " 'luminosity_distance': 2731.680645032452,\n",
       " 'inclination': 0.049863322280212945,\n",
       " 'longitude': 0.14365279508570547,\n",
       " 'latitude': 0.08588446663290521,\n",
       " 'psi': 0.1115361019100224}"
      ]
     },
     "execution_count": 20,
     "metadata": {},
     "output_type": "execute_result"
    },
    {
     "ename": "",
     "evalue": "",
     "output_type": "error",
     "traceback": [
      "\u001b[1;31mnotebook controller is DISPOSED. \n",
      "\u001b[1;31mView Jupyter <a href='command:jupyter.viewOutput'>log</a> for further details."
     ]
    }
   ],
   "source": [
    "def fisher_waveform_wrapper(param_dict, frequencies):\n",
    "    res = FDTDI_CPU.Response(\n",
    "        parameters=param_dict, \n",
    "        freqs=xp.array(frequencies),  \n",
    "        **response_kwargs_CPU, \n",
    "    )\n",
    "    return res\n",
    "\n",
    "# set initial steps \n",
    "analyze_param_step_dict = {\n",
    "    'chirp_mass': 10.,\n",
    "    'mass_ratio': 0.01,\n",
    "    'spin_1z': 0.01,\n",
    "    'spin_2z': 0.01,\n",
    "    'coalescence_time': 0.001,\n",
    "    'coalescence_phase': 0.01,\n",
    "    'luminosity_distance': 10.,\n",
    "    'inclination': 0.01,\n",
    "    'longitude': 0.01,\n",
    "    'latitude': 0.01,\n",
    "    'psi': 0.01\n",
    "    }\n",
    "for k, v in analyze_param_step_dict.items():\n",
    "    analyze_param_step_dict[k] = -v \n",
    "\n",
    "FIM = MultiChannelFisher(\n",
    "    waveform_generator=fisher_waveform_wrapper, \n",
    "    # param_dict=mbhb_parameters, \n",
    "    param_dict=searched_params, \n",
    "    analyze_param_step_dict=analyze_param_step_dict, \n",
    "    frequency=data_frequencies, \n",
    "    inverse_covariance=InvCovMat, \n",
    "    verbose=0,\n",
    ")\n",
    "\n",
    "FIM.auto_test_step()\n",
    "FIM.calculate_Fisher()\n",
    "FIM.calculate_errors() \n",
    "\n",
    "FIM.param_errors"
   ]
  },
  {
   "cell_type": "code",
   "execution_count": null,
   "id": "0d80e6c2",
   "metadata": {},
   "outputs": [
    {
     "name": "stdout",
     "output_type": "stream",
     "text": [
      "parameter name | difference | FIM bound | ratio\n",
      "chirp_mass 4429.852896911558 3614.050756860424 1.2257306814251365\n",
      "mass_ratio 0.00016766924922398396 0.0013261687905387577 0.1264313037828828\n",
      "spin_1z 0.0027280448472061236 0.027523720531414154 0.09911613671896116\n",
      "spin_2z 0.027461435090688324 0.1981529422350267 0.13858706704499327\n",
      "coalescence_time 1.7031708551940028e-05 1.6106855973369636e-05 1.0574198080680366\n",
      "longitude 0.04381322437714319 0.14365279508570547 0.30499388717778547\n",
      "latitude 0.4846999702861092 0.08588446663290521 5.643627879274789\n",
      "luminosity_distance 29844.915344590554 2731.680645032452 10.92547747075171\n",
      "inclination 0.49709457404909174 0.049863322280212945 9.969142674762201\n",
      "psi 0.440833799804082 0.1115361019100224 3.9523866466097965\n",
      "coalescence_phase 2.9851689397228376 0.12199473768487282 24.469653334014215\n"
     ]
    },
    {
     "ename": "",
     "evalue": "",
     "output_type": "error",
     "traceback": [
      "\u001b[1;31mnotebook controller is DISPOSED. \n",
      "\u001b[1;31mView Jupyter <a href='command:jupyter.viewOutput'>log</a> for further details."
     ]
    }
   ],
   "source": [
    "print(\"parameter name | difference | FIM bound | ratio\")\n",
    "for k, v in searched_params.items():\n",
    "    print(k, np.abs(v-mbhb_parameters[k]), FIM.param_errors[k], np.abs(v-mbhb_parameters[k]) / FIM.param_errors[k])"
   ]
  },
  {
   "cell_type": "markdown",
   "id": "73136aa2",
   "metadata": {},
   "source": [
    "## Test across population "
   ]
  },
  {
   "cell_type": "code",
   "execution_count": null,
   "id": "6e36d858",
   "metadata": {},
   "outputs": [
    {
     "ename": "",
     "evalue": "",
     "output_type": "error",
     "traceback": [
      "\u001b[1;31mnotebook controller is DISPOSED. \n",
      "\u001b[1;31mView Jupyter <a href='command:jupyter.viewOutput'>log</a> for further details."
     ]
    },
    {
     "ename": "",
     "evalue": "",
     "output_type": "error",
     "traceback": [
      "\u001b[1;31mnotebook controller is DISPOSED. \n",
      "\u001b[1;31mView Jupyter <a href='command:jupyter.viewOutput'>log</a> for further details."
     ]
    }
   ],
   "source": [
    "truths_list = [] \n",
    "searched_list = [] \n",
    "FIM_bound_list = [] \n",
    "snr_list = [] \n",
    "\n",
    "for i in tqdm(range(100)):\n",
    "\n",
    "    # generate source parameter and clean signal \n",
    "    mbhb_parameters = {\n",
    "        'chirp_mass': np.power(10., np.random.uniform(lgMc_prior[0], lgMc_prior[1])), \n",
    "        'mass_ratio': np.random.uniform(q_prior[0], q_prior[1]), \n",
    "        'spin_1z': np.random.uniform(s1_prior[0], s1_prior[1]),\n",
    "        'spin_2z': np.random.uniform(s2_prior[0], s2_prior[1]),\n",
    "        'coalescence_time': np.random.uniform(tc_prior[0], tc_prior[1]), \n",
    "        'coalescence_phase': np.random.uniform(0, TWOPI),\n",
    "        'luminosity_distance': np.power(10., np.random.uniform(lgdl_prior[0], lgdl_prior[1])), \n",
    "        'inclination': np.arccos(np.random.uniform(-1., 1.)), # [rad]\n",
    "        'longitude': np.random.uniform(lam_prior[0], lam_prior[1]), # [rad]\n",
    "        'latitude': np.arcsin(np.random.uniform(sinbeta_prior[0], sinbeta_prior[1])), # [rad]\n",
    "        'psi': np.random.uniform(0, PI) # [rad]\n",
    "        }\n",
    "    wf_channels = FDTDI_CPU.Response(mbhb_parameters, data_frequencies_CPU, **response_kwargs_CPU)\n",
    "\n",
    "    # generate frequency-domain noises \n",
    "    Re_tmp = np.random.normal(scale=np.sqrt(PSD_channels / 4. / delta_f))\n",
    "    Im_tmp = np.random.normal(scale=np.sqrt(PSD_channels / 4. / delta_f))\n",
    "    noise_channels = xp.array(Re_tmp + 1.j * Im_tmp) \n",
    "\n",
    "    # combine signal and noise \n",
    "    data_channels = wf_channels + noise_channels \n",
    "\n",
    "    opt_SNR = FrequencyDomainCovarianceSNR(wf_channels, InvCovMat)\n",
    "    snr_list.append(opt_SNR)\n",
    "\n",
    "    # print(\"source parameters:\")\n",
    "    # for k, v in mbhb_parameters.items():\n",
    "    #     print(k, \":\", v)\n",
    "    # print(\"optimal SNR:\", opt_SNR)\n",
    "\n",
    "    Fstat = Fstatistics(\n",
    "        response_generator=FDTDI_CPU, \n",
    "        frequency=data_frequencies_CPU, \n",
    "        data=data_channels, \n",
    "        invserse_covariance_matrix=InvCovMat, \n",
    "        response_parameters=response_kwargs_CPU, \n",
    "        use_gpu=False\n",
    "    )\n",
    "\n",
    "    # from scipy.optimize import differential_evolution\n",
    "\n",
    "    # n_dim_int = len(Fstatistics.intrinsic_parameter_names)\n",
    "    # print(\"number of parameters to be optimized:\", n_dim_int)\n",
    "\n",
    "    def cost_function(norm_int_params):\n",
    "        \"\"\"   \n",
    "            norm_int_params: shape (Nparams, Nevent), normalized to (0, 1)\n",
    "        \"\"\"\n",
    "        int_params = norm_int_params.transpose() * (intrinsic_param_priors[:, 1] - intrinsic_param_priors[:, 0]) + intrinsic_param_priors[:, 0] # (Nevent, Nparams)\n",
    "        params_in = Fstat.IntParamArr2ParamDict(int_params.transpose()) # (Nparams, Nevent) -> dictionary, each item (Nevent)\n",
    "        return -Fstat.calculate_Fstat_vectorized(intrinsic_parameters=params_in) # (Nevent)\n",
    "\n",
    "    n_dim_int = 7 \n",
    "    lower_bounds = np.zeros(n_dim_int) \n",
    "    upper_bounds = np.ones(n_dim_int) \n",
    "    bounds = np.array([lower_bounds, upper_bounds]).T # (Nparams, 2)\n",
    "\n",
    "    DE_result = differential_evolution(\n",
    "        func=cost_function,\n",
    "        bounds=bounds,\n",
    "        x0=None,\n",
    "        strategy='best1exp',\n",
    "        # strategy='rand1bin',\n",
    "        maxiter=5000,\n",
    "        popsize=10*n_dim_int,\n",
    "        # popsize=6*n_dim_int, \n",
    "        tol=1e-7,\n",
    "        atol=1e-9,\n",
    "        # tol=1e-6,\n",
    "        # atol=1e-8,\n",
    "        mutation=(0.4, 0.95),\n",
    "        recombination=0.7,\n",
    "        disp=False,\n",
    "        polish=False,\n",
    "        vectorized=True,\n",
    "    )\n",
    "\n",
    "    searched_int_params = Fstat.IntParamArr2ParamDict(DE_result.x * (intrinsic_param_priors[:, 1] - intrinsic_param_priors[:, 0]) + intrinsic_param_priors[:, 0])\n",
    "\n",
    "    searched_a = Fstat.calculate_Fstat_vectorized(\n",
    "        intrinsic_parameters=searched_int_params, \n",
    "        return_a=True, \n",
    "    ) # (1, 4)\n",
    "    searched_ext_params = Fstat.a_to_extrinsic_vectorized(searched_a)\n",
    "\n",
    "    searched_params = dict(searched_int_params, **searched_ext_params)\n",
    "\n",
    "    def fisher_waveform_wrapper(param_dict, frequencies):\n",
    "        res = FDTDI_CPU.Response(\n",
    "            parameters=param_dict, \n",
    "            freqs=xp.array(frequencies),  \n",
    "            **response_kwargs_CPU, \n",
    "        )\n",
    "        return res\n",
    "\n",
    "    # set initial steps \n",
    "    analyze_param_step_dict = {\n",
    "        'chirp_mass': 10.,\n",
    "        'mass_ratio': 0.01,\n",
    "        'spin_1z': 0.01,\n",
    "        'spin_2z': 0.01,\n",
    "        'coalescence_time': 0.001,\n",
    "        'coalescence_phase': 0.01,\n",
    "        'luminosity_distance': 10.,\n",
    "        'inclination': 0.01,\n",
    "        'longitude': 0.01,\n",
    "        'latitude': 0.01,\n",
    "        'psi': 0.01\n",
    "        }\n",
    "    for k, v in analyze_param_step_dict.items():\n",
    "        analyze_param_step_dict[k] = -v \n",
    "\n",
    "    FIM = MultiChannelFisher(\n",
    "        waveform_generator=fisher_waveform_wrapper, \n",
    "        param_dict=mbhb_parameters, \n",
    "        # param_dict=searched_params, \n",
    "        analyze_param_step_dict=analyze_param_step_dict, \n",
    "        frequency=data_frequencies, \n",
    "        inverse_covariance=InvCovMat, \n",
    "        verbose=0,\n",
    "    )\n",
    "\n",
    "    FIM.auto_test_step()\n",
    "    FIM.calculate_Fisher()\n",
    "    FIM.calculate_errors() \n",
    "\n",
    "    truths_list.append(mbhb_parameters)\n",
    "    searched_list.append(searched_params)\n",
    "    FIM_bound_list.append(FIM.param_errors)"
   ]
  },
  {
   "cell_type": "code",
   "execution_count": null,
   "id": "9f3c30d4",
   "metadata": {},
   "outputs": [
    {
     "ename": "",
     "evalue": "",
     "output_type": "error",
     "traceback": [
      "\u001b[1;31mnotebook controller is DISPOSED. \n",
      "\u001b[1;31mView Jupyter <a href='command:jupyter.viewOutput'>log</a> for further details."
     ]
    },
    {
     "ename": "",
     "evalue": "",
     "output_type": "error",
     "traceback": [
      "\u001b[1;31mnotebook controller is DISPOSED. \n",
      "\u001b[1;31mView Jupyter <a href='command:jupyter.viewOutput'>log</a> for further details."
     ]
    }
   ],
   "source": [
    "bins = np.logspace(1.5, 4.5, 30)\n",
    "plt.hist(snr_list, bins=bins, density=False, facecolor=None, edgecolor=YELLOW, hatch=\"//\", histtype='step', lw=2); \n",
    "plt.xlabel(\"SNR\")\n",
    "plt.ylabel(\"number of MBHBs in bin\")\n",
    "plt.xscale(\"log\")"
   ]
  },
  {
   "cell_type": "code",
   "execution_count": null,
   "id": "71b7ccdd",
   "metadata": {},
   "outputs": [
    {
     "ename": "",
     "evalue": "",
     "output_type": "error",
     "traceback": [
      "\u001b[1;31mnotebook controller is DISPOSED. \n",
      "\u001b[1;31mView Jupyter <a href='command:jupyter.viewOutput'>log</a> for further details."
     ]
    },
    {
     "ename": "",
     "evalue": "",
     "output_type": "error",
     "traceback": [
      "\u001b[1;31mnotebook controller is DISPOSED. \n",
      "\u001b[1;31mView Jupyter <a href='command:jupyter.viewOutput'>log</a> for further details."
     ]
    }
   ],
   "source": [
    "Mc_list = np.array([paramdict[\"chirp_mass\"] for paramdict in truths_list])\n",
    "q_list = np.array([paramdict[\"mass_ratio\"] for paramdict in truths_list])\n",
    "s1_list = np.array([paramdict[\"spin_1z\"] for paramdict in truths_list])\n",
    "s2_list = np.array([paramdict[\"spin_2z\"] for paramdict in truths_list])\n",
    "tc_list = np.array([paramdict[\"coalescence_time\"] for paramdict in truths_list])\n",
    "dl_list = np.array([paramdict[\"luminosity_distance\"] for paramdict in truths_list])\n",
    "inc_list = np.array([paramdict[\"inclination\"] for paramdict in truths_list])\n",
    "lon_list = np.array([paramdict[\"longitude\"] for paramdict in truths_list])\n",
    "lat_list = np.array([paramdict[\"latitude\"] for paramdict in truths_list])\n",
    "\n",
    "Mc_list1 = np.array([paramdict[\"chirp_mass\"] for paramdict in searched_list])\n",
    "q_list1 = np.array([paramdict[\"mass_ratio\"] for paramdict in searched_list])\n",
    "s1_list1 = np.array([paramdict[\"spin_1z\"] for paramdict in searched_list])\n",
    "s2_list1 = np.array([paramdict[\"spin_2z\"] for paramdict in searched_list])\n",
    "tc_list1 = np.array([paramdict[\"coalescence_time\"] for paramdict in searched_list])\n",
    "dl_list1 = np.array([paramdict[\"luminosity_distance\"] for paramdict in searched_list])\n",
    "inc_list1 = np.array([paramdict[\"inclination\"] for paramdict in searched_list])\n",
    "lon_list1 = np.array([paramdict[\"longitude\"] for paramdict in searched_list])\n",
    "lat_list1 = np.array([paramdict[\"latitude\"] for paramdict in searched_list])\n",
    "\n",
    "Mc_list2 = np.array([paramdict[\"chirp_mass\"] for paramdict in FIM_bound_list])\n",
    "q_list2 = np.array([paramdict[\"mass_ratio\"] for paramdict in FIM_bound_list])\n",
    "s1_list2 = np.array([paramdict[\"spin_1z\"] for paramdict in FIM_bound_list])\n",
    "s2_list2 = np.array([paramdict[\"spin_2z\"] for paramdict in FIM_bound_list])\n",
    "tc_list2 = np.array([paramdict[\"coalescence_time\"] for paramdict in FIM_bound_list])\n",
    "dl_list2 = np.array([paramdict[\"luminosity_distance\"] for paramdict in FIM_bound_list])\n",
    "inc_list2 = np.array([paramdict[\"inclination\"] for paramdict in FIM_bound_list])\n",
    "lon_list2 = np.array([paramdict[\"longitude\"] for paramdict in FIM_bound_list])\n",
    "lat_list2 = np.array([paramdict[\"latitude\"] for paramdict in FIM_bound_list])"
   ]
  },
  {
   "cell_type": "code",
   "execution_count": null,
   "id": "26101b07",
   "metadata": {},
   "outputs": [
    {
     "ename": "",
     "evalue": "",
     "output_type": "error",
     "traceback": [
      "\u001b[1;31mnotebook controller is DISPOSED. \n",
      "\u001b[1;31mView Jupyter <a href='command:jupyter.viewOutput'>log</a> for further details."
     ]
    },
    {
     "ename": "",
     "evalue": "",
     "output_type": "error",
     "traceback": [
      "\u001b[1;31mnotebook controller is DISPOSED. \n",
      "\u001b[1;31mView Jupyter <a href='command:jupyter.viewOutput'>log</a> for further details."
     ]
    }
   ],
   "source": [
    "bins = np.linspace(-12, 12, 50)\n",
    "plt.hist((Mc_list1 - Mc_list) / Mc_list2, bins=bins, density=False, facecolor=None, edgecolor=RED, hatch=\"//\", histtype='step', lw=2, label=\"chirp mass\");\n",
    "plt.hist((q_list1 - q_list) / q_list2, bins=bins, density=False, facecolor=None, edgecolor=GREEN1, hatch=\"//\", histtype='step', lw=2, label=\"mass ratio\");\n",
    "plt.xlabel(r'$\\Delta \\theta / \\ \\sigma_{\\theta}$')\n",
    "plt.ylabel(\"number of MBHBs in bin\")\n",
    "plt.legend(loc=\"upper right\", frameon=False)"
   ]
  },
  {
   "cell_type": "code",
   "execution_count": null,
   "id": "02c4efd7",
   "metadata": {},
   "outputs": [
    {
     "ename": "",
     "evalue": "",
     "output_type": "error",
     "traceback": [
      "\u001b[1;31mnotebook controller is DISPOSED. \n",
      "\u001b[1;31mView Jupyter <a href='command:jupyter.viewOutput'>log</a> for further details."
     ]
    },
    {
     "ename": "",
     "evalue": "",
     "output_type": "error",
     "traceback": [
      "\u001b[1;31mnotebook controller is DISPOSED. \n",
      "\u001b[1;31mView Jupyter <a href='command:jupyter.viewOutput'>log</a> for further details."
     ]
    }
   ],
   "source": [
    "bins = np.linspace(-12, 12, 50)\n",
    "plt.hist((s1_list1 - s1_list) / s1_list2, bins=bins, density=False, facecolor=None, edgecolor=RED, hatch=\"//\", histtype='step', lw=2, label=\"spin 1\");\n",
    "plt.hist((s2_list1 - s2_list) / s2_list2, bins=bins, density=False, facecolor=None, edgecolor=GREEN1, hatch=\"//\", histtype='step', lw=2, label=\"spin 2\");\n",
    "plt.xlabel(r'$\\Delta \\theta / \\ \\sigma_{\\theta}$')\n",
    "plt.ylabel(\"number of MBHBs in bin\")\n",
    "plt.legend(loc=\"upper right\", frameon=False)"
   ]
  },
  {
   "cell_type": "code",
   "execution_count": null,
   "id": "60c97be7",
   "metadata": {},
   "outputs": [
    {
     "ename": "",
     "evalue": "",
     "output_type": "error",
     "traceback": [
      "\u001b[1;31mnotebook controller is DISPOSED. \n",
      "\u001b[1;31mView Jupyter <a href='command:jupyter.viewOutput'>log</a> for further details."
     ]
    },
    {
     "ename": "",
     "evalue": "",
     "output_type": "error",
     "traceback": [
      "\u001b[1;31mnotebook controller is DISPOSED. \n",
      "\u001b[1;31mView Jupyter <a href='command:jupyter.viewOutput'>log</a> for further details."
     ]
    }
   ],
   "source": [
    "bins = np.linspace(-100, 100, 50)\n",
    "plt.hist((lon_list1 - lon_list) / lon_list2, bins=bins, density=False, facecolor=None, edgecolor=RED, hatch=\"//\", histtype='step', lw=2, label=\"longitude\");\n",
    "plt.hist((lat_list1 - lat_list) / lat_list2, bins=bins, density=False, facecolor=None, edgecolor=GREEN1, hatch=\"//\", histtype='step', lw=2, label=\"latitude\");\n",
    "plt.xlabel(r'$\\Delta \\theta / \\ \\sigma_{\\theta}$')\n",
    "plt.ylabel(\"number of MBHBs in bin\")\n",
    "plt.legend(loc=\"upper right\", frameon=False)"
   ]
  },
  {
   "cell_type": "code",
   "execution_count": null,
   "id": "f0b154c9",
   "metadata": {},
   "outputs": [
    {
     "ename": "",
     "evalue": "",
     "output_type": "error",
     "traceback": [
      "\u001b[1;31mnotebook controller is DISPOSED. \n",
      "\u001b[1;31mView Jupyter <a href='command:jupyter.viewOutput'>log</a> for further details."
     ]
    },
    {
     "ename": "",
     "evalue": "",
     "output_type": "error",
     "traceback": [
      "\u001b[1;31mnotebook controller is DISPOSED. \n",
      "\u001b[1;31mView Jupyter <a href='command:jupyter.viewOutput'>log</a> for further details."
     ]
    }
   ],
   "source": [
    "bins = np.linspace(-100, 100, 50)\n",
    "plt.hist((dl_list1 - dl_list) / dl_list2, bins=bins, density=False, facecolor=None, edgecolor=RED, hatch=\"//\", histtype='step', lw=2, label=\"luminosity distance\");\n",
    "plt.hist((inc_list1 - inc_list) / inc_list2, bins=bins, density=False, facecolor=None, edgecolor=GREEN1, hatch=\"//\", histtype='step', lw=2, label=\"inclination\");\n",
    "plt.xlabel(r'$\\Delta \\theta / \\ \\sigma_{\\theta}$')\n",
    "plt.ylabel(\"number of MBHBs in bin\")\n",
    "plt.legend(loc=\"upper right\", frameon=False)"
   ]
  },
  {
   "cell_type": "code",
   "execution_count": null,
   "id": "3770c678",
   "metadata": {},
   "outputs": [
    {
     "ename": "",
     "evalue": "",
     "output_type": "error",
     "traceback": [
      "\u001b[1;31mnotebook controller is DISPOSED. \n",
      "\u001b[1;31mView Jupyter <a href='command:jupyter.viewOutput'>log</a> for further details."
     ]
    },
    {
     "ename": "",
     "evalue": "",
     "output_type": "error",
     "traceback": [
      "\u001b[1;31mnotebook controller is DISPOSED. \n",
      "\u001b[1;31mView Jupyter <a href='command:jupyter.viewOutput'>log</a> for further details."
     ]
    }
   ],
   "source": [
    "bins = np.linspace(-100, 100, 50)\n",
    "plt.hist((tc_list1 - tc_list) / tc_list2, bins=bins, density=False, facecolor=None, edgecolor=RED, hatch=\"//\", histtype='step', lw=2, label=\"coalescence time\");\n",
    "plt.xlabel(r'$\\Delta \\theta / \\ \\sigma_{\\theta}$')\n",
    "plt.ylabel(\"number of MBHBs in bin\")\n",
    "plt.legend(loc=\"upper right\", frameon=False)"
   ]
  },
  {
   "cell_type": "code",
   "execution_count": null,
   "id": "cc5d7ef7",
   "metadata": {},
   "outputs": [
    {
     "ename": "",
     "evalue": "",
     "output_type": "error",
     "traceback": [
      "\u001b[1;31mnotebook controller is DISPOSED. \n",
      "\u001b[1;31mView Jupyter <a href='command:jupyter.viewOutput'>log</a> for further details."
     ]
    },
    {
     "ename": "",
     "evalue": "",
     "output_type": "error",
     "traceback": [
      "\u001b[1;31mnotebook controller is DISPOSED. \n",
      "\u001b[1;31mView Jupyter <a href='command:jupyter.viewOutput'>log</a> for further details."
     ]
    }
   ],
   "source": []
  }
 ],
 "metadata": {
  "kernelspec": {
   "display_name": "tri_env",
   "language": "python",
   "name": "python3"
  },
  "language_info": {
   "codemirror_mode": {
    "name": "ipython",
    "version": 3
   },
   "file_extension": ".py",
   "mimetype": "text/x-python",
   "name": "python",
   "nbconvert_exporter": "python",
   "pygments_lexer": "ipython3",
   "version": "3.9.19"
  }
 },
 "nbformat": 4,
 "nbformat_minor": 5
}
