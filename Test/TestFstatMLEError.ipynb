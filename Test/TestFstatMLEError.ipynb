{
 "cells": [
  {
   "cell_type": "code",
   "execution_count": 1,
   "id": "6cddc048",
   "metadata": {},
   "outputs": [
    {
     "name": "stderr",
     "output_type": "stream",
     "text": [
      "PyCBC.libutils: pkg-config call failed, setting NO_PKGCONFIG=1\n"
     ]
    },
    {
     "name": "stdout",
     "output_type": "stream",
     "text": [
      "has cupy\n",
      "has cupy\n",
      "has BBHx waveform\n"
     ]
    }
   ],
   "source": [
    "# limit the thread used by numpy \n",
    "import os\n",
    "os.environ[\"OMP_NUM_THREADS\"] = \"1\"\n",
    "os.environ[\"OPENBLAS_NUM_THREADS\"] = \"1\"\n",
    "os.environ[\"MKL_NUM_THREADS\"] = \"1\"\n",
    "os.environ[\"NUMEXPR_NUM_THREADS\"] = \"1\"\n",
    "os.environ[\"VECLIB_MAXIMUM_THREADS\"] = \"1\"  \n",
    "\n",
    "import numpy as np\n",
    "import scipy.interpolate as interp \n",
    "try:\n",
    "    import cupy as xp\n",
    "    import cupyx.scipy.interpolate as xinterp\n",
    "    # print(\"has cupy\")\n",
    "except (ImportError, ModuleNotFoundError) as e:\n",
    "    import numpy as xp\n",
    "    import scipy.interpolate as xinterp  \n",
    "    # print(\"no cupy\")\n",
    "\n",
    "from tqdm import tqdm\n",
    "import pickle\n",
    "import matplotlib.pyplot as plt\n",
    "# import matplotlib\n",
    "# matplotlib.rcParams['text.usetex'] = True\n",
    "# matplotlib.rcParams['font.family'] = 'serif'\n",
    "\n",
    "from Triangle.Constants import *\n",
    "from Triangle.Orbit import * \n",
    "from Triangle.Noise import *\n",
    "from Triangle.FFTTools import *\n",
    "from Triangle.TDI import *\n",
    "from Triangle.Data import * \n",
    "\n",
    "from Triangle_BBH.Waveform import * \n",
    "from Triangle_BBH.Response import *\n",
    "from Triangle_BBH.Utils import *\n",
    "from Triangle_BBH.Fisher import *\n",
    "\n",
    "# import multiprocessing\n",
    "\n",
    "# np.random.seed(114514)\n",
    "# xp.random.seed(114514)"
   ]
  },
  {
   "cell_type": "markdown",
   "id": "1e7b7de1",
   "metadata": {},
   "source": [
    "## Likelihood"
   ]
  },
  {
   "cell_type": "code",
   "execution_count": 2,
   "id": "e5bd662d",
   "metadata": {},
   "outputs": [],
   "source": [
    "\n",
    "class Likelihood:\n",
    "    # TODO: mode-by-mode heterodyne for the PhenonmHM waveform \n",
    "    def __init__(self, response_generator, frequency, data, invserse_covariance_matrix, response_parameters, use_gpu=False):\n",
    "        \"\"\" \n",
    "        Args: \n",
    "            response_generator: generate frequency-domain TDI responses for given parameters \n",
    "            frequency: frequencies of data, numpy array of shape (Nf,), may not be evenly spaced at high frequencies due to the mask \n",
    "            data: frequency-domain tdi data, numpy array of shape (3, Nf)\n",
    "            invserse_covariance_matrix: numpy array of shape (Nf, 3, 3), with Cov_IJ = CSD_IJ / 4 / Df, CSD_IJ = 2<I J^*>/T\n",
    "            the SNR of signal h is defined as \\sum_f h^\\dagger C^-1 h \n",
    "            response_parameters: parameters of the response_generator besides source parameters and frequencies.\n",
    "        \"\"\"\n",
    "        if frequency.shape[-1] != data.shape[-1] or frequency.shape[-1] != invserse_covariance_matrix.shape[0]:\n",
    "            raise ValueError(\"shapes of data mismatch.\")\n",
    "        \n",
    "        self.response_generator = response_generator\n",
    "        self.frequency = frequency\n",
    "        self.data = data \n",
    "        self.invserse_covariance_matrix = invserse_covariance_matrix \n",
    "        self.response_kwargs = response_parameters\n",
    "\n",
    "        self.use_gpu = use_gpu\n",
    "        if use_gpu: \n",
    "            self.xp = xp \n",
    "        else: \n",
    "            self.xp = np \n",
    "\n",
    "        self.frequency = self.xp.array(self.frequency)\n",
    "        self.data = self.xp.array(data)\n",
    "        self.invserse_covariance_matrix = self.xp.array(self.invserse_covariance_matrix)\n",
    "        \n",
    "        print(\"number of freuqncies:\", len(frequency))\n",
    "        print(\"min and max frequencies:\", self.xp.min(frequency), self.xp.max(frequency))\n",
    "        print(\"response kwargs:\", self.response_kwargs)\n",
    "        \n",
    "        self.parameter_names = ['log_chirp_mass', 'mass_ratio', 'spin_1z', 'spin_2z', 'coalescence_time', 'coalescence_phase', 'log_luminosity_distance', 'cos_inclination', 'longitude', 'sin_latitude', 'psi']\n",
    "        self.channel_names = [\"X2\", \"Y2\", \"Z2\"]\n",
    "        self.het_prepare_flag = False \n",
    "        \n",
    "    def full_log_like(self, parameter_array): \n",
    "        \"\"\" \n",
    "        Args: \n",
    "            parameter_array: parameters given as an array.\n",
    "            the order is: ['log_chirp_mass', 'mass_ratio', 'spin_1z', 'spin_2z', 'coalescence_time', 'coalescence_phase', 'log_luminosity_distance', 'cos_inclination', 'longitude', 'sin_latitude', 'psi']\n",
    "        Returns: \n",
    "            loglike \n",
    "        \"\"\"\n",
    "        template = self.response_generator.Response(\n",
    "            parameters=ParamArr2ParamDict(parameter_array),\n",
    "            freqs=self.frequency,\n",
    "            **self.response_kwargs,\n",
    "        ) # (3, Nf)\n",
    "        residual = self.data - template # (3, Nf)\n",
    "        \n",
    "        if self.use_gpu:\n",
    "            return (-0.5 * self.FrequencyDomainCovarianceSNR(data_channels=residual, inv_cov=self.invserse_covariance_matrix) ** 2).get() \n",
    "        else:\n",
    "            return -0.5 * self.FrequencyDomainCovarianceSNR(data_channels=residual, inv_cov=self.invserse_covariance_matrix) ** 2 \n",
    "        \n",
    "    def full_log_like_vectorized(self, parameter_array): \n",
    "        \"\"\" \n",
    "        Args: \n",
    "            parameter_array: parameters given as an array of shape (Nparams, Nevents).\n",
    "            the order is: ['log_chirp_mass', 'mass_ratio', 'spin_1z', 'spin_2z', 'coalescence_time', 'coalescence_phase', 'log_luminosity_distance', 'cos_inclination', 'longitude', 'sin_latitude', 'psi']\n",
    "        Returns: \n",
    "            loglike of shape (Nevents)\n",
    "        \"\"\"\n",
    "        template = self.response_generator.Response(\n",
    "            parameters=ParamArr2ParamDict(parameter_array),\n",
    "            freqs=self.frequency,\n",
    "            **self.response_kwargs,\n",
    "        ) # (3, Nevents, Nf)\n",
    "        residual = self.xp.transpose(self.data - self.xp.transpose(template, (1, 0, 2)), (0, 2, 1)) # (Nevents, 3, Nf) -> (Nevents, Nf, 3)\n",
    "        residual_dagger = self.xp.conjugate(residual[:, :, self.xp.newaxis, :]) # (Nevents, Nf, 1, 3)\n",
    "        residual = residual[:, :, :, self.xp.newaxis] # (Nevents, Nf, 3, 1)\n",
    "        loglikes = self.xp.sum(self.xp.matmul(self.xp.matmul(residual_dagger, self.invserse_covariance_matrix), residual), axis=(1,2,3))\n",
    "        \n",
    "        if self.use_gpu: \n",
    "            return np.real(-0.5 * loglikes.get()) \n",
    "        else: \n",
    "            return np.real(-0.5 * loglikes)\n",
    "    \n",
    "    def prepare_het_log_like(self, base_parameters=None, base_waveform=None, num_het_frequency=128):\n",
    "        \"\"\" \n",
    "        Args: \n",
    "            base_parameters: None or numpy array of shape (Nparams)\n",
    "            base_waveform: None or numpy array of shape (3, Nf)\n",
    "            num_het_frequency: number of sparse frequencies to calculate the waveform perturbation, N_het_f = Nb + 1 \n",
    "        \"\"\"\n",
    "        if base_waveform is None:\n",
    "            self.h0 = self.response_generator.Response(\n",
    "                parameters=ParamArr2ParamDict(base_parameters),\n",
    "                freqs=self.frequency,\n",
    "                **self.response_kwargs,\n",
    "            ) # (3, Nf)\n",
    "        else: \n",
    "            self.h0 = base_waveform.copy() \n",
    "            if self.h0.shape != self.data.shape:\n",
    "                raise ValueError(\"shapes of waveforms mismatch.\")\n",
    "        \n",
    "        # create sparce grid of frequencies (1st try)\n",
    "        FMIN, FMAX = self.xp.min(self.frequency) * 0.999999999999, self.xp.max(self.frequency) * 1.000000000001\n",
    "        self.het_frequency = self.xp.logspace(self.xp.log10(FMIN), self.xp.log10(FMAX), num_het_frequency) # N_het_f\n",
    "        \n",
    "        # calculate base waveform at the sparce grid (1st try)\n",
    "        if base_waveform is None:\n",
    "            self.het_h0 = self.response_generator.Response(\n",
    "                parameters=ParamArr2ParamDict(base_parameters),\n",
    "                freqs=self.het_frequency,\n",
    "                **self.response_kwargs,\n",
    "            ) # (3, N_het_f)\n",
    "        else: \n",
    "            interp_amplitude = self.xp.abs(self.h0) # (3, Nf)\n",
    "            interp_phase = self.xp.unwrap(self.xp.angle(self.h0)) # (3, Nf)\n",
    "            self.het_h0 = self.xp.array([\n",
    "                self.xp.interp(x=self.het_frequency, xp=self.frequency, fp=interp_amplitude[iii]) * self.xp.exp(1.j * self.xp.interp(x=self.het_frequency, xp=self.frequency, fp=interp_phase[iii])) for iii in range(3)\n",
    "            ]) # (3, N_het_f)\n",
    "        \n",
    "        # refine the sparse grid to ensure no zero waveforms \n",
    "        # valid_idx = self.xp.where(self.xp.abs(self.het_h0[0]) != 0.)[0]\n",
    "        valid_idx = self.xp.where(self.xp.abs(self.het_h0[0]) > 1e-23)[0]\n",
    "        tmpf = self.het_frequency[valid_idx]\n",
    "        \n",
    "        # create sparce grid of frequencies (final)\n",
    "        self.het_frequency = self.xp.logspace(self.xp.log10(tmpf[0]), self.xp.log10(tmpf[-1]), num_het_frequency) # N_het_f\n",
    "        \n",
    "        # calculate base waveform at the sparce grid (final)\n",
    "        if base_waveform is None: \n",
    "            self.het_h0 = self.response_generator.Response(\n",
    "                parameters=ParamArr2ParamDict(base_parameters),\n",
    "                freqs=self.het_frequency,\n",
    "                **self.response_kwargs,\n",
    "            ) # (3, N_het_f)\n",
    "        else: \n",
    "            self.het_h0 = self.xp.array([\n",
    "                self.xp.interp(x=self.het_frequency, xp=self.frequency, fp=interp_amplitude[iii]) * self.xp.exp(1.j * self.xp.interp(x=self.het_frequency, xp=self.frequency, fp=interp_phase[iii])) for iii in range(3)\n",
    "            ]) # (3, N_het_f)\n",
    "        self.het_h0[self.het_h0==0.] = 1e-25 \n",
    "        \n",
    "        # confine the frequency and data to be within the boundaries of sparce grid \n",
    "        inband_idx = self.xp.where((self.frequency >= self.het_frequency[0]) & (self.frequency <= self.het_frequency[-1]))[0]\n",
    "        self.dense_frequency = self.frequency[inband_idx] # (Nf)\n",
    "        self.dense_data = self.data[:, inband_idx] # (3, Nf)\n",
    "        self.dense_h0 = self.h0[:, inband_idx] # (3, Nf)\n",
    "        self.dense_invserse_covariance_matrix = self.invserse_covariance_matrix[inband_idx] # (Nf, 3, 3)\n",
    "        \n",
    "        # group the dense frequencies with the sparce frequency grid, return the left idx of each dense frequency, each bin is labeled by this \n",
    "        group_idx = self.xp.searchsorted(self.het_frequency, self.dense_frequency, \"right\") - 1 # (Nf)\n",
    "        dense_frequency_offset = self.dense_frequency - self.het_frequency[group_idx] # (Nf)\n",
    "        \n",
    "        # start pre-calculating the coefficients of heterodyned likelihood \n",
    "        # 1) h_h terms\n",
    "        B0_pre = self.xp.matmul(self.xp.transpose(self.xp.conjugate(self.dense_h0))[:, :, self.xp.newaxis], self.xp.transpose(self.dense_h0)[:, self.xp.newaxis, :]) * self.dense_invserse_covariance_matrix # (Nf, 3, 1) * (Nf, 1, 3) -> (Nf, 3, 3)\n",
    "        B1_pre = B0_pre * dense_frequency_offset[:, self.xp.newaxis, self.xp.newaxis] # (Nf, 3, 3)\n",
    "        # 2) d_h terms \n",
    "        A0_pre = self.xp.matmul(self.xp.transpose(self.xp.conjugate(self.dense_data))[:, :, self.xp.newaxis], self.xp.transpose(self.dense_h0)[:, self.xp.newaxis, :]) * self.dense_invserse_covariance_matrix # (Nf, 3, 1) * (Nf, 1, 3) -> (Nf, 3, 3)\n",
    "        A1_pre = A0_pre * dense_frequency_offset[:, self.xp.newaxis, self.xp.newaxis] # (Nf, 3, 3)\n",
    "        \n",
    "        # sum all the coefficients in sparce grids  \n",
    "        self.Nbin = num_het_frequency - 1 \n",
    "        self.B0 = self.xp.zeros((self.Nbin, 3, 3), dtype=self.xp.complex128)\n",
    "        self.B1 = self.xp.zeros((self.Nbin, 3, 3), dtype=self.xp.complex128)\n",
    "        self.A0 = self.xp.zeros((self.Nbin, 3, 3), dtype=self.xp.complex128)\n",
    "        self.A1 = self.xp.zeros((self.Nbin, 3, 3), dtype=self.xp.complex128)\n",
    "        for ibin in self.xp.unique(group_idx): # loop over the left idx of sparce grids \n",
    "            inbin_idx = group_idx == ibin \n",
    "            self.B0[ibin] = self.xp.sum(B0_pre[inbin_idx], axis=0) # (3, 3)\n",
    "            self.B1[ibin] = self.xp.sum(B1_pre[inbin_idx], axis=0)\n",
    "            self.A0[ibin] = self.xp.sum(A0_pre[inbin_idx], axis=0)\n",
    "            self.A1[ibin] = self.xp.sum(A1_pre[inbin_idx], axis=0)\n",
    "            \n",
    "        self.het_df = self.het_frequency[1:] - self.het_frequency[:-1] # (Nb)\n",
    "        self.het_prepare_flag = True \n",
    "        \n",
    "    def het_log_like(self, parameter_array):\n",
    "        \"\"\" \n",
    "        Args: \n",
    "            parameter_array: parameters given as an array.\n",
    "            the order is: ['log_chirp_mass', 'mass_ratio', 'spin_1z', 'spin_2z', 'coalescence_time', 'coalescence_phase', 'log_luminosity_distance', 'cos_inclination', 'longitude', 'sin_latitude', 'psi']\n",
    "        Returns: \n",
    "            heterodyned loglike \n",
    "        \"\"\"\n",
    "        if not self.het_prepare_flag: \n",
    "            raise NotImplementedError(\"heterodyne not prepared, run preparation first.\")\n",
    "            \n",
    "        # calculate sparce template \n",
    "        het_h = self.response_generator.Response(\n",
    "            parameters=ParamArr2ParamDict(parameter_array),\n",
    "            freqs=self.het_frequency,\n",
    "            **self.response_kwargs,\n",
    "        ) # (3, N_het_f)\n",
    "        \n",
    "        # calculate heterodyne \n",
    "        het_r = self.xp.transpose(het_h / self.het_h0) # (N_het_f, 3)\n",
    "        het_r = self.xp.nan_to_num(het_r, 0.) # deal with the nan caused by divide 0 \n",
    "        het_r0 = het_r[:-1] # (Nb, 3)\n",
    "        het_r1 = (het_r[1:] - het_r0) / self.het_df[:, self.xp.newaxis] # (Nb, 3)\n",
    "        \n",
    "        # calculate likelihood \n",
    "        # 1) h_h term \n",
    "        LL1 = self.xp.sum(self.xp.matmul(self.xp.conjugate(het_r0)[:, :, self.xp.newaxis], het_r0[:, self.xp.newaxis, :]) * self.B0) # sum((Nb, 3, 3) * (Nb, 3, 3)) -> scalar \n",
    "        tmp_mat = self.xp.matmul(self.xp.conjugate(het_r0)[:, :, self.xp.newaxis], het_r1[:, self.xp.newaxis, :]) # (Nb, 3, 3)\n",
    "        LL1 += self.xp.sum((tmp_mat + self.xp.transpose((self.xp.conjugate(tmp_mat)), (0, 2, 1))) * self.B1) # sum((Nb, 3, 3) * (Nb, 3, 3)) -> scalar \n",
    "        # 2_ d_h term \n",
    "        LL2 = self.xp.sum(self.xp.matmul(self.A0, het_r0[:, :, self.xp.newaxis]))\n",
    "        LL2 += self.xp.sum(self.xp.matmul(self.A1, het_r1[:, :, self.xp.newaxis]))\n",
    "\n",
    "        # # test only \n",
    "        # self.LL1 = LL1 \n",
    "        # self.LL2 = LL2 \n",
    "        # self.het_h = het_h\n",
    "        # self.het_r = het_r\n",
    "        # self.het_r0 = het_r0\n",
    "        # self.het_r1 = het_r1\n",
    "        \n",
    "        # test only \n",
    "        # LL1 = 0.  \n",
    "        self.output = [LL1, self.xp.real(LL2)]\n",
    "        \n",
    "        res = self.xp.nan_to_num(self.xp.real(-0.5 * LL1 + LL2), nan=-self.xp.infty)\n",
    "        if self.use_gpu: \n",
    "            return res.get()\n",
    "        else:\n",
    "            return res\n",
    "        \n",
    "        \n",
    "    def het_log_like_vectorized(self, parameter_array):\n",
    "        \"\"\" \n",
    "        Args: \n",
    "            parameter_array: parameters given as an array of shape (Nparams, Nevents)\n",
    "            the order is: ['log_chirp_mass', 'mass_ratio', 'spin_1z', 'spin_2z', 'coalescence_time', 'coalescence_phase', 'log_luminosity_distance', 'cos_inclination', 'longitude', 'sin_latitude', 'psi']\n",
    "        Returns: \n",
    "            numpy array of heterodyned loglikes \n",
    "        \"\"\"\n",
    "        if not self.het_prepare_flag: \n",
    "            raise NotImplementedError(\"heterodyne not prepared, run preparation first.\")\n",
    "            \n",
    "        # calculate sparce template \n",
    "        het_h = self.xp.transpose(self.response_generator.Response(\n",
    "            parameters=ParamArr2ParamDict(parameter_array),\n",
    "            freqs=self.het_frequency,\n",
    "            **self.response_kwargs,\n",
    "        ), (1, 0, 2)) # (Nevents, 3, N_het_f)\n",
    "        # print(\"shape of het_h\", het_h.shape)\n",
    "        \n",
    "        # calculate heterodyne \n",
    "        het_r = self.xp.transpose(het_h / self.het_h0, (0, 2, 1)) # (Nevents, N_het_f, 3)\n",
    "        het_r = self.xp.nan_to_num(het_r, 0.) # deal with the nan caused by divide 0 \n",
    "        het_r0 = het_r[:, :-1, :] # (Nevents, Nb, 3)\n",
    "        het_r1 = (het_r[:, 1:, :] - het_r0) / self.het_df[:, self.xp.newaxis] # (Nevents, Nb, 3)\n",
    "        # print(\"shape of r, r0, r1\", het_r.shape, het_r0.shape, het_r1.shape)\n",
    "        \n",
    "        # calculate likelihood \n",
    "        # 1) h_h term \n",
    "        LL1 = self.xp.sum(self.xp.matmul(self.xp.conjugate(het_r0)[:, :, :, self.xp.newaxis], het_r0[:, :, self.xp.newaxis, :]) * self.B0, axis=(1, 2, 3)) # sum((Nevents, Nb, 3, 3) * (Nb, 3, 3)) -> (Nevents)\n",
    "        tmp_mat = self.xp.matmul(self.xp.conjugate(het_r0)[:, :, :, self.xp.newaxis], het_r1[:, :, self.xp.newaxis, :]) # (Nevents, Nb, 3, 3)\n",
    "        LL1 += self.xp.sum((tmp_mat + self.xp.transpose((self.xp.conjugate(tmp_mat)), (0, 1, 3, 2))) * self.B1, axis=(1, 2, 3)) # sum((Nevents, Nb, 3, 3) * (Nb, 3, 3)) -> (Nevents)\n",
    "        # 2_ d_h term \n",
    "        LL2 = self.xp.sum(self.xp.matmul(self.A0[self.xp.newaxis, :, :, :], het_r0[:, :, :, self.xp.newaxis]), axis=(1, 2, 3)) # (Nevents)\n",
    "        LL2 += self.xp.sum(self.xp.matmul(self.A1[self.xp.newaxis, :, :, :], het_r1[:, :, :, self.xp.newaxis]), axis=(1, 2, 3)) # (Nevents)\n",
    "        # print(\"shape of tmpmat\", tmp_mat.shape)\n",
    "\n",
    "        # test \n",
    "        # LL1 = 0. # test \n",
    "        self.output_vec = [LL1, self.xp.real(LL2)]\n",
    "        \n",
    "        res = self.xp.nan_to_num(self.xp.real(-0.5 * LL1 + LL2), nan=-self.xp.infty)\n",
    "        if self.use_gpu: \n",
    "            return res.get()\n",
    "        else:\n",
    "            return res\n",
    "        \n",
    "    def marginal_log_like(self, parameter_array):\n",
    "        \"\"\" \n",
    "        Args: \n",
    "            parameter_array: parameters given as an array.\n",
    "            the order is: ['log_chirp_mass', 'mass_ratio', 'spin_1z', 'spin_2z', 'coalescence_time', 'coalescence_phase', 'cos_inclination', 'longitude', 'sin_latitude', 'psi']\n",
    "        Returns: \n",
    "            loglike marginalized over luminosity distance \n",
    "        \"\"\"\n",
    "        p = dict()\n",
    "        p['chirp_mass'] = np.power(10., parameter_array[0])\n",
    "        p['mass_ratio'] = parameter_array[1]\n",
    "        p['spin_1z'] = parameter_array[2]\n",
    "        p['spin_2z'] = parameter_array[3]\n",
    "        p['coalescence_time'] = parameter_array[4]\n",
    "        p['coalescence_phase'] = parameter_array[5]\n",
    "        p['luminosity_distance'] = 1. \n",
    "        p['inclination'] = np.arccos(parameter_array[6])\n",
    "        p['longitude'] = parameter_array[7]\n",
    "        p['latitude'] = np.arcsin(parameter_array[8])\n",
    "        p['psi'] = parameter_array[9] \n",
    "\n",
    "        template = self.response_generator.Response(\n",
    "            parameters=p,\n",
    "            freqs=self.frequency,\n",
    "            **self.response_kwargs,\n",
    "        ) # (3, Nf)\n",
    "        B_term = self.xp.real(self.FrequencyDomainCovarianceInnerProduct(data_channels1=template, data_channels2=self.data, inv_cov=self.invserse_covariance_matrix))\n",
    "        if B_term < 0.:\n",
    "            result = 0. \n",
    "        else:\n",
    "            C_term = self.FrequencyDomainCovarianceSNR(data_channels=template, inv_cov=self.invserse_covariance_matrix) ** 2\n",
    "            result = B_term ** 2 / C_term / 2.\n",
    "\n",
    "        if self.use_gpu:\n",
    "            return result.get() \n",
    "        else:\n",
    "            return result\n",
    "        \n",
    "    def calculate_marginalized_parameter(self, parameter_array):\n",
    "        \"\"\" \n",
    "        Args: \n",
    "            parameter_array: parameters given as an array.\n",
    "            the order is: ['log_chirp_mass', 'mass_ratio', 'spin_1z', 'spin_2z', 'coalescence_time', 'coalescence_phase', 'cos_inclination', 'longitude', 'sin_latitude', 'psi']\n",
    "        Returns: \n",
    "            calculate luminosity distance in [MPC] given the maximum estimation of other parameters  \n",
    "        \"\"\"\n",
    "        p = dict()\n",
    "        p['chirp_mass'] = np.power(10., parameter_array[0])\n",
    "        p['mass_ratio'] = parameter_array[1]\n",
    "        p['spin_1z'] = parameter_array[2]\n",
    "        p['spin_2z'] = parameter_array[3]\n",
    "        p['coalescence_time'] = parameter_array[4]\n",
    "        p['coalescence_phase'] = parameter_array[5]\n",
    "        p['luminosity_distance'] = 1. \n",
    "        p['inclination'] = np.arccos(parameter_array[6])\n",
    "        p['longitude'] = parameter_array[7]\n",
    "        p['latitude'] = np.arcsin(parameter_array[8])\n",
    "        p['psi'] = parameter_array[9] \n",
    "\n",
    "        template = self.response_generator.Response(\n",
    "            parameters=p,\n",
    "            freqs=self.frequency,\n",
    "            **self.response_kwargs,\n",
    "        ) # (3, Nf)\n",
    "        B_term = self.xp.real(self.FrequencyDomainCovarianceInnerProduct(data_channels1=template, data_channels2=self.data, inv_cov=self.invserse_covariance_matrix))\n",
    "        C_term = self.FrequencyDomainCovarianceSNR(data_channels=template, inv_cov=self.invserse_covariance_matrix) ** 2 \n",
    "\n",
    "        if self.use_gpu:\n",
    "            return np.abs((C_term / B_term).get())\n",
    "        else:\n",
    "            return np.abs(C_term / B_term)\n",
    "        \n",
    "    def FrequencyDomainCovarianceSNR(self, data_channels, inv_cov):\n",
    "        \"\"\"  \n",
    "        Args:\n",
    "            data_channels: numpy array of shape (3, Nf)\n",
    "            inv_cov: numpy array of shape (Nf, 3, 3), with Cov_IJ = CSD_IJ / 4 / Df, CSD_IJ = 2<I J^*>/T\n",
    "        Returns: \n",
    "            sqrt(d^\\dagger C^-1 d), real scalar \n",
    "        \"\"\"\n",
    "        data_expanded = self.xp.transpose(data_channels)[:,self.xp.newaxis,:] # (Nf, 1, 3)\n",
    "        data_expanded_transposed = self.xp.transpose(data_expanded, (0, 2, 1)) # (Nf, 3, 1)\n",
    "        tmp1 = self.xp.matmul(self.xp.conjugate(data_expanded), inv_cov) # (Nf, 1, 3)\n",
    "        tmp2 = self.xp.matmul(tmp1, data_expanded_transposed) # (Nf, 1, 1)\n",
    "        return self.xp.sqrt(self.xp.real(self.xp.sum(tmp2)))\n",
    "    \n",
    "    def FrequencyDomainCovarianceInnerProduct(self, data_channels1, data_channels2, inv_cov):\n",
    "        \"\"\"  \n",
    "        Args:\n",
    "            data_channels1, 2: numpy arraies of shapes (3, Nf)\n",
    "            inv_cov: numpy array of shape (Nf, 3, 3), with Cov_IJ = CSD_IJ / 4 / Df, CSD_IJ = 2<I J^*>/T\n",
    "        Returns: \n",
    "            d_1^\\dagger C^-1 d_2, complex scalar \n",
    "        \"\"\"\n",
    "        data_expanded1 = self.xp.transpose(data_channels1)[:,self.xp.newaxis,:] # (Nf, 1, 3)\n",
    "        data_expanded2 = self.xp.transpose(data_channels2)[:,self.xp.newaxis,:] # (Nf, 1, 3)\n",
    "        data_expanded_transposed2 = self.xp.transpose(data_expanded2, (0, 2, 1)) # (Nf, 3, 1)\n",
    "        tmp1 = self.xp.matmul(self.xp.conjugate(data_expanded1), inv_cov) # (Nf, 1, 3)\n",
    "        tmp2 = self.xp.matmul(tmp1, data_expanded_transposed2) # (Nf, 1, 1)\n",
    "        return self.xp.sum(tmp2)"
   ]
  },
  {
   "cell_type": "markdown",
   "id": "8404a113",
   "metadata": {},
   "source": [
    "## F-stat "
   ]
  },
  {
   "cell_type": "code",
   "execution_count": 3,
   "id": "ba95c6f1",
   "metadata": {},
   "outputs": [],
   "source": [
    "\n",
    "\n",
    "\n",
    "import copy \n",
    "\n",
    "class Fstatistics(Likelihood):\n",
    "    extrinsic_parameter_names = [\n",
    "        \"luminosity_distance\", \n",
    "        \"inclination\", \n",
    "        \"coalescence_phase\", \n",
    "        \"psi\"\n",
    "        ]\n",
    "    intrinsic_parameter_names = [\n",
    "        'chirp_mass',\n",
    "        'mass_ratio',\n",
    "        'spin_1z',\n",
    "        'spin_2z',\n",
    "        'coalescence_time',\n",
    "        'longitude',\n",
    "        'latitude'\n",
    "        ]\n",
    "    def __init__(self, response_generator, frequency, data, invserse_covariance_matrix, response_parameters, use_gpu=False):\n",
    "        super().__init__(response_generator, frequency, data, invserse_covariance_matrix, response_parameters, use_gpu)\n",
    "        self.SUM = self.xp.sum \n",
    "        self.CONJ = self.xp.conjugate\n",
    "        self.RE = self.xp.real\n",
    "        self.NX = self.xp.newaxis \n",
    "        self.MATMUL = self.xp.matmul\n",
    "        self.TRANS = self.xp.transpose\n",
    "\n",
    "    def self_inner_product_vectorized(self, template_channels):\n",
    "        \"\"\" \n",
    "            template_channels: shape (Nevent, Nchannel, Nfreq)\n",
    "        \"\"\"\n",
    "        residual = self.TRANS(template_channels, (0, 2, 1)) # (Nevent, 3, Nf) -> (Nevent, Nf, 3)\n",
    "        residual_dagger = self.CONJ(residual[:, :, self.NX, :]) # (Nevent, Nf, 1, 3)\n",
    "        residual = residual[:, :, :, self.NX] # (Nevent, Nf, 3, 1)\n",
    "        inners = self.SUM(self.MATMUL(self.MATMUL(residual_dagger, self.invserse_covariance_matrix), residual), axis=(1,2,3)) # (Nevent)\n",
    "        return self.RE(inners) # (Nevent)\n",
    "    \n",
    "    def inner_product_vectorized(self, template_channels1, template_channels2):\n",
    "        \"\"\" \n",
    "            template_channels1: shape (Nevent, Nchannel, Nfreq)\n",
    "            template_channels2: shape (Nevent, Nchannel, Nfreq)\n",
    "        \"\"\"\n",
    "        residual1 = self.TRANS(template_channels1, (0, 2, 1)) # (Nevent, 3, Nf) -> (Nevent, Nf, 3)\n",
    "        residual_dagger1 = self.CONJ(residual1[:, :, self.NX, :]) # (Nevent, Nf, 1, 3)\n",
    "\n",
    "        residual2 = self.TRANS(template_channels2, (0, 2, 1)) # (Nevent, 3, Nf) -> (Nevent, Nf, 3)\n",
    "        residual2 = residual2[:, :, :, self.NX] # (Nevent, Nf, 3, 1)\n",
    "\n",
    "        inners = self.SUM(self.MATMUL(self.MATMUL(residual_dagger1, self.invserse_covariance_matrix), residual2), axis=(1,2,3)) # (Nevent)\n",
    "        return self.RE(inners) # (Nevent)\n",
    "    \n",
    "    def self_inner_product_vectorized_margin_time(self, template_channels, full_frequencies=None, valid_indices=None):\n",
    "        \"\"\" \n",
    "            template_channels: shape (Nevent, Nchannel, Nfreq)\n",
    "        \"\"\"\n",
    "        residual = self.TRANS(template_channels, (0, 2, 1)) # (Nevent, 3, Nf) -> (Nevent, Nf, 3)\n",
    "        residual_dagger = self.CONJ(residual[:, :, self.NX, :]) # (Nevent, Nf, 1, 3)\n",
    "        residual = residual[:, :, :, self.NX] # (Nevent, Nf, 3, 1)\n",
    "        inners_f = self.RE(self.SUM(self.MATMUL(self.MATMUL(residual_dagger, self.invserse_covariance_matrix), residual), axis=(2,3))) # (Nevent, Nf)\n",
    "        if full_frequencies is not None: \n",
    "            inners_f_filled = self.xp.zeros((inners_f.shape[0], full_frequencies.shape), dtype=self.xp.float64) # (Nevent, Nf_filled)\n",
    "            inners_f_filled[:, valid_indices] = inners_f\n",
    "        else: \n",
    "            inners_f_filled = inners_f # (Nevent, Nf_filled=Nf)\n",
    "        inners_t = self.xp.fft.irfft(inners_f_filled, axis=-1) # (Nevent, Nf_filled)\n",
    "        inners = self.xp.max(inners_t, axis=-1) # (Nevent)\n",
    "        return inners \n",
    "    \n",
    "    def inner_product_vectorized_margin_time(self, template_channels1, template_channels2, full_frequencies=None, valid_indices=None):\n",
    "        \"\"\" \n",
    "            template_channels1: shape (Nevent, Nchannel, Nfreq)\n",
    "            template_channels2: shape (Nevent, Nchannel, Nfreq)\n",
    "        \"\"\"\n",
    "        residual1 = self.TRANS(template_channels1, (0, 2, 1)) # (Nevent, 3, Nf) -> (Nevent, Nf, 3)\n",
    "        residual_dagger1 = self.CONJ(residual1[:, :, self.NX, :]) # (Nevent, Nf, 1, 3)\n",
    "\n",
    "        residual2 = self.TRANS(template_channels2, (0, 2, 1)) # (Nevent, 3, Nf) -> (Nevent, Nf, 3)\n",
    "        residual2 = residual2[:, :, :, self.NX] # (Nevent, Nf, 3, 1)\n",
    "\n",
    "        inners_f = self.RE(self.SUM(self.MATMUL(self.MATMUL(residual_dagger1, self.invserse_covariance_matrix), residual2), axis=(2,3))) # (Nevent, Nf)\n",
    "        if full_frequencies is not None: \n",
    "            inners_f_filled = self.xp.zeros((inners_f.shape[0], full_frequencies.shape), dtype=self.xp.float64) # (Nevent, Nf_filled)\n",
    "            inners_f_filled[:, valid_indices] = inners_f\n",
    "        else: \n",
    "            inners_f_filled = inners_f # (Nevent, Nf_filled=Nf)\n",
    "        inners_t = self.xp.fft.irfft(inners_f_filled, axis=-1) # (Nevent, Nf_filled)\n",
    "        inners = self.xp.max(inners_t, axis=-1) # (Nevent)\n",
    "        return inners # (Nevent)\n",
    "\n",
    "    def calculate_Fstat_vectorized(self, intrinsic_parameters, return_a=False, return_recovered_wave=False):\n",
    "        \"\"\"  \n",
    "        calculate F-statistics for a batch of events TODO: expand to HM waveform \n",
    "        Args: \n",
    "            intrinsic_parameters: dictionary of intrinsic parameters (except for D, iota, phic, psi), each item is a numpy array of shape (Nevent). \n",
    "        Returns: \n",
    "            F-statistics of events \n",
    "        \"\"\"\n",
    "        Nevent = len(np.atleast_1d(intrinsic_parameters[\"chirp_mass\"]))\n",
    "        \n",
    "        full_parameters1 = copy.deepcopy(intrinsic_parameters)\n",
    "        full_parameters1[\"luminosity_distance\"] = np.ones(Nevent) * 0.25 \n",
    "        full_parameters1[\"coalescence_phase\"] = np.zeros(Nevent)\n",
    "        full_parameters1[\"inclination\"] = np.ones(Nevent) * PI / 2. \n",
    "        full_parameters1[\"psi\"] = np.zeros(Nevent)\n",
    "        # print(\"1st parameter set:\") # TEST \n",
    "        # print(full_parameters1) # TEST \n",
    "\n",
    "        temp1 = self.response_generator.Response(\n",
    "            parameters=full_parameters1,\n",
    "            freqs=self.frequency,\n",
    "            **self.response_kwargs,\n",
    "        ) # (Nchannel=3, Nevent, Nfreq)\n",
    "        \n",
    "        full_parameters2 = copy.deepcopy(full_parameters1)\n",
    "        full_parameters2[\"psi\"] = np.ones(Nevent) * PI / 4. \n",
    "        # print(\"2nd parameter set:\") # TEST \n",
    "        # print(full_parameters2) # TEST \n",
    "\n",
    "        temp2 = self.response_generator.Response(\n",
    "            parameters=full_parameters2,\n",
    "            freqs=self.frequency,\n",
    "            **self.response_kwargs,\n",
    "        ) # (Nchannel=3, Nevent, Nfreq)\n",
    "\n",
    "        if Nevent == 1:\n",
    "            temp1 = temp1[:, self.NX, :]\n",
    "            temp2 = temp2[:, self.NX, :]\n",
    "\n",
    "        X1 = self.TRANS(temp1, axes=(1, 0, 2)) # (Nevent, Nchannel, Nfreq)\n",
    "        X2 = 1.j * X1 # (Nevent, Nchannel, Nfreq)\n",
    "        X3 = self.TRANS(temp2, axes=(1, 0, 2)) # (Nevent, Nchannel, Nfreq)\n",
    "        X4 = 1.j * X3 # (Nevent, Nchannel, Nfreq) \n",
    "        # print(\"shape of X1:\", X1.shape) # TEST \n",
    "        \n",
    "        data_expand = self.data[self.NX, :, :] # (1, Nchannel, Nfreq)\n",
    "        Nvector = self.TRANS(self.xp.array([\n",
    "            self.inner_product_vectorized(data_expand, X1), \n",
    "            self.inner_product_vectorized(data_expand, X2), \n",
    "            self.inner_product_vectorized(data_expand, X3), \n",
    "            self.inner_product_vectorized(data_expand, X4), \n",
    "        ])) # (4, Nevent) -> (Nevent, 4) inner products, all real numbers \n",
    "        # print(\"shape of N vector:\", Nvector.shape) # TEST \n",
    "        \n",
    "        M12 = self.inner_product_vectorized(X1, X2) # (Nevent), real numbers \n",
    "        M13 = self.inner_product_vectorized(X1, X3)\n",
    "        M14 = self.inner_product_vectorized(X1, X4)\n",
    "        M23 = self.inner_product_vectorized(X2, X3)\n",
    "        M24 = self.inner_product_vectorized(X2, X4)\n",
    "        M34 = self.inner_product_vectorized(X3, X4)\n",
    "        Mmatrix = self.TRANS(self.xp.array([\n",
    "            [self.self_inner_product_vectorized(X1), M12, M13, M14], \n",
    "            [M12, self.self_inner_product_vectorized(X2), M23, M24], \n",
    "            [M13, M23, self.self_inner_product_vectorized(X3), M34], \n",
    "            [M14, M24, M34, self.self_inner_product_vectorized(X4)]\n",
    "        ]), axes=(2, 0, 1)) # (4, 4, Nevent) -> (Nevent, 4, 4) inner products, all real numbers \n",
    "        # print(\"shape of M matrix:\", Mmatrix.shape) # TEST \n",
    "        \n",
    "        invMmatrix = self.xp.linalg.inv(Mmatrix) # (Nevent, 4, 4)\n",
    "        \n",
    "        Nvector_col = Nvector[..., self.NX] # (Nevent, 4, 1)\n",
    "        NM = self.MATMUL(invMmatrix, Nvector_col) # (Nevent, 4, 1)\n",
    "        Nvector_row = Nvector[:, self.NX, :] # (Nevent, 1, 4)\n",
    "        NMN = self.MATMUL(Nvector_row, NM) # (Nevent, 1, 1)\n",
    "        \n",
    "        res = 0.5 * NMN[:, 0, 0] # (Nevent) Fstat 0.5 * N^T M^{-1} N\n",
    "        \n",
    "        if return_a:\n",
    "            res_a = NM.squeeze(axis=-1) # (Nevent, 4)\n",
    "            if self.use_gpu:\n",
    "                return res_a.get() # (Nevent, 4)\n",
    "            else: \n",
    "                return res_a # (Nevent, 4)\n",
    "            \n",
    "        if return_recovered_wave: \n",
    "            res_a = NM.squeeze(axis=-1) # (Nevent, 4)\n",
    "            res_wf = res_a[:, 0] * self.TRANS(X1, axes=(1, 2, 0)) # (Nchannel, Nfreq, Nevent)\n",
    "            res_wf += res_a[:, 1] * self.TRANS(X2, axes=(1, 2, 0))\n",
    "            res_wf += res_a[:, 2] * self.TRANS(X3, axes=(1, 2, 0))\n",
    "            res_wf += res_a[:, 3] * self.TRANS(X4, axes=(1, 2, 0)) \n",
    "            return self.TRANS(res_wf, (0, 2, 1)) # (Nchannel, Nevent, Nfreq)\n",
    "\n",
    "        # else:\n",
    "        if self.use_gpu:\n",
    "            return res.get() # (Nevent)\n",
    "        else: \n",
    "            return res \n",
    "        \n",
    "    def calculate_Fstat_vectorized_margin_time(self, intrinsic_parameters, return_a=False, return_recovered_wave=False, fiducial_tc=0.):\n",
    "        \"\"\"  \n",
    "        calculate F-statistics for a batch of events TODO: expand to HM waveform \n",
    "        Args: \n",
    "            intrinsic_parameters: dictionary of intrinsic parameters (except for D, iota, phic, psi, tc), each item is a numpy array of shape (Nevent). \n",
    "        Returns: \n",
    "            F-statistics of events \n",
    "        \"\"\"\n",
    "        Nevent = len(np.atleast_1d(intrinsic_parameters[\"chirp_mass\"]))\n",
    "        \n",
    "        full_parameters1 = copy.deepcopy(intrinsic_parameters)\n",
    "        full_parameters1[\"luminosity_distance\"] = np.ones(Nevent) * 0.25 \n",
    "        full_parameters1[\"coalescence_phase\"] = np.zeros(Nevent)\n",
    "        full_parameters1[\"inclination\"] = np.ones(Nevent) * PI / 2. \n",
    "        full_parameters1[\"psi\"] = np.zeros(Nevent)\n",
    "        full_parameters1[\"coalescence_time\"] = fiducial_tc\n",
    "        # print(\"1st parameter set:\") # TEST \n",
    "        # print(full_parameters1) # TEST \n",
    "\n",
    "        temp1 = self.response_generator.Response(\n",
    "            parameters=full_parameters1,\n",
    "            freqs=self.frequency,\n",
    "            **self.response_kwargs,\n",
    "        ) # (Nchannel=3, Nevent, Nfreq)\n",
    "        \n",
    "        full_parameters2 = copy.deepcopy(full_parameters1)\n",
    "        full_parameters2[\"psi\"] = np.ones(Nevent) * PI / 4. \n",
    "        # print(\"2nd parameter set:\") # TEST \n",
    "        # print(full_parameters2) # TEST \n",
    "\n",
    "        temp2 = self.response_generator.Response(\n",
    "            parameters=full_parameters2,\n",
    "            freqs=self.frequency,\n",
    "            **self.response_kwargs,\n",
    "        ) # (Nchannel=3, Nevent, Nfreq)\n",
    "\n",
    "        if Nevent == 1:\n",
    "            temp1 = temp1[:, self.NX, :]\n",
    "            temp2 = temp2[:, self.NX, :]\n",
    "\n",
    "        X1 = self.TRANS(temp1, axes=(1, 0, 2)) # (Nevent, Nchannel, Nfreq)\n",
    "        X2 = 1.j * X1 # (Nevent, Nchannel, Nfreq)\n",
    "        X3 = self.TRANS(temp2, axes=(1, 0, 2)) # (Nevent, Nchannel, Nfreq)\n",
    "        X4 = 1.j * X3 # (Nevent, Nchannel, Nfreq) \n",
    "        # print(\"shape of X1:\", X1.shape) # TEST \n",
    "        \n",
    "        data_expand = self.data[self.NX, :, :] # (1, Nchannel, Nfreq)\n",
    "        Nvector = self.TRANS(self.xp.array([\n",
    "            self.inner_product_vectorized_margin_time(data_expand, X1), \n",
    "            self.inner_product_vectorized_margin_time(data_expand, X2), \n",
    "            self.inner_product_vectorized_margin_time(data_expand, X3), \n",
    "            self.inner_product_vectorized_margin_time(data_expand, X4), \n",
    "        ])) # (4, Nevent) -> (Nevent, 4) inner products, all real numbers \n",
    "        # print(\"shape of N vector:\", Nvector.shape) # TEST \n",
    "        \n",
    "        M12 = self.inner_product_vectorized_margin_time(X1, X2) # (Nevent), real numbers \n",
    "        M13 = self.inner_product_vectorized_margin_time(X1, X3)\n",
    "        M14 = self.inner_product_vectorized_margin_time(X1, X4)\n",
    "        M23 = self.inner_product_vectorized_margin_time(X2, X3)\n",
    "        M24 = self.inner_product_vectorized_margin_time(X2, X4)\n",
    "        M34 = self.inner_product_vectorized_margin_time(X3, X4)\n",
    "        Mmatrix = self.TRANS(self.xp.array([\n",
    "            [self.self_inner_product_vectorized_margin_time(X1), M12, M13, M14], \n",
    "            [M12, self.self_inner_product_vectorized_margin_time(X2), M23, M24], \n",
    "            [M13, M23, self.self_inner_product_vectorized_margin_time(X3), M34], \n",
    "            [M14, M24, M34, self.self_inner_product_vectorized_margin_time(X4)]\n",
    "        ]), axes=(2, 0, 1)) # (4, 4, Nevent) -> (Nevent, 4, 4) inner products, all real numbers \n",
    "        # print(\"shape of M matrix:\", Mmatrix.shape) # TEST \n",
    "        \n",
    "        invMmatrix = self.xp.linalg.inv(Mmatrix) # (Nevent, 4, 4)\n",
    "        \n",
    "        Nvector_col = Nvector[..., self.NX] # (Nevent, 4, 1)\n",
    "        NM = self.MATMUL(invMmatrix, Nvector_col) # (Nevent, 4, 1)\n",
    "        Nvector_row = Nvector[:, self.NX, :] # (Nevent, 1, 4)\n",
    "        NMN = self.MATMUL(Nvector_row, NM) # (Nevent, 1, 1)\n",
    "        \n",
    "        res = 0.5 * NMN[:, 0, 0] # (Nevent) Fstat 0.5 * N^T M^{-1} N\n",
    "        \n",
    "        if return_a:\n",
    "            res_a = NM.squeeze(axis=-1) # (Nevent, 4)\n",
    "            if self.use_gpu:\n",
    "                return res_a.get() # (Nevent, 4)\n",
    "            else: \n",
    "                return res_a # (Nevent, 4)\n",
    "            \n",
    "        if return_recovered_wave: \n",
    "            res_a = NM.squeeze(axis=-1) # (Nevent, 4)\n",
    "            res_wf = res_a[:, 0] * self.TRANS(X1, axes=(1, 2, 0)) # (Nchannel, Nfreq, Nevent)\n",
    "            res_wf += res_a[:, 1] * self.TRANS(X2, axes=(1, 2, 0))\n",
    "            res_wf += res_a[:, 2] * self.TRANS(X3, axes=(1, 2, 0))\n",
    "            res_wf += res_a[:, 3] * self.TRANS(X4, axes=(1, 2, 0)) \n",
    "            return self.TRANS(res_wf, (0, 2, 1)) # (Nchannel, Nevent, Nfreq)\n",
    "\n",
    "        # else:\n",
    "        if self.use_gpu:\n",
    "            return res.get() # (Nevent)\n",
    "        else: \n",
    "            return res \n",
    "        \n",
    "    @staticmethod\n",
    "    def a_to_extrinsic_vectorized(a):\n",
    "        \"\"\" \n",
    "        TODO: expand to HM waveform \n",
    "        Args: \n",
    "            a: (Nevent, 4), numpy array of the a coefficients \n",
    "        Returns: \n",
    "            dictionary of extrinsic parameters \n",
    "        \"\"\"\n",
    "        extrinsic_parameters = dict()\n",
    "        \n",
    "        P = np.linalg.norm(a, axis=1) ** 2 # (Nevent)\n",
    "        Q = a[:, 1] * a[:, 2] - a[:, 0] * a[:, 3] # (Nevent)\n",
    "        Delta = np.sqrt(P ** 2 - 4. * Q ** 2) # (Nevent)\n",
    "        Aplus = np.sqrt((P + Delta) / 2.) # (Nevent)\n",
    "        Across = np.sign(Q) * np.sqrt((P - Delta) / 2.) # (Nevent)\n",
    "        \n",
    "        tmp = Aplus + np.sqrt(Aplus ** 2 - Across ** 2) # (Nevent)\n",
    "        extrinsic_parameters[\"luminosity_distance\"] = 0.5 / tmp # (Nevent)\n",
    "        extrinsic_parameters[\"inclination\"] = np.arccos(Across / tmp) # (Nevent)\n",
    "        # extrinsic_parameters[\"coalescence_phase\"] = -np.arctan(2. * (a[:, 0] * a[:, 1] + a[:, 2] * a[:, 3]) / (a[:, 0] ** 2 + a[:, 2] ** 2 - a[:, 1] ** 2 - a[:, 3] ** 2)) / 2. # (Nevent), one possible solution \n",
    "        # extrinsic_parameters[\"psi\"] = np.arctan(2. * (a[:, 0] * a[:, 2] + a[:, 1] * a[:, 3]) / (a[:, 0] ** 2 + a[:, 1] ** 2 - a[:, 2] ** 2 - a[:, 3] ** 2)) / 4. # (Nevent), one possible solution \n",
    "\n",
    "        P = np.sqrt((a[:, 0] + a[:, 3])**2 + (a[:, 1] - a[:, 2])**2)\n",
    "        Q = np.sqrt((a[:, 0] - a[:, 3])**2 + (a[:, 1] + a[:, 2])**2)\n",
    "        Aplus = P + Q \n",
    "        Across = P - Q \n",
    "        A = Aplus + np.sqrt(Aplus**2 + Across**2)\n",
    "        extrinsic_parameters[\"psi\"] = 0.5 * np.arctan((Aplus*a[:, 3] - Across*a[:, 0]) / (Aplus*a[:, 1] + Across*a[:, 2]))\n",
    "        extrinsic_parameters[\"coalescence_phase\"] = -0.5*np.arctan((Aplus*a[:, 3] - Across*a[:, 0]) / (Aplus*a[:, 2] + Across*a[:, 1])) \n",
    "        extrinsic_parameters[\"psi\"][extrinsic_parameters[\"psi\"]<0.] += PI \n",
    "        extrinsic_parameters[\"coalescence_phase\"][extrinsic_parameters[\"coalescence_phase\"]<0.] += 2.*PI \n",
    "        # extrinsic_parameters[\"inclination\"] = np.arccos(-Across/A)\n",
    "        \n",
    "        if a.shape[0] == 1:\n",
    "            extrinsic_parameters_out = dict() \n",
    "            for k, v in extrinsic_parameters.items():\n",
    "                extrinsic_parameters_out[k] = v[0]\n",
    "            return extrinsic_parameters_out\n",
    "        else:              \n",
    "            return extrinsic_parameters\n",
    "    \n",
    "    @staticmethod\n",
    "    def IntParamDict2ParamArr(param_dict):\n",
    "        return np.array([\n",
    "            np.log10(param_dict['chirp_mass']),\n",
    "            param_dict['mass_ratio'],\n",
    "            param_dict['spin_1z'],\n",
    "            param_dict['spin_2z'],\n",
    "            param_dict['coalescence_time'],\n",
    "            param_dict['longitude'],\n",
    "            np.sin(param_dict['latitude']),\n",
    "        ]) # (Nparams, Nevent)\n",
    "\n",
    "    @staticmethod\n",
    "    def IntParamArr2ParamDict(params):\n",
    "        p = dict()\n",
    "        p['chirp_mass'] = np.power(10., params[0])\n",
    "        p['mass_ratio'] = params[1]\n",
    "        p['spin_1z'] = params[2]\n",
    "        p['spin_2z'] = params[3]\n",
    "        p['coalescence_time'] = params[4]\n",
    "        p['longitude'] = params[5]\n",
    "        p['latitude'] = np.arcsin(params[6])\n",
    "        return p "
   ]
  },
  {
   "cell_type": "markdown",
   "id": "b74073cc",
   "metadata": {},
   "source": [
    "## Data settings "
   ]
  },
  {
   "cell_type": "code",
   "execution_count": 4,
   "id": "61cc324f",
   "metadata": {},
   "outputs": [
    {
     "data": {
      "text/plain": [
       "(21601,)"
      ]
     },
     "execution_count": 4,
     "metadata": {},
     "output_type": "execute_result"
    }
   ],
   "source": [
    "t_start = 10. * DAY # start time in s\n",
    "Tobs = 5. * DAY # data length in s \n",
    "t_end = t_start + Tobs # end time in s \n",
    "dt = 10. # time cadance in s \n",
    "fsample = 1. / dt # sampling rate in Hz \n",
    "data_frequencies_full = np.fft.rfftfreq(n=int(Tobs/dt), d=dt) # frequecies where waveform will be calculated \n",
    "delta_f = 1. / Tobs\n",
    "\n",
    "data_frequencies_full.shape "
   ]
  },
  {
   "cell_type": "code",
   "execution_count": 5,
   "id": "ee935e4e",
   "metadata": {},
   "outputs": [
    {
     "data": {
      "text/plain": [
       "((21077,), (21077,))"
      ]
     },
     "execution_count": 5,
     "metadata": {},
     "output_type": "execute_result"
    }
   ],
   "source": [
    "# mask the \"null\" frequencies, which may cause singularity in the calculation of likelihood \n",
    "mask = np.ones_like(data_frequencies_full, dtype=bool)\n",
    "for i in range(1, 50): \n",
    "    mask_idx = np.where(np.abs(data_frequencies_full - i*0.025)<i*3e-4)[0]\n",
    "    mask[mask_idx] = False \n",
    "\n",
    "# remove the frequencies below Taiji sensitive band \n",
    "mask_idx = np.where(data_frequencies_full < 1e-5)[0]\n",
    "mask[mask_idx] = False \n",
    "\n",
    "data_frequencies = data_frequencies_full[mask]\n",
    "data_frequencies_GPU = xp.array(data_frequencies)\n",
    "\n",
    "valid_idx = np.where(mask == True)[0]\n",
    "\n",
    "data_frequencies.shape, valid_idx.shape "
   ]
  },
  {
   "cell_type": "markdown",
   "id": "ace36ac2",
   "metadata": {},
   "source": [
    "## Set response model "
   ]
  },
  {
   "cell_type": "code",
   "execution_count": 6,
   "id": "e526180f",
   "metadata": {},
   "outputs": [],
   "source": [
    "# the path of Taiji orbit \n",
    "orbit_GPU = Orbit(OrbitDir=\"../../Triangle-Simulator/OrbitData/MicroSateOrbitEclipticTCB\") # create individial orbit objects for CPU and GPU to avoid the confusion of numpy / cupy orbit data \n",
    "\n",
    "# initialize  waveform generator \n",
    "WFG_GPU = BBHxWaveformGenerator(mode=\"primary\", use_gpu=True)\n",
    "\n",
    "# initialize response generator \n",
    "FDTDI_GPU = BBHxFDTDIResponseGenerator(orbit_class=orbit_GPU, waveform_generator=WFG_GPU, use_gpu=True)\n",
    "\n",
    "# response settings \n",
    "response_kwargs_GPU = dict(\n",
    "    modes=[(2,2)], \n",
    "    tmin=t_start / DAY, # start time in day \n",
    "    tmax=t_end / DAY, # end time in day  \n",
    "    TDIGeneration=\"2nd\", # \"1st\" or \"2nd\"\n",
    "    optimal_combination=True, # True for AET, False for XYZ \n",
    "    output_by_mode=False, \n",
    "    interpolation=True,\n",
    ")"
   ]
  },
  {
   "cell_type": "markdown",
   "id": "77fef4d2",
   "metadata": {},
   "source": [
    "## Source parameter priors "
   ]
  },
  {
   "cell_type": "code",
   "execution_count": 7,
   "id": "b639bbfe",
   "metadata": {},
   "outputs": [
    {
     "data": {
      "text/plain": [
       "array([[ 5.5       ,  6.5       ],\n",
       "       [ 0.1       ,  1.        ],\n",
       "       [-0.9       ,  0.9       ],\n",
       "       [-0.9       ,  0.9       ],\n",
       "       [13.        , 15.        ],\n",
       "       [ 0.        ,  6.28318531],\n",
       "       [-1.        ,  1.        ]])"
      ]
     },
     "execution_count": 7,
     "metadata": {},
     "output_type": "execute_result"
    }
   ],
   "source": [
    "lgMc_prior = [5.5, 6.5]\n",
    "q_prior = [0.1, 1]\n",
    "s1_prior = [-0.9, 0.9]\n",
    "s2_prior = [-0.9, 0.9]\n",
    "tc_prior = [t_start/DAY+3., t_end/DAY] # ensure at least 3-day data before merger \n",
    "lam_prior = [0, TWOPI]\n",
    "sinbeta_prior = [-1., 1.]\n",
    "intrinsic_param_priors = np.array([\n",
    "    lgMc_prior, \n",
    "    q_prior, \n",
    "    s1_prior, \n",
    "    s2_prior, \n",
    "    tc_prior, \n",
    "    lam_prior, \n",
    "    sinbeta_prior, \n",
    "])\n",
    "\n",
    "lgdl_prior = [4., 5.]\n",
    "\n",
    "intrinsic_param_priors"
   ]
  },
  {
   "cell_type": "markdown",
   "id": "40b53c1b",
   "metadata": {},
   "source": [
    "## Noise model "
   ]
  },
  {
   "cell_type": "code",
   "execution_count": 8,
   "id": "c36a4c09",
   "metadata": {},
   "outputs": [
    {
     "data": {
      "text/plain": [
       "((3, 21077), (21077, 3, 3))"
      ]
     },
     "execution_count": 8,
     "metadata": {},
     "output_type": "execute_result"
    }
   ],
   "source": [
    "arm_time = (t_start + t_end) / 2. \n",
    "arms = dict()\n",
    "for key in MOSA_labels:\n",
    "    arms[key] = orbit_GPU.LTTfunctions()[key](arm_time)\n",
    "\n",
    "# theoretical PSDs at the given armlengths \n",
    "PSDfunc = TDIPSDs()\n",
    "PSD_channels = np.array([\n",
    "    PSDfunc.PSD_A2_unequal(data_frequencies, arms), \n",
    "    PSDfunc.PSD_E2_unequal(data_frequencies, arms), \n",
    "    PSDfunc.PSD_T2_unequal(data_frequencies, arms)\n",
    "])\n",
    "\n",
    "# covariance matrix \n",
    "CovMat = np.array([\n",
    "    [PSD_channels[0], np.zeros_like(PSD_channels[0]), np.zeros_like(PSD_channels[0])],\n",
    "    [np.zeros_like(PSD_channels[0]), PSD_channels[1], np.zeros_like(PSD_channels[0])],\n",
    "    [np.zeros_like(PSD_channels[0]), np.zeros_like(PSD_channels[0]), PSD_channels[2]]\n",
    "]) / 4. / delta_f # (3, 3, Nf)\n",
    "\n",
    "# inverse of covmatrix\n",
    "InvCovMat = np.linalg.inv(np.transpose(CovMat, (2, 0, 1))) # (Nf, 3, 3)\n",
    "InvCovMat[:, 2, 2] *= 0. # use A, E channels only in the following analysis \n",
    "\n",
    "PSD_channels.shape, InvCovMat.shape "
   ]
  },
  {
   "cell_type": "markdown",
   "id": "f44220a0",
   "metadata": {},
   "source": [
    "## Data simulation "
   ]
  },
  {
   "cell_type": "code",
   "execution_count": 9,
   "id": "6488d635",
   "metadata": {},
   "outputs": [
    {
     "name": "stdout",
     "output_type": "stream",
     "text": [
      "source parameters:\n",
      "chirp_mass : 2036862.1509524677\n",
      "mass_ratio : 0.27396201294212963\n",
      "spin_1z : -0.5884501817920502\n",
      "spin_2z : -0.3066600635072003\n",
      "coalescence_time : 14.821230041709233\n",
      "coalescence_phase : 4.341089463532374\n",
      "luminosity_distance : 49106.41668303898\n",
      "inclination : 2.452423536157308\n",
      "longitude : 4.439931571315981\n",
      "latitude : 0.45096182701120896\n",
      "psi : 2.6761981286754923\n",
      "optimal SNR: 1335.7090753508687\n"
     ]
    }
   ],
   "source": [
    "# generate source parameter and clean signal \n",
    "mbhb_parameters = {\n",
    "    'chirp_mass': np.power(10., np.random.uniform(lgMc_prior[0], lgMc_prior[1])), \n",
    "    'mass_ratio': np.random.uniform(q_prior[0], q_prior[1]), \n",
    "    'spin_1z': np.random.uniform(s1_prior[0], s1_prior[1]),\n",
    "    'spin_2z': np.random.uniform(s2_prior[0], s2_prior[1]),\n",
    "    'coalescence_time': np.random.uniform(tc_prior[0], tc_prior[1]), \n",
    "    'coalescence_phase': np.random.uniform(0, TWOPI),\n",
    "    'luminosity_distance': np.power(10., np.random.uniform(lgdl_prior[0], lgdl_prior[1])), \n",
    "    'inclination': np.arccos(np.random.uniform(-1., 1.)), # [rad]\n",
    "    'longitude': np.random.uniform(lam_prior[0], lam_prior[1]), # [rad]\n",
    "    'latitude': np.arcsin(np.random.uniform(sinbeta_prior[0], sinbeta_prior[1])), # [rad]\n",
    "    'psi': np.random.uniform(0, PI) # [rad]\n",
    "    }\n",
    "wf_channels = FDTDI_GPU.Response(mbhb_parameters, data_frequencies_GPU, **response_kwargs_GPU)\n",
    "\n",
    "# generate frequency-domain noises \n",
    "Re_tmp = np.random.normal(scale=np.sqrt(PSD_channels / 4. / delta_f))\n",
    "Im_tmp = np.random.normal(scale=np.sqrt(PSD_channels / 4. / delta_f))\n",
    "noise_channels = xp.array(Re_tmp + 1.j * Im_tmp) \n",
    "\n",
    "# combine signal and noise \n",
    "data_channels = wf_channels + noise_channels \n",
    "\n",
    "opt_SNR = FrequencyDomainCovarianceSNR(wf_channels.get(), InvCovMat)\n",
    "\n",
    "print(\"source parameters:\")\n",
    "for k, v in mbhb_parameters.items():\n",
    "    print(k, \":\", v)\n",
    "print(\"optimal SNR:\", opt_SNR)"
   ]
  },
  {
   "cell_type": "code",
   "execution_count": 10,
   "id": "32be1c6d",
   "metadata": {},
   "outputs": [
    {
     "data": {
      "text/plain": [
       "Text(0, 0.5, 'Frequency-domain data (1/Hz)')"
      ]
     },
     "execution_count": 10,
     "metadata": {},
     "output_type": "execute_result"
    },
    {
     "data": {
      "image/png": "[encoded data removed]",
      "text/plain": [
       "<Figure size 640x480 with 1 Axes>"
      ]
     },
     "metadata": {},
     "output_type": "display_data"
    }
   ],
   "source": [
    "for ichannel, nchannel in enumerate([\"A\", \"E\", \"T\"]): \n",
    "    plt.loglog(data_frequencies, np.abs(data_channels[ichannel].get()), linewidth=1, alpha=0.5, color=BLUE)\n",
    "    plt.loglog(data_frequencies, np.abs(wf_channels[ichannel].get()), color=RED, linestyle=\":\")\n",
    "    plt.loglog(data_frequencies, np.sqrt(PSD_channels[ichannel] * Tobs / 2.), color=\"grey\", linestyle=\"--\")\n",
    "plt.xlabel(\"Frequency (Hz)\")\n",
    "plt.ylabel(\"Frequency-domain data (1/Hz)\")"
   ]
  },
  {
   "cell_type": "markdown",
   "id": "fb44d8a2",
   "metadata": {},
   "source": [
    "## MLE with  $\\mathcal{F}$-stat "
   ]
  },
  {
   "cell_type": "code",
   "execution_count": 11,
   "id": "fb51309d",
   "metadata": {},
   "outputs": [
    {
     "name": "stdout",
     "output_type": "stream",
     "text": [
      "number of freuqncies: 21077\n",
      "min and max frequencies: 1.1574074074074073e-05 0.04939814814814815\n",
      "response kwargs: {'modes': [(2, 2)], 'tmin': 10.0, 'tmax': 15.0, 'TDIGeneration': '2nd', 'optimal_combination': True, 'output_by_mode': False, 'interpolation': True}\n"
     ]
    }
   ],
   "source": [
    "Fstat = Fstatistics(\n",
    "    response_generator=FDTDI_GPU, \n",
    "    frequency=data_frequencies_GPU, \n",
    "    data=data_channels, \n",
    "    invserse_covariance_matrix=InvCovMat, \n",
    "    response_parameters=response_kwargs_GPU, \n",
    "    use_gpu=True\n",
    ")"
   ]
  },
  {
   "cell_type": "markdown",
   "id": "f9a4bdec",
   "metadata": {},
   "source": [
    "### test waveform and parameter recovery"
   ]
  },
  {
   "cell_type": "code",
   "execution_count": 12,
   "id": "13c102f2",
   "metadata": {},
   "outputs": [
    {
     "data": {
      "text/plain": [
       "{'chirp_mass': 2036862.1509524677,\n",
       " 'mass_ratio': 0.27396201294212963,\n",
       " 'spin_1z': -0.5884501817920502,\n",
       " 'spin_2z': -0.3066600635072003,\n",
       " 'coalescence_time': 14.821230041709233,\n",
       " 'longitude': 4.439931571315981,\n",
       " 'latitude': 0.45096182701120896}"
      ]
     },
     "execution_count": 12,
     "metadata": {},
     "output_type": "execute_result"
    }
   ],
   "source": [
    "int_params = dict()\n",
    "for key in Fstatistics.intrinsic_parameter_names:\n",
    "    int_params[key] = mbhb_parameters[key]\n",
    "int_params"
   ]
  },
  {
   "cell_type": "code",
   "execution_count": 13,
   "id": "8411866e",
   "metadata": {},
   "outputs": [
    {
     "name": "stdout",
     "output_type": "stream",
     "text": [
      "parameter name | difference\n",
      "luminosity_distance : 179.93554139246407\n",
      "inclination : 0.005142659781054881\n",
      "psi : 0.01879934154337004\n",
      "coalescence_phase : 1.5515490726269547\n"
     ]
    }
   ],
   "source": [
    "rec_a = Fstat.calculate_Fstat_vectorized(\n",
    "    intrinsic_parameters=int_params, \n",
    "    return_a=True, \n",
    ")\n",
    "\n",
    "rec_ext_params = Fstat.a_to_extrinsic_vectorized(rec_a)\n",
    "\n",
    "rec_params = dict(int_params, **rec_ext_params)\n",
    "\n",
    "print(\"parameter name | difference\")\n",
    "for k, v in rec_ext_params.items():\n",
    "    print(k, \":\", v-mbhb_parameters[k])"
   ]
  },
  {
   "cell_type": "code",
   "execution_count": 14,
   "id": "97ef0c18",
   "metadata": {},
   "outputs": [
    {
     "data": {
      "text/plain": [
       "(3, 21077)"
      ]
     },
     "execution_count": 14,
     "metadata": {},
     "output_type": "execute_result"
    }
   ],
   "source": [
    "# rec_wave = FDTDI_GPU.Response(\n",
    "#     rec_params, \n",
    "#     data_frequencies_GPU, \n",
    "#     **response_kwargs_GPU\n",
    "# )\n",
    "\n",
    "# it turns out that this method is better than the other \n",
    "rec_wave = Fstat.calculate_Fstat_vectorized(\n",
    "    intrinsic_parameters=int_params, \n",
    "    return_recovered_wave=True, \n",
    ")[:, 0, :]\n",
    "rec_wave.shape "
   ]
  },
  {
   "cell_type": "code",
   "execution_count": 15,
   "id": "7cacc0fe",
   "metadata": {},
   "outputs": [
    {
     "data": {
      "text/plain": [
       "<matplotlib.legend.Legend at 0x78ec674e5f10>"
      ]
     },
     "execution_count": 15,
     "metadata": {},
     "output_type": "execute_result"
    },
    {
     "data": {
      "image/png": "[encoded data removed]",
      "text/plain": [
       "<Figure size 640x480 with 1 Axes>"
      ]
     },
     "metadata": {},
     "output_type": "display_data"
    }
   ],
   "source": [
    "plt.loglog(data_frequencies, np.abs(wf_channels[0].get()) * data_frequencies, label=\"original waveform\")\n",
    "plt.loglog(data_frequencies, np.abs(rec_wave[0].get()) * data_frequencies, linestyle=\"--\", label=\"reconstructed waveform\")\n",
    "plt.loglog(data_frequencies, np.abs(rec_wave[0].get() - wf_channels[0].get()) * data_frequencies, label=\"difference\")\n",
    "plt.loglog(data_frequencies, np.sqrt(PSD_channels[0] * 2. * data_frequencies))\n",
    "plt.ylim(1e-25,)\n",
    "\n",
    "plt.xlabel(\"Frequency (Hz)\")\n",
    "plt.ylabel(\"Characteristic Strain\")\n",
    "plt.legend(loc=\"upper left\", frameon=False)"
   ]
  },
  {
   "cell_type": "markdown",
   "id": "bc92a26b",
   "metadata": {},
   "source": [
    "### optimization from prior "
   ]
  },
  {
   "cell_type": "code",
   "execution_count": 16,
   "id": "dd884ae6",
   "metadata": {},
   "outputs": [
    {
     "name": "stderr",
     "output_type": "stream",
     "text": [
      "/home/ps/miniconda3/envs/tdc/lib/python3.9/site-packages/scipy/optimize/_differentialevolution.py:487: UserWarning: differential_evolution: the 'vectorized' keyword has overridden updating='immediate' to updating='deferred'\n",
      "  with DifferentialEvolutionSolver(func, bounds, args=args,\n"
     ]
    },
    {
     "name": "stdout",
     "output_type": "stream",
     "text": [
      "             message: Optimization terminated successfully.\n",
      "             success: True\n",
      "                 fun: -892080.0313107558\n",
      "                   x: [ 8.091e-01  1.937e-01  1.689e-01  3.506e-01\n",
      "                        9.147e-01  3.652e-01  1.558e-01]\n",
      "                 nit: 376\n",
      "                nfev: 377\n",
      "          population: [[ 8.091e-01  1.937e-01 ...  3.652e-01  1.558e-01]\n",
      "                       [ 8.091e-01  1.938e-01 ...  3.671e-01  1.621e-01]\n",
      "                       ...\n",
      "                       [ 8.091e-01  1.938e-01 ...  3.660e-01  1.580e-01]\n",
      "                       [ 8.090e-01  1.936e-01 ...  3.710e-01  1.651e-01]]\n",
      " population_energies: [-8.921e+05 -8.921e+05 ... -8.921e+05 -8.921e+05]\n"
     ]
    }
   ],
   "source": [
    "from scipy.optimize import differential_evolution\n",
    "\n",
    "# n_dim_int = len(Fstatistics.intrinsic_parameter_names)\n",
    "# print(\"number of parameters to be optimized:\", n_dim_int)\n",
    "\n",
    "def cost_function(norm_int_params):\n",
    "    \"\"\"   \n",
    "        norm_int_params: shape (Nparams, Nevent), normalized to (0, 1)\n",
    "    \"\"\"\n",
    "    int_params = norm_int_params.transpose() * (intrinsic_param_priors[:, 1] - intrinsic_param_priors[:, 0]) + intrinsic_param_priors[:, 0] # (Nevent, Nparams)\n",
    "    params_in = Fstat.IntParamArr2ParamDict(int_params.transpose()) # (Nparams, Nevent) -> dictionary, each item (Nevent)\n",
    "    return -Fstat.calculate_Fstat_vectorized(intrinsic_parameters=params_in) # (Nevent)\n",
    "\n",
    "n_dim_int = 7 \n",
    "lower_bounds = np.zeros(n_dim_int) \n",
    "upper_bounds = np.ones(n_dim_int) \n",
    "bounds = np.array([lower_bounds, upper_bounds]).T # (Nparams, 2)\n",
    "\n",
    "DE_results = [] \n",
    "DE_fun = [] \n",
    "DE_res_snr = [] \n",
    "for _ in range(1):\n",
    "    tmp = differential_evolution(\n",
    "        func=cost_function,\n",
    "        bounds=bounds,\n",
    "        x0=None,\n",
    "        strategy='best1exp',\n",
    "        # strategy='rand1bin',\n",
    "        maxiter=5000,\n",
    "        popsize=10*n_dim_int,\n",
    "        # popsize=6*n_dim_int, \n",
    "        tol=1e-7,\n",
    "        atol=1e-9,\n",
    "        # tol=1e-6,\n",
    "        # atol=1e-8,\n",
    "        mutation=(0.4, 0.95),\n",
    "        recombination=0.7,\n",
    "        disp=False,\n",
    "        polish=False,\n",
    "        vectorized=True,\n",
    "    )\n",
    "    DE_results.append(tmp)\n",
    "    DE_fun.append(tmp.fun)\n",
    "\n",
    "    searched_int_params = Fstat.IntParamArr2ParamDict(tmp.x * (intrinsic_param_priors[:, 1] - intrinsic_param_priors[:, 0]) + intrinsic_param_priors[:, 0])\n",
    "    searched_a = Fstat.calculate_Fstat_vectorized(\n",
    "        intrinsic_parameters=searched_int_params, \n",
    "        return_a=True, \n",
    "    ) # (1, 4)\n",
    "    searched_ext_params = Fstat.a_to_extrinsic_vectorized(searched_a)\n",
    "    searched_params = dict(searched_int_params, **searched_ext_params)\n",
    "    # searched_wf = FDTDI_GPU.Response(\n",
    "    #     searched_params, \n",
    "    #     data_frequencies_GPU, \n",
    "    #     **response_kwargs_GPU\n",
    "    # )\n",
    "    searched_wf = Fstat.calculate_Fstat_vectorized(\n",
    "        searched_int_params, \n",
    "        return_recovered_wave=True \n",
    "    )[:, 0, :]\n",
    "    searched_residual = (searched_wf - data_channels).get()\n",
    "    DE_res_snr.append(np.sqrt(np.abs(FrequencyDomainCovarianceSNR(data_channels=searched_residual, inv_cov=InvCovMat))))\n",
    "\n",
    "DE_result = DE_results[np.argmin(np.array(DE_res_snr))]\n",
    "print(DE_result)"
   ]
  },
  {
   "cell_type": "code",
   "execution_count": 17,
   "id": "c8600145",
   "metadata": {},
   "outputs": [
    {
     "data": {
      "text/plain": [
       "[17.02626384498157]"
      ]
     },
     "execution_count": 17,
     "metadata": {},
     "output_type": "execute_result"
    }
   ],
   "source": [
    "DE_res_snr"
   ]
  },
  {
   "cell_type": "markdown",
   "id": "43e31488",
   "metadata": {},
   "source": [
    "### reconstruct parameters and waveforms "
   ]
  },
  {
   "cell_type": "code",
   "execution_count": 18,
   "id": "0d0cc0e6",
   "metadata": {},
   "outputs": [
    {
     "name": "stdout",
     "output_type": "stream",
     "text": [
      "parameter name | difference\n",
      "chirp_mass 472.596113567939\n",
      "mass_ratio 0.00039523027186005866\n",
      "spin_1z 0.007583663072458169\n",
      "spin_2z 0.037664149349137865\n",
      "coalescence_time 0.008244389908847793\n",
      "longitude 2.145421676962465\n",
      "latitude 1.2101171546170046\n",
      "luminosity_distance 6533.077807515008\n",
      "inclination 1.7148295512084273\n",
      "psi 0.21603906569263298\n",
      "coalescence_phase 1.4188392673048407\n"
     ]
    }
   ],
   "source": [
    "searched_int_params = Fstat.IntParamArr2ParamDict(DE_result.x * (intrinsic_param_priors[:, 1] - intrinsic_param_priors[:, 0]) + intrinsic_param_priors[:, 0])\n",
    "\n",
    "searched_a = Fstat.calculate_Fstat_vectorized(\n",
    "    intrinsic_parameters=searched_int_params, \n",
    "    return_a=True, \n",
    ") # (1, 4)\n",
    "searched_ext_params = Fstat.a_to_extrinsic_vectorized(searched_a)\n",
    "\n",
    "searched_params = dict(searched_int_params, **searched_ext_params)\n",
    "\n",
    "print(\"parameter name | difference\")\n",
    "for k, v in searched_params.items():\n",
    "    print(k, np.abs(v-mbhb_parameters[k]))"
   ]
  },
  {
   "cell_type": "code",
   "execution_count": 19,
   "id": "879f9c17",
   "metadata": {},
   "outputs": [
    {
     "data": {
      "text/plain": [
       "(1e-25, 5.545956015589682e-20)"
      ]
     },
     "execution_count": 19,
     "metadata": {},
     "output_type": "execute_result"
    },
    {
     "data": {
      "image/png": "[encoded data removed]",
      "text/plain": [
       "<Figure size 640x480 with 1 Axes>"
      ]
     },
     "metadata": {},
     "output_type": "display_data"
    }
   ],
   "source": [
    "searched_wf = Fstat.calculate_Fstat_vectorized(\n",
    "    intrinsic_parameters=searched_int_params, \n",
    "    return_recovered_wave=True\n",
    ")[:, 0, :]\n",
    "\n",
    "# searched_wf = FDTDI_GPU.Response(\n",
    "#     searched_params, \n",
    "#     data_frequencies_GPU, \n",
    "#     **response_kwargs_GPU\n",
    "# )\n",
    "\n",
    "plt.loglog(data_frequencies, np.abs(wf_channels[0].get()) * data_frequencies)\n",
    "plt.loglog(data_frequencies, np.abs(searched_wf[0].get()) * data_frequencies, linestyle=\"--\")\n",
    "plt.loglog(data_frequencies, np.abs(searched_wf[0].get() - wf_channels[0].get()) * data_frequencies, linestyle=\"-\")\n",
    "plt.loglog(data_frequencies, np.sqrt(PSD_channels[0] * 2. * data_frequencies))\n",
    "plt.ylim(1e-25, )"
   ]
  },
  {
   "cell_type": "markdown",
   "id": "4e062421",
   "metadata": {},
   "source": [
    "## Fisher analysis "
   ]
  },
  {
   "cell_type": "code",
   "execution_count": 20,
   "id": "fe99befa",
   "metadata": {},
   "outputs": [
    {
     "data": {
      "text/plain": [
       "{'chirp_mass': 1390.0989243362126,\n",
       " 'mass_ratio': 0.0016599587299242935,\n",
       " 'spin_1z': 0.02183728532665153,\n",
       " 'spin_2z': 0.0874380029468599,\n",
       " 'coalescence_time': 0.00035392913105535294,\n",
       " 'coalescence_phase': 0.09567364523824094,\n",
       " 'luminosity_distance': 2573.8070057427262,\n",
       " 'inclination': 0.05301821954251396,\n",
       " 'longitude': 0.14776304811045177,\n",
       " 'latitude': 0.11700629457158111,\n",
       " 'psi': 0.171203401290112}"
      ]
     },
     "execution_count": 20,
     "metadata": {},
     "output_type": "execute_result"
    }
   ],
   "source": [
    "def fisher_waveform_wrapper(param_dict, frequencies):\n",
    "    res = FDTDI_GPU.Response(\n",
    "        parameters=param_dict, \n",
    "        freqs=xp.array(frequencies),  \n",
    "        **response_kwargs_GPU, \n",
    "    )\n",
    "    return res.get()\n",
    "\n",
    "# set initial steps \n",
    "analyze_param_step_dict = {\n",
    "    'chirp_mass': 10.,\n",
    "    'mass_ratio': 0.01,\n",
    "    'spin_1z': 0.01,\n",
    "    'spin_2z': 0.01,\n",
    "    'coalescence_time': 0.001,\n",
    "    'coalescence_phase': 0.01,\n",
    "    'luminosity_distance': 10.,\n",
    "    'inclination': 0.01,\n",
    "    'longitude': 0.01,\n",
    "    'latitude': 0.01,\n",
    "    'psi': 0.01\n",
    "    }\n",
    "for k, v in analyze_param_step_dict.items():\n",
    "    analyze_param_step_dict[k] = -v \n",
    "\n",
    "FIM = MultiChannelFisher(\n",
    "    waveform_generator=fisher_waveform_wrapper, \n",
    "    # param_dict=mbhb_parameters, \n",
    "    param_dict=searched_params, \n",
    "    analyze_param_step_dict=analyze_param_step_dict, \n",
    "    frequency=data_frequencies, \n",
    "    inverse_covariance=InvCovMat, \n",
    "    verbose=0,\n",
    ")\n",
    "\n",
    "FIM.auto_test_step()\n",
    "FIM.calculate_Fisher()\n",
    "FIM.calculate_errors() \n",
    "\n",
    "FIM.param_errors"
   ]
  },
  {
   "cell_type": "code",
   "execution_count": 21,
   "id": "0d80e6c2",
   "metadata": {},
   "outputs": [
    {
     "name": "stdout",
     "output_type": "stream",
     "text": [
      "parameter name | difference | FIM bound | ratio\n",
      "chirp_mass 472.596113567939 1390.0989243362126 0.3399730086070017\n",
      "mass_ratio 0.00039523027186005866 0.0016599587299242935 0.23809644464961133\n",
      "spin_1z 0.007583663072458169 0.02183728532665153 0.34728048651737004\n",
      "spin_2z 0.037664149349137865 0.0874380029468599 0.4307526256292485\n",
      "coalescence_time 0.008244389908847793 0.00035392913105535294 23.293900347407142\n",
      "longitude 2.145421676962465 0.14776304811045177 14.51933825403208\n",
      "latitude 1.2101171546170046 0.11700629457158111 10.342325248806931\n",
      "luminosity_distance 6533.077807515008 2573.8070057427262 2.5382935833721345\n",
      "inclination 1.7148295512084273 0.05301821954251396 32.34415576391336\n",
      "psi 0.21603906569263298 0.171203401290112 1.261885360131046\n",
      "coalescence_phase 1.4188392673048407 0.09567364523824094 14.829990681046278\n"
     ]
    }
   ],
   "source": [
    "print(\"parameter name | difference | FIM bound | ratio\")\n",
    "for k, v in searched_params.items():\n",
    "    print(k, np.abs(v-mbhb_parameters[k]), FIM.param_errors[k], np.abs(v-mbhb_parameters[k]) / FIM.param_errors[k])"
   ]
  },
  {
   "cell_type": "code",
   "execution_count": 22,
   "id": "cf6068a1",
   "metadata": {},
   "outputs": [],
   "source": [
    "# test_dtc = np.linspace(-1e-2, 1e-2, 1000) \n",
    "# test_dsnr = np.zeros_like(test_dtc)\n",
    "\n",
    "# for i in range(len(test_dtc)):\n",
    "#     test_dsnr[i] = FrequencyDomainCovarianceSNR(data_channels=(wf_channels-searched_wf*xp.exp(1.j*TWOPI*data_frequencies_GPU*test_dtc[i]*DAY)).get(), inv_cov=InvCovMat)"
   ]
  },
  {
   "cell_type": "code",
   "execution_count": 23,
   "id": "1388c7f3",
   "metadata": {},
   "outputs": [],
   "source": [
    "# plt.plot(test_dtc, test_dsnr)\n",
    "# plt.vlines(mbhb_parameters[\"coalescence_time\"] - searched_params[\"coalescence_time\"], 0, 10000)"
   ]
  },
  {
   "cell_type": "markdown",
   "id": "73136aa2",
   "metadata": {},
   "source": [
    "## Test across population "
   ]
  },
  {
   "cell_type": "code",
   "execution_count": 24,
   "id": "6e36d858",
   "metadata": {},
   "outputs": [
    {
     "name": "stderr",
     "output_type": "stream",
     "text": [
      "  0%|          | 0/100 [00:00<?, ?it/s]/home/ps/miniconda3/envs/tdc/lib/python3.9/site-packages/scipy/optimize/_differentialevolution.py:487: UserWarning: differential_evolution: the 'vectorized' keyword has overridden updating='immediate' to updating='deferred'\n",
      "  with DifferentialEvolutionSolver(func, bounds, args=args,\n"
     ]
    },
    {
     "name": "stdout",
     "output_type": "stream",
     "text": [
      "number of freuqncies: 21077\n",
      "min and max frequencies: 1.1574074074074073e-05 0.04939814814814815\n",
      "response kwargs: {'modes': [(2, 2)], 'tmin': 10.0, 'tmax': 15.0, 'TDIGeneration': '2nd', 'optimal_combination': True, 'output_by_mode': False, 'interpolation': True}\n"
     ]
    },
    {
     "name": "stderr",
     "output_type": "stream",
     "text": [
      "  1%|          | 1/100 [06:34<10:51:39, 394.94s/it]"
     ]
    },
    {
     "name": "stdout",
     "output_type": "stream",
     "text": [
      "number of freuqncies: 21077\n",
      "min and max frequencies: 1.1574074074074073e-05 0.04939814814814815\n",
      "response kwargs: {'modes': [(2, 2)], 'tmin': 10.0, 'tmax': 15.0, 'TDIGeneration': '2nd', 'optimal_combination': True, 'output_by_mode': False, 'interpolation': True}\n"
     ]
    },
    {
     "name": "stderr",
     "output_type": "stream",
     "text": [
      "  2%|▏         | 2/100 [13:03<10:39:16, 391.39s/it]"
     ]
    },
    {
     "name": "stdout",
     "output_type": "stream",
     "text": [
      "number of freuqncies: 21077\n",
      "min and max frequencies: 1.1574074074074073e-05 0.04939814814814815\n",
      "response kwargs: {'modes': [(2, 2)], 'tmin': 10.0, 'tmax': 15.0, 'TDIGeneration': '2nd', 'optimal_combination': True, 'output_by_mode': False, 'interpolation': True}\n"
     ]
    },
    {
     "name": "stderr",
     "output_type": "stream",
     "text": [
      "  3%|▎         | 3/100 [20:20<11:06:24, 412.21s/it]"
     ]
    },
    {
     "name": "stdout",
     "output_type": "stream",
     "text": [
      "number of freuqncies: 21077\n",
      "min and max frequencies: 1.1574074074074073e-05 0.04939814814814815\n",
      "response kwargs: {'modes': [(2, 2)], 'tmin': 10.0, 'tmax': 15.0, 'TDIGeneration': '2nd', 'optimal_combination': True, 'output_by_mode': False, 'interpolation': True}\n"
     ]
    },
    {
     "name": "stderr",
     "output_type": "stream",
     "text": [
      "  4%|▍         | 4/100 [26:58<10:50:33, 406.60s/it]"
     ]
    },
    {
     "name": "stdout",
     "output_type": "stream",
     "text": [
      "number of freuqncies: 21077\n",
      "min and max frequencies: 1.1574074074074073e-05 0.04939814814814815\n",
      "response kwargs: {'modes': [(2, 2)], 'tmin': 10.0, 'tmax': 15.0, 'TDIGeneration': '2nd', 'optimal_combination': True, 'output_by_mode': False, 'interpolation': True}\n"
     ]
    },
    {
     "name": "stderr",
     "output_type": "stream",
     "text": [
      "  5%|▌         | 5/100 [34:50<11:20:55, 430.05s/it]"
     ]
    },
    {
     "name": "stdout",
     "output_type": "stream",
     "text": [
      "number of freuqncies: 21077\n",
      "min and max frequencies: 1.1574074074074073e-05 0.04939814814814815\n",
      "response kwargs: {'modes': [(2, 2)], 'tmin': 10.0, 'tmax': 15.0, 'TDIGeneration': '2nd', 'optimal_combination': True, 'output_by_mode': False, 'interpolation': True}\n"
     ]
    },
    {
     "name": "stderr",
     "output_type": "stream",
     "text": [
      "  6%|▌         | 6/100 [39:29<9:53:25, 378.78s/it] "
     ]
    },
    {
     "name": "stdout",
     "output_type": "stream",
     "text": [
      "number of freuqncies: 21077\n",
      "min and max frequencies: 1.1574074074074073e-05 0.04939814814814815\n",
      "response kwargs: {'modes': [(2, 2)], 'tmin': 10.0, 'tmax': 15.0, 'TDIGeneration': '2nd', 'optimal_combination': True, 'output_by_mode': False, 'interpolation': True}\n"
     ]
    },
    {
     "name": "stderr",
     "output_type": "stream",
     "text": [
      "  7%|▋         | 7/100 [47:54<10:50:54, 419.94s/it]"
     ]
    },
    {
     "name": "stdout",
     "output_type": "stream",
     "text": [
      "number of freuqncies: 21077\n",
      "min and max frequencies: 1.1574074074074073e-05 0.04939814814814815\n",
      "response kwargs: {'modes': [(2, 2)], 'tmin': 10.0, 'tmax': 15.0, 'TDIGeneration': '2nd', 'optimal_combination': True, 'output_by_mode': False, 'interpolation': True}\n"
     ]
    },
    {
     "name": "stderr",
     "output_type": "stream",
     "text": [
      "  8%|▊         | 8/100 [53:31<10:03:31, 393.60s/it]"
     ]
    },
    {
     "name": "stdout",
     "output_type": "stream",
     "text": [
      "number of freuqncies: 21077\n",
      "min and max frequencies: 1.1574074074074073e-05 0.04939814814814815\n",
      "response kwargs: {'modes': [(2, 2)], 'tmin': 10.0, 'tmax': 15.0, 'TDIGeneration': '2nd', 'optimal_combination': True, 'output_by_mode': False, 'interpolation': True}\n"
     ]
    },
    {
     "name": "stderr",
     "output_type": "stream",
     "text": [
      "  9%|▉         | 9/100 [1:00:40<10:13:29, 404.50s/it]"
     ]
    },
    {
     "name": "stdout",
     "output_type": "stream",
     "text": [
      "number of freuqncies: 21077\n",
      "min and max frequencies: 1.1574074074074073e-05 0.04939814814814815\n",
      "response kwargs: {'modes': [(2, 2)], 'tmin': 10.0, 'tmax': 15.0, 'TDIGeneration': '2nd', 'optimal_combination': True, 'output_by_mode': False, 'interpolation': True}\n"
     ]
    },
    {
     "name": "stderr",
     "output_type": "stream",
     "text": [
      " 10%|█         | 10/100 [1:10:15<11:25:53, 457.26s/it]"
     ]
    },
    {
     "name": "stdout",
     "output_type": "stream",
     "text": [
      "number of freuqncies: 21077\n",
      "min and max frequencies: 1.1574074074074073e-05 0.04939814814814815\n",
      "response kwargs: {'modes': [(2, 2)], 'tmin': 10.0, 'tmax': 15.0, 'TDIGeneration': '2nd', 'optimal_combination': True, 'output_by_mode': False, 'interpolation': True}\n"
     ]
    },
    {
     "name": "stderr",
     "output_type": "stream",
     "text": [
      " 11%|█         | 11/100 [1:20:08<12:20:06, 498.95s/it]"
     ]
    },
    {
     "name": "stdout",
     "output_type": "stream",
     "text": [
      "number of freuqncies: 21077\n",
      "min and max frequencies: 1.1574074074074073e-05 0.04939814814814815\n",
      "response kwargs: {'modes': [(2, 2)], 'tmin': 10.0, 'tmax': 15.0, 'TDIGeneration': '2nd', 'optimal_combination': True, 'output_by_mode': False, 'interpolation': True}\n"
     ]
    },
    {
     "name": "stderr",
     "output_type": "stream",
     "text": [
      " 12%|█▏        | 12/100 [1:27:08<11:36:20, 474.78s/it]"
     ]
    },
    {
     "name": "stdout",
     "output_type": "stream",
     "text": [
      "number of freuqncies: 21077\n",
      "min and max frequencies: 1.1574074074074073e-05 0.04939814814814815\n",
      "response kwargs: {'modes': [(2, 2)], 'tmin': 10.0, 'tmax': 15.0, 'TDIGeneration': '2nd', 'optimal_combination': True, 'output_by_mode': False, 'interpolation': True}\n"
     ]
    },
    {
     "name": "stderr",
     "output_type": "stream",
     "text": [
      " 13%|█▎        | 13/100 [1:33:18<10:42:27, 443.07s/it]"
     ]
    },
    {
     "name": "stdout",
     "output_type": "stream",
     "text": [
      "number of freuqncies: 21077\n",
      "min and max frequencies: 1.1574074074074073e-05 0.04939814814814815\n",
      "response kwargs: {'modes': [(2, 2)], 'tmin': 10.0, 'tmax': 15.0, 'TDIGeneration': '2nd', 'optimal_combination': True, 'output_by_mode': False, 'interpolation': True}\n"
     ]
    },
    {
     "name": "stderr",
     "output_type": "stream",
     "text": [
      " 14%|█▍        | 14/100 [1:40:04<10:18:54, 431.79s/it]"
     ]
    },
    {
     "name": "stdout",
     "output_type": "stream",
     "text": [
      "number of freuqncies: 21077\n",
      "min and max frequencies: 1.1574074074074073e-05 0.04939814814814815\n",
      "response kwargs: {'modes': [(2, 2)], 'tmin': 10.0, 'tmax': 15.0, 'TDIGeneration': '2nd', 'optimal_combination': True, 'output_by_mode': False, 'interpolation': True}\n"
     ]
    },
    {
     "name": "stderr",
     "output_type": "stream",
     "text": [
      " 15%|█▌        | 15/100 [1:48:12<10:36:00, 448.94s/it]"
     ]
    },
    {
     "name": "stdout",
     "output_type": "stream",
     "text": [
      "number of freuqncies: 21077\n",
      "min and max frequencies: 1.1574074074074073e-05 0.04939814814814815\n",
      "response kwargs: {'modes': [(2, 2)], 'tmin': 10.0, 'tmax': 15.0, 'TDIGeneration': '2nd', 'optimal_combination': True, 'output_by_mode': False, 'interpolation': True}\n"
     ]
    },
    {
     "name": "stderr",
     "output_type": "stream",
     "text": [
      " 16%|█▌        | 16/100 [1:58:21<11:35:56, 497.10s/it]"
     ]
    },
    {
     "name": "stdout",
     "output_type": "stream",
     "text": [
      "number of freuqncies: 21077\n",
      "min and max frequencies: 1.1574074074074073e-05 0.04939814814814815\n",
      "response kwargs: {'modes': [(2, 2)], 'tmin': 10.0, 'tmax': 15.0, 'TDIGeneration': '2nd', 'optimal_combination': True, 'output_by_mode': False, 'interpolation': True}\n"
     ]
    },
    {
     "name": "stderr",
     "output_type": "stream",
     "text": [
      " 17%|█▋        | 17/100 [2:07:45<11:55:25, 517.18s/it]"
     ]
    },
    {
     "name": "stdout",
     "output_type": "stream",
     "text": [
      "number of freuqncies: 21077\n",
      "min and max frequencies: 1.1574074074074073e-05 0.04939814814814815\n",
      "response kwargs: {'modes': [(2, 2)], 'tmin': 10.0, 'tmax': 15.0, 'TDIGeneration': '2nd', 'optimal_combination': True, 'output_by_mode': False, 'interpolation': True}\n"
     ]
    },
    {
     "name": "stderr",
     "output_type": "stream",
     "text": [
      " 18%|█▊        | 18/100 [2:14:44<11:06:15, 487.51s/it]"
     ]
    },
    {
     "name": "stdout",
     "output_type": "stream",
     "text": [
      "number of freuqncies: 21077\n",
      "min and max frequencies: 1.1574074074074073e-05 0.04939814814814815\n",
      "response kwargs: {'modes': [(2, 2)], 'tmin': 10.0, 'tmax': 15.0, 'TDIGeneration': '2nd', 'optimal_combination': True, 'output_by_mode': False, 'interpolation': True}\n"
     ]
    },
    {
     "name": "stderr",
     "output_type": "stream",
     "text": [
      " 19%|█▉        | 19/100 [2:20:45<10:06:54, 449.56s/it]"
     ]
    },
    {
     "name": "stdout",
     "output_type": "stream",
     "text": [
      "number of freuqncies: 21077\n",
      "min and max frequencies: 1.1574074074074073e-05 0.04939814814814815\n",
      "response kwargs: {'modes': [(2, 2)], 'tmin': 10.0, 'tmax': 15.0, 'TDIGeneration': '2nd', 'optimal_combination': True, 'output_by_mode': False, 'interpolation': True}\n"
     ]
    },
    {
     "name": "stderr",
     "output_type": "stream",
     "text": [
      " 20%|██        | 20/100 [2:26:02<9:06:17, 409.72s/it] "
     ]
    },
    {
     "name": "stdout",
     "output_type": "stream",
     "text": [
      "number of freuqncies: 21077\n",
      "min and max frequencies: 1.1574074074074073e-05 0.04939814814814815\n",
      "response kwargs: {'modes': [(2, 2)], 'tmin': 10.0, 'tmax': 15.0, 'TDIGeneration': '2nd', 'optimal_combination': True, 'output_by_mode': False, 'interpolation': True}\n"
     ]
    },
    {
     "name": "stderr",
     "output_type": "stream",
     "text": [
      " 21%|██        | 21/100 [2:32:19<8:46:46, 400.08s/it]"
     ]
    },
    {
     "name": "stdout",
     "output_type": "stream",
     "text": [
      "number of freuqncies: 21077\n",
      "min and max frequencies: 1.1574074074074073e-05 0.04939814814814815\n",
      "response kwargs: {'modes': [(2, 2)], 'tmin': 10.0, 'tmax': 15.0, 'TDIGeneration': '2nd', 'optimal_combination': True, 'output_by_mode': False, 'interpolation': True}\n"
     ]
    },
    {
     "name": "stderr",
     "output_type": "stream",
     "text": [
      " 22%|██▏       | 22/100 [2:39:23<8:49:17, 407.14s/it]"
     ]
    },
    {
     "name": "stdout",
     "output_type": "stream",
     "text": [
      "number of freuqncies: 21077\n",
      "min and max frequencies: 1.1574074074074073e-05 0.04939814814814815\n",
      "response kwargs: {'modes': [(2, 2)], 'tmin': 10.0, 'tmax': 15.0, 'TDIGeneration': '2nd', 'optimal_combination': True, 'output_by_mode': False, 'interpolation': True}\n"
     ]
    },
    {
     "name": "stderr",
     "output_type": "stream",
     "text": [
      " 23%|██▎       | 23/100 [2:43:37<7:43:42, 361.32s/it]"
     ]
    },
    {
     "name": "stdout",
     "output_type": "stream",
     "text": [
      "number of freuqncies: 21077\n",
      "min and max frequencies: 1.1574074074074073e-05 0.04939814814814815\n",
      "response kwargs: {'modes': [(2, 2)], 'tmin': 10.0, 'tmax': 15.0, 'TDIGeneration': '2nd', 'optimal_combination': True, 'output_by_mode': False, 'interpolation': True}\n"
     ]
    },
    {
     "name": "stderr",
     "output_type": "stream",
     "text": [
      " 24%|██▍       | 24/100 [2:47:39<6:52:19, 325.52s/it]"
     ]
    },
    {
     "name": "stdout",
     "output_type": "stream",
     "text": [
      "number of freuqncies: 21077\n",
      "min and max frequencies: 1.1574074074074073e-05 0.04939814814814815\n",
      "response kwargs: {'modes': [(2, 2)], 'tmin': 10.0, 'tmax': 15.0, 'TDIGeneration': '2nd', 'optimal_combination': True, 'output_by_mode': False, 'interpolation': True}\n"
     ]
    },
    {
     "name": "stderr",
     "output_type": "stream",
     "text": [
      " 25%|██▌       | 25/100 [2:55:14<7:35:28, 364.38s/it]"
     ]
    },
    {
     "name": "stdout",
     "output_type": "stream",
     "text": [
      "number of freuqncies: 21077\n",
      "min and max frequencies: 1.1574074074074073e-05 0.04939814814814815\n",
      "response kwargs: {'modes': [(2, 2)], 'tmin': 10.0, 'tmax': 15.0, 'TDIGeneration': '2nd', 'optimal_combination': True, 'output_by_mode': False, 'interpolation': True}\n"
     ]
    },
    {
     "name": "stderr",
     "output_type": "stream",
     "text": [
      " 26%|██▌       | 26/100 [3:03:50<8:25:24, 409.79s/it]"
     ]
    },
    {
     "name": "stdout",
     "output_type": "stream",
     "text": [
      "number of freuqncies: 21077\n",
      "min and max frequencies: 1.1574074074074073e-05 0.04939814814814815\n",
      "response kwargs: {'modes': [(2, 2)], 'tmin': 10.0, 'tmax': 15.0, 'TDIGeneration': '2nd', 'optimal_combination': True, 'output_by_mode': False, 'interpolation': True}\n"
     ]
    },
    {
     "name": "stderr",
     "output_type": "stream",
     "text": [
      " 27%|██▋       | 27/100 [3:13:31<9:20:57, 461.06s/it]"
     ]
    },
    {
     "name": "stdout",
     "output_type": "stream",
     "text": [
      "number of freuqncies: 21077\n",
      "min and max frequencies: 1.1574074074074073e-05 0.04939814814814815\n",
      "response kwargs: {'modes': [(2, 2)], 'tmin': 10.0, 'tmax': 15.0, 'TDIGeneration': '2nd', 'optimal_combination': True, 'output_by_mode': False, 'interpolation': True}\n"
     ]
    },
    {
     "name": "stderr",
     "output_type": "stream",
     "text": [
      " 28%|██▊       | 28/100 [3:25:23<10:43:41, 536.42s/it]"
     ]
    },
    {
     "name": "stdout",
     "output_type": "stream",
     "text": [
      "number of freuqncies: 21077\n",
      "min and max frequencies: 1.1574074074074073e-05 0.04939814814814815\n",
      "response kwargs: {'modes': [(2, 2)], 'tmin': 10.0, 'tmax': 15.0, 'TDIGeneration': '2nd', 'optimal_combination': True, 'output_by_mode': False, 'interpolation': True}\n"
     ]
    },
    {
     "name": "stderr",
     "output_type": "stream",
     "text": [
      " 29%|██▉       | 29/100 [3:30:32<9:14:05, 468.24s/it] "
     ]
    },
    {
     "name": "stdout",
     "output_type": "stream",
     "text": [
      "number of freuqncies: 21077\n",
      "min and max frequencies: 1.1574074074074073e-05 0.04939814814814815\n",
      "response kwargs: {'modes': [(2, 2)], 'tmin': 10.0, 'tmax': 15.0, 'TDIGeneration': '2nd', 'optimal_combination': True, 'output_by_mode': False, 'interpolation': True}\n"
     ]
    },
    {
     "name": "stderr",
     "output_type": "stream",
     "text": [
      " 30%|███       | 30/100 [3:37:38<8:51:18, 455.41s/it]"
     ]
    },
    {
     "name": "stdout",
     "output_type": "stream",
     "text": [
      "number of freuqncies: 21077\n",
      "min and max frequencies: 1.1574074074074073e-05 0.04939814814814815\n",
      "response kwargs: {'modes': [(2, 2)], 'tmin': 10.0, 'tmax': 15.0, 'TDIGeneration': '2nd', 'optimal_combination': True, 'output_by_mode': False, 'interpolation': True}\n"
     ]
    },
    {
     "name": "stderr",
     "output_type": "stream",
     "text": [
      " 31%|███       | 31/100 [3:43:51<8:15:18, 430.70s/it]"
     ]
    },
    {
     "name": "stdout",
     "output_type": "stream",
     "text": [
      "number of freuqncies: 21077\n",
      "min and max frequencies: 1.1574074074074073e-05 0.04939814814814815\n",
      "response kwargs: {'modes': [(2, 2)], 'tmin': 10.0, 'tmax': 15.0, 'TDIGeneration': '2nd', 'optimal_combination': True, 'output_by_mode': False, 'interpolation': True}\n"
     ]
    },
    {
     "name": "stderr",
     "output_type": "stream",
     "text": [
      " 32%|███▏      | 32/100 [3:54:48<9:25:18, 498.79s/it]"
     ]
    },
    {
     "name": "stdout",
     "output_type": "stream",
     "text": [
      "number of freuqncies: 21077\n",
      "min and max frequencies: 1.1574074074074073e-05 0.04939814814814815\n",
      "response kwargs: {'modes': [(2, 2)], 'tmin': 10.0, 'tmax': 15.0, 'TDIGeneration': '2nd', 'optimal_combination': True, 'output_by_mode': False, 'interpolation': True}\n"
     ]
    },
    {
     "name": "stderr",
     "output_type": "stream",
     "text": [
      " 33%|███▎      | 33/100 [4:04:21<9:41:50, 521.05s/it]"
     ]
    },
    {
     "name": "stdout",
     "output_type": "stream",
     "text": [
      "number of freuqncies: 21077\n",
      "min and max frequencies: 1.1574074074074073e-05 0.04939814814814815\n",
      "response kwargs: {'modes': [(2, 2)], 'tmin': 10.0, 'tmax': 15.0, 'TDIGeneration': '2nd', 'optimal_combination': True, 'output_by_mode': False, 'interpolation': True}\n"
     ]
    },
    {
     "name": "stderr",
     "output_type": "stream",
     "text": [
      " 34%|███▍      | 34/100 [4:10:51<8:49:49, 481.66s/it]"
     ]
    },
    {
     "name": "stdout",
     "output_type": "stream",
     "text": [
      "number of freuqncies: 21077\n",
      "min and max frequencies: 1.1574074074074073e-05 0.04939814814814815\n",
      "response kwargs: {'modes': [(2, 2)], 'tmin': 10.0, 'tmax': 15.0, 'TDIGeneration': '2nd', 'optimal_combination': True, 'output_by_mode': False, 'interpolation': True}\n"
     ]
    },
    {
     "name": "stderr",
     "output_type": "stream",
     "text": [
      " 35%|███▌      | 35/100 [4:19:23<8:51:39, 490.77s/it]"
     ]
    },
    {
     "name": "stdout",
     "output_type": "stream",
     "text": [
      "number of freuqncies: 21077\n",
      "min and max frequencies: 1.1574074074074073e-05 0.04939814814814815\n",
      "response kwargs: {'modes': [(2, 2)], 'tmin': 10.0, 'tmax': 15.0, 'TDIGeneration': '2nd', 'optimal_combination': True, 'output_by_mode': False, 'interpolation': True}\n"
     ]
    },
    {
     "name": "stderr",
     "output_type": "stream",
     "text": [
      " 36%|███▌      | 36/100 [4:27:26<8:41:04, 488.51s/it]"
     ]
    },
    {
     "name": "stdout",
     "output_type": "stream",
     "text": [
      "number of freuqncies: 21077\n",
      "min and max frequencies: 1.1574074074074073e-05 0.04939814814814815\n",
      "response kwargs: {'modes': [(2, 2)], 'tmin': 10.0, 'tmax': 15.0, 'TDIGeneration': '2nd', 'optimal_combination': True, 'output_by_mode': False, 'interpolation': True}\n"
     ]
    },
    {
     "name": "stderr",
     "output_type": "stream",
     "text": [
      " 37%|███▋      | 37/100 [4:34:42<8:16:06, 472.49s/it]"
     ]
    },
    {
     "name": "stdout",
     "output_type": "stream",
     "text": [
      "number of freuqncies: 21077\n",
      "min and max frequencies: 1.1574074074074073e-05 0.04939814814814815\n",
      "response kwargs: {'modes': [(2, 2)], 'tmin': 10.0, 'tmax': 15.0, 'TDIGeneration': '2nd', 'optimal_combination': True, 'output_by_mode': False, 'interpolation': True}\n"
     ]
    },
    {
     "name": "stderr",
     "output_type": "stream",
     "text": [
      " 38%|███▊      | 38/100 [4:45:59<9:11:38, 533.85s/it]"
     ]
    },
    {
     "name": "stdout",
     "output_type": "stream",
     "text": [
      "number of freuqncies: 21077\n",
      "min and max frequencies: 1.1574074074074073e-05 0.04939814814814815\n",
      "response kwargs: {'modes': [(2, 2)], 'tmin': 10.0, 'tmax': 15.0, 'TDIGeneration': '2nd', 'optimal_combination': True, 'output_by_mode': False, 'interpolation': True}\n"
     ]
    },
    {
     "name": "stderr",
     "output_type": "stream",
     "text": [
      " 39%|███▉      | 39/100 [4:52:37<8:21:17, 493.08s/it]"
     ]
    },
    {
     "name": "stdout",
     "output_type": "stream",
     "text": [
      "number of freuqncies: 21077\n",
      "min and max frequencies: 1.1574074074074073e-05 0.04939814814814815\n",
      "response kwargs: {'modes': [(2, 2)], 'tmin': 10.0, 'tmax': 15.0, 'TDIGeneration': '2nd', 'optimal_combination': True, 'output_by_mode': False, 'interpolation': True}\n"
     ]
    },
    {
     "name": "stderr",
     "output_type": "stream",
     "text": [
      " 40%|████      | 40/100 [5:00:02<7:58:43, 478.73s/it]"
     ]
    },
    {
     "name": "stdout",
     "output_type": "stream",
     "text": [
      "number of freuqncies: 21077\n",
      "min and max frequencies: 1.1574074074074073e-05 0.04939814814814815\n",
      "response kwargs: {'modes': [(2, 2)], 'tmin': 10.0, 'tmax': 15.0, 'TDIGeneration': '2nd', 'optimal_combination': True, 'output_by_mode': False, 'interpolation': True}\n"
     ]
    },
    {
     "name": "stderr",
     "output_type": "stream",
     "text": [
      " 41%|████      | 41/100 [5:05:55<7:13:35, 440.94s/it]"
     ]
    },
    {
     "name": "stdout",
     "output_type": "stream",
     "text": [
      "number of freuqncies: 21077\n",
      "min and max frequencies: 1.1574074074074073e-05 0.04939814814814815\n",
      "response kwargs: {'modes': [(2, 2)], 'tmin': 10.0, 'tmax': 15.0, 'TDIGeneration': '2nd', 'optimal_combination': True, 'output_by_mode': False, 'interpolation': True}\n"
     ]
    },
    {
     "name": "stderr",
     "output_type": "stream",
     "text": [
      " 42%|████▏     | 42/100 [5:13:55<7:17:48, 452.91s/it]"
     ]
    },
    {
     "name": "stdout",
     "output_type": "stream",
     "text": [
      "number of freuqncies: 21077\n",
      "min and max frequencies: 1.1574074074074073e-05 0.04939814814814815\n",
      "response kwargs: {'modes': [(2, 2)], 'tmin': 10.0, 'tmax': 15.0, 'TDIGeneration': '2nd', 'optimal_combination': True, 'output_by_mode': False, 'interpolation': True}\n"
     ]
    },
    {
     "name": "stderr",
     "output_type": "stream",
     "text": [
      " 43%|████▎     | 43/100 [5:26:24<8:34:39, 541.75s/it]"
     ]
    },
    {
     "name": "stdout",
     "output_type": "stream",
     "text": [
      "number of freuqncies: 21077\n",
      "min and max frequencies: 1.1574074074074073e-05 0.04939814814814815\n",
      "response kwargs: {'modes': [(2, 2)], 'tmin': 10.0, 'tmax': 15.0, 'TDIGeneration': '2nd', 'optimal_combination': True, 'output_by_mode': False, 'interpolation': True}\n"
     ]
    },
    {
     "name": "stderr",
     "output_type": "stream",
     "text": [
      " 44%|████▍     | 44/100 [5:34:09<8:04:00, 518.58s/it]"
     ]
    },
    {
     "name": "stdout",
     "output_type": "stream",
     "text": [
      "number of freuqncies: 21077\n",
      "min and max frequencies: 1.1574074074074073e-05 0.04939814814814815\n",
      "response kwargs: {'modes': [(2, 2)], 'tmin': 10.0, 'tmax': 15.0, 'TDIGeneration': '2nd', 'optimal_combination': True, 'output_by_mode': False, 'interpolation': True}\n"
     ]
    },
    {
     "name": "stderr",
     "output_type": "stream",
     "text": [
      " 45%|████▌     | 45/100 [5:39:36<7:02:38, 461.06s/it]"
     ]
    },
    {
     "name": "stdout",
     "output_type": "stream",
     "text": [
      "number of freuqncies: 21077\n",
      "min and max frequencies: 1.1574074074074073e-05 0.04939814814814815\n",
      "response kwargs: {'modes': [(2, 2)], 'tmin': 10.0, 'tmax': 15.0, 'TDIGeneration': '2nd', 'optimal_combination': True, 'output_by_mode': False, 'interpolation': True}\n"
     ]
    },
    {
     "name": "stderr",
     "output_type": "stream",
     "text": [
      " 46%|████▌     | 46/100 [5:46:54<6:48:53, 454.33s/it]"
     ]
    },
    {
     "name": "stdout",
     "output_type": "stream",
     "text": [
      "number of freuqncies: 21077\n",
      "min and max frequencies: 1.1574074074074073e-05 0.04939814814814815\n",
      "response kwargs: {'modes': [(2, 2)], 'tmin': 10.0, 'tmax': 15.0, 'TDIGeneration': '2nd', 'optimal_combination': True, 'output_by_mode': False, 'interpolation': True}\n"
     ]
    },
    {
     "name": "stderr",
     "output_type": "stream",
     "text": [
      " 47%|████▋     | 47/100 [5:53:20<6:23:05, 433.68s/it]"
     ]
    },
    {
     "name": "stdout",
     "output_type": "stream",
     "text": [
      "number of freuqncies: 21077\n",
      "min and max frequencies: 1.1574074074074073e-05 0.04939814814814815\n",
      "response kwargs: {'modes': [(2, 2)], 'tmin': 10.0, 'tmax': 15.0, 'TDIGeneration': '2nd', 'optimal_combination': True, 'output_by_mode': False, 'interpolation': True}\n"
     ]
    },
    {
     "name": "stderr",
     "output_type": "stream",
     "text": [
      "/home/ps/miniconda3/envs/tri_env/lib/python3.9/site-packages/Triangle_BBH/Fisher.py:298: RuntimeWarning: invalid value encountered in sqrt\n",
      "  errors = np.sqrt(np.diagonal(Covariance))\n",
      " 48%|████▊     | 48/100 [5:59:12<5:54:31, 409.06s/it]"
     ]
    },
    {
     "name": "stdout",
     "output_type": "stream",
     "text": [
      "number of freuqncies: 21077\n",
      "min and max frequencies: 1.1574074074074073e-05 0.04939814814814815\n",
      "response kwargs: {'modes': [(2, 2)], 'tmin': 10.0, 'tmax': 15.0, 'TDIGeneration': '2nd', 'optimal_combination': True, 'output_by_mode': False, 'interpolation': True}\n"
     ]
    },
    {
     "name": "stderr",
     "output_type": "stream",
     "text": [
      " 49%|████▉     | 49/100 [6:06:37<5:56:54, 419.89s/it]"
     ]
    },
    {
     "name": "stdout",
     "output_type": "stream",
     "text": [
      "number of freuqncies: 21077\n",
      "min and max frequencies: 1.1574074074074073e-05 0.04939814814814815\n",
      "response kwargs: {'modes': [(2, 2)], 'tmin': 10.0, 'tmax': 15.0, 'TDIGeneration': '2nd', 'optimal_combination': True, 'output_by_mode': False, 'interpolation': True}\n"
     ]
    },
    {
     "name": "stderr",
     "output_type": "stream",
     "text": [
      " 50%|█████     | 50/100 [6:13:46<5:52:14, 422.69s/it]"
     ]
    },
    {
     "name": "stdout",
     "output_type": "stream",
     "text": [
      "number of freuqncies: 21077\n",
      "min and max frequencies: 1.1574074074074073e-05 0.04939814814814815\n",
      "response kwargs: {'modes': [(2, 2)], 'tmin': 10.0, 'tmax': 15.0, 'TDIGeneration': '2nd', 'optimal_combination': True, 'output_by_mode': False, 'interpolation': True}\n"
     ]
    },
    {
     "name": "stderr",
     "output_type": "stream",
     "text": [
      " 51%|█████     | 51/100 [6:20:21<5:38:32, 414.53s/it]"
     ]
    },
    {
     "name": "stdout",
     "output_type": "stream",
     "text": [
      "number of freuqncies: 21077\n",
      "min and max frequencies: 1.1574074074074073e-05 0.04939814814814815\n",
      "response kwargs: {'modes': [(2, 2)], 'tmin': 10.0, 'tmax': 15.0, 'TDIGeneration': '2nd', 'optimal_combination': True, 'output_by_mode': False, 'interpolation': True}\n"
     ]
    },
    {
     "name": "stderr",
     "output_type": "stream",
     "text": [
      " 52%|█████▏    | 52/100 [6:31:04<6:26:22, 482.97s/it]"
     ]
    },
    {
     "name": "stdout",
     "output_type": "stream",
     "text": [
      "number of freuqncies: 21077\n",
      "min and max frequencies: 1.1574074074074073e-05 0.04939814814814815\n",
      "response kwargs: {'modes': [(2, 2)], 'tmin': 10.0, 'tmax': 15.0, 'TDIGeneration': '2nd', 'optimal_combination': True, 'output_by_mode': False, 'interpolation': True}\n"
     ]
    },
    {
     "name": "stderr",
     "output_type": "stream",
     "text": [
      " 53%|█████▎    | 53/100 [6:36:53<5:46:52, 442.81s/it]"
     ]
    },
    {
     "name": "stdout",
     "output_type": "stream",
     "text": [
      "number of freuqncies: 21077\n",
      "min and max frequencies: 1.1574074074074073e-05 0.04939814814814815\n",
      "response kwargs: {'modes': [(2, 2)], 'tmin': 10.0, 'tmax': 15.0, 'TDIGeneration': '2nd', 'optimal_combination': True, 'output_by_mode': False, 'interpolation': True}\n"
     ]
    },
    {
     "name": "stderr",
     "output_type": "stream",
     "text": [
      " 54%|█████▍    | 54/100 [6:41:58<5:07:40, 401.32s/it]"
     ]
    },
    {
     "name": "stdout",
     "output_type": "stream",
     "text": [
      "number of freuqncies: 21077\n",
      "min and max frequencies: 1.1574074074074073e-05 0.04939814814814815\n",
      "response kwargs: {'modes': [(2, 2)], 'tmin': 10.0, 'tmax': 15.0, 'TDIGeneration': '2nd', 'optimal_combination': True, 'output_by_mode': False, 'interpolation': True}\n"
     ]
    },
    {
     "name": "stderr",
     "output_type": "stream",
     "text": [
      " 55%|█████▌    | 55/100 [6:48:15<4:55:37, 394.16s/it]"
     ]
    },
    {
     "name": "stdout",
     "output_type": "stream",
     "text": [
      "number of freuqncies: 21077\n",
      "min and max frequencies: 1.1574074074074073e-05 0.04939814814814815\n",
      "response kwargs: {'modes': [(2, 2)], 'tmin': 10.0, 'tmax': 15.0, 'TDIGeneration': '2nd', 'optimal_combination': True, 'output_by_mode': False, 'interpolation': True}\n"
     ]
    },
    {
     "name": "stderr",
     "output_type": "stream",
     "text": [
      " 56%|█████▌    | 56/100 [6:55:45<5:01:20, 410.91s/it]"
     ]
    },
    {
     "name": "stdout",
     "output_type": "stream",
     "text": [
      "number of freuqncies: 21077\n",
      "min and max frequencies: 1.1574074074074073e-05 0.04939814814814815\n",
      "response kwargs: {'modes': [(2, 2)], 'tmin': 10.0, 'tmax': 15.0, 'TDIGeneration': '2nd', 'optimal_combination': True, 'output_by_mode': False, 'interpolation': True}\n"
     ]
    },
    {
     "name": "stderr",
     "output_type": "stream",
     "text": [
      " 57%|█████▋    | 57/100 [7:03:27<5:05:20, 426.07s/it]"
     ]
    },
    {
     "name": "stdout",
     "output_type": "stream",
     "text": [
      "number of freuqncies: 21077\n",
      "min and max frequencies: 1.1574074074074073e-05 0.04939814814814815\n",
      "response kwargs: {'modes': [(2, 2)], 'tmin': 10.0, 'tmax': 15.0, 'TDIGeneration': '2nd', 'optimal_combination': True, 'output_by_mode': False, 'interpolation': True}\n"
     ]
    },
    {
     "name": "stderr",
     "output_type": "stream",
     "text": [
      " 58%|█████▊    | 58/100 [7:12:09<5:18:25, 454.90s/it]"
     ]
    },
    {
     "name": "stdout",
     "output_type": "stream",
     "text": [
      "number of freuqncies: 21077\n",
      "min and max frequencies: 1.1574074074074073e-05 0.04939814814814815\n",
      "response kwargs: {'modes': [(2, 2)], 'tmin': 10.0, 'tmax': 15.0, 'TDIGeneration': '2nd', 'optimal_combination': True, 'output_by_mode': False, 'interpolation': True}\n"
     ]
    },
    {
     "name": "stderr",
     "output_type": "stream",
     "text": [
      " 59%|█████▉    | 59/100 [7:17:50<4:47:32, 420.80s/it]"
     ]
    },
    {
     "name": "stdout",
     "output_type": "stream",
     "text": [
      "number of freuqncies: 21077\n",
      "min and max frequencies: 1.1574074074074073e-05 0.04939814814814815\n",
      "response kwargs: {'modes': [(2, 2)], 'tmin': 10.0, 'tmax': 15.0, 'TDIGeneration': '2nd', 'optimal_combination': True, 'output_by_mode': False, 'interpolation': True}\n"
     ]
    },
    {
     "name": "stderr",
     "output_type": "stream",
     "text": [
      " 60%|██████    | 60/100 [7:27:47<5:15:41, 473.53s/it]"
     ]
    },
    {
     "name": "stdout",
     "output_type": "stream",
     "text": [
      "number of freuqncies: 21077\n",
      "min and max frequencies: 1.1574074074074073e-05 0.04939814814814815\n",
      "response kwargs: {'modes': [(2, 2)], 'tmin': 10.0, 'tmax': 15.0, 'TDIGeneration': '2nd', 'optimal_combination': True, 'output_by_mode': False, 'interpolation': True}\n"
     ]
    },
    {
     "name": "stderr",
     "output_type": "stream",
     "text": [
      " 61%|██████    | 61/100 [7:33:27<4:41:55, 433.72s/it]"
     ]
    },
    {
     "name": "stdout",
     "output_type": "stream",
     "text": [
      "number of freuqncies: 21077\n",
      "min and max frequencies: 1.1574074074074073e-05 0.04939814814814815\n",
      "response kwargs: {'modes': [(2, 2)], 'tmin': 10.0, 'tmax': 15.0, 'TDIGeneration': '2nd', 'optimal_combination': True, 'output_by_mode': False, 'interpolation': True}\n"
     ]
    },
    {
     "name": "stderr",
     "output_type": "stream",
     "text": [
      " 62%|██████▏   | 62/100 [7:39:28<4:20:46, 411.76s/it]"
     ]
    },
    {
     "name": "stdout",
     "output_type": "stream",
     "text": [
      "number of freuqncies: 21077\n",
      "min and max frequencies: 1.1574074074074073e-05 0.04939814814814815\n",
      "response kwargs: {'modes': [(2, 2)], 'tmin': 10.0, 'tmax': 15.0, 'TDIGeneration': '2nd', 'optimal_combination': True, 'output_by_mode': False, 'interpolation': True}\n"
     ]
    },
    {
     "name": "stderr",
     "output_type": "stream",
     "text": [
      " 63%|██████▎   | 63/100 [7:45:52<4:08:52, 403.58s/it]"
     ]
    },
    {
     "name": "stdout",
     "output_type": "stream",
     "text": [
      "number of freuqncies: 21077\n",
      "min and max frequencies: 1.1574074074074073e-05 0.04939814814814815\n",
      "response kwargs: {'modes': [(2, 2)], 'tmin': 10.0, 'tmax': 15.0, 'TDIGeneration': '2nd', 'optimal_combination': True, 'output_by_mode': False, 'interpolation': True}\n"
     ]
    },
    {
     "name": "stderr",
     "output_type": "stream",
     "text": [
      " 64%|██████▍   | 64/100 [7:52:40<4:02:47, 404.65s/it]"
     ]
    },
    {
     "name": "stdout",
     "output_type": "stream",
     "text": [
      "number of freuqncies: 21077\n",
      "min and max frequencies: 1.1574074074074073e-05 0.04939814814814815\n",
      "response kwargs: {'modes': [(2, 2)], 'tmin': 10.0, 'tmax': 15.0, 'TDIGeneration': '2nd', 'optimal_combination': True, 'output_by_mode': False, 'interpolation': True}\n"
     ]
    },
    {
     "name": "stderr",
     "output_type": "stream",
     "text": [
      " 65%|██████▌   | 65/100 [7:59:49<4:00:27, 412.21s/it]"
     ]
    },
    {
     "name": "stdout",
     "output_type": "stream",
     "text": [
      "number of freuqncies: 21077\n",
      "min and max frequencies: 1.1574074074074073e-05 0.04939814814814815\n",
      "response kwargs: {'modes': [(2, 2)], 'tmin': 10.0, 'tmax': 15.0, 'TDIGeneration': '2nd', 'optimal_combination': True, 'output_by_mode': False, 'interpolation': True}\n"
     ]
    },
    {
     "name": "stderr",
     "output_type": "stream",
     "text": [
      " 66%|██████▌   | 66/100 [8:06:49<3:54:49, 414.40s/it]"
     ]
    },
    {
     "name": "stdout",
     "output_type": "stream",
     "text": [
      "number of freuqncies: 21077\n",
      "min and max frequencies: 1.1574074074074073e-05 0.04939814814814815\n",
      "response kwargs: {'modes': [(2, 2)], 'tmin': 10.0, 'tmax': 15.0, 'TDIGeneration': '2nd', 'optimal_combination': True, 'output_by_mode': False, 'interpolation': True}\n"
     ]
    },
    {
     "name": "stderr",
     "output_type": "stream",
     "text": [
      " 67%|██████▋   | 67/100 [8:12:45<3:38:15, 396.83s/it]"
     ]
    },
    {
     "name": "stdout",
     "output_type": "stream",
     "text": [
      "number of freuqncies: 21077\n",
      "min and max frequencies: 1.1574074074074073e-05 0.04939814814814815\n",
      "response kwargs: {'modes': [(2, 2)], 'tmin': 10.0, 'tmax': 15.0, 'TDIGeneration': '2nd', 'optimal_combination': True, 'output_by_mode': False, 'interpolation': True}\n"
     ]
    },
    {
     "name": "stderr",
     "output_type": "stream",
     "text": [
      " 68%|██████▊   | 68/100 [8:18:52<3:26:54, 387.96s/it]"
     ]
    },
    {
     "name": "stdout",
     "output_type": "stream",
     "text": [
      "number of freuqncies: 21077\n",
      "min and max frequencies: 1.1574074074074073e-05 0.04939814814814815\n",
      "response kwargs: {'modes': [(2, 2)], 'tmin': 10.0, 'tmax': 15.0, 'TDIGeneration': '2nd', 'optimal_combination': True, 'output_by_mode': False, 'interpolation': True}\n"
     ]
    },
    {
     "name": "stderr",
     "output_type": "stream",
     "text": [
      " 69%|██████▉   | 69/100 [8:27:33<3:41:07, 428.00s/it]"
     ]
    },
    {
     "name": "stdout",
     "output_type": "stream",
     "text": [
      "number of freuqncies: 21077\n",
      "min and max frequencies: 1.1574074074074073e-05 0.04939814814814815\n",
      "response kwargs: {'modes': [(2, 2)], 'tmin': 10.0, 'tmax': 15.0, 'TDIGeneration': '2nd', 'optimal_combination': True, 'output_by_mode': False, 'interpolation': True}\n"
     ]
    },
    {
     "name": "stderr",
     "output_type": "stream",
     "text": [
      " 70%|███████   | 70/100 [8:35:30<3:41:19, 442.64s/it]"
     ]
    },
    {
     "name": "stdout",
     "output_type": "stream",
     "text": [
      "number of freuqncies: 21077\n",
      "min and max frequencies: 1.1574074074074073e-05 0.04939814814814815\n",
      "response kwargs: {'modes': [(2, 2)], 'tmin': 10.0, 'tmax': 15.0, 'TDIGeneration': '2nd', 'optimal_combination': True, 'output_by_mode': False, 'interpolation': True}\n"
     ]
    },
    {
     "name": "stderr",
     "output_type": "stream",
     "text": [
      " 71%|███████   | 71/100 [8:44:01<3:43:45, 462.93s/it]"
     ]
    },
    {
     "name": "stdout",
     "output_type": "stream",
     "text": [
      "number of freuqncies: 21077\n",
      "min and max frequencies: 1.1574074074074073e-05 0.04939814814814815\n",
      "response kwargs: {'modes': [(2, 2)], 'tmin': 10.0, 'tmax': 15.0, 'TDIGeneration': '2nd', 'optimal_combination': True, 'output_by_mode': False, 'interpolation': True}\n"
     ]
    },
    {
     "name": "stderr",
     "output_type": "stream",
     "text": [
      " 72%|███████▏  | 72/100 [8:48:36<3:09:44, 406.58s/it]"
     ]
    },
    {
     "name": "stdout",
     "output_type": "stream",
     "text": [
      "number of freuqncies: 21077\n",
      "min and max frequencies: 1.1574074074074073e-05 0.04939814814814815\n",
      "response kwargs: {'modes': [(2, 2)], 'tmin': 10.0, 'tmax': 15.0, 'TDIGeneration': '2nd', 'optimal_combination': True, 'output_by_mode': False, 'interpolation': True}\n"
     ]
    },
    {
     "name": "stderr",
     "output_type": "stream",
     "text": [
      " 73%|███████▎  | 73/100 [8:52:25<2:39:01, 353.41s/it]"
     ]
    },
    {
     "name": "stdout",
     "output_type": "stream",
     "text": [
      "number of freuqncies: 21077\n",
      "min and max frequencies: 1.1574074074074073e-05 0.04939814814814815\n",
      "response kwargs: {'modes': [(2, 2)], 'tmin': 10.0, 'tmax': 15.0, 'TDIGeneration': '2nd', 'optimal_combination': True, 'output_by_mode': False, 'interpolation': True}\n"
     ]
    },
    {
     "name": "stderr",
     "output_type": "stream",
     "text": [
      " 74%|███████▍  | 74/100 [8:58:44<2:36:27, 361.06s/it]"
     ]
    },
    {
     "name": "stdout",
     "output_type": "stream",
     "text": [
      "number of freuqncies: 21077\n",
      "min and max frequencies: 1.1574074074074073e-05 0.04939814814814815\n",
      "response kwargs: {'modes': [(2, 2)], 'tmin': 10.0, 'tmax': 15.0, 'TDIGeneration': '2nd', 'optimal_combination': True, 'output_by_mode': False, 'interpolation': True}\n"
     ]
    },
    {
     "name": "stderr",
     "output_type": "stream",
     "text": [
      " 75%|███████▌  | 75/100 [9:05:17<2:34:30, 370.82s/it]"
     ]
    },
    {
     "name": "stdout",
     "output_type": "stream",
     "text": [
      "number of freuqncies: 21077\n",
      "min and max frequencies: 1.1574074074074073e-05 0.04939814814814815\n",
      "response kwargs: {'modes': [(2, 2)], 'tmin': 10.0, 'tmax': 15.0, 'TDIGeneration': '2nd', 'optimal_combination': True, 'output_by_mode': False, 'interpolation': True}\n"
     ]
    },
    {
     "name": "stderr",
     "output_type": "stream",
     "text": [
      " 76%|███████▌  | 76/100 [9:11:05<2:25:31, 363.81s/it]"
     ]
    },
    {
     "name": "stdout",
     "output_type": "stream",
     "text": [
      "number of freuqncies: 21077\n",
      "min and max frequencies: 1.1574074074074073e-05 0.04939814814814815\n",
      "response kwargs: {'modes': [(2, 2)], 'tmin': 10.0, 'tmax': 15.0, 'TDIGeneration': '2nd', 'optimal_combination': True, 'output_by_mode': False, 'interpolation': True}\n"
     ]
    },
    {
     "name": "stderr",
     "output_type": "stream",
     "text": [
      " 77%|███████▋  | 77/100 [9:17:22<2:20:55, 367.65s/it]"
     ]
    },
    {
     "name": "stdout",
     "output_type": "stream",
     "text": [
      "number of freuqncies: 21077\n",
      "min and max frequencies: 1.1574074074074073e-05 0.04939814814814815\n",
      "response kwargs: {'modes': [(2, 2)], 'tmin': 10.0, 'tmax': 15.0, 'TDIGeneration': '2nd', 'optimal_combination': True, 'output_by_mode': False, 'interpolation': True}\n"
     ]
    },
    {
     "name": "stderr",
     "output_type": "stream",
     "text": [
      " 78%|███████▊  | 78/100 [9:22:16<2:06:43, 345.61s/it]"
     ]
    },
    {
     "name": "stdout",
     "output_type": "stream",
     "text": [
      "number of freuqncies: 21077\n",
      "min and max frequencies: 1.1574074074074073e-05 0.04939814814814815\n",
      "response kwargs: {'modes': [(2, 2)], 'tmin': 10.0, 'tmax': 15.0, 'TDIGeneration': '2nd', 'optimal_combination': True, 'output_by_mode': False, 'interpolation': True}\n"
     ]
    },
    {
     "name": "stderr",
     "output_type": "stream",
     "text": [
      " 79%|███████▉  | 79/100 [9:28:07<2:01:32, 347.26s/it]"
     ]
    },
    {
     "name": "stdout",
     "output_type": "stream",
     "text": [
      "number of freuqncies: 21077\n",
      "min and max frequencies: 1.1574074074074073e-05 0.04939814814814815\n",
      "response kwargs: {'modes': [(2, 2)], 'tmin': 10.0, 'tmax': 15.0, 'TDIGeneration': '2nd', 'optimal_combination': True, 'output_by_mode': False, 'interpolation': True}\n"
     ]
    },
    {
     "name": "stderr",
     "output_type": "stream",
     "text": [
      " 80%|████████  | 80/100 [9:41:06<2:38:58, 476.91s/it]"
     ]
    },
    {
     "name": "stdout",
     "output_type": "stream",
     "text": [
      "number of freuqncies: 21077\n",
      "min and max frequencies: 1.1574074074074073e-05 0.04939814814814815\n",
      "response kwargs: {'modes': [(2, 2)], 'tmin': 10.0, 'tmax': 15.0, 'TDIGeneration': '2nd', 'optimal_combination': True, 'output_by_mode': False, 'interpolation': True}\n"
     ]
    },
    {
     "name": "stderr",
     "output_type": "stream",
     "text": [
      " 81%|████████  | 81/100 [9:47:40<2:23:10, 452.12s/it]"
     ]
    },
    {
     "name": "stdout",
     "output_type": "stream",
     "text": [
      "number of freuqncies: 21077\n",
      "min and max frequencies: 1.1574074074074073e-05 0.04939814814814815\n",
      "response kwargs: {'modes': [(2, 2)], 'tmin': 10.0, 'tmax': 15.0, 'TDIGeneration': '2nd', 'optimal_combination': True, 'output_by_mode': False, 'interpolation': True}\n"
     ]
    },
    {
     "name": "stderr",
     "output_type": "stream",
     "text": [
      " 82%|████████▏ | 82/100 [9:57:52<2:29:58, 499.91s/it]"
     ]
    },
    {
     "name": "stdout",
     "output_type": "stream",
     "text": [
      "number of freuqncies: 21077\n",
      "min and max frequencies: 1.1574074074074073e-05 0.04939814814814815\n",
      "response kwargs: {'modes': [(2, 2)], 'tmin': 10.0, 'tmax': 15.0, 'TDIGeneration': '2nd', 'optimal_combination': True, 'output_by_mode': False, 'interpolation': True}\n"
     ]
    },
    {
     "name": "stderr",
     "output_type": "stream",
     "text": [
      " 83%|████████▎ | 83/100 [10:05:36<2:18:36, 489.19s/it]"
     ]
    },
    {
     "name": "stdout",
     "output_type": "stream",
     "text": [
      "number of freuqncies: 21077\n",
      "min and max frequencies: 1.1574074074074073e-05 0.04939814814814815\n",
      "response kwargs: {'modes': [(2, 2)], 'tmin': 10.0, 'tmax': 15.0, 'TDIGeneration': '2nd', 'optimal_combination': True, 'output_by_mode': False, 'interpolation': True}\n"
     ]
    },
    {
     "name": "stderr",
     "output_type": "stream",
     "text": [
      " 84%|████████▍ | 84/100 [10:13:53<2:11:05, 491.59s/it]"
     ]
    },
    {
     "name": "stdout",
     "output_type": "stream",
     "text": [
      "number of freuqncies: 21077\n",
      "min and max frequencies: 1.1574074074074073e-05 0.04939814814814815\n",
      "response kwargs: {'modes': [(2, 2)], 'tmin': 10.0, 'tmax': 15.0, 'TDIGeneration': '2nd', 'optimal_combination': True, 'output_by_mode': False, 'interpolation': True}\n"
     ]
    },
    {
     "name": "stderr",
     "output_type": "stream",
     "text": [
      " 85%|████████▌ | 85/100 [10:20:07<1:54:05, 456.35s/it]"
     ]
    },
    {
     "name": "stdout",
     "output_type": "stream",
     "text": [
      "number of freuqncies: 21077\n",
      "min and max frequencies: 1.1574074074074073e-05 0.04939814814814815\n",
      "response kwargs: {'modes': [(2, 2)], 'tmin': 10.0, 'tmax': 15.0, 'TDIGeneration': '2nd', 'optimal_combination': True, 'output_by_mode': False, 'interpolation': True}\n"
     ]
    },
    {
     "name": "stderr",
     "output_type": "stream",
     "text": [
      " 86%|████████▌ | 86/100 [10:26:36<1:41:42, 435.90s/it]"
     ]
    },
    {
     "name": "stdout",
     "output_type": "stream",
     "text": [
      "number of freuqncies: 21077\n",
      "min and max frequencies: 1.1574074074074073e-05 0.04939814814814815\n",
      "response kwargs: {'modes': [(2, 2)], 'tmin': 10.0, 'tmax': 15.0, 'TDIGeneration': '2nd', 'optimal_combination': True, 'output_by_mode': False, 'interpolation': True}\n"
     ]
    },
    {
     "name": "stderr",
     "output_type": "stream",
     "text": [
      " 87%|████████▋ | 87/100 [10:37:57<1:50:25, 509.64s/it]"
     ]
    },
    {
     "name": "stdout",
     "output_type": "stream",
     "text": [
      "number of freuqncies: 21077\n",
      "min and max frequencies: 1.1574074074074073e-05 0.04939814814814815\n",
      "response kwargs: {'modes': [(2, 2)], 'tmin': 10.0, 'tmax': 15.0, 'TDIGeneration': '2nd', 'optimal_combination': True, 'output_by_mode': False, 'interpolation': True}\n"
     ]
    },
    {
     "name": "stderr",
     "output_type": "stream",
     "text": [
      " 88%|████████▊ | 88/100 [10:44:25<1:34:37, 473.14s/it]"
     ]
    },
    {
     "name": "stdout",
     "output_type": "stream",
     "text": [
      "number of freuqncies: 21077\n",
      "min and max frequencies: 1.1574074074074073e-05 0.04939814814814815\n",
      "response kwargs: {'modes': [(2, 2)], 'tmin': 10.0, 'tmax': 15.0, 'TDIGeneration': '2nd', 'optimal_combination': True, 'output_by_mode': False, 'interpolation': True}\n"
     ]
    },
    {
     "name": "stderr",
     "output_type": "stream",
     "text": [
      " 89%|████████▉ | 89/100 [10:53:33<1:30:51, 495.57s/it]"
     ]
    },
    {
     "name": "stdout",
     "output_type": "stream",
     "text": [
      "number of freuqncies: 21077\n",
      "min and max frequencies: 1.1574074074074073e-05 0.04939814814814815\n",
      "response kwargs: {'modes': [(2, 2)], 'tmin': 10.0, 'tmax': 15.0, 'TDIGeneration': '2nd', 'optimal_combination': True, 'output_by_mode': False, 'interpolation': True}\n"
     ]
    },
    {
     "name": "stderr",
     "output_type": "stream",
     "text": [
      " 90%|█████████ | 90/100 [10:58:28<1:12:34, 435.42s/it]"
     ]
    },
    {
     "name": "stdout",
     "output_type": "stream",
     "text": [
      "number of freuqncies: 21077\n",
      "min and max frequencies: 1.1574074074074073e-05 0.04939814814814815\n",
      "response kwargs: {'modes': [(2, 2)], 'tmin': 10.0, 'tmax': 15.0, 'TDIGeneration': '2nd', 'optimal_combination': True, 'output_by_mode': False, 'interpolation': True}\n"
     ]
    },
    {
     "name": "stderr",
     "output_type": "stream",
     "text": [
      " 91%|█████████ | 91/100 [11:09:30<1:15:29, 503.30s/it]"
     ]
    },
    {
     "name": "stdout",
     "output_type": "stream",
     "text": [
      "number of freuqncies: 21077\n",
      "min and max frequencies: 1.1574074074074073e-05 0.04939814814814815\n",
      "response kwargs: {'modes': [(2, 2)], 'tmin': 10.0, 'tmax': 15.0, 'TDIGeneration': '2nd', 'optimal_combination': True, 'output_by_mode': False, 'interpolation': True}\n"
     ]
    },
    {
     "name": "stderr",
     "output_type": "stream",
     "text": [
      " 92%|█████████▏| 92/100 [11:14:11<58:13, 436.63s/it]  "
     ]
    },
    {
     "name": "stdout",
     "output_type": "stream",
     "text": [
      "number of freuqncies: 21077\n",
      "min and max frequencies: 1.1574074074074073e-05 0.04939814814814815\n",
      "response kwargs: {'modes': [(2, 2)], 'tmin': 10.0, 'tmax': 15.0, 'TDIGeneration': '2nd', 'optimal_combination': True, 'output_by_mode': False, 'interpolation': True}\n"
     ]
    },
    {
     "name": "stderr",
     "output_type": "stream",
     "text": [
      " 93%|█████████▎| 93/100 [11:19:05<45:56, 393.74s/it]"
     ]
    },
    {
     "name": "stdout",
     "output_type": "stream",
     "text": [
      "number of freuqncies: 21077\n",
      "min and max frequencies: 1.1574074074074073e-05 0.04939814814814815\n",
      "response kwargs: {'modes': [(2, 2)], 'tmin': 10.0, 'tmax': 15.0, 'TDIGeneration': '2nd', 'optimal_combination': True, 'output_by_mode': False, 'interpolation': True}\n"
     ]
    },
    {
     "name": "stderr",
     "output_type": "stream",
     "text": [
      " 94%|█████████▍| 94/100 [11:23:47<36:01, 360.21s/it]"
     ]
    },
    {
     "name": "stdout",
     "output_type": "stream",
     "text": [
      "number of freuqncies: 21077\n",
      "min and max frequencies: 1.1574074074074073e-05 0.04939814814814815\n",
      "response kwargs: {'modes': [(2, 2)], 'tmin': 10.0, 'tmax': 15.0, 'TDIGeneration': '2nd', 'optimal_combination': True, 'output_by_mode': False, 'interpolation': True}\n"
     ]
    },
    {
     "name": "stderr",
     "output_type": "stream",
     "text": [
      " 95%|█████████▌| 95/100 [11:32:38<34:17, 411.52s/it]"
     ]
    },
    {
     "name": "stdout",
     "output_type": "stream",
     "text": [
      "number of freuqncies: 21077\n",
      "min and max frequencies: 1.1574074074074073e-05 0.04939814814814815\n",
      "response kwargs: {'modes': [(2, 2)], 'tmin': 10.0, 'tmax': 15.0, 'TDIGeneration': '2nd', 'optimal_combination': True, 'output_by_mode': False, 'interpolation': True}\n"
     ]
    },
    {
     "name": "stderr",
     "output_type": "stream",
     "text": [
      " 96%|█████████▌| 96/100 [11:40:19<28:25, 426.28s/it]"
     ]
    },
    {
     "name": "stdout",
     "output_type": "stream",
     "text": [
      "number of freuqncies: 21077\n",
      "min and max frequencies: 1.1574074074074073e-05 0.04939814814814815\n",
      "response kwargs: {'modes': [(2, 2)], 'tmin': 10.0, 'tmax': 15.0, 'TDIGeneration': '2nd', 'optimal_combination': True, 'output_by_mode': False, 'interpolation': True}\n"
     ]
    },
    {
     "name": "stderr",
     "output_type": "stream",
     "text": [
      " 97%|█████████▋| 97/100 [11:49:20<23:02, 460.83s/it]"
     ]
    },
    {
     "name": "stdout",
     "output_type": "stream",
     "text": [
      "number of freuqncies: 21077\n",
      "min and max frequencies: 1.1574074074074073e-05 0.04939814814814815\n",
      "response kwargs: {'modes': [(2, 2)], 'tmin': 10.0, 'tmax': 15.0, 'TDIGeneration': '2nd', 'optimal_combination': True, 'output_by_mode': False, 'interpolation': True}\n"
     ]
    },
    {
     "name": "stderr",
     "output_type": "stream",
     "text": [
      " 98%|█████████▊| 98/100 [11:57:13<15:29, 464.57s/it]"
     ]
    },
    {
     "name": "stdout",
     "output_type": "stream",
     "text": [
      "number of freuqncies: 21077\n",
      "min and max frequencies: 1.1574074074074073e-05 0.04939814814814815\n",
      "response kwargs: {'modes': [(2, 2)], 'tmin': 10.0, 'tmax': 15.0, 'TDIGeneration': '2nd', 'optimal_combination': True, 'output_by_mode': False, 'interpolation': True}\n"
     ]
    },
    {
     "name": "stderr",
     "output_type": "stream",
     "text": [
      " 99%|█████████▉| 99/100 [12:05:35<07:55, 475.69s/it]"
     ]
    },
    {
     "name": "stdout",
     "output_type": "stream",
     "text": [
      "number of freuqncies: 21077\n",
      "min and max frequencies: 1.1574074074074073e-05 0.04939814814814815\n",
      "response kwargs: {'modes': [(2, 2)], 'tmin': 10.0, 'tmax': 15.0, 'TDIGeneration': '2nd', 'optimal_combination': True, 'output_by_mode': False, 'interpolation': True}\n"
     ]
    },
    {
     "name": "stderr",
     "output_type": "stream",
     "text": [
      "100%|██████████| 100/100 [12:15:32<00:00, 441.32s/it]\n"
     ]
    }
   ],
   "source": [
    "truths_list = [] \n",
    "searched_list = [] \n",
    "FIM_bound_list = [] \n",
    "snr_list = [] \n",
    "\n",
    "for i in tqdm(range(100)):\n",
    "\n",
    "    # generate source parameter and clean signal \n",
    "    mbhb_parameters = {\n",
    "        'chirp_mass': np.power(10., np.random.uniform(lgMc_prior[0], lgMc_prior[1])), \n",
    "        'mass_ratio': np.random.uniform(q_prior[0], q_prior[1]), \n",
    "        'spin_1z': np.random.uniform(s1_prior[0], s1_prior[1]),\n",
    "        'spin_2z': np.random.uniform(s2_prior[0], s2_prior[1]),\n",
    "        'coalescence_time': np.random.uniform(tc_prior[0], tc_prior[1]), \n",
    "        'coalescence_phase': np.random.uniform(0, TWOPI),\n",
    "        'luminosity_distance': np.power(10., np.random.uniform(lgdl_prior[0], lgdl_prior[1])), \n",
    "        'inclination': np.arccos(np.random.uniform(-1., 1.)), # [rad]\n",
    "        'longitude': np.random.uniform(lam_prior[0], lam_prior[1]), # [rad]\n",
    "        'latitude': np.arcsin(np.random.uniform(sinbeta_prior[0], sinbeta_prior[1])), # [rad]\n",
    "        'psi': np.random.uniform(0, PI) # [rad]\n",
    "        }\n",
    "    wf_channels = FDTDI_GPU.Response(mbhb_parameters, data_frequencies_GPU, **response_kwargs_GPU)\n",
    "\n",
    "    # generate frequency-domain noises \n",
    "    Re_tmp = np.random.normal(scale=np.sqrt(PSD_channels / 4. / delta_f))\n",
    "    Im_tmp = np.random.normal(scale=np.sqrt(PSD_channels / 4. / delta_f))\n",
    "    noise_channels = xp.array(Re_tmp + 1.j * Im_tmp) \n",
    "\n",
    "    # combine signal and noise \n",
    "    data_channels = wf_channels + noise_channels \n",
    "\n",
    "    opt_SNR = FrequencyDomainCovarianceSNR(wf_channels.get(), InvCovMat)\n",
    "    snr_list.append(opt_SNR)\n",
    "\n",
    "    # print(\"source parameters:\")\n",
    "    # for k, v in mbhb_parameters.items():\n",
    "    #     print(k, \":\", v)\n",
    "    # print(\"optimal SNR:\", opt_SNR)\n",
    "\n",
    "    Fstat = Fstatistics(\n",
    "        response_generator=FDTDI_GPU, \n",
    "        frequency=data_frequencies_GPU, \n",
    "        data=data_channels, \n",
    "        invserse_covariance_matrix=InvCovMat, \n",
    "        response_parameters=response_kwargs_GPU, \n",
    "        use_gpu=True\n",
    "    )\n",
    "\n",
    "    # from scipy.optimize import differential_evolution\n",
    "\n",
    "    # n_dim_int = len(Fstatistics.intrinsic_parameter_names)\n",
    "    # print(\"number of parameters to be optimized:\", n_dim_int)\n",
    "\n",
    "    def cost_function(norm_int_params):\n",
    "        \"\"\"   \n",
    "            norm_int_params: shape (Nparams, Nevent), normalized to (0, 1)\n",
    "        \"\"\"\n",
    "        int_params = norm_int_params.transpose() * (intrinsic_param_priors[:, 1] - intrinsic_param_priors[:, 0]) + intrinsic_param_priors[:, 0] # (Nevent, Nparams)\n",
    "        params_in = Fstat.IntParamArr2ParamDict(int_params.transpose()) # (Nparams, Nevent) -> dictionary, each item (Nevent)\n",
    "        return -Fstat.calculate_Fstat_vectorized(intrinsic_parameters=params_in) # (Nevent)\n",
    "\n",
    "    n_dim_int = 7 \n",
    "    lower_bounds = np.zeros(n_dim_int) \n",
    "    upper_bounds = np.ones(n_dim_int) \n",
    "    bounds = np.array([lower_bounds, upper_bounds]).T # (Nparams, 2)\n",
    "\n",
    "    DE_result = differential_evolution(\n",
    "        func=cost_function,\n",
    "        bounds=bounds,\n",
    "        x0=None,\n",
    "        strategy='best1exp',\n",
    "        # strategy='rand1bin',\n",
    "        maxiter=5000,\n",
    "        popsize=10*n_dim_int,\n",
    "        # popsize=6*n_dim_int, \n",
    "        tol=1e-7,\n",
    "        atol=1e-9,\n",
    "        # tol=1e-6,\n",
    "        # atol=1e-8,\n",
    "        mutation=(0.4, 0.95),\n",
    "        recombination=0.7,\n",
    "        disp=False,\n",
    "        polish=False,\n",
    "        vectorized=True,\n",
    "    )\n",
    "\n",
    "    searched_int_params = Fstat.IntParamArr2ParamDict(DE_result.x * (intrinsic_param_priors[:, 1] - intrinsic_param_priors[:, 0]) + intrinsic_param_priors[:, 0])\n",
    "\n",
    "    searched_a = Fstat.calculate_Fstat_vectorized(\n",
    "        intrinsic_parameters=searched_int_params, \n",
    "        return_a=True, \n",
    "    ) # (1, 4)\n",
    "    searched_ext_params = Fstat.a_to_extrinsic_vectorized(searched_a)\n",
    "\n",
    "    searched_params = dict(searched_int_params, **searched_ext_params)\n",
    "\n",
    "    def fisher_waveform_wrapper(param_dict, frequencies):\n",
    "        res = FDTDI_GPU.Response(\n",
    "            parameters=param_dict, \n",
    "            freqs=xp.array(frequencies),  \n",
    "            **response_kwargs_GPU, \n",
    "        )\n",
    "        return res.get()\n",
    "\n",
    "    # set initial steps \n",
    "    analyze_param_step_dict = {\n",
    "        'chirp_mass': 10.,\n",
    "        'mass_ratio': 0.01,\n",
    "        'spin_1z': 0.01,\n",
    "        'spin_2z': 0.01,\n",
    "        'coalescence_time': 0.001,\n",
    "        'coalescence_phase': 0.01,\n",
    "        'luminosity_distance': 10.,\n",
    "        'inclination': 0.01,\n",
    "        'longitude': 0.01,\n",
    "        'latitude': 0.01,\n",
    "        'psi': 0.01\n",
    "        }\n",
    "    for k, v in analyze_param_step_dict.items():\n",
    "        analyze_param_step_dict[k] = -v \n",
    "\n",
    "    FIM = MultiChannelFisher(\n",
    "        waveform_generator=fisher_waveform_wrapper, \n",
    "        param_dict=mbhb_parameters, \n",
    "        # param_dict=searched_params, \n",
    "        analyze_param_step_dict=analyze_param_step_dict, \n",
    "        frequency=data_frequencies, \n",
    "        inverse_covariance=InvCovMat, \n",
    "        verbose=0,\n",
    "    )\n",
    "\n",
    "    FIM.auto_test_step()\n",
    "    FIM.calculate_Fisher()\n",
    "    FIM.calculate_errors() \n",
    "\n",
    "    truths_list.append(mbhb_parameters)\n",
    "    searched_list.append(searched_params)\n",
    "    FIM_bound_list.append(FIM.param_errors)"
   ]
  },
  {
   "cell_type": "code",
   "execution_count": 95,
   "id": "9f3c30d4",
   "metadata": {},
   "outputs": [
    {
     "data": {
      "image/png": "[encoded data removed]",
      "text/plain": [
       "<Figure size 640x480 with 1 Axes>"
      ]
     },
     "metadata": {},
     "output_type": "display_data"
    }
   ],
   "source": [
    "bins = np.logspace(1.5, 4.5, 30)\n",
    "plt.hist(snr_list, bins=bins, density=False, facecolor=None, edgecolor=YELLOW, hatch=\"//\", histtype='step', lw=2); \n",
    "plt.xlabel(\"SNR\")\n",
    "plt.ylabel(\"number of MBHBs in bin\")\n",
    "plt.xscale(\"log\")"
   ]
  },
  {
   "cell_type": "code",
   "execution_count": 89,
   "id": "71b7ccdd",
   "metadata": {},
   "outputs": [],
   "source": [
    "Mc_list = np.array([paramdict[\"chirp_mass\"] for paramdict in truths_list])\n",
    "q_list = np.array([paramdict[\"mass_ratio\"] for paramdict in truths_list])\n",
    "s1_list = np.array([paramdict[\"spin_1z\"] for paramdict in truths_list])\n",
    "s2_list = np.array([paramdict[\"spin_2z\"] for paramdict in truths_list])\n",
    "tc_list = np.array([paramdict[\"coalescence_time\"] for paramdict in truths_list])\n",
    "dl_list = np.array([paramdict[\"luminosity_distance\"] for paramdict in truths_list])\n",
    "inc_list = np.array([paramdict[\"inclination\"] for paramdict in truths_list])\n",
    "lon_list = np.array([paramdict[\"longitude\"] for paramdict in truths_list])\n",
    "lat_list = np.array([paramdict[\"latitude\"] for paramdict in truths_list])\n",
    "\n",
    "Mc_list1 = np.array([paramdict[\"chirp_mass\"] for paramdict in searched_list])\n",
    "q_list1 = np.array([paramdict[\"mass_ratio\"] for paramdict in searched_list])\n",
    "s1_list1 = np.array([paramdict[\"spin_1z\"] for paramdict in searched_list])\n",
    "s2_list1 = np.array([paramdict[\"spin_2z\"] for paramdict in searched_list])\n",
    "tc_list1 = np.array([paramdict[\"coalescence_time\"] for paramdict in searched_list])\n",
    "dl_list1 = np.array([paramdict[\"luminosity_distance\"] for paramdict in searched_list])\n",
    "inc_list1 = np.array([paramdict[\"inclination\"] for paramdict in searched_list])\n",
    "lon_list1 = np.array([paramdict[\"longitude\"] for paramdict in searched_list])\n",
    "lat_list1 = np.array([paramdict[\"latitude\"] for paramdict in searched_list])\n",
    "\n",
    "Mc_list2 = np.array([paramdict[\"chirp_mass\"] for paramdict in FIM_bound_list])\n",
    "q_list2 = np.array([paramdict[\"mass_ratio\"] for paramdict in FIM_bound_list])\n",
    "s1_list2 = np.array([paramdict[\"spin_1z\"] for paramdict in FIM_bound_list])\n",
    "s2_list2 = np.array([paramdict[\"spin_2z\"] for paramdict in FIM_bound_list])\n",
    "tc_list2 = np.array([paramdict[\"coalescence_time\"] for paramdict in FIM_bound_list])\n",
    "dl_list2 = np.array([paramdict[\"luminosity_distance\"] for paramdict in FIM_bound_list])\n",
    "inc_list2 = np.array([paramdict[\"inclination\"] for paramdict in FIM_bound_list])\n",
    "lon_list2 = np.array([paramdict[\"longitude\"] for paramdict in FIM_bound_list])\n",
    "lat_list2 = np.array([paramdict[\"latitude\"] for paramdict in FIM_bound_list])"
   ]
  },
  {
   "cell_type": "code",
   "execution_count": 90,
   "id": "26101b07",
   "metadata": {},
   "outputs": [
    {
     "data": {
      "text/plain": [
       "<matplotlib.legend.Legend at 0x78ec2610b160>"
      ]
     },
     "execution_count": 90,
     "metadata": {},
     "output_type": "execute_result"
    },
    {
     "data": {
      "image/png": "[encoded data removed]",
      "text/plain": [
       "<Figure size 640x480 with 1 Axes>"
      ]
     },
     "metadata": {},
     "output_type": "display_data"
    }
   ],
   "source": [
    "bins = np.linspace(-12, 12, 50)\n",
    "plt.hist((Mc_list1 - Mc_list) / Mc_list2, bins=bins, density=False, facecolor=None, edgecolor=RED, hatch=\"//\", histtype='step', lw=2, label=\"chirp mass\");\n",
    "plt.hist((q_list1 - q_list) / q_list2, bins=bins, density=False, facecolor=None, edgecolor=GREEN1, hatch=\"//\", histtype='step', lw=2, label=\"mass ratio\");\n",
    "plt.xlabel(r'$\\Delta \\theta / \\ \\sigma_{\\theta}$')\n",
    "plt.ylabel(\"number of MBHBs in bin\")\n",
    "plt.legend(loc=\"upper right\", frameon=False)"
   ]
  },
  {
   "cell_type": "code",
   "execution_count": 91,
   "id": "02c4efd7",
   "metadata": {},
   "outputs": [
    {
     "data": {
      "text/plain": [
       "<matplotlib.legend.Legend at 0x78ec26098cd0>"
      ]
     },
     "execution_count": 91,
     "metadata": {},
     "output_type": "execute_result"
    },
    {
     "data": {
      "image/png": "[encoded data removed]",
      "text/plain": [
       "<Figure size 640x480 with 1 Axes>"
      ]
     },
     "metadata": {},
     "output_type": "display_data"
    }
   ],
   "source": [
    "bins = np.linspace(-12, 12, 50)\n",
    "plt.hist((s1_list1 - s1_list) / s1_list2, bins=bins, density=False, facecolor=None, edgecolor=RED, hatch=\"//\", histtype='step', lw=2, label=\"spin 1\");\n",
    "plt.hist((s2_list1 - s2_list) / s2_list2, bins=bins, density=False, facecolor=None, edgecolor=GREEN1, hatch=\"//\", histtype='step', lw=2, label=\"spin 2\");\n",
    "plt.xlabel(r'$\\Delta \\theta / \\ \\sigma_{\\theta}$')\n",
    "plt.ylabel(\"number of MBHBs in bin\")\n",
    "plt.legend(loc=\"upper right\", frameon=False)"
   ]
  },
  {
   "cell_type": "code",
   "execution_count": 92,
   "id": "60c97be7",
   "metadata": {},
   "outputs": [
    {
     "data": {
      "text/plain": [
       "<matplotlib.legend.Legend at 0x78ec21ff9bb0>"
      ]
     },
     "execution_count": 92,
     "metadata": {},
     "output_type": "execute_result"
    },
    {
     "data": {
      "image/png": "[encoded data removed]",
      "text/plain": [
       "<Figure size 640x480 with 1 Axes>"
      ]
     },
     "metadata": {},
     "output_type": "display_data"
    }
   ],
   "source": [
    "bins = np.linspace(-100, 100, 50)\n",
    "plt.hist((lon_list1 - lon_list) / lon_list2, bins=bins, density=False, facecolor=None, edgecolor=RED, hatch=\"//\", histtype='step', lw=2, label=\"longitude\");\n",
    "plt.hist((lat_list1 - lat_list) / lat_list2, bins=bins, density=False, facecolor=None, edgecolor=GREEN1, hatch=\"//\", histtype='step', lw=2, label=\"latitude\");\n",
    "plt.xlabel(r'$\\Delta \\theta / \\ \\sigma_{\\theta}$')\n",
    "plt.ylabel(\"number of MBHBs in bin\")\n",
    "plt.legend(loc=\"upper right\", frameon=False)"
   ]
  },
  {
   "cell_type": "code",
   "execution_count": 93,
   "id": "f0b154c9",
   "metadata": {},
   "outputs": [
    {
     "data": {
      "text/plain": [
       "<matplotlib.legend.Legend at 0x78ec2030dca0>"
      ]
     },
     "execution_count": 93,
     "metadata": {},
     "output_type": "execute_result"
    },
    {
     "data": {
      "image/png": "[encoded data removed]",
      "text/plain": [
       "<Figure size 640x480 with 1 Axes>"
      ]
     },
     "metadata": {},
     "output_type": "display_data"
    }
   ],
   "source": [
    "bins = np.linspace(-100, 100, 50)\n",
    "plt.hist((dl_list1 - dl_list) / dl_list2, bins=bins, density=False, facecolor=None, edgecolor=RED, hatch=\"//\", histtype='step', lw=2, label=\"luminosity distance\");\n",
    "plt.hist((inc_list1 - inc_list) / inc_list2, bins=bins, density=False, facecolor=None, edgecolor=GREEN1, hatch=\"//\", histtype='step', lw=2, label=\"inclination\");\n",
    "plt.xlabel(r'$\\Delta \\theta / \\ \\sigma_{\\theta}$')\n",
    "plt.ylabel(\"number of MBHBs in bin\")\n",
    "plt.legend(loc=\"upper right\", frameon=False)"
   ]
  },
  {
   "cell_type": "code",
   "execution_count": 94,
   "id": "3770c678",
   "metadata": {},
   "outputs": [
    {
     "data": {
      "text/plain": [
       "<matplotlib.legend.Legend at 0x78ec202dec70>"
      ]
     },
     "execution_count": 94,
     "metadata": {},
     "output_type": "execute_result"
    },
    {
     "data": {
      "image/png": "[encoded data removed]",
      "text/plain": [
       "<Figure size 640x480 with 1 Axes>"
      ]
     },
     "metadata": {},
     "output_type": "display_data"
    }
   ],
   "source": [
    "bins = np.linspace(-100, 100, 50)\n",
    "plt.hist((tc_list1 - tc_list) / tc_list2, bins=bins, density=False, facecolor=None, edgecolor=RED, hatch=\"//\", histtype='step', lw=2, label=\"coalescence time\");\n",
    "plt.xlabel(r'$\\Delta \\theta / \\ \\sigma_{\\theta}$')\n",
    "plt.ylabel(\"number of MBHBs in bin\")\n",
    "plt.legend(loc=\"upper right\", frameon=False)"
   ]
  },
  {
   "cell_type": "code",
   "execution_count": null,
   "id": "cc5d7ef7",
   "metadata": {},
   "outputs": [],
   "source": []
  }
 ],
 "metadata": {
  "kernelspec": {
   "display_name": "tri_env",
   "language": "python",
   "name": "python3"
  },
  "language_info": {
   "codemirror_mode": {
    "name": "ipython",
    "version": 3
   },
   "file_extension": ".py",
   "mimetype": "text/x-python",
   "name": "python",
   "nbconvert_exporter": "python",
   "pygments_lexer": "ipython3",
   "version": "3.9.19"
  }
 },
 "nbformat": 4,
 "nbformat_minor": 5
}
