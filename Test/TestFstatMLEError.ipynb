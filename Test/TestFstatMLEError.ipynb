{
 "cells": [
  {
   "cell_type": "code",
   "execution_count": 1,
   "id": "6cddc048",
   "metadata": {},
   "outputs": [
    {
     "name": "stderr",
     "output_type": "stream",
     "text": [
      "PyCBC.libutils: pkg-config call failed, setting NO_PKGCONFIG=1\n"
     ]
    },
    {
     "name": "stdout",
     "output_type": "stream",
     "text": [
      "has cupy\n",
      "has cupy\n",
      "has BBHx waveform\n"
     ]
    }
   ],
   "source": [
    "# limit the thread used by numpy \n",
    "import os\n",
    "os.environ[\"OMP_NUM_THREADS\"] = \"1\"\n",
    "os.environ[\"OPENBLAS_NUM_THREADS\"] = \"1\"\n",
    "os.environ[\"MKL_NUM_THREADS\"] = \"1\"\n",
    "os.environ[\"NUMEXPR_NUM_THREADS\"] = \"1\"\n",
    "os.environ[\"VECLIB_MAXIMUM_THREADS\"] = \"1\"  \n",
    "\n",
    "import numpy as np\n",
    "import scipy.interpolate as interp \n",
    "try:\n",
    "    import cupy as xp\n",
    "    import cupyx.scipy.interpolate as xinterp\n",
    "    # print(\"has cupy\")\n",
    "except (ImportError, ModuleNotFoundError) as e:\n",
    "    import numpy as xp\n",
    "    import scipy.interpolate as xinterp  \n",
    "    # print(\"no cupy\")\n",
    "\n",
    "from tqdm import tqdm\n",
    "import pickle\n",
    "import matplotlib.pyplot as plt\n",
    "# import matplotlib\n",
    "# matplotlib.rcParams['text.usetex'] = True\n",
    "# matplotlib.rcParams['font.family'] = 'serif'\n",
    "\n",
    "from Triangle.Constants import *\n",
    "from Triangle.Orbit import * \n",
    "from Triangle.Noise import *\n",
    "from Triangle.FFTTools import *\n",
    "from Triangle.TDI import *\n",
    "from Triangle.Data import * \n",
    "\n",
    "from Triangle_BBH.Waveform import * \n",
    "from Triangle_BBH.Response import *\n",
    "from Triangle_BBH.Utils import *\n",
    "from Triangle_BBH.Fisher import *\n",
    "\n",
    "# import multiprocessing\n",
    "\n",
    "# np.random.seed(114514)\n",
    "# xp.random.seed(114514)"
   ]
  },
  {
   "cell_type": "markdown",
   "id": "b74073cc",
   "metadata": {},
   "source": [
    "## Data settings "
   ]
  },
  {
   "cell_type": "code",
   "execution_count": 2,
   "id": "61cc324f",
   "metadata": {},
   "outputs": [
    {
     "data": {
      "text/plain": [
       "(14401,)"
      ]
     },
     "execution_count": 2,
     "metadata": {},
     "output_type": "execute_result"
    }
   ],
   "source": [
    "t_start = 100. * DAY # start time in s\n",
    "Tobs = 5. * DAY # data length in s \n",
    "t_end = t_start + Tobs # end time in s \n",
    "dt = 15. # time cadance in s \n",
    "fsample = 1. / dt # sampling rate in Hz \n",
    "data_frequencies_full = np.fft.rfftfreq(n=int(Tobs/dt), d=dt) # frequecies where waveform will be calculated \n",
    "delta_f = 1. / Tobs\n",
    "\n",
    "data_frequencies_full.shape "
   ]
  },
  {
   "cell_type": "code",
   "execution_count": 3,
   "id": "ee935e4e",
   "metadata": {},
   "outputs": [
    {
     "data": {
      "text/plain": [
       "((13964,), (13964,))"
      ]
     },
     "execution_count": 3,
     "metadata": {},
     "output_type": "execute_result"
    }
   ],
   "source": [
    "# mask the \"null\" frequencies, which may cause singularity in the calculation of likelihood \n",
    "mask = np.ones_like(data_frequencies_full, dtype=bool)\n",
    "for i in range(1, 50): \n",
    "    mask_idx = np.where(np.abs(data_frequencies_full - i*0.025)<i*5e-4)[0]\n",
    "    mask[mask_idx] = False \n",
    "\n",
    "# remove the frequencies below Taiji sensitive band \n",
    "mask_idx = np.where(data_frequencies_full < 1e-5)[0]\n",
    "mask[mask_idx] = False \n",
    "\n",
    "data_frequencies = data_frequencies_full[mask]\n",
    "data_frequencies_GPU = xp.array(data_frequencies)\n",
    "\n",
    "valid_idx = np.where(mask == True)[0]\n",
    "\n",
    "data_frequencies.shape, valid_idx.shape "
   ]
  },
  {
   "cell_type": "markdown",
   "id": "ace36ac2",
   "metadata": {},
   "source": [
    "## Set response model "
   ]
  },
  {
   "cell_type": "code",
   "execution_count": 4,
   "id": "e526180f",
   "metadata": {},
   "outputs": [],
   "source": [
    "# the path of Taiji orbit \n",
    "orbit_GPU = Orbit(OrbitDir=\"../../Triangle-Simulator/OrbitData/MicroSateOrbitEclipticTCB\") # create individial orbit objects for CPU and GPU to avoid the confusion of numpy / cupy orbit data \n",
    "\n",
    "# initialize  waveform generator \n",
    "WFG_GPU = BBHxWaveformGenerator(mode=\"primary\", use_gpu=True)\n",
    "\n",
    "# initialize response generator \n",
    "FDTDI_GPU = BBHxFDTDIResponseGenerator(orbit_class=orbit_GPU, waveform_generator=WFG_GPU, use_gpu=True)\n",
    "\n",
    "# response settings \n",
    "response_kwargs_GPU = dict(\n",
    "    modes=[(2,2)], \n",
    "    tc_at_constellation=True,\n",
    "    tmin=t_start / DAY, # start time in day \n",
    "    tmax=t_end / DAY, # end time in day  \n",
    "    TDIGeneration=\"2nd\", # \"1st\" or \"2nd\"\n",
    "    optimal_combination=True, # True for AET, False for XYZ \n",
    "    output_by_mode=False, \n",
    "    interpolation=True,\n",
    "    # interpolation=False, \n",
    ")"
   ]
  },
  {
   "cell_type": "markdown",
   "id": "77fef4d2",
   "metadata": {},
   "source": [
    "## Source parameter priors "
   ]
  },
  {
   "cell_type": "code",
   "execution_count": 5,
   "id": "b639bbfe",
   "metadata": {},
   "outputs": [
    {
     "data": {
      "text/plain": [
       "array([[ 5.50000000e+00,  6.50000000e+00],\n",
       "       [ 1.00000000e-01,  1.00000000e+00],\n",
       "       [-9.00000000e-01,  9.00000000e-01],\n",
       "       [-9.00000000e-01,  9.00000000e-01],\n",
       "       [ 1.03000000e+02,  1.04000000e+02],\n",
       "       [ 0.00000000e+00,  6.28318531e+00],\n",
       "       [-1.00000000e+00,  1.00000000e+00]])"
      ]
     },
     "execution_count": 5,
     "metadata": {},
     "output_type": "execute_result"
    }
   ],
   "source": [
    "lgMc_prior = [5.5, 6.5]\n",
    "q_prior = [0.1, 1]\n",
    "s1_prior = [-0.9, 0.9]\n",
    "s2_prior = [-0.9, 0.9]\n",
    "tc_prior = [t_start/DAY+3., t_end/DAY-1.] \n",
    "lam_prior = [0, TWOPI]\n",
    "sinbeta_prior = [-1., 1.]\n",
    "intrinsic_param_priors = np.array([\n",
    "    lgMc_prior, \n",
    "    q_prior, \n",
    "    s1_prior, \n",
    "    s2_prior, \n",
    "    tc_prior, \n",
    "    lam_prior, \n",
    "    sinbeta_prior, \n",
    "])\n",
    "\n",
    "lgdl_prior = [4., 5.]\n",
    "\n",
    "intrinsic_param_priors"
   ]
  },
  {
   "cell_type": "code",
   "execution_count": 6,
   "id": "50ec6f41",
   "metadata": {},
   "outputs": [
    {
     "data": {
      "text/plain": [
       "[103.0, 104.0]"
      ]
     },
     "execution_count": 6,
     "metadata": {},
     "output_type": "execute_result"
    }
   ],
   "source": [
    "tc_prior"
   ]
  },
  {
   "cell_type": "markdown",
   "id": "40b53c1b",
   "metadata": {},
   "source": [
    "## Noise model "
   ]
  },
  {
   "cell_type": "code",
   "execution_count": 7,
   "id": "c36a4c09",
   "metadata": {},
   "outputs": [
    {
     "name": "stdout",
     "output_type": "stream",
     "text": [
      "103.5\n"
     ]
    },
    {
     "data": {
      "text/plain": [
       "((3, 13964), (13964, 3, 3))"
      ]
     },
     "execution_count": 7,
     "metadata": {},
     "output_type": "execute_result"
    }
   ],
   "source": [
    "arm_time = np.mean(intrinsic_param_priors[4]) * DAY \n",
    "arms = dict()\n",
    "for key in MOSA_labels:\n",
    "    arms[key] = orbit_GPU.LTTfunctions()[key](arm_time)\n",
    "print(arm_time/DAY)\n",
    "\n",
    "# theoretical PSDs at the given armlengths \n",
    "PSDfunc = TDIPSDs()\n",
    "PSD_channels = np.array([\n",
    "    PSDfunc.PSD_A2_unequal(data_frequencies, arms), \n",
    "    PSDfunc.PSD_E2_unequal(data_frequencies, arms), \n",
    "    PSDfunc.PSD_T2_unequal(data_frequencies, arms)\n",
    "])\n",
    "\n",
    "# covariance matrix \n",
    "CovMat = np.array([\n",
    "    [PSD_channels[0], np.zeros_like(PSD_channels[0]), np.zeros_like(PSD_channels[0])],\n",
    "    [np.zeros_like(PSD_channels[0]), PSD_channels[1], np.zeros_like(PSD_channels[0])],\n",
    "    [np.zeros_like(PSD_channels[0]), np.zeros_like(PSD_channels[0]), PSD_channels[2]]\n",
    "]) / 4. / delta_f # (3, 3, Nf)\n",
    "\n",
    "# inverse of covmatrix\n",
    "InvCovMat = np.linalg.inv(np.transpose(CovMat, (2, 0, 1))) # (Nf, 3, 3)\n",
    "InvCovMat[:, 2, 2] *= 0. # use A, E channels only in the following analysis \n",
    "\n",
    "PSD_channels.shape, InvCovMat.shape "
   ]
  },
  {
   "cell_type": "markdown",
   "id": "f44220a0",
   "metadata": {},
   "source": [
    "## Data simulation "
   ]
  },
  {
   "cell_type": "code",
   "execution_count": 8,
   "id": "6488d635",
   "metadata": {},
   "outputs": [
    {
     "name": "stdout",
     "output_type": "stream",
     "text": [
      "source parameters:\n",
      "chirp_mass : 1775160.327835913\n",
      "mass_ratio : 0.22868565631889037\n",
      "spin_1z : -0.4352906867762712\n",
      "spin_2z : 0.36447188900781324\n",
      "coalescence_time : 103.63031735165181\n",
      "coalescence_phase : 2.506999965577507\n",
      "luminosity_distance : 27167.18239891708\n",
      "inclination : 1.1848801300346374\n",
      "longitude : 4.078566518754421\n",
      "latitude : 0.43915922901161997\n",
      "psi : 2.518857930739501\n",
      "optimal SNR: 697.2951188593399\n"
     ]
    }
   ],
   "source": [
    "# generate source parameter and clean signal \n",
    "mbhb_parameters = {\n",
    "    'chirp_mass': np.power(10., np.random.uniform(lgMc_prior[0], lgMc_prior[1])), \n",
    "    'mass_ratio': np.random.uniform(q_prior[0], q_prior[1]), \n",
    "    'spin_1z': np.random.uniform(s1_prior[0], s1_prior[1]),\n",
    "    'spin_2z': np.random.uniform(s2_prior[0], s2_prior[1]),\n",
    "    'coalescence_time': np.random.uniform(tc_prior[0], tc_prior[1]), \n",
    "    'coalescence_phase': np.random.uniform(0, TWOPI),\n",
    "    'luminosity_distance': np.power(10., np.random.uniform(lgdl_prior[0], lgdl_prior[1])), \n",
    "    'inclination': np.arccos(np.random.uniform(-1., 1.)), # [rad]\n",
    "    'longitude': np.random.uniform(lam_prior[0], lam_prior[1]), # [rad]\n",
    "    'latitude': np.arcsin(np.random.uniform(sinbeta_prior[0], sinbeta_prior[1])), # [rad]\n",
    "    'psi': np.random.uniform(0, PI) # [rad]\n",
    "    }\n",
    "wf_channels = FDTDI_GPU.Response(mbhb_parameters, data_frequencies_GPU, **response_kwargs_GPU)\n",
    "\n",
    "# generate frequency-domain noises \n",
    "Re_tmp = np.random.normal(scale=np.sqrt(PSD_channels / 4. / delta_f))\n",
    "Im_tmp = np.random.normal(scale=np.sqrt(PSD_channels / 4. / delta_f))\n",
    "noise_channels = xp.array(Re_tmp + 1.j * Im_tmp) \n",
    "\n",
    "# combine signal and noise \n",
    "data_channels = wf_channels + noise_channels \n",
    "# data_channels = wf_channels\n",
    "\n",
    "opt_SNR = FrequencyDomainCovarianceSNR(wf_channels.get(), InvCovMat)\n",
    "\n",
    "print(\"source parameters:\")\n",
    "for k, v in mbhb_parameters.items():\n",
    "    print(k, \":\", v)\n",
    "print(\"optimal SNR:\", opt_SNR)"
   ]
  },
  {
   "cell_type": "code",
   "execution_count": 9,
   "id": "32be1c6d",
   "metadata": {},
   "outputs": [
    {
     "data": {
      "text/plain": [
       "Text(0, 0.5, 'Frequency-domain data (1/Hz)')"
      ]
     },
     "execution_count": 9,
     "metadata": {},
     "output_type": "execute_result"
    },
    {
     "data": {
      "image/png": "[encoded data removed]",
      "text/plain": [
       "<Figure size 640x480 with 1 Axes>"
      ]
     },
     "metadata": {},
     "output_type": "display_data"
    }
   ],
   "source": [
    "for ichannel, nchannel in enumerate([\"A\", \"E\", \"T\"]): \n",
    "    plt.loglog(data_frequencies, np.abs(data_channels[ichannel].get()), linewidth=1, alpha=0.5, color=BLUE)\n",
    "    plt.loglog(data_frequencies, np.abs(wf_channels[ichannel].get()), color=RED, linestyle=\":\")\n",
    "    plt.loglog(data_frequencies, np.sqrt(PSD_channels[ichannel] * Tobs / 2.), color=\"grey\", linestyle=\"--\")\n",
    "plt.xlabel(\"Frequency (Hz)\")\n",
    "plt.ylabel(\"Frequency-domain data (1/Hz)\")"
   ]
  },
  {
   "cell_type": "markdown",
   "id": "fb44d8a2",
   "metadata": {},
   "source": [
    "## MLE with  $\\mathcal{F}$-stat "
   ]
  },
  {
   "cell_type": "code",
   "execution_count": 10,
   "id": "fb51309d",
   "metadata": {},
   "outputs": [],
   "source": [
    "Fstat = Fstatistics(\n",
    "    response_generator=FDTDI_GPU, \n",
    "    frequency=data_frequencies_GPU, \n",
    "    data=data_channels, \n",
    "    # data=wf_channels,\n",
    "    invserse_covariance_matrix=InvCovMat, \n",
    "    response_parameters=response_kwargs_GPU, \n",
    "    use_gpu=True\n",
    ")"
   ]
  },
  {
   "cell_type": "markdown",
   "id": "f9a4bdec",
   "metadata": {},
   "source": [
    "### test waveform and parameter recovery"
   ]
  },
  {
   "cell_type": "code",
   "execution_count": 11,
   "id": "13c102f2",
   "metadata": {},
   "outputs": [
    {
     "data": {
      "text/plain": [
       "{'chirp_mass': 1775160.327835913,\n",
       " 'mass_ratio': 0.22868565631889037,\n",
       " 'spin_1z': -0.4352906867762712,\n",
       " 'spin_2z': 0.36447188900781324,\n",
       " 'coalescence_time': 103.63031735165181,\n",
       " 'longitude': 4.078566518754421,\n",
       " 'latitude': 0.43915922901161997}"
      ]
     },
     "execution_count": 11,
     "metadata": {},
     "output_type": "execute_result"
    }
   ],
   "source": [
    "int_params = dict()\n",
    "for key in Fstatistics.intrinsic_parameter_names:\n",
    "    int_params[key] = mbhb_parameters[key]\n",
    "int_params"
   ]
  },
  {
   "cell_type": "code",
   "execution_count": 12,
   "id": "8411866e",
   "metadata": {},
   "outputs": [
    {
     "name": "stdout",
     "output_type": "stream",
     "text": [
      "parameter name | difference\n",
      "luminosity_distance : 0.6205490510692471\n",
      "inclination : 0.0007644352729152537\n",
      "psi : -0.003780692249934159\n",
      "coalescence_phase : 3.1377216526093874\n"
     ]
    }
   ],
   "source": [
    "rec_a = Fstat.calculate_Fstat_vectorized(\n",
    "    intrinsic_parameters=int_params, \n",
    "    return_a=True, \n",
    ")\n",
    "\n",
    "rec_ext_params = Fstat.a_to_extrinsic_vectorized(rec_a)\n",
    "\n",
    "rec_params = dict(int_params, **rec_ext_params)\n",
    "\n",
    "print(\"parameter name | difference\")\n",
    "for k, v in rec_ext_params.items():\n",
    "    print(k, \":\", v-mbhb_parameters[k])"
   ]
  },
  {
   "cell_type": "code",
   "execution_count": 13,
   "id": "97ef0c18",
   "metadata": {},
   "outputs": [
    {
     "data": {
      "text/plain": [
       "((3, 13964), (3, 13964))"
      ]
     },
     "execution_count": 13,
     "metadata": {},
     "output_type": "execute_result"
    }
   ],
   "source": [
    "rec_wave1 = FDTDI_GPU.Response(\n",
    "    rec_params, \n",
    "    data_frequencies_GPU, \n",
    "    **response_kwargs_GPU\n",
    ")\n",
    "\n",
    "rec_wave2 = Fstat.calculate_Fstat_vectorized(\n",
    "    intrinsic_parameters=int_params, \n",
    "    return_recovered_wave=True, \n",
    ")[:, 0, :]\n",
    "\n",
    "rec_wave1.shape, rec_wave2.shape "
   ]
  },
  {
   "cell_type": "code",
   "execution_count": 14,
   "id": "7cacc0fe",
   "metadata": {},
   "outputs": [
    {
     "data": {
      "text/plain": [
       "<matplotlib.legend.Legend at 0x7907a2cc91c0>"
      ]
     },
     "execution_count": 14,
     "metadata": {},
     "output_type": "execute_result"
    },
    {
     "data": {
      "image/png": "[encoded data removed]",
      "text/plain": [
       "<Figure size 640x480 with 1 Axes>"
      ]
     },
     "metadata": {},
     "output_type": "display_data"
    }
   ],
   "source": [
    "plt.loglog(data_frequencies, np.abs(wf_channels[0].get()) * data_frequencies, label=\"original waveform\")\n",
    "plt.loglog(data_frequencies, np.abs(rec_wave1[0].get()) * data_frequencies, linestyle=\"--\", label=\"reconstructed waveform\")\n",
    "plt.loglog(data_frequencies, np.abs(rec_wave1[0].get() - wf_channels[0].get()) * data_frequencies, label=\"difference via params\")\n",
    "plt.loglog(data_frequencies, np.abs(rec_wave2[0].get() - wf_channels[0].get()) * data_frequencies, label=\"difference via a\", linestyle=\"--\")\n",
    "plt.loglog(data_frequencies, np.sqrt(PSD_channels[0] * 2. * data_frequencies), label=\"noise\")\n",
    "plt.ylim(1e-25,)\n",
    "\n",
    "plt.xlabel(\"Frequency (Hz)\")\n",
    "plt.ylabel(\"Characteristic Strain\")\n",
    "plt.legend(loc=\"upper left\", frameon=False)"
   ]
  },
  {
   "cell_type": "code",
   "execution_count": 15,
   "id": "c099ba81",
   "metadata": {},
   "outputs": [
    {
     "data": {
      "text/plain": [
       "(10,)"
      ]
     },
     "execution_count": 15,
     "metadata": {},
     "output_type": "execute_result"
    }
   ],
   "source": [
    "int_params_vec = dict() \n",
    "for k, v in int_params.items():\n",
    "    int_params_vec[k] = v * np.ones(10)\n",
    "f_vec = Fstat.calculate_Fstat_vectorized(intrinsic_parameters=int_params_vec)\n",
    "f_vec.shape "
   ]
  },
  {
   "cell_type": "markdown",
   "id": "bc92a26b",
   "metadata": {},
   "source": [
    "### optimization from prior "
   ]
  },
  {
   "cell_type": "code",
   "execution_count": 16,
   "id": "dd884ae6",
   "metadata": {},
   "outputs": [
    {
     "name": "stderr",
     "output_type": "stream",
     "text": [
      "/home/ps/miniconda3/envs/tdc/lib/python3.9/site-packages/scipy/optimize/_differentialevolution.py:487: UserWarning: differential_evolution: the 'vectorized' keyword has overridden updating='immediate' to updating='deferred'\n",
      "  with DifferentialEvolutionSolver(func, bounds, args=args,\n"
     ]
    },
    {
     "name": "stdout",
     "output_type": "stream",
     "text": [
      "             message: Optimization terminated successfully.\n",
      "             success: True\n",
      "                 fun: -243236.77973273507\n",
      "                   x: [ 7.495e-01  1.430e-01  2.647e-01  6.690e-01\n",
      "                        6.309e-01  6.231e-01  7.155e-01]\n",
      "                 nit: 480\n",
      "                nfev: 481\n",
      "          population: [[ 7.495e-01  1.430e-01 ...  6.231e-01  7.155e-01]\n",
      "                       [ 7.495e-01  1.430e-01 ...  6.227e-01  7.181e-01]\n",
      "                       ...\n",
      "                       [ 7.495e-01  1.430e-01 ...  6.235e-01  7.151e-01]\n",
      "                       [ 7.495e-01  1.430e-01 ...  6.231e-01  7.184e-01]]\n",
      " population_energies: [-2.432e+05 -2.432e+05 ... -2.432e+05 -2.432e+05]\n"
     ]
    }
   ],
   "source": [
    "from scipy.optimize import differential_evolution\n",
    "\n",
    "def cost_function(norm_int_params):\n",
    "    \"\"\"   \n",
    "        norm_int_params: shape (Nparams, Nevent), normalized to (0, 1)\n",
    "    \"\"\"\n",
    "    int_params = norm_int_params.transpose() * (intrinsic_param_priors[:, 1] - intrinsic_param_priors[:, 0]) + intrinsic_param_priors[:, 0] # (Nevent, Nparams)\n",
    "    params_in = Fstat.IntParamArr2ParamDict(int_params.transpose()) # (Nparams, Nevent) -> dictionary, each item (Nevent)\n",
    "    return -Fstat.calculate_Fstat_vectorized(intrinsic_parameters=params_in) # (Nevent)\n",
    "\n",
    "n_dim_int = 7 \n",
    "lower_bounds = np.zeros(n_dim_int) \n",
    "upper_bounds = np.ones(n_dim_int) \n",
    "bounds = np.array([lower_bounds, upper_bounds]).T # (Nparams, 2)\n",
    "\n",
    "DE_result = differential_evolution(\n",
    "    func=cost_function,\n",
    "    bounds=bounds,\n",
    "    x0=None,\n",
    "    strategy='best1exp',\n",
    "    # strategy='rand1bin',\n",
    "    maxiter=5000,\n",
    "    popsize=10*n_dim_int,\n",
    "    # popsize=6*n_dim_int, \n",
    "    tol=1e-8,\n",
    "    atol=1e-10,\n",
    "    # tol=1e-7,\n",
    "    # atol=1e-9,\n",
    "    # tol=1e-6,\n",
    "    # atol=1e-8,\n",
    "    mutation=(0.4, 0.95),\n",
    "    recombination=0.7,\n",
    "    disp=False,\n",
    "    polish=False,\n",
    "    vectorized=True,\n",
    "    # workers=1,\n",
    ")\n",
    "\n",
    "print(DE_result)"
   ]
  },
  {
   "cell_type": "markdown",
   "id": "43e31488",
   "metadata": {},
   "source": [
    "### reconstruct parameters and waveforms "
   ]
  },
  {
   "cell_type": "code",
   "execution_count": 17,
   "id": "0d0cc0e6",
   "metadata": {},
   "outputs": [
    {
     "name": "stdout",
     "output_type": "stream",
     "text": [
      "parameter name | difference\n",
      "chirp_mass 1134.8272334856447\n",
      "mass_ratio 1.657610636271456e-05\n",
      "spin_1z 0.01174249546436451\n",
      "spin_2z 0.06027466026426742\n",
      "coalescence_time 0.0006188617852558309\n",
      "longitude 0.163474304835872\n",
      "latitude 0.006368660219439437\n",
      "luminosity_distance 2259.1618577396403\n",
      "inclination 0.14376299367404277\n",
      "psi 0.021214085919611936\n",
      "coalescence_phase 3.123201384397451\n"
     ]
    }
   ],
   "source": [
    "searched_int_params = Fstat.IntParamArr2ParamDict(DE_result.x * (intrinsic_param_priors[:, 1] - intrinsic_param_priors[:, 0]) + intrinsic_param_priors[:, 0])\n",
    "\n",
    "searched_a = Fstat.calculate_Fstat_vectorized(\n",
    "    intrinsic_parameters=searched_int_params, \n",
    "    return_a=True, \n",
    ") # (1, 4)\n",
    "searched_ext_params = Fstat.a_to_extrinsic_vectorized(searched_a)\n",
    "\n",
    "searched_params = dict(searched_int_params, **searched_ext_params)\n",
    "\n",
    "print(\"parameter name | difference\")\n",
    "for k, v in searched_params.items():\n",
    "    print(k, np.abs(v-mbhb_parameters[k]))"
   ]
  },
  {
   "cell_type": "code",
   "execution_count": 18,
   "id": "879f9c17",
   "metadata": {},
   "outputs": [
    {
     "data": {
      "text/plain": [
       "<matplotlib.legend.Legend at 0x7907a2599850>"
      ]
     },
     "execution_count": 18,
     "metadata": {},
     "output_type": "execute_result"
    },
    {
     "data": {
      "image/png": "[encoded data removed]",
      "text/plain": [
       "<Figure size 640x480 with 1 Axes>"
      ]
     },
     "metadata": {},
     "output_type": "display_data"
    }
   ],
   "source": [
    "searched_wf1 = FDTDI_GPU.Response(\n",
    "    searched_params, \n",
    "    data_frequencies_GPU, \n",
    "    **response_kwargs_GPU\n",
    ")\n",
    "\n",
    "searched_wf2 = Fstat.calculate_Fstat_vectorized(\n",
    "    intrinsic_parameters=searched_int_params, \n",
    "    return_recovered_wave=True\n",
    ")[:, 0, :]\n",
    "\n",
    "plt.loglog(data_frequencies, np.abs(wf_channels[0].get()) * data_frequencies, label=\"injected waveform\")\n",
    "plt.loglog(data_frequencies, np.abs(searched_wf1[0].get()) * data_frequencies, linestyle=\"--\", label=\"searched waveform\")\n",
    "plt.loglog(data_frequencies, np.abs(searched_wf1[0].get() - wf_channels[0].get()) * data_frequencies, linestyle=\"-\", label=\"difference via param\")\n",
    "plt.loglog(data_frequencies, np.abs(searched_wf2[0].get() - wf_channels[0].get()) * data_frequencies, linestyle=\"--\", label=\"difference via a\")\n",
    "plt.loglog(data_frequencies, np.sqrt(PSD_channels[0] * 2. * data_frequencies), label=\"noise\")\n",
    "plt.ylim(1e-25, )\n",
    "plt.legend()"
   ]
  },
  {
   "cell_type": "markdown",
   "id": "4e062421",
   "metadata": {},
   "source": [
    "## Fisher analysis "
   ]
  },
  {
   "cell_type": "code",
   "execution_count": 19,
   "id": "fe99befa",
   "metadata": {},
   "outputs": [
    {
     "name": "stdout",
     "output_type": "stream",
     "text": [
      "11 parameters in total: ['chirp_mass', 'mass_ratio', 'spin_1z', 'spin_2z', 'coalescence_time', 'coalescence_phase', 'luminosity_distance', 'inclination', 'longitude', 'latitude', 'psi']\n",
      "11 analyzed parameters: ['chirp_mass', 'mass_ratio', 'spin_1z', 'spin_2z', 'coalescence_time', 'coalescence_phase', 'luminosity_distance', 'inclination', 'longitude', 'latitude', 'psi']\n",
      "parameters whose steps should be tested: ['chirp_mass', 'mass_ratio', 'spin_1z', 'spin_2z', 'coalescence_time', 'coalescence_phase', 'luminosity_distance', 'inclination', 'longitude', 'latitude', 'psi']\n",
      "\n",
      " ========= testing parameter chirp_mass ==========\n",
      "error = 19.6337551586909\n",
      "shift = 5.0 relative diff = 8.138725744029486e-07\n",
      "shift of parameter chirp_mass is 5.0\n",
      "\n",
      " ========= testing parameter mass_ratio ==========\n",
      "error = 0.010678784665367893\n",
      "shift = 0.005 relative diff = 0.0038084992632585906\n",
      "error = 0.01065395454277124\n",
      "shift = 0.0025 relative diff = 0.004256098460643292\n",
      "error = 0.010646377186027341\n",
      "shift = 0.00125 relative diff = 0.0013000804225769514\n",
      "error = 0.010643477172973013\n",
      "shift = 0.000625 relative diff = 0.0004150109507084011\n",
      "error = 0.010642240836812412\n",
      "shift = 0.0003125 relative diff = 0.00016289702096384704\n",
      "error = 0.010641683537747009\n",
      "shift = 0.00015625 relative diff = 7.043395941052192e-05\n",
      "shift of parameter mass_ratio is 0.00015625\n",
      "\n",
      " ========= testing parameter spin_1z ==========\n",
      "error = 0.026207949095906933\n",
      "shift = 0.005 relative diff = 0.00025004224582298134\n",
      "error = 0.026219243490623136\n",
      "shift = 0.0025 relative diff = 0.0003802796950422966\n",
      "error = 0.02622595327742736\n",
      "shift = 0.00125 relative diff = 0.00028327608096566397\n",
      "error = 0.026229593432130285\n",
      "shift = 0.000625 relative diff = 0.00016343538212029138\n",
      "error = 0.026231509182805753\n",
      "shift = 0.0003125 relative diff = 8.784540245446808e-05\n",
      "shift of parameter spin_1z is 0.0003125\n",
      "\n",
      " ========= testing parameter spin_2z ==========\n",
      "error = 0.07265484913793412\n",
      "shift = 0.005 relative diff = 8.472326329994852e-05\n",
      "shift of parameter spin_2z is 0.005\n",
      "\n",
      " ========= testing parameter coalescence_time ==========\n",
      "error = 0.0011324043393178553\n",
      "shift = 0.0005 relative diff = 0.012645624209465288\n",
      "error = 0.0011253905802029401\n",
      "shift = 0.00025 relative diff = 0.013703942339510557\n",
      "error = 0.0011236462250191208\n",
      "shift = 0.000125 relative diff = 0.0033685519326809273\n",
      "error = 0.0011232107538103788\n",
      "shift = 6.25e-05 relative diff = 0.0008385504682173365\n",
      "error = 0.0011231019505101075\n",
      "shift = 3.125e-05 relative diff = 0.00020938564608214804\n",
      "error = 0.001123074766439037\n",
      "shift = 1.5625e-05 relative diff = 5.231648833995085e-05\n",
      "shift of parameter coalescence_time is 1.5625e-05\n",
      "\n",
      " ========= testing parameter coalescence_phase ==========\n",
      "error = 0.026783490526476213\n",
      "shift = 0.05 relative diff = 0.00031272782438355215\n",
      "error = 0.02677930550945779\n",
      "shift = 0.025 relative diff = 0.00033780340104711134\n",
      "error = 0.026778259550844206\n",
      "shift = 0.0125 relative diff = 8.43996702225071e-05\n",
      "shift of parameter coalescence_phase is 0.0125\n",
      "\n",
      " ========= testing parameter luminosity_distance ==========\n",
      "error = 6.24191690997241\n",
      "shift = 0.5 relative diff = 4.601033630142344e-06\n",
      "shift of parameter luminosity_distance is 0.5\n",
      "\n",
      " ========= testing parameter inclination ==========\n",
      "error = 0.03650484923569963\n",
      "shift = 0.005 relative diff = 0.0001636725321244909\n",
      "error = 0.03649892626836126\n",
      "shift = 0.0025 relative diff = 0.00020366265505381345\n",
      "error = 0.036495977905059374\n",
      "shift = 0.00125 relative diff = 0.00010107814874999587\n",
      "error = 0.03649450702209749\n",
      "shift = 0.000625 relative diff = 5.034873750006757e-05\n",
      "shift of parameter inclination is 0.000625\n",
      "\n",
      " ========= testing parameter longitude ==========\n",
      "error = 0.01725279328211692\n",
      "shift = 0.005 relative diff = 0.0003182081073627743\n",
      "error = 0.017258522661044412\n",
      "shift = 0.0025 relative diff = 0.00040170935368230625\n",
      "error = 0.01726144697523079\n",
      "shift = 0.00125 relative diff = 0.00020822065347266607\n",
      "error = 0.01726292400845383\n",
      "shift = 0.000625 relative diff = 0.0001059459649477086\n",
      "error = 0.017263666239143643\n",
      "shift = 0.0003125 relative diff = 5.343107598537088e-05\n",
      "shift of parameter longitude is 0.0003125\n",
      "\n",
      " ========= testing parameter latitude ==========\n",
      "error = 0.02262852553533729\n",
      "shift = 0.005 relative diff = 0.0003157567950267448\n",
      "error = 0.02263583340236495\n",
      "shift = 0.0025 relative diff = 0.00039625920369238337\n",
      "error = 0.022639527749727426\n",
      "shift = 0.00125 relative diff = 0.00020193328431677692\n",
      "error = 0.022641385040937802\n",
      "shift = 0.000625 relative diff = 0.0001019123972568437\n",
      "error = 0.022642316213172003\n",
      "shift = 0.0003125 relative diff = 5.119287153050199e-05\n",
      "shift of parameter latitude is 0.0003125\n",
      "\n",
      " ========= testing parameter psi ==========\n",
      "error = 0.029378124930476576\n",
      "shift = 0.005 relative diff = 0.00022530468965557818\n",
      "error = 0.029384739783412602\n",
      "shift = 0.0025 relative diff = 0.0002808904178485215\n",
      "error = 0.029388046065723192\n",
      "shift = 0.00125 relative diff = 0.00014035223184719075\n",
      "error = 0.029389698885780993\n",
      "shift = 0.000625 relative diff = 7.015093484070147e-05\n",
      "shift of parameter psi is 0.000625\n",
      "all parameters tested.\n",
      "errors:\n",
      "{'chirp_mass': 1897.5357060506353, 'mass_ratio': 0.0020542350246097263, 'spin_1z': 0.030397965032935244, 'spin_2z': 0.14249482208796624, 'coalescence_time': 0.00047935985371654315, 'coalescence_phase': 0.34764101966274763, 'luminosity_distance': 8403.687530315732, 'inclination': 0.1850857877251723, 'longitude': 0.1334467112697814, 'latitude': 0.18995809834232058, 'psi': 0.5262107183013907}\n"
     ]
    },
    {
     "data": {
      "text/plain": [
       "{'chirp_mass': 1897.5357060506353,\n",
       " 'mass_ratio': 0.0020542350246097263,\n",
       " 'spin_1z': 0.030397965032935244,\n",
       " 'spin_2z': 0.14249482208796624,\n",
       " 'coalescence_time': 0.00047935985371654315,\n",
       " 'coalescence_phase': 0.34764101966274763,\n",
       " 'luminosity_distance': 8403.687530315732,\n",
       " 'inclination': 0.1850857877251723,\n",
       " 'longitude': 0.1334467112697814,\n",
       " 'latitude': 0.18995809834232058,\n",
       " 'psi': 0.5262107183013907}"
      ]
     },
     "execution_count": 19,
     "metadata": {},
     "output_type": "execute_result"
    }
   ],
   "source": [
    "def fisher_waveform_wrapper(param_dict, frequencies):\n",
    "    res = FDTDI_GPU.Response(\n",
    "        parameters=param_dict, \n",
    "        freqs=xp.array(frequencies),  \n",
    "        **response_kwargs_GPU, \n",
    "    )\n",
    "    return res.get()\n",
    "\n",
    "# set initial steps \n",
    "analyze_param_step_dict = {\n",
    "    'chirp_mass': 10.,\n",
    "    'mass_ratio': 0.01,\n",
    "    'spin_1z': 0.01,\n",
    "    'spin_2z': 0.01,\n",
    "    'coalescence_time': 0.001,\n",
    "    'coalescence_phase': 0.1,\n",
    "    'luminosity_distance': 1.,\n",
    "    'inclination': 0.01,\n",
    "    'longitude': 0.01,\n",
    "    'latitude': 0.01,\n",
    "    'psi': 0.01\n",
    "    }\n",
    "for k, v in analyze_param_step_dict.items():\n",
    "    analyze_param_step_dict[k] = -v \n",
    "\n",
    "FIM = MultiChannelFisher(\n",
    "    waveform_generator=fisher_waveform_wrapper, \n",
    "    param_dict=mbhb_parameters, \n",
    "    # param_dict=searched_params, \n",
    "    analyze_param_step_dict=analyze_param_step_dict, \n",
    "    frequency=data_frequencies, \n",
    "    inverse_covariance=InvCovMat, \n",
    "    verbose=1,\n",
    ")\n",
    "\n",
    "FIM.auto_test_step()\n",
    "FIM.calculate_Fisher()\n",
    "FIM.calculate_errors() \n",
    "\n",
    "FIM.param_errors"
   ]
  },
  {
   "cell_type": "code",
   "execution_count": 20,
   "id": "0d80e6c2",
   "metadata": {},
   "outputs": [
    {
     "name": "stdout",
     "output_type": "stream",
     "text": [
      "parameter name | truth | difference | FIM bound | ratio\n",
      "chirp_mass 1775160.327835913 1134.8272334856447 1897.5357060506353 0.598053164357879\n",
      "mass_ratio 0.22868565631889037 1.657610636271456e-05 0.0020542350246097263 0.00806923558606142\n",
      "spin_1z -0.4352906867762712 0.01174249546436451 0.030397965032935244 0.38629215645329823\n",
      "spin_2z 0.36447188900781324 0.06027466026426742 0.14249482208796624 0.4229954420874192\n",
      "coalescence_time 103.63031735165181 0.0006188617852558309 0.00047935985371654315 1.291017135577187\n",
      "longitude 4.078566518754421 0.163474304835872 0.1334467112697814 1.2250156132014793\n",
      "latitude 0.43915922901161997 0.006368660219439437 0.18995809834232058 0.03352665811574178\n",
      "luminosity_distance 27167.18239891708 2259.1618577396403 8403.687530315732 0.268829826143567\n",
      "inclination 1.1848801300346374 0.14376299367404277 0.1850857877251723 0.776737076579384\n",
      "psi 2.518857930739501 0.021214085919611936 0.5262107183013907 0.04031481150382313\n",
      "coalescence_phase 2.506999965577507 3.123201384397451 0.34764101966274763 8.983984074800267\n"
     ]
    }
   ],
   "source": [
    "print(\"parameter name | truth | difference | FIM bound | ratio\")\n",
    "for k, v in searched_params.items():\n",
    "    print(k, mbhb_parameters[k], np.abs(v-mbhb_parameters[k]), FIM.param_errors[k], np.abs(v-mbhb_parameters[k]) / FIM.param_errors[k])"
   ]
  },
  {
   "cell_type": "markdown",
   "id": "73136aa2",
   "metadata": {},
   "source": [
    "## Test across population "
   ]
  },
  {
   "cell_type": "code",
   "execution_count": 22,
   "id": "6e36d858",
   "metadata": {},
   "outputs": [
    {
     "name": "stderr",
     "output_type": "stream",
     "text": [
      " 10%|█         | 1/10 [04:48<43:16, 288.46s/it]"
     ]
    },
    {
     "name": "stdout",
     "output_type": "stream",
     "text": [
      "optimal snr = 697.2951188593399\n",
      "residual snr = 3.437321674778152\n",
      "tc deviation = -0.001083483237991345\n",
      "tc bound = 0.00047935976902987147\n",
      "longitude deviation= 0.199851363683627\n",
      "latitude deviation= 0.16459097742981976\n",
      "inclination deviation= 0.2801842716392591\n",
      "inclination sum= 2.6499445317085337\n"
     ]
    },
    {
     "name": "stderr",
     "output_type": "stream",
     "text": [
      " 20%|██        | 2/10 [07:54<30:27, 228.38s/it]"
     ]
    },
    {
     "name": "stdout",
     "output_type": "stream",
     "text": [
      "optimal snr = 697.2951188593399\n",
      "residual snr = 4.584869564021583\n",
      "tc deviation = -0.0035629296369137364\n",
      "tc bound = 0.00047935976902987147\n",
      "longitude deviation= 0.7509172820001835\n",
      "latitude deviation= 0.18426169803917747\n",
      "inclination deviation= 0.6407184610826666\n",
      "inclination sum= 3.0104787211519417\n"
     ]
    },
    {
     "name": "stderr",
     "output_type": "stream",
     "text": [
      " 30%|███       | 3/10 [11:34<26:11, 224.45s/it]"
     ]
    },
    {
     "name": "stdout",
     "output_type": "stream",
     "text": [
      "optimal snr = 697.2951188593399\n",
      "residual snr = 1.2543157594730892\n",
      "tc deviation = -0.00027486898392226067\n",
      "tc bound = 0.00047935976902987147\n",
      "longitude deviation= 0.02486016064018859\n",
      "latitude deviation= 0.10390291975827948\n",
      "inclination deviation= 0.057724015621114066\n",
      "inclination sum= 2.427484275690389\n"
     ]
    },
    {
     "name": "stderr",
     "output_type": "stream",
     "text": [
      " 40%|████      | 4/10 [15:36<23:07, 231.33s/it]"
     ]
    },
    {
     "name": "stdout",
     "output_type": "stream",
     "text": [
      "optimal snr = 697.2951188593399\n",
      "residual snr = 2.7812824344403397\n",
      "tc deviation = -0.003875769509335214\n",
      "tc bound = 0.00047935976902987147\n",
      "longitude deviation= 0.8320434726501222\n",
      "latitude deviation= 0.3538467949280364\n",
      "inclination deviation= 0.6317503030368055\n",
      "inclination sum= 3.0015105631060806\n"
     ]
    },
    {
     "name": "stderr",
     "output_type": "stream",
     "text": [
      " 50%|█████     | 5/10 [20:28<21:06, 253.34s/it]"
     ]
    },
    {
     "name": "stdout",
     "output_type": "stream",
     "text": [
      "optimal snr = 697.2951188593399\n",
      "residual snr = 2.9009635910355147\n",
      "tc deviation = -3.161276758589793e-05\n",
      "tc bound = 0.00047935976902987147\n",
      "longitude deviation= 0.0019135537649122014\n",
      "latitude deviation= 0.006868741557101987\n",
      "inclination deviation= -0.001256923983111058\n",
      "inclination sum= 2.368503336086164\n"
     ]
    },
    {
     "name": "stderr",
     "output_type": "stream",
     "text": [
      " 60%|██████    | 6/10 [24:50<17:04, 256.19s/it]"
     ]
    },
    {
     "name": "stdout",
     "output_type": "stream",
     "text": [
      "optimal snr = 697.2951188593399\n",
      "residual snr = 3.151188577506279\n",
      "tc deviation = -0.0031594951008173666\n",
      "tc bound = 0.00047935976902987147\n",
      "longitude deviation= 0.6592423180759805\n",
      "latitude deviation= 0.17118212524948284\n",
      "inclination deviation= 0.6783972355415899\n",
      "inclination sum= 3.048157495610865\n"
     ]
    },
    {
     "name": "stderr",
     "output_type": "stream",
     "text": [
      " 70%|███████   | 7/10 [28:25<12:08, 242.80s/it]"
     ]
    },
    {
     "name": "stdout",
     "output_type": "stream",
     "text": [
      "optimal snr = 697.2951188593399\n",
      "residual snr = 4.2632141729186355\n",
      "tc deviation = 0.0005140156883527425\n",
      "tc bound = 0.00047935976902987147\n",
      "longitude deviation= -0.1066443715944998\n",
      "latitude deviation= -0.0710020869148204\n",
      "inclination deviation= 0.1172422011096712\n",
      "inclination sum= 2.487002461178946\n"
     ]
    },
    {
     "name": "stderr",
     "output_type": "stream",
     "text": [
      " 80%|████████  | 8/10 [32:01<07:48, 234.22s/it]"
     ]
    },
    {
     "name": "stdout",
     "output_type": "stream",
     "text": [
      "optimal snr = 697.2951188593399\n",
      "residual snr = 3.049162459163095\n",
      "tc deviation = -0.00028454548737499863\n",
      "tc bound = 0.00047935976902987147\n",
      "longitude deviation= 0.0726556167581256\n",
      "latitude deviation= -0.02027965542377208\n",
      "inclination deviation= -0.11538910725168772\n",
      "inclination sum= 2.254371152817587\n"
     ]
    },
    {
     "name": "stderr",
     "output_type": "stream",
     "text": [
      " 90%|█████████ | 9/10 [35:37<03:48, 228.63s/it]"
     ]
    },
    {
     "name": "stdout",
     "output_type": "stream",
     "text": [
      "optimal snr = 697.2951188593399\n",
      "residual snr = 2.7222465717509308\n",
      "tc deviation = -0.002282089696123535\n",
      "tc bound = 0.00047935976902987147\n",
      "longitude deviation= 0.4778957714923786\n",
      "latitude deviation= 0.13509544900960613\n",
      "inclination deviation= 0.6625240376416373\n",
      "inclination sum= 3.032284297710912\n"
     ]
    },
    {
     "name": "stderr",
     "output_type": "stream",
     "text": [
      "100%|██████████| 10/10 [38:28<00:00, 230.83s/it]"
     ]
    },
    {
     "name": "stdout",
     "output_type": "stream",
     "text": [
      "optimal snr = 697.2951188593399\n",
      "residual snr = 3.623261434426855\n",
      "tc deviation = -0.003668953698479527\n",
      "tc bound = 0.00047935976902987147\n",
      "longitude deviation= 0.7730971168474454\n",
      "latitude deviation= 0.203297303071584\n",
      "inclination deviation= 0.6421278855801291\n",
      "inclination sum= 3.011888145649404\n"
     ]
    },
    {
     "name": "stderr",
     "output_type": "stream",
     "text": [
      "\n"
     ]
    }
   ],
   "source": [
    "truths_list = [] \n",
    "searched_list = [] \n",
    "FIM_bound_list = [] \n",
    "snr_list = [] \n",
    "res_snr_list = []\n",
    "\n",
    "for test_idx in tqdm(range(10)):\n",
    "\n",
    "    # generate source parameter and clean signal \n",
    "    # mbhb_parameters = {\n",
    "    #     'chirp_mass': np.power(10., np.random.uniform(lgMc_prior[0], lgMc_prior[1])), \n",
    "    #     'mass_ratio': np.random.uniform(q_prior[0], q_prior[1]), \n",
    "    #     'spin_1z': np.random.uniform(s1_prior[0], s1_prior[1]),\n",
    "    #     'spin_2z': np.random.uniform(s2_prior[0], s2_prior[1]),\n",
    "    #     'coalescence_time': np.random.uniform(tc_prior[0], tc_prior[1]), \n",
    "    #     'coalescence_phase': np.random.uniform(0, TWOPI),\n",
    "    #     'luminosity_distance': np.power(10., np.random.uniform(lgdl_prior[0], lgdl_prior[1])), \n",
    "    #     'inclination': np.arccos(np.random.uniform(-1., 1.)), # [rad]\n",
    "    #     'longitude': np.random.uniform(lam_prior[0], lam_prior[1]), # [rad]\n",
    "    #     'latitude': np.arcsin(np.random.uniform(sinbeta_prior[0], sinbeta_prior[1])), # [rad]\n",
    "    #     'psi': np.random.uniform(0, PI) # [rad]\n",
    "    #     }\n",
    "    wf_channels = FDTDI_GPU.Response(mbhb_parameters, data_frequencies_GPU, **response_kwargs_GPU)\n",
    "\n",
    "    # generate frequency-domain noises \n",
    "    Re_tmp = np.random.normal(scale=np.sqrt(PSD_channels / 4. / delta_f))\n",
    "    Im_tmp = np.random.normal(scale=np.sqrt(PSD_channels / 4. / delta_f))\n",
    "    noise_channels = xp.array(Re_tmp + 1.j * Im_tmp) \n",
    "\n",
    "    # combine signal and noise \n",
    "    data_channels = wf_channels + noise_channels \n",
    "    # data_channels = wf_channels\n",
    "\n",
    "    opt_SNR = FrequencyDomainCovarianceSNR(wf_channels.get(), InvCovMat)\n",
    "    snr_list.append(opt_SNR)\n",
    "\n",
    "    Fstat = Fstatistics(\n",
    "        response_generator=FDTDI_GPU, \n",
    "        frequency=data_frequencies_GPU, \n",
    "        data=data_channels, \n",
    "        invserse_covariance_matrix=InvCovMat, \n",
    "        response_parameters=response_kwargs_GPU, \n",
    "        use_gpu=True\n",
    "    )\n",
    "\n",
    "    def cost_function(norm_int_params):\n",
    "        \"\"\"   \n",
    "            norm_int_params: shape (Nparams, Nevent), normalized to (0, 1)\n",
    "        \"\"\"\n",
    "        int_params = norm_int_params.transpose() * (intrinsic_param_priors[:, 1] - intrinsic_param_priors[:, 0]) + intrinsic_param_priors[:, 0] # (Nevent, Nparams)\n",
    "        params_in = Fstat.IntParamArr2ParamDict(int_params.transpose()) # (Nparams, Nevent) -> dictionary, each item (Nevent)\n",
    "        return -Fstat.calculate_Fstat_vectorized(intrinsic_parameters=params_in) # (Nevent)\n",
    "\n",
    "    n_dim_int = 7 \n",
    "    lower_bounds = np.zeros(n_dim_int) \n",
    "    upper_bounds = np.ones(n_dim_int) \n",
    "    bounds = np.array([lower_bounds, upper_bounds]).T # (Nparams, 2)\n",
    "\n",
    "    DE_result = differential_evolution(\n",
    "        func=cost_function,\n",
    "        bounds=bounds,\n",
    "        x0=None,\n",
    "        strategy='best1exp',\n",
    "        # strategy='rand1bin',\n",
    "        maxiter=5000,\n",
    "        popsize=10*n_dim_int,\n",
    "        # popsize=6*n_dim_int, \n",
    "        tol=1e-8,\n",
    "        atol=1e-10,\n",
    "        # tol=1e-6,\n",
    "        # atol=1e-8,\n",
    "        mutation=(0.4, 0.95),\n",
    "        recombination=0.7,\n",
    "        disp=False,\n",
    "        polish=False,\n",
    "        vectorized=True,\n",
    "    )\n",
    "\n",
    "    searched_int_params = Fstat.IntParamArr2ParamDict(DE_result.x * (intrinsic_param_priors[:, 1] - intrinsic_param_priors[:, 0]) + intrinsic_param_priors[:, 0])\n",
    "\n",
    "    searched_a = Fstat.calculate_Fstat_vectorized(\n",
    "        intrinsic_parameters=searched_int_params, \n",
    "        return_a=True, \n",
    "    ) # (1, 4)\n",
    "    searched_ext_params = Fstat.a_to_extrinsic_vectorized(searched_a)\n",
    "\n",
    "    searched_params = dict(searched_int_params, **searched_ext_params)\n",
    "\n",
    "    searched_wf = Fstat.calculate_Fstat_vectorized(\n",
    "        intrinsic_parameters=searched_int_params, \n",
    "        return_recovered_wave=True, \n",
    "    )[:, 0, :]\n",
    "    res_snr_list.append(FrequencyDomainCovarianceSNR((wf_channels-searched_wf).get(), InvCovMat))\n",
    "\n",
    "    def fisher_waveform_wrapper(param_dict, frequencies):\n",
    "        res = FDTDI_GPU.Response(\n",
    "            parameters=param_dict, \n",
    "            freqs=xp.array(frequencies),  \n",
    "            **response_kwargs_GPU, \n",
    "        )\n",
    "        return res.get()\n",
    "\n",
    "    # set initial steps \n",
    "    analyze_param_step_dict = {\n",
    "        'chirp_mass': 10.,\n",
    "        'mass_ratio': 0.01,\n",
    "        'spin_1z': 0.01,\n",
    "        'spin_2z': 0.01,\n",
    "        'coalescence_time': 0.001,\n",
    "        'coalescence_phase': 0.01,\n",
    "        'luminosity_distance': 10.,\n",
    "        'inclination': 0.01,\n",
    "        'longitude': 0.01,\n",
    "        'latitude': 0.01,\n",
    "        'psi': 0.01\n",
    "        }\n",
    "    for k, v in analyze_param_step_dict.items():\n",
    "        analyze_param_step_dict[k] = -v \n",
    "\n",
    "    FIM = MultiChannelFisher(\n",
    "        waveform_generator=fisher_waveform_wrapper, \n",
    "        param_dict=mbhb_parameters, \n",
    "        # param_dict=searched_params, \n",
    "        analyze_param_step_dict=analyze_param_step_dict, \n",
    "        frequency=data_frequencies, \n",
    "        inverse_covariance=InvCovMat, \n",
    "        verbose=0,\n",
    "    )\n",
    "\n",
    "    FIM.auto_test_step()\n",
    "    FIM.calculate_Fisher()\n",
    "    FIM.calculate_errors() \n",
    "\n",
    "    truths_list.append(mbhb_parameters)\n",
    "    searched_list.append(searched_params)\n",
    "    FIM_bound_list.append(FIM.param_errors)\n",
    "    print(\"optimal snr =\", snr_list[test_idx])\n",
    "    print(\"residual snr =\", res_snr_list[test_idx])\n",
    "    print(\"tc deviation =\", searched_list[test_idx][\"coalescence_time\"]-truths_list[test_idx][\"coalescence_time\"])\n",
    "    print(\"tc bound =\", FIM_bound_list[test_idx][\"coalescence_time\"])\n",
    "    print(\"longitude deviation=\", searched_list[test_idx][\"longitude\"] - truths_list[test_idx][\"longitude\"])\n",
    "    print(\"latitude deviation=\", searched_list[test_idx][\"latitude\"] - truths_list[test_idx][\"latitude\"])\n",
    "    print(\"inclination deviation=\", searched_list[test_idx][\"inclination\"] - truths_list[test_idx][\"inclination\"])\n",
    "    print(\"inclination sum=\", searched_list[test_idx][\"inclination\"] + truths_list[test_idx][\"inclination\"])"
   ]
  },
  {
   "cell_type": "code",
   "execution_count": 23,
   "id": "9f3c30d4",
   "metadata": {},
   "outputs": [
    {
     "data": {
      "image/png": "[encoded data removed]",
      "text/plain": [
       "<Figure size 640x480 with 1 Axes>"
      ]
     },
     "metadata": {},
     "output_type": "display_data"
    }
   ],
   "source": [
    "bins = np.logspace(0., 4.5, 30)\n",
    "plt.hist(snr_list, bins=bins, density=False, facecolor=None, edgecolor=YELLOW, hatch=\"//\", histtype='step', lw=2); \n",
    "plt.hist(res_snr_list, bins=bins, density=False, facecolor=None, edgecolor=BLUE, hatch=\"//\", histtype='step', lw=2); \n",
    "plt.xlabel(\"SNR\")\n",
    "plt.ylabel(\"number of MBHBs in bin\")\n",
    "plt.xscale(\"log\")"
   ]
  },
  {
   "cell_type": "code",
   "execution_count": 24,
   "id": "71b7ccdd",
   "metadata": {},
   "outputs": [],
   "source": [
    "Mc_list = np.array([paramdict[\"chirp_mass\"] for paramdict in truths_list])\n",
    "q_list = np.array([paramdict[\"mass_ratio\"] for paramdict in truths_list])\n",
    "s1_list = np.array([paramdict[\"spin_1z\"] for paramdict in truths_list])\n",
    "s2_list = np.array([paramdict[\"spin_2z\"] for paramdict in truths_list])\n",
    "tc_list = np.array([paramdict[\"coalescence_time\"] for paramdict in truths_list])\n",
    "dl_list = np.array([paramdict[\"luminosity_distance\"] for paramdict in truths_list])\n",
    "inc_list = np.array([paramdict[\"inclination\"] for paramdict in truths_list])\n",
    "lon_list = np.array([paramdict[\"longitude\"] for paramdict in truths_list])\n",
    "lat_list = np.array([paramdict[\"latitude\"] for paramdict in truths_list])\n",
    "\n",
    "Mc_list1 = np.array([paramdict[\"chirp_mass\"] for paramdict in searched_list])\n",
    "q_list1 = np.array([paramdict[\"mass_ratio\"] for paramdict in searched_list])\n",
    "s1_list1 = np.array([paramdict[\"spin_1z\"] for paramdict in searched_list])\n",
    "s2_list1 = np.array([paramdict[\"spin_2z\"] for paramdict in searched_list])\n",
    "tc_list1 = np.array([paramdict[\"coalescence_time\"] for paramdict in searched_list])\n",
    "dl_list1 = np.array([paramdict[\"luminosity_distance\"] for paramdict in searched_list])\n",
    "inc_list1 = np.array([paramdict[\"inclination\"] for paramdict in searched_list])\n",
    "lon_list1 = np.array([paramdict[\"longitude\"] for paramdict in searched_list])\n",
    "lat_list1 = np.array([paramdict[\"latitude\"] for paramdict in searched_list])\n",
    "\n",
    "Mc_list2 = np.array([paramdict[\"chirp_mass\"] for paramdict in FIM_bound_list])\n",
    "q_list2 = np.array([paramdict[\"mass_ratio\"] for paramdict in FIM_bound_list])\n",
    "s1_list2 = np.array([paramdict[\"spin_1z\"] for paramdict in FIM_bound_list])\n",
    "s2_list2 = np.array([paramdict[\"spin_2z\"] for paramdict in FIM_bound_list])\n",
    "tc_list2 = np.array([paramdict[\"coalescence_time\"] for paramdict in FIM_bound_list])\n",
    "dl_list2 = np.array([paramdict[\"luminosity_distance\"] for paramdict in FIM_bound_list])\n",
    "inc_list2 = np.array([paramdict[\"inclination\"] for paramdict in FIM_bound_list])\n",
    "lon_list2 = np.array([paramdict[\"longitude\"] for paramdict in FIM_bound_list])\n",
    "lat_list2 = np.array([paramdict[\"latitude\"] for paramdict in FIM_bound_list])"
   ]
  },
  {
   "cell_type": "code",
   "execution_count": null,
   "id": "05c87283",
   "metadata": {},
   "outputs": [
    {
     "data": {
      "text/plain": [
       "(array([-0.28018427, -0.64071846, -0.05772402, -0.6317503 ,  0.00125692,\n",
       "        -0.67839724, -0.1172422 ,  0.11538911, -0.66252404, -0.64212789]),\n",
       " array([2.64994453, 3.01047872, 2.42748428, 3.00151056, 2.36850334,\n",
       "        3.0481575 , 2.48700246, 2.25437115, 3.0322843 , 3.01188815]))"
      ]
     },
     "execution_count": 26,
     "metadata": {},
     "output_type": "execute_result"
    }
   ],
   "source": [
    "inc_list - inc_list1, inc_list + inc_list"
   ]
  },
  {
   "cell_type": "code",
   "execution_count": null,
   "id": "26101b07",
   "metadata": {},
   "outputs": [],
   "source": [
    "bins = np.linspace(-12, 12, 50)\n",
    "plt.hist((Mc_list1 - Mc_list) / Mc_list2, bins=bins, density=False, facecolor=None, edgecolor=RED, hatch=\"//\", histtype='step', lw=2, label=\"chirp mass\");\n",
    "plt.hist((q_list1 - q_list) / q_list2, bins=bins, density=False, facecolor=None, edgecolor=GREEN1, hatch=\"//\", histtype='step', lw=2, label=\"mass ratio\");\n",
    "plt.xlabel(r'$\\Delta \\theta / \\ \\sigma_{\\theta}$')\n",
    "plt.ylabel(\"number of MBHBs in bin\")\n",
    "plt.legend(loc=\"upper right\", frameon=False)"
   ]
  },
  {
   "cell_type": "code",
   "execution_count": null,
   "id": "02c4efd7",
   "metadata": {},
   "outputs": [],
   "source": [
    "bins = np.linspace(-12, 12, 50)\n",
    "plt.hist((s1_list1 - s1_list) / s1_list2, bins=bins, density=False, facecolor=None, edgecolor=RED, hatch=\"//\", histtype='step', lw=2, label=\"spin 1\");\n",
    "plt.hist((s2_list1 - s2_list) / s2_list2, bins=bins, density=False, facecolor=None, edgecolor=GREEN1, hatch=\"//\", histtype='step', lw=2, label=\"spin 2\");\n",
    "plt.xlabel(r'$\\Delta \\theta / \\ \\sigma_{\\theta}$')\n",
    "plt.ylabel(\"number of MBHBs in bin\")\n",
    "plt.legend(loc=\"upper right\", frameon=False)"
   ]
  },
  {
   "cell_type": "code",
   "execution_count": null,
   "id": "60c97be7",
   "metadata": {},
   "outputs": [],
   "source": [
    "bins = np.linspace(-100, 100, 50)\n",
    "plt.hist((lon_list1 - lon_list) / lon_list2, bins=bins, density=False, facecolor=None, edgecolor=RED, hatch=\"//\", histtype='step', lw=2, label=\"longitude\");\n",
    "plt.hist((lat_list1 - lat_list) / lat_list2, bins=bins, density=False, facecolor=None, edgecolor=GREEN1, hatch=\"//\", histtype='step', lw=2, label=\"latitude\");\n",
    "plt.xlabel(r'$\\Delta \\theta / \\ \\sigma_{\\theta}$')\n",
    "plt.ylabel(\"number of MBHBs in bin\")\n",
    "plt.legend(loc=\"upper right\", frameon=False)"
   ]
  },
  {
   "cell_type": "code",
   "execution_count": null,
   "id": "f0b154c9",
   "metadata": {},
   "outputs": [],
   "source": [
    "bins = np.linspace(-100, 100, 50)\n",
    "plt.hist((dl_list1 - dl_list) / dl_list2, bins=bins, density=False, facecolor=None, edgecolor=RED, hatch=\"//\", histtype='step', lw=2, label=\"luminosity distance\");\n",
    "plt.hist((inc_list1 - inc_list) / inc_list2, bins=bins, density=False, facecolor=None, edgecolor=GREEN1, hatch=\"//\", histtype='step', lw=2, label=\"inclination\");\n",
    "plt.xlabel(r'$\\Delta \\theta / \\ \\sigma_{\\theta}$')\n",
    "plt.ylabel(\"number of MBHBs in bin\")\n",
    "plt.legend(loc=\"upper right\", frameon=False)"
   ]
  },
  {
   "cell_type": "code",
   "execution_count": null,
   "id": "3770c678",
   "metadata": {},
   "outputs": [],
   "source": [
    "bins = np.linspace(-100, 100, 50)\n",
    "plt.hist((tc_list1 - tc_list) / tc_list2, bins=bins, density=False, facecolor=None, edgecolor=RED, hatch=\"//\", histtype='step', lw=2, label=\"coalescence time\");\n",
    "plt.xlabel(r'$\\Delta \\theta / \\ \\sigma_{\\theta}$')\n",
    "plt.ylabel(\"number of MBHBs in bin\")\n",
    "plt.legend(loc=\"upper right\", frameon=False)"
   ]
  },
  {
   "cell_type": "code",
   "execution_count": null,
   "id": "cc5d7ef7",
   "metadata": {},
   "outputs": [],
   "source": [
    "plt.hist(tc_list - tc_list1);\n",
    "plt.xlabel(\"tc error\")"
   ]
  },
  {
   "cell_type": "code",
   "execution_count": null,
   "id": "6a60f374",
   "metadata": {},
   "outputs": [],
   "source": []
  }
 ],
 "metadata": {
  "kernelspec": {
   "display_name": "tri_env",
   "language": "python",
   "name": "python3"
  },
  "language_info": {
   "codemirror_mode": {
    "name": "ipython",
    "version": 3
   },
   "file_extension": ".py",
   "mimetype": "text/x-python",
   "name": "python",
   "nbconvert_exporter": "python",
   "pygments_lexer": "ipython3",
   "version": "3.9.19"
  }
 },
 "nbformat": 4,
 "nbformat_minor": 5
}
