{
 "cells": [
  {
   "cell_type": "code",
   "execution_count": 1,
   "id": "6cddc048",
   "metadata": {},
   "outputs": [
    {
     "name": "stderr",
     "output_type": "stream",
     "text": [
      "PyCBC.libutils: pkg-config call failed, setting NO_PKGCONFIG=1\n"
     ]
    },
    {
     "name": "stdout",
     "output_type": "stream",
     "text": [
      "has cupy\n",
      "has cupy\n",
      "has BBHx waveform\n"
     ]
    }
   ],
   "source": [
    "# limit the thread used by numpy \n",
    "import os\n",
    "os.environ[\"OMP_NUM_THREADS\"] = \"1\"\n",
    "os.environ[\"OPENBLAS_NUM_THREADS\"] = \"1\"\n",
    "os.environ[\"MKL_NUM_THREADS\"] = \"1\"\n",
    "os.environ[\"NUMEXPR_NUM_THREADS\"] = \"1\"\n",
    "os.environ[\"VECLIB_MAXIMUM_THREADS\"] = \"1\"  \n",
    "\n",
    "import numpy as np\n",
    "import scipy.interpolate as interp \n",
    "try:\n",
    "    import cupy as xp\n",
    "    import cupyx.scipy.interpolate as xinterp\n",
    "    # print(\"has cupy\")\n",
    "except (ImportError, ModuleNotFoundError) as e:\n",
    "    import numpy as xp\n",
    "    import scipy.interpolate as xinterp  \n",
    "    # print(\"no cupy\")\n",
    "\n",
    "from tqdm import tqdm\n",
    "import pickle\n",
    "import matplotlib.pyplot as plt\n",
    "# import matplotlib\n",
    "# matplotlib.rcParams['text.usetex'] = True\n",
    "# matplotlib.rcParams['font.family'] = 'serif'\n",
    "\n",
    "from Triangle.Constants import *\n",
    "from Triangle.Orbit import * \n",
    "from Triangle.Noise import *\n",
    "from Triangle.FFTTools import *\n",
    "from Triangle.TDI import *\n",
    "from Triangle.Data import * \n",
    "\n",
    "from Triangle_BBH.Waveform import * \n",
    "from Triangle_BBH.Response import *\n",
    "from Triangle_BBH.Utils import *\n",
    "from Triangle_BBH.Fisher import *\n",
    "\n",
    "# import multiprocessing\n",
    "\n",
    "# np.random.seed(114514)\n",
    "# xp.random.seed(114514)"
   ]
  },
  {
   "cell_type": "markdown",
   "id": "b74073cc",
   "metadata": {},
   "source": [
    "## Data settings "
   ]
  },
  {
   "cell_type": "code",
   "execution_count": 2,
   "id": "61cc324f",
   "metadata": {},
   "outputs": [
    {
     "data": {
      "text/plain": [
       "(14401,)"
      ]
     },
     "execution_count": 2,
     "metadata": {},
     "output_type": "execute_result"
    }
   ],
   "source": [
    "t_start = 100. * DAY # start time in s\n",
    "Tobs = 5. * DAY # data length in s \n",
    "t_end = t_start + Tobs # end time in s \n",
    "dt = 15. # time cadance in s \n",
    "fsample = 1. / dt # sampling rate in Hz \n",
    "data_frequencies_full = np.fft.rfftfreq(n=int(Tobs/dt), d=dt) # frequecies where waveform will be calculated \n",
    "delta_f = 1. / Tobs\n",
    "\n",
    "data_frequencies_full.shape "
   ]
  },
  {
   "cell_type": "code",
   "execution_count": 3,
   "id": "ee935e4e",
   "metadata": {},
   "outputs": [
    {
     "data": {
      "text/plain": [
       "((13964,), (13964,))"
      ]
     },
     "execution_count": 3,
     "metadata": {},
     "output_type": "execute_result"
    }
   ],
   "source": [
    "# mask the \"null\" frequencies, which may cause singularity in the calculation of likelihood \n",
    "mask = np.ones_like(data_frequencies_full, dtype=bool)\n",
    "for i in range(1, 50): \n",
    "    mask_idx = np.where(np.abs(data_frequencies_full - i*0.025)<i*5e-4)[0]\n",
    "    mask[mask_idx] = False \n",
    "\n",
    "# remove the frequencies below Taiji sensitive band \n",
    "mask_idx = np.where(data_frequencies_full < 1e-5)[0]\n",
    "mask[mask_idx] = False \n",
    "\n",
    "data_frequencies = data_frequencies_full[mask]\n",
    "data_frequencies_GPU = xp.array(data_frequencies)\n",
    "\n",
    "valid_idx = np.where(mask == True)[0]\n",
    "\n",
    "data_frequencies.shape, valid_idx.shape "
   ]
  },
  {
   "cell_type": "markdown",
   "id": "ace36ac2",
   "metadata": {},
   "source": [
    "## Set response model "
   ]
  },
  {
   "cell_type": "code",
   "execution_count": 4,
   "id": "e526180f",
   "metadata": {},
   "outputs": [],
   "source": [
    "# the path of Taiji orbit \n",
    "orbit_GPU = Orbit(OrbitDir=\"../../Triangle-Simulator/OrbitData/MicroSateOrbitEclipticTCB\") # create individial orbit objects for CPU and GPU to avoid the confusion of numpy / cupy orbit data \n",
    "\n",
    "# initialize  waveform generator \n",
    "WFG_GPU = BBHxWaveformGenerator(mode=\"primary\", use_gpu=True)\n",
    "\n",
    "# initialize response generator \n",
    "FDTDI_GPU = BBHxFDTDIResponseGenerator(orbit_class=orbit_GPU, waveform_generator=WFG_GPU, use_gpu=True)\n",
    "\n",
    "# response settings \n",
    "response_kwargs_GPU = dict(\n",
    "    modes=[(2,2)], \n",
    "    tc_at_constellation=True,\n",
    "    tmin=t_start / DAY, # start time in day \n",
    "    tmax=t_end / DAY, # end time in day  \n",
    "    TDIGeneration=\"2nd\", # \"1st\" or \"2nd\"\n",
    "    optimal_combination=True, # True for AET, False for XYZ \n",
    "    output_by_mode=False, \n",
    "    interpolation=True,\n",
    "    # interpolation=False, \n",
    ")"
   ]
  },
  {
   "cell_type": "markdown",
   "id": "77fef4d2",
   "metadata": {},
   "source": [
    "## Source parameter priors "
   ]
  },
  {
   "cell_type": "code",
   "execution_count": 5,
   "id": "b639bbfe",
   "metadata": {},
   "outputs": [
    {
     "data": {
      "text/plain": [
       "array([[ 5.50000000e+00,  6.50000000e+00],\n",
       "       [ 1.00000000e-01,  1.00000000e+00],\n",
       "       [-9.00000000e-01,  9.00000000e-01],\n",
       "       [-9.00000000e-01,  9.00000000e-01],\n",
       "       [ 1.03000000e+02,  1.04000000e+02],\n",
       "       [ 0.00000000e+00,  6.28318531e+00],\n",
       "       [-1.00000000e+00,  1.00000000e+00]])"
      ]
     },
     "execution_count": 5,
     "metadata": {},
     "output_type": "execute_result"
    }
   ],
   "source": [
    "lgMc_prior = [5.5, 6.5]\n",
    "q_prior = [0.1, 1]\n",
    "s1_prior = [-0.9, 0.9]\n",
    "s2_prior = [-0.9, 0.9]\n",
    "tc_prior = [t_start/DAY+3., t_end/DAY-1.] \n",
    "lam_prior = [0, TWOPI]\n",
    "sinbeta_prior = [-1., 1.]\n",
    "intrinsic_param_priors = np.array([\n",
    "    lgMc_prior, \n",
    "    q_prior, \n",
    "    s1_prior, \n",
    "    s2_prior, \n",
    "    tc_prior, \n",
    "    lam_prior, \n",
    "    sinbeta_prior, \n",
    "])\n",
    "\n",
    "lgdl_prior = [4., 5.]\n",
    "\n",
    "intrinsic_param_priors"
   ]
  },
  {
   "cell_type": "markdown",
   "id": "40b53c1b",
   "metadata": {},
   "source": [
    "## Noise model "
   ]
  },
  {
   "cell_type": "code",
   "execution_count": 6,
   "id": "c36a4c09",
   "metadata": {},
   "outputs": [
    {
     "data": {
      "text/plain": [
       "((3, 13964), (13964, 3, 3))"
      ]
     },
     "execution_count": 6,
     "metadata": {},
     "output_type": "execute_result"
    }
   ],
   "source": [
    "arm_time = np.mean(intrinsic_param_priors[4]) * DAY \n",
    "arms = dict()\n",
    "for key in MOSA_labels:\n",
    "    arms[key] = orbit_GPU.LTTfunctions()[key](arm_time)\n",
    "\n",
    "# theoretical PSDs at the given armlengths \n",
    "PSDfunc = TDIPSDs()\n",
    "PSD_channels = np.array([\n",
    "    PSDfunc.PSD_A2_unequal(data_frequencies, arms), \n",
    "    PSDfunc.PSD_E2_unequal(data_frequencies, arms), \n",
    "    PSDfunc.PSD_T2_unequal(data_frequencies, arms)\n",
    "])\n",
    "\n",
    "# covariance matrix \n",
    "CovMat = np.array([\n",
    "    [PSD_channels[0], np.zeros_like(PSD_channels[0]), np.zeros_like(PSD_channels[0])],\n",
    "    [np.zeros_like(PSD_channels[0]), PSD_channels[1], np.zeros_like(PSD_channels[0])],\n",
    "    [np.zeros_like(PSD_channels[0]), np.zeros_like(PSD_channels[0]), PSD_channels[2]]\n",
    "]) / 4. / delta_f # (3, 3, Nf)\n",
    "\n",
    "# inverse of covmatrix\n",
    "InvCovMat = np.linalg.inv(np.transpose(CovMat, (2, 0, 1))) # (Nf, 3, 3)\n",
    "InvCovMat[:, 2, 2] *= 0. # use A, E channels only in the following analysis \n",
    "\n",
    "PSD_channels.shape, InvCovMat.shape "
   ]
  },
  {
   "cell_type": "markdown",
   "id": "f44220a0",
   "metadata": {},
   "source": [
    "## Data simulation "
   ]
  },
  {
   "cell_type": "code",
   "execution_count": 7,
   "id": "6488d635",
   "metadata": {},
   "outputs": [
    {
     "name": "stdout",
     "output_type": "stream",
     "text": [
      "source parameters:\n",
      "chirp_mass : 489960.7954555787\n",
      "mass_ratio : 0.7476017716673712\n",
      "spin_1z : -0.863885672124118\n",
      "spin_2z : 0.6654356969843899\n",
      "coalescence_time : 103.39421830422955\n",
      "coalescence_phase : 1.7346235307751268\n",
      "luminosity_distance : 19428.698582801186\n",
      "inclination : 1.317623537466334\n",
      "longitude : 2.180941328205518\n",
      "latitude : -0.3492739491104721\n",
      "psi : 2.224904326351137\n",
      "optimal SNR: 1388.2147090323542\n"
     ]
    }
   ],
   "source": [
    "# generate source parameter and clean signal \n",
    "mbhb_parameters = {\n",
    "    'chirp_mass': np.power(10., np.random.uniform(lgMc_prior[0], lgMc_prior[1])), \n",
    "    'mass_ratio': np.random.uniform(q_prior[0], q_prior[1]), \n",
    "    'spin_1z': np.random.uniform(s1_prior[0], s1_prior[1]),\n",
    "    'spin_2z': np.random.uniform(s2_prior[0], s2_prior[1]),\n",
    "    'coalescence_time': np.random.uniform(tc_prior[0], tc_prior[1]), \n",
    "    'coalescence_phase': np.random.uniform(0, TWOPI),\n",
    "    'luminosity_distance': np.power(10., np.random.uniform(lgdl_prior[0], lgdl_prior[1])), \n",
    "    'inclination': np.arccos(np.random.uniform(-1., 1.)), # [rad]\n",
    "    'longitude': np.random.uniform(lam_prior[0], lam_prior[1]), # [rad]\n",
    "    'latitude': np.arcsin(np.random.uniform(sinbeta_prior[0], sinbeta_prior[1])), # [rad]\n",
    "    'psi': np.random.uniform(0, PI) # [rad]\n",
    "    }\n",
    "wf_channels = FDTDI_GPU.Response(mbhb_parameters, data_frequencies_GPU, **response_kwargs_GPU)\n",
    "\n",
    "# generate frequency-domain noises \n",
    "Re_tmp = np.random.normal(scale=np.sqrt(PSD_channels / 4. / delta_f))\n",
    "Im_tmp = np.random.normal(scale=np.sqrt(PSD_channels / 4. / delta_f))\n",
    "noise_channels = xp.array(Re_tmp + 1.j * Im_tmp) \n",
    "\n",
    "# combine signal and noise \n",
    "# data_channels = wf_channels + noise_channels \n",
    "data_channels = wf_channels\n",
    "\n",
    "opt_SNR = FrequencyDomainCovarianceSNR(wf_channels.get(), InvCovMat)\n",
    "\n",
    "print(\"source parameters:\")\n",
    "for k, v in mbhb_parameters.items():\n",
    "    print(k, \":\", v)\n",
    "print(\"optimal SNR:\", opt_SNR)"
   ]
  },
  {
   "cell_type": "code",
   "execution_count": 8,
   "id": "32be1c6d",
   "metadata": {},
   "outputs": [
    {
     "data": {
      "text/plain": [
       "Text(0, 0.5, 'Frequency-domain data (1/Hz)')"
      ]
     },
     "execution_count": 8,
     "metadata": {},
     "output_type": "execute_result"
    },
    {
     "data": {
      "image/png": "[encoded data removed]",
      "text/plain": [
       "<Figure size 640x480 with 1 Axes>"
      ]
     },
     "metadata": {},
     "output_type": "display_data"
    }
   ],
   "source": [
    "for ichannel, nchannel in enumerate([\"A\", \"E\", \"T\"]): \n",
    "    plt.loglog(data_frequencies, np.abs(data_channels[ichannel].get()), linewidth=1, alpha=0.5, color=BLUE)\n",
    "    plt.loglog(data_frequencies, np.abs(wf_channels[ichannel].get()), color=RED, linestyle=\":\")\n",
    "    plt.loglog(data_frequencies, np.sqrt(PSD_channels[ichannel] * Tobs / 2.), color=\"grey\", linestyle=\"--\")\n",
    "plt.xlabel(\"Frequency (Hz)\")\n",
    "plt.ylabel(\"Frequency-domain data (1/Hz)\")"
   ]
  },
  {
   "cell_type": "markdown",
   "id": "fb44d8a2",
   "metadata": {},
   "source": [
    "## MLE with  $\\mathcal{F}$-stat "
   ]
  },
  {
   "cell_type": "code",
   "execution_count": 9,
   "id": "fb51309d",
   "metadata": {},
   "outputs": [],
   "source": [
    "Fstat = Fstatistics(\n",
    "    response_generator=FDTDI_GPU, \n",
    "    frequency=data_frequencies_GPU, \n",
    "    data=data_channels, \n",
    "    # data=wf_channels,\n",
    "    invserse_covariance_matrix=InvCovMat, \n",
    "    response_parameters=response_kwargs_GPU, \n",
    "    use_gpu=True\n",
    ")"
   ]
  },
  {
   "cell_type": "markdown",
   "id": "f9a4bdec",
   "metadata": {},
   "source": [
    "### test waveform and parameter recovery"
   ]
  },
  {
   "cell_type": "code",
   "execution_count": 10,
   "id": "13c102f2",
   "metadata": {},
   "outputs": [
    {
     "data": {
      "text/plain": [
       "{'chirp_mass': 489960.7954555787,\n",
       " 'mass_ratio': 0.7476017716673712,\n",
       " 'spin_1z': -0.863885672124118,\n",
       " 'spin_2z': 0.6654356969843899,\n",
       " 'coalescence_time': 103.39421830422955,\n",
       " 'longitude': 2.180941328205518,\n",
       " 'latitude': -0.3492739491104721}"
      ]
     },
     "execution_count": 10,
     "metadata": {},
     "output_type": "execute_result"
    }
   ],
   "source": [
    "int_params = dict()\n",
    "for key in Fstatistics.intrinsic_parameter_names:\n",
    "    int_params[key] = mbhb_parameters[key]\n",
    "int_params"
   ]
  },
  {
   "cell_type": "code",
   "execution_count": 11,
   "id": "8411866e",
   "metadata": {},
   "outputs": [
    {
     "name": "stdout",
     "output_type": "stream",
     "text": [
      "parameter name | difference\n",
      "luminosity_distance : -0.00028109948107157834\n",
      "inclination : -4.408408971201538e-09\n",
      "psi : -1.5707963315288942\n",
      "coalescence_phase : -1.5707963285101492\n"
     ]
    }
   ],
   "source": [
    "rec_a = Fstat.calculate_Fstat_vectorized(\n",
    "    intrinsic_parameters=int_params, \n",
    "    return_a=True, \n",
    ")\n",
    "\n",
    "rec_ext_params = Fstat.a_to_extrinsic_vectorized(rec_a)\n",
    "\n",
    "rec_params = dict(int_params, **rec_ext_params)\n",
    "\n",
    "print(\"parameter name | difference\")\n",
    "for k, v in rec_ext_params.items():\n",
    "    print(k, \":\", v-mbhb_parameters[k])"
   ]
  },
  {
   "cell_type": "code",
   "execution_count": 12,
   "id": "97ef0c18",
   "metadata": {},
   "outputs": [
    {
     "data": {
      "text/plain": [
       "((3, 13964), (3, 13964))"
      ]
     },
     "execution_count": 12,
     "metadata": {},
     "output_type": "execute_result"
    }
   ],
   "source": [
    "rec_wave1 = FDTDI_GPU.Response(\n",
    "    rec_params, \n",
    "    data_frequencies_GPU, \n",
    "    **response_kwargs_GPU\n",
    ")\n",
    "\n",
    "rec_wave2 = Fstat.calculate_Fstat_vectorized(\n",
    "    intrinsic_parameters=int_params, \n",
    "    return_recovered_wave=True, \n",
    ")[:, 0, :]\n",
    "\n",
    "rec_wave1.shape, rec_wave2.shape "
   ]
  },
  {
   "cell_type": "code",
   "execution_count": 13,
   "id": "7cacc0fe",
   "metadata": {},
   "outputs": [
    {
     "data": {
      "text/plain": [
       "<matplotlib.legend.Legend at 0x78b3375d9df0>"
      ]
     },
     "execution_count": 13,
     "metadata": {},
     "output_type": "execute_result"
    },
    {
     "data": {
      "image/png": "[encoded data removed]",
      "text/plain": [
       "<Figure size 640x480 with 1 Axes>"
      ]
     },
     "metadata": {},
     "output_type": "display_data"
    }
   ],
   "source": [
    "plt.loglog(data_frequencies, np.abs(wf_channels[0].get()) * data_frequencies, label=\"original waveform\")\n",
    "plt.loglog(data_frequencies, np.abs(rec_wave1[0].get()) * data_frequencies, linestyle=\"--\", label=\"reconstructed waveform\")\n",
    "plt.loglog(data_frequencies, np.abs(rec_wave1[0].get() - wf_channels[0].get()) * data_frequencies, label=\"difference via params\")\n",
    "plt.loglog(data_frequencies, np.abs(rec_wave2[0].get() - wf_channels[0].get()) * data_frequencies, label=\"difference via a\", linestyle=\"--\")\n",
    "plt.loglog(data_frequencies, np.sqrt(PSD_channels[0] * 2. * data_frequencies), label=\"noise\")\n",
    "plt.ylim(1e-25,)\n",
    "\n",
    "plt.xlabel(\"Frequency (Hz)\")\n",
    "plt.ylabel(\"Characteristic Strain\")\n",
    "plt.legend(loc=\"upper left\", frameon=False)"
   ]
  },
  {
   "cell_type": "code",
   "execution_count": 14,
   "id": "c099ba81",
   "metadata": {},
   "outputs": [
    {
     "data": {
      "text/plain": [
       "(10,)"
      ]
     },
     "execution_count": 14,
     "metadata": {},
     "output_type": "execute_result"
    }
   ],
   "source": [
    "int_params_vec = dict() \n",
    "for k, v in int_params.items():\n",
    "    int_params_vec[k] = v * np.ones(10)\n",
    "f_vec = Fstat.calculate_Fstat_vectorized(intrinsic_parameters=int_params_vec)\n",
    "f_vec.shape "
   ]
  },
  {
   "cell_type": "markdown",
   "id": "bc92a26b",
   "metadata": {},
   "source": [
    "### optimization from prior "
   ]
  },
  {
   "cell_type": "code",
   "execution_count": null,
   "id": "dd884ae6",
   "metadata": {},
   "outputs": [
    {
     "name": "stderr",
     "output_type": "stream",
     "text": [
      "/home/ps/miniconda3/envs/tdc/lib/python3.9/site-packages/scipy/optimize/_differentialevolution.py:487: UserWarning: differential_evolution: the 'vectorized' keyword has overridden updating='immediate' to updating='deferred'\n",
      "  with DifferentialEvolutionSolver(func, bounds, args=args,\n"
     ]
    }
   ],
   "source": [
    "from scipy.optimize import differential_evolution\n",
    "\n",
    "def cost_function(norm_int_params):\n",
    "    \"\"\"   \n",
    "        norm_int_params: shape (Nparams, Nevent), normalized to (0, 1)\n",
    "    \"\"\"\n",
    "    int_params = norm_int_params.transpose() * (intrinsic_param_priors[:, 1] - intrinsic_param_priors[:, 0]) + intrinsic_param_priors[:, 0] # (Nevent, Nparams)\n",
    "    params_in = Fstat.IntParamArr2ParamDict(int_params.transpose()) # (Nparams, Nevent) -> dictionary, each item (Nevent)\n",
    "    return -Fstat.calculate_Fstat_vectorized(intrinsic_parameters=params_in) # (Nevent)\n",
    "\n",
    "n_dim_int = 7 \n",
    "lower_bounds = np.zeros(n_dim_int) \n",
    "upper_bounds = np.ones(n_dim_int) \n",
    "bounds = np.array([lower_bounds, upper_bounds]).T # (Nparams, 2)\n",
    "\n",
    "DE_result = differential_evolution(\n",
    "    func=cost_function,\n",
    "    bounds=bounds,\n",
    "    x0=None,\n",
    "    strategy='best1exp',\n",
    "    # strategy='rand1bin',\n",
    "    maxiter=5000,\n",
    "    popsize=10*n_dim_int,\n",
    "    # popsize=6*n_dim_int, \n",
    "    tol=1e-8,\n",
    "    atol=1e-10,\n",
    "    # tol=1e-7,\n",
    "    # atol=1e-9,\n",
    "    # tol=1e-6,\n",
    "    # atol=1e-8,\n",
    "    mutation=(0.4, 0.95),\n",
    "    recombination=0.7,\n",
    "    disp=False,\n",
    "    polish=True,\n",
    "    vectorized=True,\n",
    "    # workers=1,\n",
    ")\n",
    "\n",
    "print(DE_result)"
   ]
  },
  {
   "cell_type": "markdown",
   "id": "43e31488",
   "metadata": {},
   "source": [
    "### reconstruct parameters and waveforms "
   ]
  },
  {
   "cell_type": "code",
   "execution_count": null,
   "id": "0d0cc0e6",
   "metadata": {},
   "outputs": [
    {
     "name": "stdout",
     "output_type": "stream",
     "text": [
      "parameter name | difference\n",
      "chirp_mass 430.2038501733914\n",
      "mass_ratio 0.0004985053429162889\n",
      "spin_1z 0.0061820325430406164\n",
      "spin_2z 0.054181540990938526\n",
      "coalescence_time 0.008565453801551826\n",
      "longitude 1.7579553779745787\n",
      "latitude 0.2902228624135012\n",
      "luminosity_distance 5736.153159310445\n",
      "inclination 0.10200617919098809\n",
      "psi 1.132922854593139\n",
      "coalescence_phase 3.129425960969614\n"
     ]
    }
   ],
   "source": [
    "searched_int_params = Fstat.IntParamArr2ParamDict(DE_result.x * (intrinsic_param_priors[:, 1] - intrinsic_param_priors[:, 0]) + intrinsic_param_priors[:, 0])\n",
    "\n",
    "searched_a = Fstat.calculate_Fstat_vectorized(\n",
    "    intrinsic_parameters=searched_int_params, \n",
    "    return_a=True, \n",
    ") # (1, 4)\n",
    "searched_ext_params = Fstat.a_to_extrinsic_vectorized(searched_a)\n",
    "\n",
    "searched_params = dict(searched_int_params, **searched_ext_params)\n",
    "\n",
    "print(\"parameter name | difference\")\n",
    "for k, v in searched_params.items():\n",
    "    print(k, np.abs(v-mbhb_parameters[k]))"
   ]
  },
  {
   "cell_type": "code",
   "execution_count": null,
   "id": "879f9c17",
   "metadata": {},
   "outputs": [
    {
     "data": {
      "text/plain": [
       "<matplotlib.legend.Legend at 0x732390cdd040>"
      ]
     },
     "execution_count": 35,
     "metadata": {},
     "output_type": "execute_result"
    },
    {
     "data": {
      "image/png": "[encoded data removed]",
      "text/plain": [
       "<Figure size 640x480 with 1 Axes>"
      ]
     },
     "metadata": {},
     "output_type": "display_data"
    }
   ],
   "source": [
    "searched_wf1 = FDTDI_GPU.Response(\n",
    "    searched_params, \n",
    "    data_frequencies_GPU, \n",
    "    **response_kwargs_GPU\n",
    ")\n",
    "\n",
    "searched_wf2 = Fstat.calculate_Fstat_vectorized(\n",
    "    intrinsic_parameters=searched_int_params, \n",
    "    return_recovered_wave=True\n",
    ")[:, 0, :]\n",
    "\n",
    "plt.loglog(data_frequencies, np.abs(wf_channels[0].get()) * data_frequencies, label=\"injected waveform\")\n",
    "plt.loglog(data_frequencies, np.abs(searched_wf1[0].get()) * data_frequencies, linestyle=\"--\", label=\"searched waveform\")\n",
    "plt.loglog(data_frequencies, np.abs(searched_wf1[0].get() - wf_channels[0].get()) * data_frequencies, linestyle=\"-\", label=\"difference via param\")\n",
    "plt.loglog(data_frequencies, np.abs(searched_wf2[0].get() - wf_channels[0].get()) * data_frequencies, linestyle=\"--\", label=\"difference via a\")\n",
    "plt.loglog(data_frequencies, np.sqrt(PSD_channels[0] * 2. * data_frequencies), label=\"noise\")\n",
    "plt.ylim(1e-25, )\n",
    "plt.legend()"
   ]
  },
  {
   "cell_type": "markdown",
   "id": "4e062421",
   "metadata": {},
   "source": [
    "## Fisher analysis "
   ]
  },
  {
   "cell_type": "code",
   "execution_count": null,
   "id": "fe99befa",
   "metadata": {},
   "outputs": [
    {
     "name": "stdout",
     "output_type": "stream",
     "text": [
      "11 parameters in total: ['chirp_mass', 'mass_ratio', 'spin_1z', 'spin_2z', 'coalescence_time', 'coalescence_phase', 'luminosity_distance', 'inclination', 'longitude', 'latitude', 'psi']\n",
      "11 analyzed parameters: ['chirp_mass', 'mass_ratio', 'spin_1z', 'spin_2z', 'coalescence_time', 'coalescence_phase', 'luminosity_distance', 'inclination', 'longitude', 'latitude', 'psi']\n",
      "parameters whose steps should be tested: ['chirp_mass', 'mass_ratio', 'spin_1z', 'spin_2z', 'coalescence_time', 'coalescence_phase', 'luminosity_distance', 'inclination', 'longitude', 'latitude', 'psi']\n",
      "\n",
      " ========= testing parameter chirp_mass ==========\n",
      "error = 8.352888694980294\n",
      "shift = 5.0 relative diff = 1.0410852941988775e-06\n",
      "shift of parameter chirp_mass is 5.0\n",
      "\n",
      " ========= testing parameter mass_ratio ==========\n",
      "error = 0.004569096544601015\n",
      "shift = 0.005 relative diff = 0.007556035998875412\n",
      "error = 0.004545305993041078\n",
      "shift = 0.0025 relative diff = 0.00866255487011431\n",
      "error = 0.004536553953744304\n",
      "shift = 0.00125 relative diff = 0.003030976161201476\n",
      "error = 0.004533058868901674\n",
      "shift = 0.000625 relative diff = 0.0011363441372683268\n",
      "error = 0.004531546221245885\n",
      "shift = 0.0003125 relative diff = 0.0004627818230319763\n",
      "error = 0.004530849669334781\n",
      "shift = 0.00015625 relative diff = 0.000203534986213121\n",
      "error = 0.004530516447429607\n",
      "shift = 7.8125e-05 relative diff = 9.469938078512199e-05\n",
      "shift of parameter mass_ratio is 7.8125e-05\n",
      "\n",
      " ========= testing parameter spin_1z ==========\n",
      "error = 0.00903120672408062\n",
      "shift = 0.005 relative diff = 0.00019595451664504134\n",
      "error = 0.009038081818547206\n",
      "shift = 0.0025 relative diff = 0.00031059204359088643\n",
      "error = 0.00904288638713739\n",
      "shift = 0.00125 relative diff = 0.0005300423035384063\n",
      "error = 0.00904577665723854\n",
      "shift = 0.000625 relative diff = 0.000350842499902309\n",
      "error = 0.00904736547590558\n",
      "shift = 0.0003125 relative diff = 0.00020493609919966624\n",
      "error = 0.009048195833637649\n",
      "shift = 0.00015625 relative diff = 0.00011092531605676234\n",
      "error = 0.009048620000715133\n",
      "shift = 7.8125e-05 relative diff = 5.758108322317292e-05\n",
      "shift of parameter spin_1z is 7.8125e-05\n",
      "\n",
      " ========= testing parameter spin_2z ==========\n",
      "error = 0.036444625086219797\n",
      "shift = 0.005 relative diff = 6.81033297096858e-05\n",
      "shift of parameter spin_2z is 0.005\n",
      "\n",
      " ========= testing parameter coalescence_time ==========\n",
      "error = 0.0007031204170276133\n",
      "shift = 0.0005 relative diff = 0.020318617162625972\n",
      "error = 0.0006962193047343279\n",
      "shift = 0.00025 relative diff = 0.02205718803379148\n",
      "error = 0.0006945085619763479\n",
      "shift = 0.000125 relative diff = 0.005359969221770491\n",
      "error = 0.0006940816882392321\n",
      "shift = 6.25e-05 relative diff = 0.0013307600124069386\n",
      "error = 0.0006939749753204229\n",
      "shift = 3.125e-05 relative diff = 0.0003321970861532996\n",
      "error = 0.0006939482748717562\n",
      "shift = 1.5625e-05 relative diff = 8.3058669572282e-05\n",
      "shift of parameter coalescence_time is 1.5625e-05\n",
      "\n",
      " ========= testing parameter coalescence_phase ==========\n",
      "error = 0.018484215137859087\n",
      "shift = 0.05 relative diff = 0.0003127280532788205\n",
      "error = 0.01848132690401646\n",
      "shift = 0.025 relative diff = 0.00033780375580805874\n",
      "error = 0.018480604972483886\n",
      "shift = 0.0125 relative diff = 8.44012078062608e-05\n",
      "shift of parameter coalescence_phase is 0.0125\n",
      "\n",
      " ========= testing parameter luminosity_distance ==========\n",
      "error = 3.1285730616247296\n",
      "shift = 0.5 relative diff = 8.722976088134917e-06\n",
      "shift of parameter luminosity_distance is 0.5\n",
      "\n",
      " ========= testing parameter inclination ==========\n",
      "error = 0.017539488809679454\n",
      "shift = 0.005 relative diff = 1.7731295859432867e-06\n",
      "shift of parameter inclination is 0.005\n",
      "\n",
      " ========= testing parameter longitude ==========\n",
      "error = 0.010421813337196023\n",
      "shift = 0.005 relative diff = 0.00012933369909211235\n",
      "error = 0.01042343239194245\n",
      "shift = 0.0025 relative diff = 0.00017074157530444704\n",
      "error = 0.010424310130627775\n",
      "shift = 0.00125 relative diff = 9.920841376809184e-05\n",
      "shift of parameter longitude is 0.00125\n",
      "\n",
      " ========= testing parameter latitude ==========\n",
      "error = 0.025702275097482737\n",
      "shift = 0.005 relative diff = 0.0019236727226843357\n",
      "error = 0.02565271479622342\n",
      "shift = 0.0025 relative diff = 0.0024055098165700465\n",
      "error = 0.025627908248686982\n",
      "shift = 0.00125 relative diff = 0.0012063288642079055\n",
      "error = 0.0256154987440374\n",
      "shift = 0.000625 relative diff = 0.0006040023246561501\n",
      "error = 0.02560929247959391\n",
      "shift = 0.0003125 relative diff = 0.0003022037665006499\n",
      "error = 0.025606188975344505\n",
      "shift = 0.00015625 relative diff = 0.00015115167834642501\n",
      "error = 0.025604637130816843\n",
      "shift = 7.8125e-05 relative diff = 7.558817768981608e-05\n",
      "shift of parameter latitude is 7.8125e-05\n",
      "\n",
      " ========= testing parameter psi ==========\n",
      "error = 0.01747998397379767\n",
      "shift = 0.005 relative diff = 4.323353753595207e-05\n",
      "shift of parameter psi is 0.005\n",
      "all parameters tested.\n",
      "errors:\n",
      "{'chirp_mass': 327.9639576460221, 'mass_ratio': 0.00028376185706338196, 'spin_1z': 0.003065740669074805, 'spin_2z': 0.026932782376350915, 'coalescence_time': 9.398639808396346e-05, 'coalescence_phase': 0.007552068024718944, 'luminosity_distance': 1432.1532662658929, 'inclination': 0.002162673847091157, 'longitude': 0.024344706673176165, 'latitude': 0.1375958484011444, 'psi': 0.03406252736627197}\n"
     ]
    },
    {
     "data": {
      "text/plain": [
       "{'chirp_mass': 327.9639576460221,\n",
       " 'mass_ratio': 0.00028376185706338196,\n",
       " 'spin_1z': 0.003065740669074805,\n",
       " 'spin_2z': 0.026932782376350915,\n",
       " 'coalescence_time': 9.398639808396346e-05,\n",
       " 'coalescence_phase': 0.007552068024718944,\n",
       " 'luminosity_distance': 1432.1532662658929,\n",
       " 'inclination': 0.002162673847091157,\n",
       " 'longitude': 0.024344706673176165,\n",
       " 'latitude': 0.1375958484011444,\n",
       " 'psi': 0.03406252736627197}"
      ]
     },
     "execution_count": 40,
     "metadata": {},
     "output_type": "execute_result"
    }
   ],
   "source": [
    "def fisher_waveform_wrapper(param_dict, frequencies):\n",
    "    res = FDTDI_GPU.Response(\n",
    "        parameters=param_dict, \n",
    "        freqs=xp.array(frequencies),  \n",
    "        **response_kwargs_GPU, \n",
    "    )\n",
    "    return res.get()\n",
    "\n",
    "# set initial steps \n",
    "analyze_param_step_dict = {\n",
    "    'chirp_mass': 10.,\n",
    "    'mass_ratio': 0.01,\n",
    "    'spin_1z': 0.01,\n",
    "    'spin_2z': 0.01,\n",
    "    'coalescence_time': 0.001,\n",
    "    'coalescence_phase': 0.1,\n",
    "    'luminosity_distance': 1.,\n",
    "    'inclination': 0.01,\n",
    "    'longitude': 0.01,\n",
    "    'latitude': 0.01,\n",
    "    'psi': 0.01\n",
    "    }\n",
    "for k, v in analyze_param_step_dict.items():\n",
    "    analyze_param_step_dict[k] = -v \n",
    "\n",
    "FIM = MultiChannelFisher(\n",
    "    waveform_generator=fisher_waveform_wrapper, \n",
    "    param_dict=mbhb_parameters, \n",
    "    # param_dict=searched_params, \n",
    "    analyze_param_step_dict=analyze_param_step_dict, \n",
    "    frequency=data_frequencies, \n",
    "    inverse_covariance=InvCovMat, \n",
    "    verbose=1,\n",
    ")\n",
    "\n",
    "FIM.auto_test_step()\n",
    "FIM.calculate_Fisher()\n",
    "FIM.calculate_errors() \n",
    "\n",
    "FIM.param_errors"
   ]
  },
  {
   "cell_type": "code",
   "execution_count": null,
   "id": "0d80e6c2",
   "metadata": {},
   "outputs": [
    {
     "name": "stdout",
     "output_type": "stream",
     "text": [
      "parameter name | truth | difference | FIM bound | ratio\n",
      "chirp_mass 1293988.211249817 430.2038501733914 327.9639576460221 1.3117412451697477\n",
      "mass_ratio 0.12533791523004087 0.0004985053429162889 0.00028376185706338196 1.7567736131813556\n",
      "spin_1z 0.5159894461287383 0.0061820325430406164 0.003065740669074805 2.016489067519942\n",
      "spin_2z 0.25376396334116047 0.054181540990938526 0.026932782376350915 2.011732031017863\n",
      "coalescence_time 103.65866720184148 0.008565453801551826 9.398639808396346e-05 91.13503630493226\n",
      "longitude 2.283909036649264 1.7579553779745787 0.024344706673176165 72.21099032224342\n",
      "latitude -0.1365680001694013 0.2902228624135012 0.1375958484011444 2.1092414181523185\n",
      "luminosity_distance 14329.346860588186 5736.153159310445 1432.1532662658929 4.005264865447351\n",
      "inclination 1.6178693783763596 0.10200617919098809 0.002162673847091157 47.166695675442966\n",
      "psi 1.2517248685909481 1.132922854593139 0.03406252736627197 33.260093780208926\n",
      "coalescence_phase 3.5257757711711557 3.049425960969614 0.007552068024718944 403.7868767850645\n"
     ]
    }
   ],
   "source": [
    "print(\"parameter name | truth | difference | FIM bound | ratio\")\n",
    "for k, v in searched_params.items():\n",
    "    print(k, mbhb_parameters[k], np.abs(v-mbhb_parameters[k]), FIM.param_errors[k], np.abs(v-mbhb_parameters[k]) / FIM.param_errors[k])"
   ]
  },
  {
   "cell_type": "markdown",
   "id": "73136aa2",
   "metadata": {},
   "source": [
    "## Test across population "
   ]
  },
  {
   "cell_type": "code",
   "execution_count": null,
   "id": "6e36d858",
   "metadata": {},
   "outputs": [],
   "source": [
    "truths_list = [] \n",
    "searched_list = [] \n",
    "FIM_bound_list = [] \n",
    "snr_list = [] \n",
    "res_snr_list = []\n",
    "\n",
    "for test_idx in tqdm(range(100)):\n",
    "\n",
    "    # generate source parameter and clean signal \n",
    "    mbhb_parameters = {\n",
    "        'chirp_mass': np.power(10., np.random.uniform(lgMc_prior[0], lgMc_prior[1])), \n",
    "        'mass_ratio': np.random.uniform(q_prior[0], q_prior[1]), \n",
    "        'spin_1z': np.random.uniform(s1_prior[0], s1_prior[1]),\n",
    "        'spin_2z': np.random.uniform(s2_prior[0], s2_prior[1]),\n",
    "        'coalescence_time': np.random.uniform(tc_prior[0], tc_prior[1]), \n",
    "        'coalescence_phase': np.random.uniform(0, TWOPI),\n",
    "        'luminosity_distance': np.power(10., np.random.uniform(lgdl_prior[0], lgdl_prior[1])), \n",
    "        'inclination': np.arccos(np.random.uniform(-1., 1.)), # [rad]\n",
    "        'longitude': np.random.uniform(lam_prior[0], lam_prior[1]), # [rad]\n",
    "        'latitude': np.arcsin(np.random.uniform(sinbeta_prior[0], sinbeta_prior[1])), # [rad]\n",
    "        'psi': np.random.uniform(0, PI) # [rad]\n",
    "        }\n",
    "    wf_channels = FDTDI_GPU.Response(mbhb_parameters, data_frequencies_GPU, **response_kwargs_GPU)\n",
    "\n",
    "    # generate frequency-domain noises \n",
    "    Re_tmp = np.random.normal(scale=np.sqrt(PSD_channels / 4. / delta_f))\n",
    "    Im_tmp = np.random.normal(scale=np.sqrt(PSD_channels / 4. / delta_f))\n",
    "    noise_channels = xp.array(Re_tmp + 1.j * Im_tmp) \n",
    "\n",
    "    # combine signal and noise \n",
    "    # data_channels = wf_channels + noise_channels \n",
    "    data_channels = wf_channels\n",
    "\n",
    "    opt_SNR = FrequencyDomainCovarianceSNR(wf_channels.get(), InvCovMat)\n",
    "    snr_list.append(opt_SNR)\n",
    "\n",
    "    Fstat = Fstatistics(\n",
    "        response_generator=FDTDI_GPU, \n",
    "        frequency=data_frequencies_GPU, \n",
    "        data=data_channels, \n",
    "        invserse_covariance_matrix=InvCovMat, \n",
    "        response_parameters=response_kwargs_GPU, \n",
    "        use_gpu=True\n",
    "    )\n",
    "\n",
    "    def cost_function(norm_int_params):\n",
    "        \"\"\"   \n",
    "            norm_int_params: shape (Nparams, Nevent), normalized to (0, 1)\n",
    "        \"\"\"\n",
    "        int_params = norm_int_params.transpose() * (intrinsic_param_priors[:, 1] - intrinsic_param_priors[:, 0]) + intrinsic_param_priors[:, 0] # (Nevent, Nparams)\n",
    "        params_in = Fstat.IntParamArr2ParamDict(int_params.transpose()) # (Nparams, Nevent) -> dictionary, each item (Nevent)\n",
    "        return -Fstat.calculate_Fstat_vectorized(intrinsic_parameters=params_in) # (Nevent)\n",
    "\n",
    "    n_dim_int = 7 \n",
    "    lower_bounds = np.zeros(n_dim_int) \n",
    "    upper_bounds = np.ones(n_dim_int) \n",
    "    bounds = np.array([lower_bounds, upper_bounds]).T # (Nparams, 2)\n",
    "\n",
    "    DE_result = differential_evolution(\n",
    "        func=cost_function,\n",
    "        bounds=bounds,\n",
    "        x0=None,\n",
    "        strategy='best1exp',\n",
    "        # strategy='rand1bin',\n",
    "        maxiter=5000,\n",
    "        popsize=10*n_dim_int,\n",
    "        # popsize=6*n_dim_int, \n",
    "        tol=1e-8,\n",
    "        atol=1e-10,\n",
    "        # tol=1e-6,\n",
    "        # atol=1e-8,\n",
    "        mutation=(0.4, 0.95),\n",
    "        recombination=0.7,\n",
    "        disp=False,\n",
    "        polish=True,\n",
    "        vectorized=True,\n",
    "    )\n",
    "\n",
    "    searched_int_params = Fstat.IntParamArr2ParamDict(DE_result.x * (intrinsic_param_priors[:, 1] - intrinsic_param_priors[:, 0]) + intrinsic_param_priors[:, 0])\n",
    "\n",
    "    searched_a = Fstat.calculate_Fstat_vectorized(\n",
    "        intrinsic_parameters=searched_int_params, \n",
    "        return_a=True, \n",
    "    ) # (1, 4)\n",
    "    searched_ext_params = Fstat.a_to_extrinsic_vectorized(searched_a)\n",
    "\n",
    "    searched_params = dict(searched_int_params, **searched_ext_params)\n",
    "\n",
    "    searched_wf = Fstat.calculate_Fstat_vectorized(\n",
    "        intrinsic_parameters=searched_int_params, \n",
    "        return_recovered_wave=True, \n",
    "    )[:, 0, :]\n",
    "    res_snr_list.append(FrequencyDomainCovarianceSNR((wf_channels-searched_wf).get(), InvCovMat))\n",
    "\n",
    "    def fisher_waveform_wrapper(param_dict, frequencies):\n",
    "        res = FDTDI_GPU.Response(\n",
    "            parameters=param_dict, \n",
    "            freqs=xp.array(frequencies),  \n",
    "            **response_kwargs_GPU, \n",
    "        )\n",
    "        return res.get()\n",
    "\n",
    "    # set initial steps \n",
    "    analyze_param_step_dict = {\n",
    "        'chirp_mass': 10.,\n",
    "        'mass_ratio': 0.01,\n",
    "        'spin_1z': 0.01,\n",
    "        'spin_2z': 0.01,\n",
    "        'coalescence_time': 0.001,\n",
    "        'coalescence_phase': 0.01,\n",
    "        'luminosity_distance': 10.,\n",
    "        'inclination': 0.01,\n",
    "        'longitude': 0.01,\n",
    "        'latitude': 0.01,\n",
    "        'psi': 0.01\n",
    "        }\n",
    "    for k, v in analyze_param_step_dict.items():\n",
    "        analyze_param_step_dict[k] = -v \n",
    "\n",
    "    FIM = MultiChannelFisher(\n",
    "        waveform_generator=fisher_waveform_wrapper, \n",
    "        param_dict=mbhb_parameters, \n",
    "        # param_dict=searched_params, \n",
    "        analyze_param_step_dict=analyze_param_step_dict, \n",
    "        frequency=data_frequencies, \n",
    "        inverse_covariance=InvCovMat, \n",
    "        verbose=0,\n",
    "    )\n",
    "\n",
    "    FIM.auto_test_step()\n",
    "    FIM.calculate_Fisher()\n",
    "    FIM.calculate_errors() \n",
    "\n",
    "    truths_list.append(mbhb_parameters)\n",
    "    searched_list.append(searched_params)\n",
    "    FIM_bound_list.append(FIM.param_errors)\n",
    "    print(\"optimal snr =\", snr_list[test_idx])\n",
    "    print(\"residual snr =\", res_snr_list[test_idx])\n",
    "    print(\"tc deviation =\", searched_list[test_idx][\"coalescence_time\"]-truths_list[test_idx][\"coalescence_time\"])\n",
    "    print(\"tc bound =\", FIM_bound_list[test_idx][\"coalescence_time\"])"
   ]
  },
  {
   "cell_type": "code",
   "execution_count": null,
   "id": "9f3c30d4",
   "metadata": {},
   "outputs": [],
   "source": [
    "bins = np.logspace(0., 4.5, 30)\n",
    "plt.hist(snr_list, bins=bins, density=False, facecolor=None, edgecolor=YELLOW, hatch=\"//\", histtype='step', lw=2); \n",
    "plt.hist(res_snr_list, bins=bins, density=False, facecolor=None, edgecolor=BLUE, hatch=\"//\", histtype='step', lw=2); \n",
    "plt.xlabel(\"SNR\")\n",
    "plt.ylabel(\"number of MBHBs in bin\")\n",
    "plt.xscale(\"log\")"
   ]
  },
  {
   "cell_type": "code",
   "execution_count": null,
   "id": "71b7ccdd",
   "metadata": {},
   "outputs": [],
   "source": [
    "Mc_list = np.array([paramdict[\"chirp_mass\"] for paramdict in truths_list])\n",
    "q_list = np.array([paramdict[\"mass_ratio\"] for paramdict in truths_list])\n",
    "s1_list = np.array([paramdict[\"spin_1z\"] for paramdict in truths_list])\n",
    "s2_list = np.array([paramdict[\"spin_2z\"] for paramdict in truths_list])\n",
    "tc_list = np.array([paramdict[\"coalescence_time\"] for paramdict in truths_list])\n",
    "dl_list = np.array([paramdict[\"luminosity_distance\"] for paramdict in truths_list])\n",
    "inc_list = np.array([paramdict[\"inclination\"] for paramdict in truths_list])\n",
    "lon_list = np.array([paramdict[\"longitude\"] for paramdict in truths_list])\n",
    "lat_list = np.array([paramdict[\"latitude\"] for paramdict in truths_list])\n",
    "\n",
    "Mc_list1 = np.array([paramdict[\"chirp_mass\"] for paramdict in searched_list])\n",
    "q_list1 = np.array([paramdict[\"mass_ratio\"] for paramdict in searched_list])\n",
    "s1_list1 = np.array([paramdict[\"spin_1z\"] for paramdict in searched_list])\n",
    "s2_list1 = np.array([paramdict[\"spin_2z\"] for paramdict in searched_list])\n",
    "tc_list1 = np.array([paramdict[\"coalescence_time\"] for paramdict in searched_list])\n",
    "dl_list1 = np.array([paramdict[\"luminosity_distance\"] for paramdict in searched_list])\n",
    "inc_list1 = np.array([paramdict[\"inclination\"] for paramdict in searched_list])\n",
    "lon_list1 = np.array([paramdict[\"longitude\"] for paramdict in searched_list])\n",
    "lat_list1 = np.array([paramdict[\"latitude\"] for paramdict in searched_list])\n",
    "\n",
    "Mc_list2 = np.array([paramdict[\"chirp_mass\"] for paramdict in FIM_bound_list])\n",
    "q_list2 = np.array([paramdict[\"mass_ratio\"] for paramdict in FIM_bound_list])\n",
    "s1_list2 = np.array([paramdict[\"spin_1z\"] for paramdict in FIM_bound_list])\n",
    "s2_list2 = np.array([paramdict[\"spin_2z\"] for paramdict in FIM_bound_list])\n",
    "tc_list2 = np.array([paramdict[\"coalescence_time\"] for paramdict in FIM_bound_list])\n",
    "dl_list2 = np.array([paramdict[\"luminosity_distance\"] for paramdict in FIM_bound_list])\n",
    "inc_list2 = np.array([paramdict[\"inclination\"] for paramdict in FIM_bound_list])\n",
    "lon_list2 = np.array([paramdict[\"longitude\"] for paramdict in FIM_bound_list])\n",
    "lat_list2 = np.array([paramdict[\"latitude\"] for paramdict in FIM_bound_list])"
   ]
  },
  {
   "cell_type": "code",
   "execution_count": null,
   "id": "26101b07",
   "metadata": {},
   "outputs": [],
   "source": [
    "bins = np.linspace(-12, 12, 50)\n",
    "plt.hist((Mc_list1 - Mc_list) / Mc_list2, bins=bins, density=False, facecolor=None, edgecolor=RED, hatch=\"//\", histtype='step', lw=2, label=\"chirp mass\");\n",
    "plt.hist((q_list1 - q_list) / q_list2, bins=bins, density=False, facecolor=None, edgecolor=GREEN1, hatch=\"//\", histtype='step', lw=2, label=\"mass ratio\");\n",
    "plt.xlabel(r'$\\Delta \\theta / \\ \\sigma_{\\theta}$')\n",
    "plt.ylabel(\"number of MBHBs in bin\")\n",
    "plt.legend(loc=\"upper right\", frameon=False)"
   ]
  },
  {
   "cell_type": "code",
   "execution_count": null,
   "id": "02c4efd7",
   "metadata": {},
   "outputs": [],
   "source": [
    "bins = np.linspace(-12, 12, 50)\n",
    "plt.hist((s1_list1 - s1_list) / s1_list2, bins=bins, density=False, facecolor=None, edgecolor=RED, hatch=\"//\", histtype='step', lw=2, label=\"spin 1\");\n",
    "plt.hist((s2_list1 - s2_list) / s2_list2, bins=bins, density=False, facecolor=None, edgecolor=GREEN1, hatch=\"//\", histtype='step', lw=2, label=\"spin 2\");\n",
    "plt.xlabel(r'$\\Delta \\theta / \\ \\sigma_{\\theta}$')\n",
    "plt.ylabel(\"number of MBHBs in bin\")\n",
    "plt.legend(loc=\"upper right\", frameon=False)"
   ]
  },
  {
   "cell_type": "code",
   "execution_count": null,
   "id": "60c97be7",
   "metadata": {},
   "outputs": [],
   "source": [
    "bins = np.linspace(-100, 100, 50)\n",
    "plt.hist((lon_list1 - lon_list) / lon_list2, bins=bins, density=False, facecolor=None, edgecolor=RED, hatch=\"//\", histtype='step', lw=2, label=\"longitude\");\n",
    "plt.hist((lat_list1 - lat_list) / lat_list2, bins=bins, density=False, facecolor=None, edgecolor=GREEN1, hatch=\"//\", histtype='step', lw=2, label=\"latitude\");\n",
    "plt.xlabel(r'$\\Delta \\theta / \\ \\sigma_{\\theta}$')\n",
    "plt.ylabel(\"number of MBHBs in bin\")\n",
    "plt.legend(loc=\"upper right\", frameon=False)"
   ]
  },
  {
   "cell_type": "code",
   "execution_count": null,
   "id": "f0b154c9",
   "metadata": {},
   "outputs": [],
   "source": [
    "bins = np.linspace(-100, 100, 50)\n",
    "plt.hist((dl_list1 - dl_list) / dl_list2, bins=bins, density=False, facecolor=None, edgecolor=RED, hatch=\"//\", histtype='step', lw=2, label=\"luminosity distance\");\n",
    "plt.hist((inc_list1 - inc_list) / inc_list2, bins=bins, density=False, facecolor=None, edgecolor=GREEN1, hatch=\"//\", histtype='step', lw=2, label=\"inclination\");\n",
    "plt.xlabel(r'$\\Delta \\theta / \\ \\sigma_{\\theta}$')\n",
    "plt.ylabel(\"number of MBHBs in bin\")\n",
    "plt.legend(loc=\"upper right\", frameon=False)"
   ]
  },
  {
   "cell_type": "code",
   "execution_count": null,
   "id": "3770c678",
   "metadata": {},
   "outputs": [],
   "source": [
    "bins = np.linspace(-100, 100, 50)\n",
    "plt.hist((tc_list1 - tc_list) / tc_list2, bins=bins, density=False, facecolor=None, edgecolor=RED, hatch=\"//\", histtype='step', lw=2, label=\"coalescence time\");\n",
    "plt.xlabel(r'$\\Delta \\theta / \\ \\sigma_{\\theta}$')\n",
    "plt.ylabel(\"number of MBHBs in bin\")\n",
    "plt.legend(loc=\"upper right\", frameon=False)"
   ]
  },
  {
   "cell_type": "code",
   "execution_count": null,
   "id": "cc5d7ef7",
   "metadata": {},
   "outputs": [],
   "source": [
    "plt.hist(tc_list - tc_list1);\n",
    "plt.xlabel(\"tc error\")"
   ]
  },
  {
   "cell_type": "code",
   "execution_count": null,
   "id": "6a60f374",
   "metadata": {},
   "outputs": [],
   "source": []
  }
 ],
 "metadata": {
  "kernelspec": {
   "display_name": "tri_env",
   "language": "python",
   "name": "python3"
  },
  "language_info": {
   "codemirror_mode": {
    "name": "ipython",
    "version": 3
   },
   "file_extension": ".py",
   "mimetype": "text/x-python",
   "name": "python",
   "nbconvert_exporter": "python",
   "pygments_lexer": "ipython3",
   "version": "3.9.19"
  }
 },
 "nbformat": 4,
 "nbformat_minor": 5
}
