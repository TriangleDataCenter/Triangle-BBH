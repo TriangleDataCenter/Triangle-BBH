{
 "cells": [
  {
   "cell_type": "code",
   "execution_count": 1,
   "id": "6cddc048",
   "metadata": {},
   "outputs": [
    {
     "name": "stderr",
     "output_type": "stream",
     "text": [
      "PyCBC.libutils: pkg-config call failed, setting NO_PKGCONFIG=1\n"
     ]
    },
    {
     "name": "stdout",
     "output_type": "stream",
     "text": [
      "has cupy\n",
      "has cupy\n",
      "has BBHx waveform\n"
     ]
    }
   ],
   "source": [
    "# limit the thread used by numpy \n",
    "import os\n",
    "os.environ[\"OMP_NUM_THREADS\"] = \"1\"\n",
    "os.environ[\"OPENBLAS_NUM_THREADS\"] = \"1\"\n",
    "os.environ[\"MKL_NUM_THREADS\"] = \"1\"\n",
    "os.environ[\"NUMEXPR_NUM_THREADS\"] = \"1\"\n",
    "os.environ[\"VECLIB_MAXIMUM_THREADS\"] = \"1\"  \n",
    "\n",
    "import numpy as np\n",
    "import scipy.interpolate as interp \n",
    "try:\n",
    "    import cupy as xp\n",
    "    import cupyx.scipy.interpolate as xinterp\n",
    "    # print(\"has cupy\")\n",
    "except (ImportError, ModuleNotFoundError) as e:\n",
    "    import numpy as xp\n",
    "    import scipy.interpolate as xinterp  \n",
    "    # print(\"no cupy\")\n",
    "\n",
    "from tqdm import tqdm\n",
    "import pickle\n",
    "import matplotlib.pyplot as plt\n",
    "# import matplotlib\n",
    "# matplotlib.rcParams['text.usetex'] = True\n",
    "# matplotlib.rcParams['font.family'] = 'serif'\n",
    "\n",
    "from Triangle.Constants import *\n",
    "from Triangle.Orbit import * \n",
    "from Triangle.Noise import *\n",
    "from Triangle.FFTTools import *\n",
    "from Triangle.TDI import *\n",
    "from Triangle.Data import * \n",
    "\n",
    "from Triangle_BBH.Waveform import * \n",
    "from Triangle_BBH.Response import *\n",
    "from Triangle_BBH.Utils import *\n",
    "from Triangle_BBH.Fisher import *\n",
    "\n",
    "# import multiprocessing\n",
    "\n",
    "# np.random.seed(114514)\n",
    "# xp.random.seed(114514)"
   ]
  },
  {
   "cell_type": "markdown",
   "id": "b74073cc",
   "metadata": {},
   "source": [
    "## Data settings "
   ]
  },
  {
   "cell_type": "code",
   "execution_count": 2,
   "id": "61cc324f",
   "metadata": {},
   "outputs": [
    {
     "data": {
      "text/plain": [
       "(14401,)"
      ]
     },
     "execution_count": 2,
     "metadata": {},
     "output_type": "execute_result"
    }
   ],
   "source": [
    "t_start = 100. * DAY # start time in s\n",
    "Tobs = 5. * DAY # data length in s \n",
    "t_end = t_start + Tobs # end time in s \n",
    "dt = 15. # time cadance in s \n",
    "fsample = 1. / dt # sampling rate in Hz \n",
    "data_frequencies_full = np.fft.rfftfreq(n=int(Tobs/dt), d=dt) # frequecies where waveform will be calculated \n",
    "delta_f = 1. / Tobs\n",
    "\n",
    "data_frequencies_full.shape "
   ]
  },
  {
   "cell_type": "code",
   "execution_count": 3,
   "id": "ee935e4e",
   "metadata": {},
   "outputs": [
    {
     "data": {
      "text/plain": [
       "((13964,), (13964,))"
      ]
     },
     "execution_count": 3,
     "metadata": {},
     "output_type": "execute_result"
    }
   ],
   "source": [
    "# mask the \"null\" frequencies, which may cause singularity in the calculation of likelihood \n",
    "mask = np.ones_like(data_frequencies_full, dtype=bool)\n",
    "for i in range(1, 50): \n",
    "    mask_idx = np.where(np.abs(data_frequencies_full - i*0.025)<i*5e-4)[0]\n",
    "    mask[mask_idx] = False \n",
    "\n",
    "# remove the frequencies below Taiji sensitive band \n",
    "mask_idx = np.where(data_frequencies_full < 1e-5)[0]\n",
    "mask[mask_idx] = False \n",
    "\n",
    "data_frequencies = data_frequencies_full[mask]\n",
    "data_frequencies_GPU = xp.array(data_frequencies)\n",
    "\n",
    "valid_idx = np.where(mask == True)[0]\n",
    "\n",
    "data_frequencies.shape, valid_idx.shape "
   ]
  },
  {
   "cell_type": "markdown",
   "id": "ace36ac2",
   "metadata": {},
   "source": [
    "## Set response model "
   ]
  },
  {
   "cell_type": "code",
   "execution_count": 4,
   "id": "e526180f",
   "metadata": {},
   "outputs": [],
   "source": [
    "# the path of Taiji orbit \n",
    "orbit_GPU = Orbit(OrbitDir=\"../../Triangle-Simulator/OrbitData/MicroSateOrbitEclipticTCB\") # create individial orbit objects for CPU and GPU to avoid the confusion of numpy / cupy orbit data \n",
    "\n",
    "# initialize  waveform generator \n",
    "WFG_GPU = BBHxWaveformGenerator(mode=\"primary\", use_gpu=True)\n",
    "\n",
    "# initialize response generator \n",
    "FDTDI_GPU = BBHxFDTDIResponseGenerator(orbit_class=orbit_GPU, waveform_generator=WFG_GPU, use_gpu=True)\n",
    "\n",
    "# response settings \n",
    "response_kwargs_GPU = dict(\n",
    "    modes=[(2,2)], \n",
    "    tc_at_constellation=True,\n",
    "    tmin=t_start / DAY, # start time in day \n",
    "    tmax=t_end / DAY, # end time in day  \n",
    "    TDIGeneration=\"2nd\", # \"1st\" or \"2nd\"\n",
    "    optimal_combination=True, # True for AET, False for XYZ \n",
    "    output_by_mode=False, \n",
    "    interpolation=True,\n",
    "    # interpolation=False, \n",
    ")"
   ]
  },
  {
   "cell_type": "markdown",
   "id": "77fef4d2",
   "metadata": {},
   "source": [
    "## Source parameter priors "
   ]
  },
  {
   "cell_type": "code",
   "execution_count": 5,
   "id": "b639bbfe",
   "metadata": {},
   "outputs": [
    {
     "data": {
      "text/plain": [
       "array([[ 5.50000000e+00,  6.50000000e+00],\n",
       "       [ 1.00000000e-01,  1.00000000e+00],\n",
       "       [-9.00000000e-01,  9.00000000e-01],\n",
       "       [-9.00000000e-01,  9.00000000e-01],\n",
       "       [ 1.03000000e+02,  1.04000000e+02],\n",
       "       [ 0.00000000e+00,  6.28318531e+00],\n",
       "       [-1.00000000e+00,  1.00000000e+00]])"
      ]
     },
     "execution_count": 5,
     "metadata": {},
     "output_type": "execute_result"
    }
   ],
   "source": [
    "lgMc_prior = [5.5, 6.5]\n",
    "q_prior = [0.1, 1]\n",
    "s1_prior = [-0.9, 0.9]\n",
    "s2_prior = [-0.9, 0.9]\n",
    "tc_prior = [t_start/DAY+3., t_end/DAY-1.] \n",
    "lam_prior = [0, TWOPI]\n",
    "sinbeta_prior = [-1., 1.]\n",
    "intrinsic_param_priors = np.array([\n",
    "    lgMc_prior, \n",
    "    q_prior, \n",
    "    s1_prior, \n",
    "    s2_prior, \n",
    "    tc_prior, \n",
    "    lam_prior, \n",
    "    sinbeta_prior, \n",
    "])\n",
    "\n",
    "lgdl_prior = [4., 5.]\n",
    "\n",
    "intrinsic_param_priors"
   ]
  },
  {
   "cell_type": "code",
   "execution_count": 6,
   "id": "50ec6f41",
   "metadata": {},
   "outputs": [
    {
     "data": {
      "text/plain": [
       "[103.0, 104.0]"
      ]
     },
     "execution_count": 6,
     "metadata": {},
     "output_type": "execute_result"
    }
   ],
   "source": [
    "tc_prior"
   ]
  },
  {
   "cell_type": "markdown",
   "id": "40b53c1b",
   "metadata": {},
   "source": [
    "## Noise model "
   ]
  },
  {
   "cell_type": "code",
   "execution_count": 7,
   "id": "c36a4c09",
   "metadata": {},
   "outputs": [
    {
     "name": "stdout",
     "output_type": "stream",
     "text": [
      "103.5\n"
     ]
    },
    {
     "data": {
      "text/plain": [
       "((3, 13964), (13964, 3, 3))"
      ]
     },
     "execution_count": 7,
     "metadata": {},
     "output_type": "execute_result"
    }
   ],
   "source": [
    "arm_time = np.mean(intrinsic_param_priors[4]) * DAY \n",
    "arms = dict()\n",
    "for key in MOSA_labels:\n",
    "    arms[key] = orbit_GPU.LTTfunctions()[key](arm_time)\n",
    "print(arm_time/DAY)\n",
    "\n",
    "# theoretical PSDs at the given armlengths \n",
    "PSDfunc = TDIPSDs()\n",
    "PSD_channels = np.array([\n",
    "    PSDfunc.PSD_A2_unequal(data_frequencies, arms), \n",
    "    PSDfunc.PSD_E2_unequal(data_frequencies, arms), \n",
    "    PSDfunc.PSD_T2_unequal(data_frequencies, arms)\n",
    "])\n",
    "\n",
    "# covariance matrix \n",
    "CovMat = np.array([\n",
    "    [PSD_channels[0], np.zeros_like(PSD_channels[0]), np.zeros_like(PSD_channels[0])],\n",
    "    [np.zeros_like(PSD_channels[0]), PSD_channels[1], np.zeros_like(PSD_channels[0])],\n",
    "    [np.zeros_like(PSD_channels[0]), np.zeros_like(PSD_channels[0]), PSD_channels[2]]\n",
    "]) / 4. / delta_f # (3, 3, Nf)\n",
    "\n",
    "# inverse of covmatrix\n",
    "InvCovMat = np.linalg.inv(np.transpose(CovMat, (2, 0, 1))) # (Nf, 3, 3)\n",
    "InvCovMat[:, 2, 2] *= 0. # use A, E channels only in the following analysis \n",
    "\n",
    "PSD_channels.shape, InvCovMat.shape "
   ]
  },
  {
   "cell_type": "markdown",
   "id": "f44220a0",
   "metadata": {},
   "source": [
    "## Data simulation "
   ]
  },
  {
   "cell_type": "code",
   "execution_count": 8,
   "id": "6488d635",
   "metadata": {},
   "outputs": [
    {
     "name": "stdout",
     "output_type": "stream",
     "text": [
      "source parameters:\n",
      "chirp_mass : 1208027.9682600575\n",
      "mass_ratio : 0.3292650888937262\n",
      "spin_1z : 0.21591567244671184\n",
      "spin_2z : 0.04709954929841331\n",
      "coalescence_time : 103.54855663860612\n",
      "coalescence_phase : 3.8101688070396427\n",
      "luminosity_distance : 19901.09753937372\n",
      "inclination : 1.886973442018839\n",
      "longitude : 3.710049746844629\n",
      "latitude : 0.15547972617899597\n",
      "psi : 2.9756436291572355\n",
      "optimal SNR: 2525.267951949074\n"
     ]
    }
   ],
   "source": [
    "# generate source parameter and clean signal \n",
    "mbhb_parameters = {\n",
    "    'chirp_mass': np.power(10., np.random.uniform(lgMc_prior[0], lgMc_prior[1])), \n",
    "    'mass_ratio': np.random.uniform(q_prior[0], q_prior[1]), \n",
    "    'spin_1z': np.random.uniform(s1_prior[0], s1_prior[1]),\n",
    "    'spin_2z': np.random.uniform(s2_prior[0], s2_prior[1]),\n",
    "    'coalescence_time': np.random.uniform(tc_prior[0], tc_prior[1]), \n",
    "    'coalescence_phase': np.random.uniform(0, TWOPI),\n",
    "    'luminosity_distance': np.power(10., np.random.uniform(lgdl_prior[0], lgdl_prior[1])), \n",
    "    'inclination': np.arccos(np.random.uniform(-1., 1.)), # [rad]\n",
    "    'longitude': np.random.uniform(lam_prior[0], lam_prior[1]), # [rad]\n",
    "    'latitude': np.arcsin(np.random.uniform(sinbeta_prior[0], sinbeta_prior[1])), # [rad]\n",
    "    'psi': np.random.uniform(0, PI) # [rad]\n",
    "    }\n",
    "wf_channels = FDTDI_GPU.Response(mbhb_parameters, data_frequencies_GPU, **response_kwargs_GPU)\n",
    "\n",
    "# generate frequency-domain noises \n",
    "Re_tmp = np.random.normal(scale=np.sqrt(PSD_channels / 4. / delta_f))\n",
    "Im_tmp = np.random.normal(scale=np.sqrt(PSD_channels / 4. / delta_f))\n",
    "noise_channels = xp.array(Re_tmp + 1.j * Im_tmp) \n",
    "\n",
    "# combine signal and noise \n",
    "data_channels = wf_channels + noise_channels \n",
    "# data_channels = wf_channels\n",
    "\n",
    "opt_SNR = FrequencyDomainCovarianceSNR(wf_channels.get(), InvCovMat)\n",
    "\n",
    "print(\"source parameters:\")\n",
    "for k, v in mbhb_parameters.items():\n",
    "    print(k, \":\", v)\n",
    "print(\"optimal SNR:\", opt_SNR)"
   ]
  },
  {
   "cell_type": "code",
   "execution_count": 9,
   "id": "32be1c6d",
   "metadata": {},
   "outputs": [
    {
     "data": {
      "text/plain": [
       "Text(0, 0.5, 'Frequency-domain data (1/Hz)')"
      ]
     },
     "execution_count": 9,
     "metadata": {},
     "output_type": "execute_result"
    },
    {
     "data": {
      "image/png": "[encoded data removed]",
      "text/plain": [
       "<Figure size 640x480 with 1 Axes>"
      ]
     },
     "metadata": {},
     "output_type": "display_data"
    }
   ],
   "source": [
    "for ichannel, nchannel in enumerate([\"A\", \"E\", \"T\"]): \n",
    "    plt.loglog(data_frequencies, np.abs(data_channels[ichannel].get()), linewidth=1, alpha=0.5, color=BLUE)\n",
    "    plt.loglog(data_frequencies, np.abs(wf_channels[ichannel].get()), color=RED, linestyle=\":\")\n",
    "    plt.loglog(data_frequencies, np.sqrt(PSD_channels[ichannel] * Tobs / 2.), color=\"grey\", linestyle=\"--\")\n",
    "plt.xlabel(\"Frequency (Hz)\")\n",
    "plt.ylabel(\"Frequency-domain data (1/Hz)\")"
   ]
  },
  {
   "cell_type": "markdown",
   "id": "fb44d8a2",
   "metadata": {},
   "source": [
    "## MLE with  $\\mathcal{F}$-stat "
   ]
  },
  {
   "cell_type": "code",
   "execution_count": 10,
   "id": "fb51309d",
   "metadata": {},
   "outputs": [],
   "source": [
    "Fstat = Fstatistics(\n",
    "    response_generator=FDTDI_GPU, \n",
    "    frequency=data_frequencies_GPU, \n",
    "    data=data_channels, \n",
    "    # data=wf_channels,\n",
    "    invserse_covariance_matrix=InvCovMat, \n",
    "    response_parameters=response_kwargs_GPU, \n",
    "    use_gpu=True\n",
    ")"
   ]
  },
  {
   "cell_type": "markdown",
   "id": "f9a4bdec",
   "metadata": {},
   "source": [
    "### test waveform and parameter recovery"
   ]
  },
  {
   "cell_type": "code",
   "execution_count": 11,
   "id": "13c102f2",
   "metadata": {},
   "outputs": [
    {
     "data": {
      "text/plain": [
       "{'chirp_mass': 1208027.9682600575,\n",
       " 'mass_ratio': 0.3292650888937262,\n",
       " 'spin_1z': 0.21591567244671184,\n",
       " 'spin_2z': 0.04709954929841331,\n",
       " 'coalescence_time': 103.54855663860612,\n",
       " 'longitude': 3.710049746844629,\n",
       " 'latitude': 0.15547972617899597}"
      ]
     },
     "execution_count": 11,
     "metadata": {},
     "output_type": "execute_result"
    }
   ],
   "source": [
    "int_params = dict()\n",
    "for key in Fstatistics.intrinsic_parameter_names:\n",
    "    int_params[key] = mbhb_parameters[key]\n",
    "int_params"
   ]
  },
  {
   "cell_type": "code",
   "execution_count": 12,
   "id": "8411866e",
   "metadata": {},
   "outputs": [
    {
     "name": "stdout",
     "output_type": "stream",
     "text": [
      "parameter name | difference\n",
      "luminosity_distance : -25.6061722514969\n",
      "inclination : -0.00036425505425929927\n",
      "psi : -0.00011892740875518726\n",
      "coalescence_phase : -3.141718975886149\n"
     ]
    }
   ],
   "source": [
    "rec_a = Fstat.calculate_Fstat_vectorized(\n",
    "    intrinsic_parameters=int_params, \n",
    "    return_a=True, \n",
    ")\n",
    "\n",
    "rec_ext_params = Fstat.a_to_extrinsic_vectorized(rec_a)\n",
    "\n",
    "rec_params = dict(int_params, **rec_ext_params)\n",
    "\n",
    "print(\"parameter name | difference\")\n",
    "for k, v in rec_ext_params.items():\n",
    "    print(k, \":\", v-mbhb_parameters[k])"
   ]
  },
  {
   "cell_type": "code",
   "execution_count": 13,
   "id": "97ef0c18",
   "metadata": {},
   "outputs": [
    {
     "data": {
      "text/plain": [
       "((3, 13964), (3, 13964))"
      ]
     },
     "execution_count": 13,
     "metadata": {},
     "output_type": "execute_result"
    }
   ],
   "source": [
    "rec_wave1 = FDTDI_GPU.Response(\n",
    "    rec_params, \n",
    "    data_frequencies_GPU, \n",
    "    **response_kwargs_GPU\n",
    ")\n",
    "\n",
    "rec_wave2 = Fstat.calculate_Fstat_vectorized(\n",
    "    intrinsic_parameters=int_params, \n",
    "    return_recovered_wave=True, \n",
    ")[:, 0, :]\n",
    "\n",
    "rec_wave1.shape, rec_wave2.shape "
   ]
  },
  {
   "cell_type": "code",
   "execution_count": 14,
   "id": "7cacc0fe",
   "metadata": {},
   "outputs": [
    {
     "data": {
      "text/plain": [
       "<matplotlib.legend.Legend at 0x75e778755d60>"
      ]
     },
     "execution_count": 14,
     "metadata": {},
     "output_type": "execute_result"
    },
    {
     "data": {
      "image/png": "[encoded data removed]",
      "text/plain": [
       "<Figure size 640x480 with 1 Axes>"
      ]
     },
     "metadata": {},
     "output_type": "display_data"
    }
   ],
   "source": [
    "plt.loglog(data_frequencies, np.abs(wf_channels[0].get()) * data_frequencies, label=\"original waveform\")\n",
    "plt.loglog(data_frequencies, np.abs(rec_wave1[0].get()) * data_frequencies, linestyle=\"--\", label=\"reconstructed waveform\")\n",
    "plt.loglog(data_frequencies, np.abs(rec_wave1[0].get() - wf_channels[0].get()) * data_frequencies, label=\"difference via params\")\n",
    "plt.loglog(data_frequencies, np.abs(rec_wave2[0].get() - wf_channels[0].get()) * data_frequencies, label=\"difference via a\", linestyle=\"--\")\n",
    "plt.loglog(data_frequencies, np.sqrt(PSD_channels[0] * 2. * data_frequencies), label=\"noise\")\n",
    "plt.ylim(1e-25,)\n",
    "\n",
    "plt.xlabel(\"Frequency (Hz)\")\n",
    "plt.ylabel(\"Characteristic Strain\")\n",
    "plt.legend(loc=\"upper left\", frameon=False)"
   ]
  },
  {
   "cell_type": "code",
   "execution_count": 15,
   "id": "c099ba81",
   "metadata": {},
   "outputs": [
    {
     "data": {
      "text/plain": [
       "(10,)"
      ]
     },
     "execution_count": 15,
     "metadata": {},
     "output_type": "execute_result"
    }
   ],
   "source": [
    "int_params_vec = dict() \n",
    "for k, v in int_params.items():\n",
    "    int_params_vec[k] = v * np.ones(10)\n",
    "f_vec = Fstat.calculate_Fstat_vectorized(intrinsic_parameters=int_params_vec)\n",
    "f_vec.shape "
   ]
  },
  {
   "cell_type": "markdown",
   "id": "bc92a26b",
   "metadata": {},
   "source": [
    "### optimization from prior "
   ]
  },
  {
   "cell_type": "code",
   "execution_count": 16,
   "id": "dd884ae6",
   "metadata": {},
   "outputs": [
    {
     "name": "stderr",
     "output_type": "stream",
     "text": [
      "/home/ps/miniconda3/envs/tdc/lib/python3.9/site-packages/scipy/optimize/_differentialevolution.py:487: UserWarning: differential_evolution: the 'vectorized' keyword has overridden updating='immediate' to updating='deferred'\n",
      "  with DifferentialEvolutionSolver(func, bounds, args=args,\n"
     ]
    },
    {
     "name": "stdout",
     "output_type": "stream",
     "text": [
      "             message: Optimization terminated successfully.\n",
      "             success: True\n",
      "                 fun: -3193817.335964225\n",
      "                   x: [ 5.822e-01  2.533e-01  6.245e-01  5.111e-01\n",
      "                        5.421e-01  8.340e-01  9.064e-01]\n",
      "                 nit: 1111\n",
      "                nfev: 1112\n",
      "          population: [[ 5.822e-01  2.533e-01 ...  8.340e-01  9.064e-01]\n",
      "                       [ 5.822e-01  2.532e-01 ...  8.344e-01  9.062e-01]\n",
      "                       ...\n",
      "                       [ 5.822e-01  2.531e-01 ...  8.343e-01  9.076e-01]\n",
      "                       [ 5.821e-01  2.531e-01 ...  8.330e-01  9.072e-01]]\n",
      " population_energies: [-3.194e+06 -3.194e+06 ... -3.194e+06 -3.194e+06]\n"
     ]
    }
   ],
   "source": [
    "from scipy.optimize import differential_evolution\n",
    "\n",
    "def cost_function(norm_int_params):\n",
    "    \"\"\"   \n",
    "        norm_int_params: shape (Nparams, Nevent), normalized to (0, 1)\n",
    "    \"\"\"\n",
    "    int_params = norm_int_params.transpose() * (intrinsic_param_priors[:, 1] - intrinsic_param_priors[:, 0]) + intrinsic_param_priors[:, 0] # (Nevent, Nparams)\n",
    "    params_in = Fstat.IntParamArr2ParamDict(int_params.transpose()) # (Nparams, Nevent) -> dictionary, each item (Nevent)\n",
    "    return -Fstat.calculate_Fstat_vectorized(intrinsic_parameters=params_in) # (Nevent)\n",
    "\n",
    "n_dim_int = 7 \n",
    "lower_bounds = np.zeros(n_dim_int) \n",
    "upper_bounds = np.ones(n_dim_int) \n",
    "bounds = np.array([lower_bounds, upper_bounds]).T # (Nparams, 2)\n",
    "\n",
    "DE_result = differential_evolution(\n",
    "    func=cost_function,\n",
    "    bounds=bounds,\n",
    "    x0=None,\n",
    "    strategy='best1exp',\n",
    "    # strategy='rand1bin',\n",
    "    maxiter=5000,\n",
    "    popsize=10*n_dim_int,\n",
    "    # popsize=6*n_dim_int, \n",
    "    tol=1e-8,\n",
    "    atol=1e-10,\n",
    "    # tol=1e-7,\n",
    "    # atol=1e-9,\n",
    "    # tol=1e-6,\n",
    "    # atol=1e-8,\n",
    "    mutation=(0.4, 0.95),\n",
    "    recombination=0.7,\n",
    "    disp=False,\n",
    "    polish=False,\n",
    "    vectorized=True,\n",
    "    # workers=1,\n",
    ")\n",
    "\n",
    "print(DE_result)"
   ]
  },
  {
   "cell_type": "markdown",
   "id": "43e31488",
   "metadata": {},
   "source": [
    "### reconstruct parameters and waveforms "
   ]
  },
  {
   "cell_type": "code",
   "execution_count": 17,
   "id": "0d0cc0e6",
   "metadata": {},
   "outputs": [
    {
     "name": "stdout",
     "output_type": "stream",
     "text": [
      "parameter name | true value | searched value\n",
      "chirp_mass 1208027.9682600575 1208232.710010924\n",
      "mass_ratio 0.3292650888937262 0.3279370603882418\n",
      "spin_1z 0.21591567244671184 0.22416887045472655\n",
      "spin_2z 0.04709954929841331 0.02004408084050746\n",
      "coalescence_time 103.54855663860612 103.54211092068627\n",
      "longitude 3.710049746844629 5.239935643022395\n",
      "latitude 0.15547972617899597 0.9488301823226\n",
      "luminosity_distance 19901.09753937372 19327.160178918646\n",
      "inclination 1.886973442018839 1.258588016743683\n",
      "psi 2.9756436291572355 2.416218870091713\n",
      "coalescence_phase 3.8101688070396427 0.6643153357290354\n"
     ]
    }
   ],
   "source": [
    "searched_int_params = Fstat.IntParamArr2ParamDict(DE_result.x * (intrinsic_param_priors[:, 1] - intrinsic_param_priors[:, 0]) + intrinsic_param_priors[:, 0])\n",
    "\n",
    "searched_a = Fstat.calculate_Fstat_vectorized(\n",
    "    intrinsic_parameters=searched_int_params, \n",
    "    return_a=True, \n",
    ") # (1, 4)\n",
    "searched_ext_params = Fstat.a_to_extrinsic_vectorized(searched_a)\n",
    "\n",
    "searched_params = dict(searched_int_params, **searched_ext_params)\n",
    "\n",
    "print(\"parameter name | true value | searched value\")\n",
    "for k, v in searched_params.items():\n",
    "    print(k, mbhb_parameters[k], v)"
   ]
  },
  {
   "cell_type": "code",
   "execution_count": 18,
   "id": "879f9c17",
   "metadata": {},
   "outputs": [
    {
     "data": {
      "text/plain": [
       "<matplotlib.legend.Legend at 0x75e778342e20>"
      ]
     },
     "execution_count": 18,
     "metadata": {},
     "output_type": "execute_result"
    },
    {
     "data": {
      "image/png": "[encoded data removed]",
      "text/plain": [
       "<Figure size 640x480 with 1 Axes>"
      ]
     },
     "metadata": {},
     "output_type": "display_data"
    }
   ],
   "source": [
    "searched_wf1 = FDTDI_GPU.Response(\n",
    "    searched_params, \n",
    "    data_frequencies_GPU, \n",
    "    **response_kwargs_GPU\n",
    ")\n",
    "\n",
    "searched_wf2 = Fstat.calculate_Fstat_vectorized(\n",
    "    intrinsic_parameters=searched_int_params, \n",
    "    return_recovered_wave=True\n",
    ")[:, 0, :]\n",
    "\n",
    "plt.loglog(data_frequencies, np.abs(wf_channels[0].get()) * data_frequencies, label=\"injected waveform\")\n",
    "plt.loglog(data_frequencies, np.abs(searched_wf1[0].get()) * data_frequencies, linestyle=\"--\", label=\"searched waveform\")\n",
    "plt.loglog(data_frequencies, np.abs(searched_wf1[0].get() - wf_channels[0].get()) * data_frequencies, linestyle=\"-\", label=\"difference via param\")\n",
    "plt.loglog(data_frequencies, np.abs(searched_wf2[0].get() - wf_channels[0].get()) * data_frequencies, linestyle=\"--\", label=\"difference via a\")\n",
    "plt.loglog(data_frequencies, np.sqrt(PSD_channels[0] * 2. * data_frequencies), label=\"noise\")\n",
    "plt.ylim(1e-25, )\n",
    "plt.legend()"
   ]
  },
  {
   "cell_type": "markdown",
   "id": "4e062421",
   "metadata": {},
   "source": [
    "## Fisher analysis "
   ]
  },
  {
   "cell_type": "code",
   "execution_count": 19,
   "id": "fe99befa",
   "metadata": {},
   "outputs": [
    {
     "name": "stdout",
     "output_type": "stream",
     "text": [
      "11 parameters in total: ['chirp_mass', 'mass_ratio', 'spin_1z', 'spin_2z', 'coalescence_time', 'coalescence_phase', 'luminosity_distance', 'inclination', 'longitude', 'latitude', 'psi']\n",
      "11 analyzed parameters: ['chirp_mass', 'mass_ratio', 'spin_1z', 'spin_2z', 'coalescence_time', 'coalescence_phase', 'luminosity_distance', 'inclination', 'longitude', 'latitude', 'psi']\n",
      "parameters whose steps should be tested: ['chirp_mass', 'mass_ratio', 'spin_1z', 'spin_2z', 'coalescence_time', 'coalescence_phase', 'luminosity_distance', 'inclination', 'longitude', 'latitude', 'psi']\n",
      "\n",
      " ========= testing parameter chirp_mass ==========\n",
      "error = 7.415589032861708\n",
      "shift = 5.0 relative diff = 9.703323998226729e-07\n",
      "shift of parameter chirp_mass is 5.0\n",
      "\n",
      " ========= testing parameter mass_ratio ==========\n",
      "error = 0.006988274188236618\n",
      "shift = 0.005 relative diff = 0.002081259741296486\n",
      "error = 0.006974944800493078\n",
      "shift = 0.0025 relative diff = 0.0025392413472889444\n",
      "error = 0.0069682748250288525\n",
      "shift = 0.00125 relative diff = 0.0011931527014139704\n",
      "error = 0.006964927888026731\n",
      "shift = 0.000625 relative diff = 0.0005978123961176201\n",
      "error = 0.006963251740324643\n",
      "shift = 0.0003125 relative diff = 0.0002998795529061518\n",
      "error = 0.0069624130095319765\n",
      "shift = 0.00015625 relative diff = 0.00015016286117245983\n",
      "error = 0.006961993466780317\n",
      "shift = 7.8125e-05 relative diff = 7.51370638234887e-05\n",
      "shift of parameter mass_ratio is 7.8125e-05\n",
      "\n",
      " ========= testing parameter spin_1z ==========\n",
      "error = 0.010714304910444172\n",
      "shift = 0.005 relative diff = 0.0007106733471641698\n",
      "error = 0.010723700221873989\n",
      "shift = 0.0025 relative diff = 0.0009461585762325961\n",
      "error = 0.01072812897114632\n",
      "shift = 0.00125 relative diff = 0.0005372585629801786\n",
      "error = 0.010730265732959397\n",
      "shift = 0.000625 relative diff = 0.0002548173720451758\n",
      "error = 0.010731314737433478\n",
      "shift = 0.0003125 relative diff = 0.0001235276258116397\n",
      "error = 0.010731834399845973\n",
      "shift = 0.00015625 relative diff = 6.079540972572505e-05\n",
      "shift of parameter spin_1z is 0.00015625\n",
      "\n",
      " ========= testing parameter spin_2z ==========\n",
      "error = 0.024829672494261473\n",
      "shift = 0.005 relative diff = 0.00012328306693583352\n",
      "error = 0.024833004738736474\n",
      "shift = 0.0025 relative diff = 0.00015766756177349828\n",
      "error = 0.02483473872356596\n",
      "shift = 0.00125 relative diff = 8.465184946182335e-05\n",
      "shift of parameter spin_2z is 0.00125\n",
      "\n",
      " ========= testing parameter coalescence_time ==========\n",
      "error = 0.00044576945595283023\n",
      "shift = 0.0005 relative diff = 0.04744351217264153\n",
      "error = 0.0004359621924513905\n",
      "shift = 0.00025 relative diff = 0.05185836795485604\n",
      "error = 0.0004335558316875563\n",
      "shift = 0.000125 relative diff = 0.01218418560802277\n",
      "error = 0.0004329570710299347\n",
      "shift = 6.25e-05 relative diff = 0.002999628855001429\n",
      "error = 0.00043280757141785114\n",
      "shift = 3.125e-05 relative diff = 0.0007470038333343817\n",
      "error = 0.00043277021580216186\n",
      "shift = 1.5625e-05 relative diff = 0.00018654949789461033\n",
      "error = 0.00043276088136562563\n",
      "shift = 7.8125e-06 relative diff = 4.6614563628091584e-05\n",
      "shift of parameter coalescence_time is 7.8125e-06\n",
      "\n",
      " ========= testing parameter coalescence_phase ==========\n",
      "error = 0.01407413640032873\n",
      "shift = 0.05 relative diff = 0.00031272710573462353\n",
      "error = 0.014071937326948575\n",
      "shift = 0.025 relative diff = 0.0003378013920152796\n",
      "error = 0.014071387771847587\n",
      "shift = 0.0125 relative diff = 8.439605076198202e-05\n",
      "shift of parameter coalescence_phase is 0.0125\n",
      "\n",
      " ========= testing parameter luminosity_distance ==========\n",
      "error = 2.807309117435562\n",
      "shift = 0.5 relative diff = 6.280863923939418e-06\n",
      "shift of parameter luminosity_distance is 0.5\n",
      "\n",
      " ========= testing parameter inclination ==========\n",
      "error = 0.015424745354943769\n",
      "shift = 0.005 relative diff = 5.4815172535760746e-05\n",
      "shift of parameter inclination is 0.005\n",
      "\n",
      " ========= testing parameter longitude ==========\n",
      "error = 0.00786164733449056\n",
      "shift = 0.005 relative diff = 0.0006126094266085351\n",
      "error = 0.007866679380604312\n",
      "shift = 0.0025 relative diff = 0.0007733969930812416\n",
      "error = 0.007869248958924149\n",
      "shift = 0.00125 relative diff = 0.0004012021592457025\n",
      "error = 0.00787054713976419\n",
      "shift = 0.000625 relative diff = 0.00020420321543525646\n",
      "error = 0.007871199562012656\n",
      "shift = 0.0003125 relative diff = 0.00010300157242388324\n",
      "error = 0.007871526608654094\n",
      "shift = 0.00015625 relative diff = 5.172498185597114e-05\n",
      "shift of parameter longitude is 0.00015625\n",
      "\n",
      " ========= testing parameter latitude ==========\n",
      "error = 0.01629725453158684\n",
      "shift = 0.005 relative diff = 0.003256946709749156\n",
      "error = 0.016351188746899423\n",
      "shift = 0.0025 relative diff = 0.004067391121999092\n",
      "error = 0.01637837180021781\n",
      "shift = 0.00125 relative diff = 0.0020582577241598423\n",
      "error = 0.01639201757488505\n",
      "shift = 0.000625 relative diff = 0.001035318038621775\n",
      "error = 0.016398854060887882\n",
      "shift = 0.0003125 relative diff = 0.0005192120414367189\n",
      "error = 0.016402275707792457\n",
      "shift = 0.00015625 relative diff = 0.000259995090877116\n",
      "error = 0.01640398738275791\n",
      "shift = 7.8125e-05 relative diff = 0.00013009490543843268\n",
      "error = 0.016404843433149505\n",
      "shift = 3.90625e-05 relative diff = 6.507180369000504e-05\n",
      "shift of parameter latitude is 3.90625e-05\n",
      "\n",
      " ========= testing parameter psi ==========\n",
      "error = 0.013770917822310647\n",
      "shift = 0.005 relative diff = 2.1666869368915847e-06\n",
      "shift of parameter psi is 0.005\n",
      "all parameters tested.\n",
      "errors:\n",
      "{'chirp_mass': 242.15025460309843, 'mass_ratio': 0.0010042484751475913, 'spin_1z': 0.0069996832010994665, 'spin_2z': 0.02259202869846305, 'coalescence_time': 4.4703675105460144e-05, 'coalescence_phase': 0.005727821140254407, 'luminosity_distance': 478.8356094904488, 'inclination': 0.002756135917393999, 'longitude': 0.017476350069007024, 'latitude': 0.02915595027529317, 'psi': 0.0050753883009182765}\n"
     ]
    },
    {
     "data": {
      "text/plain": [
       "{'chirp_mass': 242.15025460309843,\n",
       " 'mass_ratio': 0.0010042484751475913,\n",
       " 'spin_1z': 0.0069996832010994665,\n",
       " 'spin_2z': 0.02259202869846305,\n",
       " 'coalescence_time': 4.4703675105460144e-05,\n",
       " 'coalescence_phase': 0.005727821140254407,\n",
       " 'luminosity_distance': 478.8356094904488,\n",
       " 'inclination': 0.002756135917393999,\n",
       " 'longitude': 0.017476350069007024,\n",
       " 'latitude': 0.02915595027529317,\n",
       " 'psi': 0.0050753883009182765}"
      ]
     },
     "execution_count": 19,
     "metadata": {},
     "output_type": "execute_result"
    }
   ],
   "source": [
    "def fisher_waveform_wrapper(param_dict, frequencies):\n",
    "    res = FDTDI_GPU.Response(\n",
    "        parameters=param_dict, \n",
    "        freqs=xp.array(frequencies),  \n",
    "        **response_kwargs_GPU, \n",
    "    )\n",
    "    return res.get()\n",
    "\n",
    "# set initial steps \n",
    "analyze_param_step_dict = {\n",
    "    'chirp_mass': 10.,\n",
    "    'mass_ratio': 0.01,\n",
    "    'spin_1z': 0.01,\n",
    "    'spin_2z': 0.01,\n",
    "    'coalescence_time': 0.001,\n",
    "    'coalescence_phase': 0.1,\n",
    "    'luminosity_distance': 1.,\n",
    "    'inclination': 0.01,\n",
    "    'longitude': 0.01,\n",
    "    'latitude': 0.01,\n",
    "    'psi': 0.01\n",
    "    }\n",
    "for k, v in analyze_param_step_dict.items():\n",
    "    analyze_param_step_dict[k] = -v \n",
    "\n",
    "FIM = MultiChannelFisher(\n",
    "    waveform_generator=fisher_waveform_wrapper, \n",
    "    param_dict=mbhb_parameters, \n",
    "    # param_dict=searched_params, \n",
    "    analyze_param_step_dict=analyze_param_step_dict, \n",
    "    frequency=data_frequencies, \n",
    "    inverse_covariance=InvCovMat, \n",
    "    verbose=1,\n",
    ")\n",
    "\n",
    "FIM.auto_test_step()\n",
    "FIM.calculate_Fisher()\n",
    "FIM.calculate_errors() \n",
    "\n",
    "FIM.param_errors"
   ]
  },
  {
   "cell_type": "code",
   "execution_count": 20,
   "id": "0d80e6c2",
   "metadata": {},
   "outputs": [
    {
     "name": "stdout",
     "output_type": "stream",
     "text": [
      "parameter name | truth | difference | FIM bound | ratio\n",
      "chirp_mass 1208027.9682600575 204.74175086640753 242.15025460309843 0.8455153235415502\n",
      "mass_ratio 0.3292650888937262 0.0013280285054844132 0.0010042484751475913 1.3224102782822118\n",
      "spin_1z 0.21591567244671184 0.008253198008014717 0.0069996832010994665 1.1790816485406592\n",
      "spin_2z 0.04709954929841331 0.02705546845790585 0.02259202869846305 1.1975670188373322\n",
      "coalescence_time 103.54855663860612 0.006445717919845606 4.4703675105460144e-05 144.18765134274878\n",
      "longitude 3.710049746844629 1.5298858961777664 0.017476350069007024 87.54035540240766\n",
      "latitude 0.15547972617899597 0.793350456143604 0.02915595027529317 27.210584757235345\n",
      "luminosity_distance 19901.09753937372 573.9373604550747 478.8356094904488 1.198610439741163\n",
      "inclination 1.886973442018839 0.6283854252751562 0.002756135917393999 227.99507865682892\n",
      "psi 2.9756436291572355 0.5594247590655224 0.0050753883009182765 110.22304617841893\n",
      "coalescence_phase 3.8101688070396427 3.145853471310607 0.005727821140254407 549.2234122329596\n"
     ]
    }
   ],
   "source": [
    "print(\"parameter name | truth | difference | FIM bound | ratio\")\n",
    "for k, v in searched_params.items():\n",
    "    print(k, mbhb_parameters[k], np.abs(v-mbhb_parameters[k]), FIM.param_errors[k], np.abs(v-mbhb_parameters[k]) / FIM.param_errors[k])"
   ]
  },
  {
   "cell_type": "code",
   "execution_count": 24,
   "id": "1e8dff11",
   "metadata": {},
   "outputs": [],
   "source": [
    "def DetectorBasisInSSB(orbit_time_SI, orbit):\n",
    "    n21 = orbit.ArmVectorfunctions()[\"21\"](orbit_time_SI)\n",
    "    n31 = orbit.ArmVectorfunctions()[\"31\"](orbit_time_SI)\n",
    "    z_det = np.cross(n31, n21)\n",
    "    z_norm = np.linalg.norm(z_det)\n",
    "    z_det = z_det / z_norm\n",
    "    x_det = n31 \n",
    "    y_det = np.cross(z_det, x_det)\n",
    "    y_norm = np.linalg.norm(y_det)\n",
    "    y_det = y_det / y_norm\n",
    "    return x_det, y_det, z_det \n",
    "\n",
    "def DetectorSSBRotationMatrices(orbit_time_SI, orbit):\n",
    "    x_det, y_det, z_det = DetectorBasisInSSB(orbit_time_SI, orbit)\n",
    "    R_det2ssb = np.array([x_det, y_det, z_det])\n",
    "    R_ssb2det = R_det2ssb.T \n",
    "    return R_det2ssb, R_ssb2det \n",
    "\n",
    "def SSBPosToDetectorFrame(lon_ssb, lat_ssb, orbit_time_SI, orbit):\n",
    "    R_det2ssb, R_ssb2det = DetectorSSBRotationMatrices(orbit_time_SI, orbit)\n",
    "    x_in_ssb = np.cos(lat_ssb) * np.cos(lon_ssb)\n",
    "    y_in_ssb = np.cos(lat_ssb) * np.sin(lon_ssb)\n",
    "    z_in_ssb = np.sin(lat_ssb)\n",
    "    x_in_det, y_in_det, z_in_det = np.matmul(R_det2ssb, np.array([x_in_ssb, y_in_ssb, z_in_ssb]))\n",
    "    lon_det = np.arctan2(y_in_det, x_in_det)\n",
    "    lat_det = np.arcsin(z_in_det)\n",
    "    return lon_det, lat_det\n",
    "\n",
    "def DetectorPosToSSBFrame(lon_det, lat_det, orbit_time_SI, orbit):\n",
    "    R_det2ssb, R_ssb2det = DetectorSSBRotationMatrices(orbit_time_SI, orbit)\n",
    "    x_in_det = np.cos(lat_det) * np.cos(lon_det)\n",
    "    y_in_det = np.cos(lat_det) * np.sin(lon_det)\n",
    "    z_in_det = np.sin(lat_det)\n",
    "    x_in_ssb, y_in_ssb, z_in_ssb = np.matmul(R_ssb2det, np.array([x_in_det, y_in_det, z_in_det]))\n",
    "    lon_ssb = np.arctan2(y_in_ssb, x_in_ssb) % TWOPI\n",
    "    lat_ssb = np.arcsin(z_in_ssb)\n",
    "    return lon_ssb, lat_ssb"
   ]
  },
  {
   "cell_type": "code",
   "execution_count": null,
   "id": "c75575d8",
   "metadata": {},
   "outputs": [
    {
     "data": {
      "text/plain": [
       "(3.710049746844629, 5.280958241720303, 0.15547972617899597, 0.9567602138105761)"
      ]
     },
     "execution_count": 30,
     "metadata": {},
     "output_type": "execute_result"
    }
   ],
   "source": [
    "lon_ssb = mbhb_parameters[\"longitude\"]\n",
    "lat_ssb = mbhb_parameters[\"latitude\"]\n",
    "\n",
    "lon_det, lat_det = SSBPosToDetectorFrame(lon_ssb, lat_ssb, mbhb_parameters[\"coalescence_time\"]*DAY, orbit_GPU)\n",
    "\n",
    "# other modes \n",
    "# lon_det = (lon_det + PI) % TWOPI\n",
    "lat_det = -lat_det\n",
    "\n",
    "lon_ssb_rec, lat_ssb_rec = DetectorPosToSSBFrame(lon_det, lat_det, mbhb_parameters[\"coalescence_time\"]*DAY, orbit_GPU)\n",
    "\n",
    "lon_ssb, lon_ssb_rec, lat_ssb, lat_ssb_rec"
   ]
  },
  {
   "cell_type": "code",
   "execution_count": 31,
   "id": "5ac0387f",
   "metadata": {},
   "outputs": [
    {
     "data": {
      "text/plain": [
       "(3.710049746844629, 5.239935643022395, 0.15547972617899597, 0.9488301823226)"
      ]
     },
     "execution_count": 31,
     "metadata": {},
     "output_type": "execute_result"
    }
   ],
   "source": [
    "mbhb_parameters[\"longitude\"], searched_params[\"longitude\"], mbhb_parameters[\"latitude\"], searched_params[\"latitude\"]"
   ]
  },
  {
   "cell_type": "code",
   "execution_count": 32,
   "id": "4a7df8ca",
   "metadata": {},
   "outputs": [
    {
     "data": {
      "text/plain": [
       "3.145561458762522"
      ]
     },
     "execution_count": 32,
     "metadata": {},
     "output_type": "execute_result"
    }
   ],
   "source": [
    "mbhb_parameters[\"inclination\"] + searched_params[\"inclination\"]"
   ]
  },
  {
   "cell_type": "markdown",
   "id": "73136aa2",
   "metadata": {},
   "source": [
    "## Test across population "
   ]
  },
  {
   "cell_type": "code",
   "execution_count": null,
   "id": "6e36d858",
   "metadata": {},
   "outputs": [
    {
     "name": "stderr",
     "output_type": "stream",
     "text": [
      " 10%|█         | 1/10 [06:25<57:53, 385.98s/it]"
     ]
    },
    {
     "name": "stdout",
     "output_type": "stream",
     "text": [
      "optimal snr = 3886.1328150053873\n",
      "residual snr = 2.718443583782718\n",
      "tc deviation = 1.4992650861245238e-05\n",
      "tc bound = 2.9346864322588442e-05\n",
      "longitude deviation= -0.0021453420172568016\n",
      "latitude deviation= 0.003705879675390822\n",
      "inclination deviation= 0.014672450794227188\n",
      "inclination sum= 1.16002256089276\n"
     ]
    },
    {
     "name": "stderr",
     "output_type": "stream",
     "text": [
      " 20%|██        | 2/10 [12:50<51:19, 384.92s/it]"
     ]
    },
    {
     "name": "stdout",
     "output_type": "stream",
     "text": [
      "optimal snr = 3886.1328150053873\n",
      "residual snr = 6.173942325609094\n",
      "tc deviation = 0.006353521385676686\n",
      "tc bound = 2.9346864322588442e-05\n",
      "longitude deviation= -1.4073147567195536\n",
      "latitude deviation= -0.7348892503602105\n",
      "inclination deviation= 1.9924560450345217\n",
      "inclination sum= 3.1378061551330543\n"
     ]
    },
    {
     "name": "stderr",
     "output_type": "stream",
     "text": [
      " 20%|██        | 2/10 [13:00<52:01, 390.20s/it]\n"
     ]
    },
    {
     "ename": "KeyboardInterrupt",
     "evalue": "",
     "output_type": "error",
     "traceback": [
      "\u001b[0;31m---------------------------------------------------------------------------\u001b[0m",
      "\u001b[0;31mKeyboardInterrupt\u001b[0m                         Traceback (most recent call last)",
      "Cell \u001b[0;32mIn[21], line 59\u001b[0m\n\u001b[1;32m     56\u001b[0m upper_bounds \u001b[38;5;241m=\u001b[39m np\u001b[38;5;241m.\u001b[39mones(n_dim_int) \n\u001b[1;32m     57\u001b[0m bounds \u001b[38;5;241m=\u001b[39m np\u001b[38;5;241m.\u001b[39marray([lower_bounds, upper_bounds])\u001b[38;5;241m.\u001b[39mT \u001b[38;5;66;03m# (Nparams, 2)\u001b[39;00m\n\u001b[0;32m---> 59\u001b[0m DE_result \u001b[38;5;241m=\u001b[39m \u001b[43mdifferential_evolution\u001b[49m\u001b[43m(\u001b[49m\n\u001b[1;32m     60\u001b[0m \u001b[43m    \u001b[49m\u001b[43mfunc\u001b[49m\u001b[38;5;241;43m=\u001b[39;49m\u001b[43mcost_function\u001b[49m\u001b[43m,\u001b[49m\n\u001b[1;32m     61\u001b[0m \u001b[43m    \u001b[49m\u001b[43mbounds\u001b[49m\u001b[38;5;241;43m=\u001b[39;49m\u001b[43mbounds\u001b[49m\u001b[43m,\u001b[49m\n\u001b[1;32m     62\u001b[0m \u001b[43m    \u001b[49m\u001b[43mx0\u001b[49m\u001b[38;5;241;43m=\u001b[39;49m\u001b[38;5;28;43;01mNone\u001b[39;49;00m\u001b[43m,\u001b[49m\n\u001b[1;32m     63\u001b[0m \u001b[43m    \u001b[49m\u001b[43mstrategy\u001b[49m\u001b[38;5;241;43m=\u001b[39;49m\u001b[38;5;124;43m'\u001b[39;49m\u001b[38;5;124;43mbest1exp\u001b[39;49m\u001b[38;5;124;43m'\u001b[39;49m\u001b[43m,\u001b[49m\n\u001b[1;32m     64\u001b[0m \u001b[43m    \u001b[49m\u001b[38;5;66;43;03m# strategy='rand1bin',\u001b[39;49;00m\n\u001b[1;32m     65\u001b[0m \u001b[43m    \u001b[49m\u001b[43mmaxiter\u001b[49m\u001b[38;5;241;43m=\u001b[39;49m\u001b[38;5;241;43m5000\u001b[39;49m\u001b[43m,\u001b[49m\n\u001b[1;32m     66\u001b[0m \u001b[43m    \u001b[49m\u001b[43mpopsize\u001b[49m\u001b[38;5;241;43m=\u001b[39;49m\u001b[38;5;241;43m10\u001b[39;49m\u001b[38;5;241;43m*\u001b[39;49m\u001b[43mn_dim_int\u001b[49m\u001b[43m,\u001b[49m\n\u001b[1;32m     67\u001b[0m \u001b[43m    \u001b[49m\u001b[38;5;66;43;03m# popsize=6*n_dim_int, \u001b[39;49;00m\n\u001b[1;32m     68\u001b[0m \u001b[43m    \u001b[49m\u001b[43mtol\u001b[49m\u001b[38;5;241;43m=\u001b[39;49m\u001b[38;5;241;43m1e-8\u001b[39;49m\u001b[43m,\u001b[49m\n\u001b[1;32m     69\u001b[0m \u001b[43m    \u001b[49m\u001b[43matol\u001b[49m\u001b[38;5;241;43m=\u001b[39;49m\u001b[38;5;241;43m1e-10\u001b[39;49m\u001b[43m,\u001b[49m\n\u001b[1;32m     70\u001b[0m \u001b[43m    \u001b[49m\u001b[38;5;66;43;03m# tol=1e-6,\u001b[39;49;00m\n\u001b[1;32m     71\u001b[0m \u001b[43m    \u001b[49m\u001b[38;5;66;43;03m# atol=1e-8,\u001b[39;49;00m\n\u001b[1;32m     72\u001b[0m \u001b[43m    \u001b[49m\u001b[43mmutation\u001b[49m\u001b[38;5;241;43m=\u001b[39;49m\u001b[43m(\u001b[49m\u001b[38;5;241;43m0.4\u001b[39;49m\u001b[43m,\u001b[49m\u001b[43m \u001b[49m\u001b[38;5;241;43m0.95\u001b[39;49m\u001b[43m)\u001b[49m\u001b[43m,\u001b[49m\n\u001b[1;32m     73\u001b[0m \u001b[43m    \u001b[49m\u001b[43mrecombination\u001b[49m\u001b[38;5;241;43m=\u001b[39;49m\u001b[38;5;241;43m0.7\u001b[39;49m\u001b[43m,\u001b[49m\n\u001b[1;32m     74\u001b[0m \u001b[43m    \u001b[49m\u001b[43mdisp\u001b[49m\u001b[38;5;241;43m=\u001b[39;49m\u001b[38;5;28;43;01mFalse\u001b[39;49;00m\u001b[43m,\u001b[49m\n\u001b[1;32m     75\u001b[0m \u001b[43m    \u001b[49m\u001b[43mpolish\u001b[49m\u001b[38;5;241;43m=\u001b[39;49m\u001b[38;5;28;43;01mFalse\u001b[39;49;00m\u001b[43m,\u001b[49m\n\u001b[1;32m     76\u001b[0m \u001b[43m    \u001b[49m\u001b[43mvectorized\u001b[49m\u001b[38;5;241;43m=\u001b[39;49m\u001b[38;5;28;43;01mTrue\u001b[39;49;00m\u001b[43m,\u001b[49m\n\u001b[1;32m     77\u001b[0m \u001b[43m\u001b[49m\u001b[43m)\u001b[49m\n\u001b[1;32m     79\u001b[0m searched_int_params \u001b[38;5;241m=\u001b[39m Fstat\u001b[38;5;241m.\u001b[39mIntParamArr2ParamDict(DE_result\u001b[38;5;241m.\u001b[39mx \u001b[38;5;241m*\u001b[39m (intrinsic_param_priors[:, \u001b[38;5;241m1\u001b[39m] \u001b[38;5;241m-\u001b[39m intrinsic_param_priors[:, \u001b[38;5;241m0\u001b[39m]) \u001b[38;5;241m+\u001b[39m intrinsic_param_priors[:, \u001b[38;5;241m0\u001b[39m])\n\u001b[1;32m     81\u001b[0m searched_a \u001b[38;5;241m=\u001b[39m Fstat\u001b[38;5;241m.\u001b[39mcalculate_Fstat_vectorized(\n\u001b[1;32m     82\u001b[0m     intrinsic_parameters\u001b[38;5;241m=\u001b[39msearched_int_params, \n\u001b[1;32m     83\u001b[0m     return_a\u001b[38;5;241m=\u001b[39m\u001b[38;5;28;01mTrue\u001b[39;00m, \n\u001b[1;32m     84\u001b[0m ) \u001b[38;5;66;03m# (1, 4)\u001b[39;00m\n",
      "File \u001b[0;32m~/miniconda3/envs/tdc/lib/python3.9/site-packages/scipy/optimize/_differentialevolution.py:502\u001b[0m, in \u001b[0;36mdifferential_evolution\u001b[0;34m(func, bounds, args, strategy, maxiter, popsize, tol, mutation, recombination, seed, callback, disp, polish, init, atol, updating, workers, constraints, x0, integrality, vectorized)\u001b[0m\n\u001b[1;32m    485\u001b[0m \u001b[38;5;66;03m# using a context manager means that any created Pool objects are\u001b[39;00m\n\u001b[1;32m    486\u001b[0m \u001b[38;5;66;03m# cleared up.\u001b[39;00m\n\u001b[1;32m    487\u001b[0m \u001b[38;5;28;01mwith\u001b[39;00m DifferentialEvolutionSolver(func, bounds, args\u001b[38;5;241m=\u001b[39margs,\n\u001b[1;32m    488\u001b[0m                                  strategy\u001b[38;5;241m=\u001b[39mstrategy,\n\u001b[1;32m    489\u001b[0m                                  maxiter\u001b[38;5;241m=\u001b[39mmaxiter,\n\u001b[0;32m   (...)\u001b[0m\n\u001b[1;32m    500\u001b[0m                                  integrality\u001b[38;5;241m=\u001b[39mintegrality,\n\u001b[1;32m    501\u001b[0m                                  vectorized\u001b[38;5;241m=\u001b[39mvectorized) \u001b[38;5;28;01mas\u001b[39;00m solver:\n\u001b[0;32m--> 502\u001b[0m     ret \u001b[38;5;241m=\u001b[39m \u001b[43msolver\u001b[49m\u001b[38;5;241;43m.\u001b[39;49m\u001b[43msolve\u001b[49m\u001b[43m(\u001b[49m\u001b[43m)\u001b[49m\n\u001b[1;32m    504\u001b[0m \u001b[38;5;28;01mreturn\u001b[39;00m ret\n",
      "File \u001b[0;32m~/miniconda3/envs/tdc/lib/python3.9/site-packages/scipy/optimize/_differentialevolution.py:1164\u001b[0m, in \u001b[0;36mDifferentialEvolutionSolver.solve\u001b[0;34m(self)\u001b[0m\n\u001b[1;32m   1161\u001b[0m \u001b[38;5;28;01mfor\u001b[39;00m nit \u001b[38;5;129;01min\u001b[39;00m \u001b[38;5;28mrange\u001b[39m(\u001b[38;5;241m1\u001b[39m, \u001b[38;5;28mself\u001b[39m\u001b[38;5;241m.\u001b[39mmaxiter \u001b[38;5;241m+\u001b[39m \u001b[38;5;241m1\u001b[39m):\n\u001b[1;32m   1162\u001b[0m     \u001b[38;5;66;03m# evolve the population by a generation\u001b[39;00m\n\u001b[1;32m   1163\u001b[0m     \u001b[38;5;28;01mtry\u001b[39;00m:\n\u001b[0;32m-> 1164\u001b[0m         \u001b[38;5;28;43mnext\u001b[39;49m\u001b[43m(\u001b[49m\u001b[38;5;28;43mself\u001b[39;49m\u001b[43m)\u001b[49m\n\u001b[1;32m   1165\u001b[0m     \u001b[38;5;28;01mexcept\u001b[39;00m \u001b[38;5;167;01mStopIteration\u001b[39;00m:\n\u001b[1;32m   1166\u001b[0m         warning_flag \u001b[38;5;241m=\u001b[39m \u001b[38;5;28;01mTrue\u001b[39;00m\n",
      "File \u001b[0;32m~/miniconda3/envs/tdc/lib/python3.9/site-packages/scipy/optimize/_differentialevolution.py:1618\u001b[0m, in \u001b[0;36mDifferentialEvolutionSolver.__next__\u001b[0;34m(self)\u001b[0m\n\u001b[1;32m   1615\u001b[0m trial_energies \u001b[38;5;241m=\u001b[39m np\u001b[38;5;241m.\u001b[39mfull(\u001b[38;5;28mself\u001b[39m\u001b[38;5;241m.\u001b[39mnum_population_members, np\u001b[38;5;241m.\u001b[39minf)\n\u001b[1;32m   1617\u001b[0m \u001b[38;5;66;03m# only calculate for feasible entries\u001b[39;00m\n\u001b[0;32m-> 1618\u001b[0m trial_energies[feasible] \u001b[38;5;241m=\u001b[39m \u001b[38;5;28;43mself\u001b[39;49m\u001b[38;5;241;43m.\u001b[39;49m\u001b[43m_calculate_population_energies\u001b[49m\u001b[43m(\u001b[49m\n\u001b[1;32m   1619\u001b[0m \u001b[43m    \u001b[49m\u001b[43mtrial_pop\u001b[49m\u001b[43m[\u001b[49m\u001b[43mfeasible\u001b[49m\u001b[43m]\u001b[49m\u001b[43m)\u001b[49m\n\u001b[1;32m   1621\u001b[0m \u001b[38;5;66;03m# which solutions are 'improved'?\u001b[39;00m\n\u001b[1;32m   1622\u001b[0m loc \u001b[38;5;241m=\u001b[39m [\u001b[38;5;28mself\u001b[39m\u001b[38;5;241m.\u001b[39m_accept_trial(\u001b[38;5;241m*\u001b[39mval) \u001b[38;5;28;01mfor\u001b[39;00m val \u001b[38;5;129;01min\u001b[39;00m\n\u001b[1;32m   1623\u001b[0m        \u001b[38;5;28mzip\u001b[39m(trial_energies, feasible, cv, \u001b[38;5;28mself\u001b[39m\u001b[38;5;241m.\u001b[39mpopulation_energies,\n\u001b[1;32m   1624\u001b[0m            \u001b[38;5;28mself\u001b[39m\u001b[38;5;241m.\u001b[39mfeasible, \u001b[38;5;28mself\u001b[39m\u001b[38;5;241m.\u001b[39mconstraint_violation)]\n",
      "File \u001b[0;32m~/miniconda3/envs/tdc/lib/python3.9/site-packages/scipy/optimize/_differentialevolution.py:1316\u001b[0m, in \u001b[0;36mDifferentialEvolutionSolver._calculate_population_energies\u001b[0;34m(self, population)\u001b[0m\n\u001b[1;32m   1313\u001b[0m parameters_pop \u001b[38;5;241m=\u001b[39m \u001b[38;5;28mself\u001b[39m\u001b[38;5;241m.\u001b[39m_scale_parameters(population)\n\u001b[1;32m   1314\u001b[0m \u001b[38;5;28;01mtry\u001b[39;00m:\n\u001b[1;32m   1315\u001b[0m     calc_energies \u001b[38;5;241m=\u001b[39m \u001b[38;5;28mlist\u001b[39m(\n\u001b[0;32m-> 1316\u001b[0m         \u001b[38;5;28;43mself\u001b[39;49m\u001b[38;5;241;43m.\u001b[39;49m\u001b[43m_mapwrapper\u001b[49m\u001b[43m(\u001b[49m\u001b[38;5;28;43mself\u001b[39;49m\u001b[38;5;241;43m.\u001b[39;49m\u001b[43mfunc\u001b[49m\u001b[43m,\u001b[49m\u001b[43m \u001b[49m\u001b[43mparameters_pop\u001b[49m\u001b[43m[\u001b[49m\u001b[38;5;241;43m0\u001b[39;49m\u001b[43m:\u001b[49m\u001b[43mS\u001b[49m\u001b[43m]\u001b[49m\u001b[43m)\u001b[49m\n\u001b[1;32m   1317\u001b[0m     )\n\u001b[1;32m   1318\u001b[0m     calc_energies \u001b[38;5;241m=\u001b[39m np\u001b[38;5;241m.\u001b[39msqueeze(calc_energies)\n\u001b[1;32m   1319\u001b[0m \u001b[38;5;28;01mexcept\u001b[39;00m (\u001b[38;5;167;01mTypeError\u001b[39;00m, \u001b[38;5;167;01mValueError\u001b[39;00m) \u001b[38;5;28;01mas\u001b[39;00m e:\n\u001b[1;32m   1320\u001b[0m     \u001b[38;5;66;03m# wrong number of arguments for _mapwrapper\u001b[39;00m\n\u001b[1;32m   1321\u001b[0m     \u001b[38;5;66;03m# or wrong length returned from the mapper\u001b[39;00m\n",
      "File \u001b[0;32m~/miniconda3/envs/tdc/lib/python3.9/site-packages/scipy/_lib/_util.py:511\u001b[0m, in \u001b[0;36mMapWrapper.__call__\u001b[0;34m(self, func, iterable)\u001b[0m\n\u001b[1;32m    508\u001b[0m \u001b[38;5;28;01mdef\u001b[39;00m\u001b[38;5;250m \u001b[39m\u001b[38;5;21m__call__\u001b[39m(\u001b[38;5;28mself\u001b[39m, func, iterable):\n\u001b[1;32m    509\u001b[0m     \u001b[38;5;66;03m# only accept one iterable because that's all Pool.map accepts\u001b[39;00m\n\u001b[1;32m    510\u001b[0m     \u001b[38;5;28;01mtry\u001b[39;00m:\n\u001b[0;32m--> 511\u001b[0m         \u001b[38;5;28;01mreturn\u001b[39;00m \u001b[38;5;28;43mself\u001b[39;49m\u001b[38;5;241;43m.\u001b[39;49m\u001b[43m_mapfunc\u001b[49m\u001b[43m(\u001b[49m\u001b[43mfunc\u001b[49m\u001b[43m,\u001b[49m\u001b[43m \u001b[49m\u001b[43miterable\u001b[49m\u001b[43m)\u001b[49m\n\u001b[1;32m    512\u001b[0m     \u001b[38;5;28;01mexcept\u001b[39;00m \u001b[38;5;167;01mTypeError\u001b[39;00m \u001b[38;5;28;01mas\u001b[39;00m e:\n\u001b[1;32m    513\u001b[0m         \u001b[38;5;66;03m# wrong number of arguments\u001b[39;00m\n\u001b[1;32m    514\u001b[0m         \u001b[38;5;28;01mraise\u001b[39;00m \u001b[38;5;167;01mTypeError\u001b[39;00m(\u001b[38;5;124m\"\u001b[39m\u001b[38;5;124mThe map-like callable must be of the\u001b[39m\u001b[38;5;124m\"\u001b[39m\n\u001b[1;32m    515\u001b[0m                         \u001b[38;5;124m\"\u001b[39m\u001b[38;5;124m form f(func, iterable)\u001b[39m\u001b[38;5;124m\"\u001b[39m) \u001b[38;5;28;01mfrom\u001b[39;00m\u001b[38;5;250m \u001b[39m\u001b[38;5;21;01me\u001b[39;00m\n",
      "File \u001b[0;32m~/miniconda3/envs/tdc/lib/python3.9/site-packages/scipy/optimize/_differentialevolution.py:797\u001b[0m, in \u001b[0;36mDifferentialEvolutionSolver.__init__.<locals>.maplike_for_vectorized_func\u001b[0;34m(func, x)\u001b[0m\n\u001b[1;32m    793\u001b[0m \u001b[38;5;28;01mdef\u001b[39;00m\u001b[38;5;250m \u001b[39m\u001b[38;5;21mmaplike_for_vectorized_func\u001b[39m(func, x):\n\u001b[1;32m    794\u001b[0m     \u001b[38;5;66;03m# send an array (N, S) to the user func,\u001b[39;00m\n\u001b[1;32m    795\u001b[0m     \u001b[38;5;66;03m# expect to receive (S,). Transposition is required because\u001b[39;00m\n\u001b[1;32m    796\u001b[0m     \u001b[38;5;66;03m# internally the population is held as (S, N)\u001b[39;00m\n\u001b[0;32m--> 797\u001b[0m     \u001b[38;5;28;01mreturn\u001b[39;00m np\u001b[38;5;241m.\u001b[39matleast_1d(\u001b[43mfunc\u001b[49m\u001b[43m(\u001b[49m\u001b[43mx\u001b[49m\u001b[38;5;241;43m.\u001b[39;49m\u001b[43mT\u001b[49m\u001b[43m)\u001b[49m)\n",
      "File \u001b[0;32m~/miniconda3/envs/tdc/lib/python3.9/site-packages/scipy/_lib/_util.py:441\u001b[0m, in \u001b[0;36m_FunctionWrapper.__call__\u001b[0;34m(self, x)\u001b[0m\n\u001b[1;32m    440\u001b[0m \u001b[38;5;28;01mdef\u001b[39;00m\u001b[38;5;250m \u001b[39m\u001b[38;5;21m__call__\u001b[39m(\u001b[38;5;28mself\u001b[39m, x):\n\u001b[0;32m--> 441\u001b[0m     \u001b[38;5;28;01mreturn\u001b[39;00m \u001b[38;5;28;43mself\u001b[39;49m\u001b[38;5;241;43m.\u001b[39;49m\u001b[43mf\u001b[49m\u001b[43m(\u001b[49m\u001b[43mx\u001b[49m\u001b[43m,\u001b[49m\u001b[43m \u001b[49m\u001b[38;5;241;43m*\u001b[39;49m\u001b[38;5;28;43mself\u001b[39;49m\u001b[38;5;241;43m.\u001b[39;49m\u001b[43margs\u001b[49m\u001b[43m)\u001b[49m\n",
      "Cell \u001b[0;32mIn[21], line 52\u001b[0m, in \u001b[0;36mcost_function\u001b[0;34m(norm_int_params)\u001b[0m\n\u001b[1;32m     50\u001b[0m int_params \u001b[38;5;241m=\u001b[39m norm_int_params\u001b[38;5;241m.\u001b[39mtranspose() \u001b[38;5;241m*\u001b[39m (intrinsic_param_priors[:, \u001b[38;5;241m1\u001b[39m] \u001b[38;5;241m-\u001b[39m intrinsic_param_priors[:, \u001b[38;5;241m0\u001b[39m]) \u001b[38;5;241m+\u001b[39m intrinsic_param_priors[:, \u001b[38;5;241m0\u001b[39m] \u001b[38;5;66;03m# (Nevent, Nparams)\u001b[39;00m\n\u001b[1;32m     51\u001b[0m params_in \u001b[38;5;241m=\u001b[39m Fstat\u001b[38;5;241m.\u001b[39mIntParamArr2ParamDict(int_params\u001b[38;5;241m.\u001b[39mtranspose()) \u001b[38;5;66;03m# (Nparams, Nevent) -> dictionary, each item (Nevent)\u001b[39;00m\n\u001b[0;32m---> 52\u001b[0m \u001b[38;5;28;01mreturn\u001b[39;00m \u001b[38;5;241m-\u001b[39m\u001b[43mFstat\u001b[49m\u001b[38;5;241;43m.\u001b[39;49m\u001b[43mcalculate_Fstat_vectorized\u001b[49m\u001b[43m(\u001b[49m\u001b[43mintrinsic_parameters\u001b[49m\u001b[38;5;241;43m=\u001b[39;49m\u001b[43mparams_in\u001b[49m\u001b[43m)\u001b[49m\n",
      "File \u001b[0;32m~/miniconda3/envs/tri_env/lib/python3.9/site-packages/Triangle_BBH/Utils.py:743\u001b[0m, in \u001b[0;36mFstatistics.calculate_Fstat_vectorized\u001b[0;34m(self, intrinsic_parameters, return_a, return_recovered_wave)\u001b[0m\n\u001b[1;32m    741\u001b[0m         \u001b[38;5;28;01mreturn\u001b[39;00m res\u001b[38;5;241m.\u001b[39mget()[\u001b[38;5;241m0\u001b[39m]\n\u001b[1;32m    742\u001b[0m     \u001b[38;5;28;01melse\u001b[39;00m:\n\u001b[0;32m--> 743\u001b[0m         \u001b[38;5;28;01mreturn\u001b[39;00m \u001b[43mres\u001b[49m\u001b[38;5;241;43m.\u001b[39;49m\u001b[43mget\u001b[49m\u001b[43m(\u001b[49m\u001b[43m)\u001b[49m \u001b[38;5;66;03m# (Nevent)\u001b[39;00m\n\u001b[1;32m    744\u001b[0m \u001b[38;5;28;01melse\u001b[39;00m: \n\u001b[1;32m    745\u001b[0m     \u001b[38;5;28;01mif\u001b[39;00m Nevent \u001b[38;5;241m==\u001b[39m \u001b[38;5;241m1\u001b[39m: \n",
      "\u001b[0;31mKeyboardInterrupt\u001b[0m: "
     ]
    }
   ],
   "source": [
    "truths_list = [] \n",
    "searched_list = [] \n",
    "FIM_bound_list = [] \n",
    "snr_list = [] \n",
    "res_snr_list = []\n",
    "\n",
    "for test_idx in tqdm(range(10)):\n",
    "\n",
    "    # generate source parameter and clean signal \n",
    "    # mbhb_parameters = {\n",
    "    #     'chirp_mass': np.power(10., np.random.uniform(lgMc_prior[0], lgMc_prior[1])), \n",
    "    #     'mass_ratio': np.random.uniform(q_prior[0], q_prior[1]), \n",
    "    #     'spin_1z': np.random.uniform(s1_prior[0], s1_prior[1]),\n",
    "    #     'spin_2z': np.random.uniform(s2_prior[0], s2_prior[1]),\n",
    "    #     'coalescence_time': np.random.uniform(tc_prior[0], tc_prior[1]), \n",
    "    #     'coalescence_phase': np.random.uniform(0, TWOPI),\n",
    "    #     'luminosity_distance': np.power(10., np.random.uniform(lgdl_prior[0], lgdl_prior[1])), \n",
    "    #     'inclination': np.arccos(np.random.uniform(-1., 1.)), # [rad]\n",
    "    #     'longitude': np.random.uniform(lam_prior[0], lam_prior[1]), # [rad]\n",
    "    #     'latitude': np.arcsin(np.random.uniform(sinbeta_prior[0], sinbeta_prior[1])), # [rad]\n",
    "    #     'psi': np.random.uniform(0, PI) # [rad]\n",
    "    #     }\n",
    "    wf_channels = FDTDI_GPU.Response(mbhb_parameters, data_frequencies_GPU, **response_kwargs_GPU)\n",
    "\n",
    "    # generate frequency-domain noises \n",
    "    Re_tmp = np.random.normal(scale=np.sqrt(PSD_channels / 4. / delta_f))\n",
    "    Im_tmp = np.random.normal(scale=np.sqrt(PSD_channels / 4. / delta_f))\n",
    "    noise_channels = xp.array(Re_tmp + 1.j * Im_tmp) \n",
    "\n",
    "    # combine signal and noise \n",
    "    data_channels = wf_channels + noise_channels \n",
    "    # data_channels = wf_channels\n",
    "\n",
    "    opt_SNR = FrequencyDomainCovarianceSNR(wf_channels.get(), InvCovMat)\n",
    "    snr_list.append(opt_SNR)\n",
    "\n",
    "    Fstat = Fstatistics(\n",
    "        response_generator=FDTDI_GPU, \n",
    "        frequency=data_frequencies_GPU, \n",
    "        data=data_channels, \n",
    "        invserse_covariance_matrix=InvCovMat, \n",
    "        response_parameters=response_kwargs_GPU, \n",
    "        use_gpu=True\n",
    "    )\n",
    "\n",
    "    def cost_function(norm_int_params):\n",
    "        \"\"\"   \n",
    "            norm_int_params: shape (Nparams, Nevent), normalized to (0, 1)\n",
    "        \"\"\"\n",
    "        int_params = norm_int_params.transpose() * (intrinsic_param_priors[:, 1] - intrinsic_param_priors[:, 0]) + intrinsic_param_priors[:, 0] # (Nevent, Nparams)\n",
    "        params_in = Fstat.IntParamArr2ParamDict(int_params.transpose()) # (Nparams, Nevent) -> dictionary, each item (Nevent)\n",
    "        return -Fstat.calculate_Fstat_vectorized(intrinsic_parameters=params_in) # (Nevent)\n",
    "\n",
    "    n_dim_int = 7 \n",
    "    lower_bounds = np.zeros(n_dim_int) \n",
    "    upper_bounds = np.ones(n_dim_int) \n",
    "    bounds = np.array([lower_bounds, upper_bounds]).T # (Nparams, 2)\n",
    "\n",
    "    DE_result = differential_evolution(\n",
    "        func=cost_function,\n",
    "        bounds=bounds,\n",
    "        x0=None,\n",
    "        strategy='best1exp',\n",
    "        # strategy='rand1bin',\n",
    "        maxiter=5000,\n",
    "        popsize=10*n_dim_int,\n",
    "        # popsize=6*n_dim_int, \n",
    "        tol=1e-8,\n",
    "        atol=1e-10,\n",
    "        # tol=1e-6,\n",
    "        # atol=1e-8,\n",
    "        mutation=(0.4, 0.95),\n",
    "        recombination=0.7,\n",
    "        disp=False,\n",
    "        polish=False,\n",
    "        vectorized=True,\n",
    "    )\n",
    "\n",
    "    searched_int_params = Fstat.IntParamArr2ParamDict(DE_result.x * (intrinsic_param_priors[:, 1] - intrinsic_param_priors[:, 0]) + intrinsic_param_priors[:, 0])\n",
    "\n",
    "    searched_a = Fstat.calculate_Fstat_vectorized(\n",
    "        intrinsic_parameters=searched_int_params, \n",
    "        return_a=True, \n",
    "    ) # (1, 4)\n",
    "    searched_ext_params = Fstat.a_to_extrinsic_vectorized(searched_a)\n",
    "\n",
    "    searched_params = dict(searched_int_params, **searched_ext_params)\n",
    "\n",
    "    searched_wf = Fstat.calculate_Fstat_vectorized(\n",
    "        intrinsic_parameters=searched_int_params, \n",
    "        return_recovered_wave=True, \n",
    "    )[:, 0, :]\n",
    "    res_snr_list.append(FrequencyDomainCovarianceSNR((wf_channels-searched_wf).get(), InvCovMat))\n",
    "\n",
    "    def fisher_waveform_wrapper(param_dict, frequencies):\n",
    "        res = FDTDI_GPU.Response(\n",
    "            parameters=param_dict, \n",
    "            freqs=xp.array(frequencies),  \n",
    "            **response_kwargs_GPU, \n",
    "        )\n",
    "        return res.get()\n",
    "\n",
    "    # set initial steps \n",
    "    analyze_param_step_dict = {\n",
    "        'chirp_mass': 10.,\n",
    "        'mass_ratio': 0.01,\n",
    "        'spin_1z': 0.01,\n",
    "        'spin_2z': 0.01,\n",
    "        'coalescence_time': 0.001,\n",
    "        'coalescence_phase': 0.01,\n",
    "        'luminosity_distance': 10.,\n",
    "        'inclination': 0.01,\n",
    "        'longitude': 0.01,\n",
    "        'latitude': 0.01,\n",
    "        'psi': 0.01\n",
    "        }\n",
    "    for k, v in analyze_param_step_dict.items():\n",
    "        analyze_param_step_dict[k] = -v \n",
    "\n",
    "    FIM = MultiChannelFisher(\n",
    "        waveform_generator=fisher_waveform_wrapper, \n",
    "        param_dict=mbhb_parameters, \n",
    "        # param_dict=searched_params, \n",
    "        analyze_param_step_dict=analyze_param_step_dict, \n",
    "        frequency=data_frequencies, \n",
    "        inverse_covariance=InvCovMat, \n",
    "        verbose=0,\n",
    "    )\n",
    "\n",
    "    FIM.auto_test_step()\n",
    "    FIM.calculate_Fisher()\n",
    "    FIM.calculate_errors() \n",
    "\n",
    "    truths_list.append(mbhb_parameters)\n",
    "    searched_list.append(searched_params)\n",
    "    FIM_bound_list.append(FIM.param_errors)\n",
    "    print(\"optimal snr =\", snr_list[test_idx])\n",
    "    print(\"residual snr =\", res_snr_list[test_idx])\n",
    "    print(\"tc deviation =\", searched_list[test_idx][\"coalescence_time\"]-truths_list[test_idx][\"coalescence_time\"])\n",
    "    print(\"tc bound =\", FIM_bound_list[test_idx][\"coalescence_time\"])\n",
    "    print(\"longitude deviation=\", searched_list[test_idx][\"longitude\"] - truths_list[test_idx][\"longitude\"])\n",
    "    print(\"latitude deviation=\", searched_list[test_idx][\"latitude\"] - truths_list[test_idx][\"latitude\"])\n",
    "    print(\"inclination deviation=\", searched_list[test_idx][\"inclination\"] - truths_list[test_idx][\"inclination\"])\n",
    "    print(\"inclination sum=\", searched_list[test_idx][\"inclination\"] + truths_list[test_idx][\"inclination\"])"
   ]
  },
  {
   "cell_type": "code",
   "execution_count": null,
   "id": "9f3c30d4",
   "metadata": {},
   "outputs": [
    {
     "data": {
      "image/png": "[encoded data removed]",
      "text/plain": [
       "<Figure size 640x480 with 1 Axes>"
      ]
     },
     "metadata": {},
     "output_type": "display_data"
    }
   ],
   "source": [
    "bins = np.logspace(0., 4.5, 30)\n",
    "plt.hist(snr_list, bins=bins, density=False, facecolor=None, edgecolor=YELLOW, hatch=\"//\", histtype='step', lw=2); \n",
    "plt.hist(res_snr_list, bins=bins, density=False, facecolor=None, edgecolor=BLUE, hatch=\"//\", histtype='step', lw=2); \n",
    "plt.xlabel(\"SNR\")\n",
    "plt.ylabel(\"number of MBHBs in bin\")\n",
    "plt.xscale(\"log\")"
   ]
  },
  {
   "cell_type": "code",
   "execution_count": null,
   "id": "71b7ccdd",
   "metadata": {},
   "outputs": [],
   "source": [
    "Mc_list = np.array([paramdict[\"chirp_mass\"] for paramdict in truths_list])\n",
    "q_list = np.array([paramdict[\"mass_ratio\"] for paramdict in truths_list])\n",
    "s1_list = np.array([paramdict[\"spin_1z\"] for paramdict in truths_list])\n",
    "s2_list = np.array([paramdict[\"spin_2z\"] for paramdict in truths_list])\n",
    "tc_list = np.array([paramdict[\"coalescence_time\"] for paramdict in truths_list])\n",
    "dl_list = np.array([paramdict[\"luminosity_distance\"] for paramdict in truths_list])\n",
    "inc_list = np.array([paramdict[\"inclination\"] for paramdict in truths_list])\n",
    "lon_list = np.array([paramdict[\"longitude\"] for paramdict in truths_list])\n",
    "lat_list = np.array([paramdict[\"latitude\"] for paramdict in truths_list])\n",
    "\n",
    "Mc_list1 = np.array([paramdict[\"chirp_mass\"] for paramdict in searched_list])\n",
    "q_list1 = np.array([paramdict[\"mass_ratio\"] for paramdict in searched_list])\n",
    "s1_list1 = np.array([paramdict[\"spin_1z\"] for paramdict in searched_list])\n",
    "s2_list1 = np.array([paramdict[\"spin_2z\"] for paramdict in searched_list])\n",
    "tc_list1 = np.array([paramdict[\"coalescence_time\"] for paramdict in searched_list])\n",
    "dl_list1 = np.array([paramdict[\"luminosity_distance\"] for paramdict in searched_list])\n",
    "inc_list1 = np.array([paramdict[\"inclination\"] for paramdict in searched_list])\n",
    "lon_list1 = np.array([paramdict[\"longitude\"] for paramdict in searched_list])\n",
    "lat_list1 = np.array([paramdict[\"latitude\"] for paramdict in searched_list])\n",
    "\n",
    "Mc_list2 = np.array([paramdict[\"chirp_mass\"] for paramdict in FIM_bound_list])\n",
    "q_list2 = np.array([paramdict[\"mass_ratio\"] for paramdict in FIM_bound_list])\n",
    "s1_list2 = np.array([paramdict[\"spin_1z\"] for paramdict in FIM_bound_list])\n",
    "s2_list2 = np.array([paramdict[\"spin_2z\"] for paramdict in FIM_bound_list])\n",
    "tc_list2 = np.array([paramdict[\"coalescence_time\"] for paramdict in FIM_bound_list])\n",
    "dl_list2 = np.array([paramdict[\"luminosity_distance\"] for paramdict in FIM_bound_list])\n",
    "inc_list2 = np.array([paramdict[\"inclination\"] for paramdict in FIM_bound_list])\n",
    "lon_list2 = np.array([paramdict[\"longitude\"] for paramdict in FIM_bound_list])\n",
    "lat_list2 = np.array([paramdict[\"latitude\"] for paramdict in FIM_bound_list])"
   ]
  },
  {
   "cell_type": "code",
   "execution_count": null,
   "id": "d78b430f",
   "metadata": {},
   "outputs": [],
   "source": [
    "# def DetectorBasisInSSB(orbit_time_SI, orbit):\n",
    "#     n21 = orbit.ArmVectorfunctions()[\"21\"](orbit_time_SI)\n",
    "#     n31 = orbit.ArmVectorfunctions()[\"31\"](orbit_time_SI)\n",
    "#     z_det = np.cross(n31, n21)\n",
    "#     z_norm = np.linalg.norm(z_det)\n",
    "#     z_det = z_det / z_norm\n",
    "#     x_det = n31 \n",
    "#     y_det = np.cross(z_det, x_det)\n",
    "#     y_norm = np.linalg.norm(y_det)\n",
    "#     y_det = y_det / y_norm\n",
    "#     return x_det, y_det, z_det \n",
    "\n",
    "# def DetectorSSBRotationMatrices(orbit_time_SI, orbit):\n",
    "#     x_det, y_det, z_det = DetectorBasisInSSB(orbit_time_SI, orbit)\n",
    "#     R_det2ssb = np.array([x_det, y_det, z_det])\n",
    "#     R_ssb2det = R_det2ssb.T \n",
    "#     # return R_det2ssb, R_ssb2det \n",
    "#     return R_ssb2det, R_det2ssb\n",
    "\n",
    "# def SSBPosToDetectorFrame(lon_ssb, lat_ssb, orbit_time_SI, orbit):\n",
    "#     R_det2ssb, R_ssb2det = DetectorSSBRotationMatrices(orbit_time_SI, orbit)\n",
    "#     x_in_ssb = np.cos(lat_ssb) * np.cos(lon_ssb)\n",
    "#     y_in_ssb = np.cos(lat_ssb) * np.sin(lon_ssb)\n",
    "#     z_in_ssb = np.sin(lat_ssb)\n",
    "#     x_in_det, y_in_det, z_in_det = np.matmul(R_ssb2det, np.array([x_in_ssb, y_in_ssb, z_in_ssb]))\n",
    "#     lon_det = np.arctan2(y_in_det, x_in_det)\n",
    "#     lat_det = np.arcsin(z_in_det)\n",
    "#     return lon_det, lat_det\n",
    "\n",
    "# def DetectorPosToSSBFrame(lon_det, lat_det, orbit_time_SI, orbit):\n",
    "#     R_det2ssb, R_ssb2det = DetectorSSBRotationMatrices(orbit_time_SI, orbit)\n",
    "#     x_in_det = np.cos(lat_det) * np.cos(lon_det)\n",
    "#     y_in_det = np.cos(lat_det) * np.sin(lon_det)\n",
    "#     z_in_det = np.sin(lat_det)\n",
    "#     x_in_ssb, y_in_ssb, z_in_ssb = np.matmul(R_det2ssb, np.array([x_in_det, y_in_det, z_in_det]))\n",
    "#     lon_ssb = np.arctan2(y_in_ssb, x_in_ssb) % TWOPI\n",
    "#     lat_ssb = np.arcsin(z_in_ssb)\n",
    "#     return lon_ssb, lat_ssb\n",
    "\n",
    "\n",
    "def DetectorBasisInSSB(orbit_time_SI, orbit):\n",
    "    n21 = orbit.ArmVectorfunctions()[\"21\"](orbit_time_SI)\n",
    "    n31 = orbit.ArmVectorfunctions()[\"31\"](orbit_time_SI)\n",
    "    z_det = np.cross(n31, n21)\n",
    "    z_norm = np.linalg.norm(z_det)\n",
    "    z_det = z_det / z_norm\n",
    "    x_det = n31 \n",
    "    y_det = np.cross(z_det, x_det)\n",
    "    y_norm = np.linalg.norm(y_det)\n",
    "    y_det = y_det / y_norm\n",
    "    return x_det, y_det, z_det \n",
    "\n",
    "def DetectorSSBRotationMatrices(orbit_time_SI, orbit):\n",
    "    x_det, y_det, z_det = DetectorBasisInSSB(orbit_time_SI, orbit)\n",
    "    R_det2ssb = np.array([x_det, y_det, z_det])\n",
    "    R_ssb2det = R_det2ssb.T \n",
    "    return R_det2ssb, R_ssb2det \n",
    "\n",
    "def SSBPosToDetectorFrame(lon_ssb, lat_ssb, orbit_time_SI, orbit):\n",
    "    R_det2ssb, R_ssb2det = DetectorSSBRotationMatrices(orbit_time_SI, orbit)\n",
    "    x_in_ssb = np.cos(lat_ssb) * np.cos(lon_ssb)\n",
    "    y_in_ssb = np.cos(lat_ssb) * np.sin(lon_ssb)\n",
    "    z_in_ssb = np.sin(lat_ssb)\n",
    "    x_in_det, y_in_det, z_in_det = np.matmul(R_det2ssb, np.array([x_in_ssb, y_in_ssb, z_in_ssb]))\n",
    "    lon_det = np.arctan2(y_in_det, x_in_det)\n",
    "    lat_det = np.arcsin(z_in_det)\n",
    "    return lon_det, lat_det\n",
    "\n",
    "def DetectorPosToSSBFrame(lon_det, lat_det, orbit_time_SI, orbit):\n",
    "    R_det2ssb, R_ssb2det = DetectorSSBRotationMatrices(orbit_time_SI, orbit)\n",
    "    x_in_det = np.cos(lat_det) * np.cos(lon_det)\n",
    "    y_in_det = np.cos(lat_det) * np.sin(lon_det)\n",
    "    z_in_det = np.sin(lat_det)\n",
    "    x_in_ssb, y_in_ssb, z_in_ssb = np.matmul(R_ssb2det, np.array([x_in_det, y_in_det, z_in_det]))\n",
    "    lon_ssb = np.arctan2(y_in_ssb, x_in_ssb) % TWOPI\n",
    "    lat_ssb = np.arcsin(z_in_ssb)\n",
    "    return lon_ssb, lat_ssb"
   ]
  },
  {
   "cell_type": "code",
   "execution_count": null,
   "id": "34994e55",
   "metadata": {},
   "outputs": [
    {
     "data": {
      "text/plain": [
       "(5.230507859680368,\n",
       " 3.8257751281871117,\n",
       " 0.8258907965085774,\n",
       " 0.09351187780483261)"
      ]
     },
     "execution_count": 56,
     "metadata": {},
     "output_type": "execute_result"
    }
   ],
   "source": [
    "lon_ssb = lon_list[0]\n",
    "lat_ssb = lat_list[0]\n",
    "# lon_ssb = np.random.uniform(0, TWOPI)\n",
    "# lat_ssb = np.arcsin(np.random.uniform(-1, 1))\n",
    "\n",
    "lon_det, lat_det = SSBPosToDetectorFrame(lon_ssb, lat_ssb, mbhb_parameters[\"coalescence_time\"]*DAY, orbit_GPU)\n",
    "\n",
    "# other modes \n",
    "# lon_det = (lon_det + PI)%TWOPI \n",
    "lat_det = -lat_det \n",
    "\n",
    "lon_ssb_rec, lat_ssb_rec = DetectorPosToSSBFrame(lon_det, lat_det, mbhb_parameters[\"coalescence_time\"]*DAY, orbit_GPU)\n",
    "\n",
    "lon_ssb, lon_ssb_rec, lat_ssb, lat_ssb_rec"
   ]
  },
  {
   "cell_type": "code",
   "execution_count": null,
   "id": "5529e382",
   "metadata": {},
   "outputs": [
    {
     "data": {
      "text/plain": [
       "(array([0.57267506, 0.57267506]),\n",
       " array([0.58734751, 2.5651311 ]),\n",
       " array([1.16002256, 3.13780616]))"
      ]
     },
     "execution_count": 57,
     "metadata": {},
     "output_type": "execute_result"
    }
   ],
   "source": [
    "inc_list, inc_list1, inc_list + inc_list1"
   ]
  },
  {
   "cell_type": "code",
   "execution_count": null,
   "id": "7400400a",
   "metadata": {},
   "outputs": [
    {
     "data": {
      "text/plain": [
       "(array([5.23050786, 5.23050786]), array([5.22836252, 3.8231931 ]))"
      ]
     },
     "execution_count": 58,
     "metadata": {},
     "output_type": "execute_result"
    }
   ],
   "source": [
    "lon_list, lon_list1"
   ]
  },
  {
   "cell_type": "code",
   "execution_count": null,
   "id": "e077bd04",
   "metadata": {},
   "outputs": [
    {
     "data": {
      "text/plain": [
       "(array([0.8258908, 0.8258908]), array([0.82959668, 0.09100155]))"
      ]
     },
     "execution_count": 55,
     "metadata": {},
     "output_type": "execute_result"
    }
   ],
   "source": [
    "lat_list, lat_list1"
   ]
  },
  {
   "cell_type": "code",
   "execution_count": null,
   "id": "26101b07",
   "metadata": {},
   "outputs": [],
   "source": [
    "bins = np.linspace(-12, 12, 50)\n",
    "plt.hist((Mc_list1 - Mc_list) / Mc_list2, bins=bins, density=False, facecolor=None, edgecolor=RED, hatch=\"//\", histtype='step', lw=2, label=\"chirp mass\");\n",
    "plt.hist((q_list1 - q_list) / q_list2, bins=bins, density=False, facecolor=None, edgecolor=GREEN1, hatch=\"//\", histtype='step', lw=2, label=\"mass ratio\");\n",
    "plt.xlabel(r'$\\Delta \\theta / \\ \\sigma_{\\theta}$')\n",
    "plt.ylabel(\"number of MBHBs in bin\")\n",
    "plt.legend(loc=\"upper right\", frameon=False)"
   ]
  },
  {
   "cell_type": "code",
   "execution_count": null,
   "id": "02c4efd7",
   "metadata": {},
   "outputs": [],
   "source": [
    "bins = np.linspace(-12, 12, 50)\n",
    "plt.hist((s1_list1 - s1_list) / s1_list2, bins=bins, density=False, facecolor=None, edgecolor=RED, hatch=\"//\", histtype='step', lw=2, label=\"spin 1\");\n",
    "plt.hist((s2_list1 - s2_list) / s2_list2, bins=bins, density=False, facecolor=None, edgecolor=GREEN1, hatch=\"//\", histtype='step', lw=2, label=\"spin 2\");\n",
    "plt.xlabel(r'$\\Delta \\theta / \\ \\sigma_{\\theta}$')\n",
    "plt.ylabel(\"number of MBHBs in bin\")\n",
    "plt.legend(loc=\"upper right\", frameon=False)"
   ]
  },
  {
   "cell_type": "code",
   "execution_count": null,
   "id": "60c97be7",
   "metadata": {},
   "outputs": [],
   "source": [
    "bins = np.linspace(-100, 100, 50)\n",
    "plt.hist((lon_list1 - lon_list) / lon_list2, bins=bins, density=False, facecolor=None, edgecolor=RED, hatch=\"//\", histtype='step', lw=2, label=\"longitude\");\n",
    "plt.hist((lat_list1 - lat_list) / lat_list2, bins=bins, density=False, facecolor=None, edgecolor=GREEN1, hatch=\"//\", histtype='step', lw=2, label=\"latitude\");\n",
    "plt.xlabel(r'$\\Delta \\theta / \\ \\sigma_{\\theta}$')\n",
    "plt.ylabel(\"number of MBHBs in bin\")\n",
    "plt.legend(loc=\"upper right\", frameon=False)"
   ]
  },
  {
   "cell_type": "code",
   "execution_count": null,
   "id": "f0b154c9",
   "metadata": {},
   "outputs": [],
   "source": [
    "bins = np.linspace(-100, 100, 50)\n",
    "plt.hist((dl_list1 - dl_list) / dl_list2, bins=bins, density=False, facecolor=None, edgecolor=RED, hatch=\"//\", histtype='step', lw=2, label=\"luminosity distance\");\n",
    "plt.hist((inc_list1 - inc_list) / inc_list2, bins=bins, density=False, facecolor=None, edgecolor=GREEN1, hatch=\"//\", histtype='step', lw=2, label=\"inclination\");\n",
    "plt.xlabel(r'$\\Delta \\theta / \\ \\sigma_{\\theta}$')\n",
    "plt.ylabel(\"number of MBHBs in bin\")\n",
    "plt.legend(loc=\"upper right\", frameon=False)"
   ]
  },
  {
   "cell_type": "code",
   "execution_count": null,
   "id": "3770c678",
   "metadata": {},
   "outputs": [],
   "source": [
    "bins = np.linspace(-100, 100, 50)\n",
    "plt.hist((tc_list1 - tc_list) / tc_list2, bins=bins, density=False, facecolor=None, edgecolor=RED, hatch=\"//\", histtype='step', lw=2, label=\"coalescence time\");\n",
    "plt.xlabel(r'$\\Delta \\theta / \\ \\sigma_{\\theta}$')\n",
    "plt.ylabel(\"number of MBHBs in bin\")\n",
    "plt.legend(loc=\"upper right\", frameon=False)"
   ]
  },
  {
   "cell_type": "code",
   "execution_count": null,
   "id": "cc5d7ef7",
   "metadata": {},
   "outputs": [],
   "source": [
    "plt.hist(tc_list - tc_list1);\n",
    "plt.xlabel(\"tc error\")"
   ]
  },
  {
   "cell_type": "code",
   "execution_count": null,
   "id": "6a60f374",
   "metadata": {},
   "outputs": [],
   "source": []
  }
 ],
 "metadata": {
  "kernelspec": {
   "display_name": "tri_env",
   "language": "python",
   "name": "python3"
  },
  "language_info": {
   "codemirror_mode": {
    "name": "ipython",
    "version": 3
   },
   "file_extension": ".py",
   "mimetype": "text/x-python",
   "name": "python",
   "nbconvert_exporter": "python",
   "pygments_lexer": "ipython3",
   "version": "3.9.19"
  }
 },
 "nbformat": 4,
 "nbformat_minor": 5
}
